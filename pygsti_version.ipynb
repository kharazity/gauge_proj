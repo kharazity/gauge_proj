{
 "cells": [
  {
   "cell_type": "code",
   "execution_count": 1,
   "id": "8cb019c9-8f58-4a2d-b461-79f6a7fc2536",
   "metadata": {},
   "outputs": [],
   "source": [
    "import pygsti\n",
    "from pygsti.circuits import Circuit\n",
    "import random\n",
    "from pygsti.modelpacks import smq1Q_XYZI as std\n",
    "import numpy as np\n",
    "import sympy as sp\n",
    "import matplotlib.pyplot as plt\n",
    "from pygsti.tools.lindbladtools import *\n",
    "from pygsti.baseobjs.basisconstructors import id2x2, sigmax, sigmay, sigmaz\n",
    "from pygsti.modelmembers.operations import LindbladErrorgen\n",
    "from tqdm import tqdm\n",
    "SigX = np.array([[0, 1], [1, 0]], dtype=complex)\n",
    "SigY = np.array([[0, -1j], [1j, 0]], dtype=complex)\n",
    "SigZ = np.array([[1, 0], [0, -1]], dtype=complex)"
   ]
  },
  {
   "cell_type": "code",
   "execution_count": 2,
   "id": "2e1699a3-0242-4d43-9250-06b7cc971245",
   "metadata": {},
   "outputs": [],
   "source": [
    "import numpy as _np\n",
    "import scipy.sparse as _sps\n",
    "\n",
    "from pygsti.tools import matrixtools as _mt\n",
    "from pygsti.tools.basistools import basis_matrices"
   ]
  },
  {
   "cell_type": "code",
   "execution_count": 3,
   "id": "631686dc-5e7a-4d6e-87db-32f869866be5",
   "metadata": {},
   "outputs": [],
   "source": [
    "def create_elementary_errorgen_pp(typ, p, q=None, sparse=False):\n",
    "    \"\"\"\n",
    "    Construct an elementary error generator as a matrix in the \"pauli product\" basis.\n",
    "    There are four different types of elementary error generators: 'H' (Hamiltonian),\n",
    "    'S' (stochastic), 'C' (correlation), and 'A' (active).  See arxiv:2103.01928.\n",
    "    Each type transforms an input density matrix differently.  The action of an elementary\n",
    "    error generator `L` on an input density matrix `rho` is given by:\n",
    "    Hamiltonian:  `L(rho) = -1j * [ p, rho ]`\n",
    "    Stochastic:   `L(rho) = p * rho * p - rho\n",
    "    Correlation:  `L(rho) = p * rho * q + q * rho * p - 0.5 {{p,q}, rho}\n",
    "    Active:       `L(rho) = 1j( p * rho * q - q * rho * p + 0.5 {[p,q], rho} )\n",
    "    Square brackets denotes the commutator and curly brackets the anticommutator.\n",
    "    `L` is returned as a superoperator matrix that acts on vectorized density matrices.\n",
    "    Parameters\n",
    "    ----------\n",
    "    typ : {'H','S','C','A'}\n",
    "        The type of error generator to construct.\n",
    "    p : numpy.ndarray\n",
    "        d-dimensional basis matrix.\n",
    "    q : numpy.ndarray, optional\n",
    "        d-dimensional basis matrix; must be non-None if and only if `typ` is `'C'` or `'A'`.\n",
    "    sparse : bool, optional\n",
    "        Whether to construct a sparse or dense (the default) matrix.\n",
    "    Returns\n",
    "    -------\n",
    "    ndarray or Scipy CSR matrix\n",
    "    \"\"\"\n",
    "    d = p.shape[0]; d2 = d**2\n",
    "    if sparse:\n",
    "        elem_errgen = _sps.lil_matrix((d2, d2), dtype=p.dtype)\n",
    "    else:\n",
    "        elem_errgen = _np.empty((d2, d2), dtype=p.dtype)\n",
    "\n",
    "    assert(typ in ('H', 'S', 'C', 'A')), \"`typ` must be one of 'H', 'S', 'C', or 'A'\"\n",
    "    assert((typ in 'HS' and q is None) or (typ in 'CA' and q is not None)), \\\n",
    "        \"Wrong number of basis elements provided for %s-type elementary errorgen!\" % typ\n",
    "\n",
    "    pdag = p.T.conjugate()\n",
    "    qdag = q.T.conjugate() if (q is not None) else None\n",
    "\n",
    "    if typ in 'CA':\n",
    "        pq_plus_qp = pdag @ q + qdag @ p\n",
    "        pq_minus_qp = pdag @ q - qdag @ p\n",
    "\n",
    "    # Loop through the standard basis as all possible input density matrices\n",
    "    for i, rho0 in enumerate(basis_matrices('std', d2)):  # rho0 == input density mx\n",
    "        # Only difference between H/S/C/A is how they transform input density matrices\n",
    "        if typ == 'H':\n",
    "            rho1 = -1j * (p @ rho0 - rho0 @ p)  # Add \"/2\" to have PP ham gens match previous versions of pyGSTi\n",
    "        elif typ == 'S':\n",
    "            pdag_p = (pdag @ p)\n",
    "            rho1 = p @ rho0 @ pdag - 0.5 * (pdag_p @ rho0 + rho0 @ pdag_p)\n",
    "        elif typ == 'C':\n",
    "            rho1 = p @ rho0 @ qdag + q @ rho0 @ pdag - 0.5 * (pq_plus_qp @ rho0 + rho0 @ pq_plus_qp)\n",
    "        elif typ == 'A':\n",
    "            rho1 = 1j * (p @ rho0 @ qdag - q @ rho0 @ pdag + 0.5 * (pq_minus_qp @ rho0 + rho0 @ pq_minus_qp))\n",
    "\n",
    "        elem_errgen[:, i] = rho1.flatten()[:, None] if sparse else rho1.flatten()\n",
    "\n",
    "    if sparse: elem_errgen = elem_errgen.tocsr()\n",
    "    return np.round(pygsti.tools.change_basis(elem_errgen, 'std', 'pp'), 12)\n",
    "\n",
    "def create_elementary_errorgen_dual_pp(typ, p, q=None, sparse=False, normalization_factor='auto'):\n",
    "    \"\"\"\n",
    "    Construct a \"dual\" elementary error generator matrix in the \"pauli product\"  basis.\n",
    "    The elementary error generator that is dual to the one computed by calling\n",
    "    :function:`create_elementary_errorgen` with the same argument.  This dual element\n",
    "    can be used to find the coefficient of the original, or \"primal\" elementary generator.\n",
    "    For example, if `A = sum(c_i * E_i)`, where `E_i` are the elementary error generators given\n",
    "    by :function:`create_elementary_errorgen`), then `c_i = dot(D_i.conj(), A)` where `D_i`\n",
    "    is the dual to `E_i`.\n",
    "    There are four different types of dual elementary error generators: 'H' (Hamiltonian),\n",
    "    'S' (stochastic), 'C' (correlation), and 'A' (active).  See arxiv:2103.01928.\n",
    "    Each type transforms an input density matrix differently.  The action of an elementary\n",
    "    error generator `L` on an input density matrix `rho` is given by:\n",
    "    Hamiltonian:  `L(rho) = -1j/(2d^2) * [ p, rho ]`\n",
    "    Stochastic:   `L(rho) = 1/(d^2) p * rho * p\n",
    "    Correlation:  `L(rho) = 1/(2d^2) ( p * rho * q + q * rho * p)\n",
    "    Active:       `L(rho) = 1j/(2d^2) ( p * rho * q - q * rho * p)\n",
    "    where `d` is the dimension of the Hilbert space, e.g. 2 for a single qubit.  Square\n",
    "    brackets denotes the commutator and curly brackets the anticommutator.\n",
    "    `L` is returned as a superoperator matrix that acts on vectorized density matrices.\n",
    "    Parameters\n",
    "    ----------\n",
    "    typ : {'H','S','C','A'}\n",
    "        The type of dual error generator to construct.\n",
    "    p : numpy.ndarray\n",
    "        d-dimensional basis matrix.\n",
    "    q : numpy.ndarray, optional\n",
    "        d-dimensional basis matrix; must be non-None if and only if `typ` is `'C'` or `'A'`.\n",
    "    sparse : bool, optional\n",
    "        Whether to construct a sparse or dense (the default) matrix.\n",
    "    Returns\n",
    "    -------\n",
    "    ndarray or Scipy CSR matrix\n",
    "    \"\"\"\n",
    "    d = p.shape[0]; d2 = d**2\n",
    "    pdag = p.T.conjugate()\n",
    "    qdag = q.T.conjugate() if (q is not None) else None\n",
    "\n",
    "    if sparse:\n",
    "        elem_errgen = _sps.lil_matrix((d2, d2), dtype=p.dtype)\n",
    "    else:\n",
    "        elem_errgen = _np.empty((d2, d2), dtype=p.dtype)\n",
    "\n",
    "    assert(typ in ('H', 'S', 'C', 'A')), \"`typ` must be one of 'H', 'S', 'C', or 'A'\"\n",
    "    assert((typ in 'HS' and q is None) or (typ in 'CA' and q is not None)), \\\n",
    "        \"Wrong number of basis elements provided for %s-type elementary errorgen!\" % typ\n",
    "\n",
    "    # Loop through the standard basis as all possible input density matrices\n",
    "    for i, rho0 in enumerate(basis_matrices('std', d2)):  # rho0 == input density mx\n",
    "        # Only difference between H/S/C/A is how they transform input density matrices\n",
    "        if typ == 'H':\n",
    "            rho1 = -1j * (p @ rho0 - rho0 @ p)  # -1j / (2 * d2) *\n",
    "        elif typ == 'S':\n",
    "            rho1 = (p @ rho0 @ pdag)  # 1 / d2 *\n",
    "        elif typ == 'C':\n",
    "            rho1 = (p @ rho0 @ qdag + q @ rho0 @ pdag)  # 1 / (2 * d2) *\n",
    "        elif typ == 'A':\n",
    "            rho1 = 1j * (p @ rho0 @ qdag - q @ rho0 @ pdag)  # 1j / (2 * d2)\n",
    "        elem_errgen[:, i] = rho1.flatten()[:, None] if sparse else rho1.flatten()\n",
    "\n",
    "    return_normalization = bool(normalization_factor == 'auto_return')\n",
    "    if normalization_factor in ('auto', 'auto_return'):\n",
    "        primal = create_elementary_errorgen(typ, p, q, sparse)\n",
    "        if sparse:\n",
    "            normalization_factor = _np.vdot(elem_errgen.toarray().flatten(), primal.toarray().flatten())\n",
    "        else:\n",
    "            normalization_factor = _np.vdot(elem_errgen.flatten(), primal.flatten())\n",
    "    elem_errgen *= _np.real_if_close(1 / normalization_factor).item()  # item() -> scalar\n",
    "    elem_errgen = np.round(pygsti.tools.change_basis(elem_errgen, 'std', 'pp'), 12)\n",
    "\n",
    "    if sparse: elem_errgen = elem_errgen.tocsr()\n",
    "    return (elem_errgen, normalization_factor) if return_normalization else elem_errgen"
   ]
  },
  {
   "cell_type": "code",
   "execution_count": 4,
   "id": "fbc9cb7d-d9bb-4918-af85-b3f2313f5d68",
   "metadata": {},
   "outputs": [],
   "source": [
    "def pstr_to_mat(pstr):\n",
    "    pmat = 1\n",
    "    for pchar in pstr:\n",
    "        if pchar == 'X':\n",
    "            pmat = np.kron(pmat, SigX)\n",
    "        elif pchar == 'Y':\n",
    "            pmat = np.kron(pmat, SigY)\n",
    "        elif pchar == 'Z':\n",
    "            pmat = np.kron(pmat, SigZ)\n",
    "        else:\n",
    "            pmat = np.kron(pmat, np.array([[1, 0], [0, 1]], dtype=complex))\n",
    "    return pmat\n",
    "\n",
    "def egenlbl_to_mat(lbl, num_qubits):\n",
    "    egen_type = lbl.errorgen_type\n",
    "    egen_basis_lbls = lbl.basis_element_labels\n",
    "    egen_support = lbl.support\n",
    "    # convert the basis labels into Pauli strings\n",
    "    pstr1 = ['I']*num_qubits\n",
    "    for i, pchar in enumerate(egen_basis_lbls[0]):\n",
    "        pstr1[egen_support[i]] = pchar\n",
    "    pstr1 = ''.join(pstr1)\n",
    "    pmat1 = pstr_to_mat(pstr1)\n",
    "    if egen_type in 'CA':\n",
    "        pstr2 = ['I']*num_qubits\n",
    "        for i, pchar in enumerate(egen_basis_lbls[1]):\n",
    "            pstr2[egen_support[i]] = pchar\n",
    "        pstr2 = ''.join(pstr2)\n",
    "        pmat2 = pstr_to_mat(pstr2)\n",
    "        return create_elementary_errorgen_pp(egen_type, pmat1, pmat2)\n",
    "    else:\n",
    "        return create_elementary_errorgen_pp(egen_type, pmat1)\n",
    "    \n",
    "def egenlbl_to_dual(lbl, num_qubits):\n",
    "    egen_type = lbl.errorgen_type\n",
    "    egen_basis_lbls = lbl.basis_element_labels\n",
    "    egen_support = lbl.support\n",
    "    # convert the basis labels into Pauli strings\n",
    "    pstr1 = ['I']*num_qubits\n",
    "    for i, pchar in enumerate(egen_basis_lbls[0]):\n",
    "        pstr1[egen_support[i]] = pchar\n",
    "    pstr1 = ''.join(pstr1)\n",
    "    pmat1 = pstr_to_mat(pstr1)\n",
    "    if egen_type in 'CA':\n",
    "        pstr2 = ['I']*num_qubits\n",
    "        for i, pchar in enumerate(egen_basis_lbls[1]):\n",
    "            pstr2[egen_support[i]] = pchar\n",
    "        pstr2 = ''.join(pstr2)\n",
    "        pmat2 = pstr_to_mat(pstr2)\n",
    "        return create_elementary_errorgen_dual_pp(egen_type, pmat1, pmat2)\n",
    "    else:\n",
    "        return create_elementary_errorgen_dual_pp(egen_type, pmat1)"
   ]
  },
  {
   "cell_type": "code",
   "execution_count": 5,
   "id": "7a5e8791-e336-4b8e-bfd5-effff6b3344a",
   "metadata": {},
   "outputs": [
    {
     "name": "stdout",
     "output_type": "stream",
     "text": [
      "-1.0\n",
      "1.0\n"
     ]
    }
   ],
   "source": [
    "# dual basis returns a negative rate ???\n",
    "print(np.trace(create_elementary_errorgen_pp('A', SigZ, SigX)@create_elementary_errorgen_dual_pp('A', SigZ, SigX)))\n",
    "# seems to work for conjugate of the dual\n",
    "print(np.trace(create_elementary_errorgen_pp('A', SigZ, SigX).conj().T@create_elementary_errorgen_dual_pp('A', SigZ, SigX)))"
   ]
  },
  {
   "cell_type": "code",
   "execution_count": 6,
   "id": "62c343e5-72cd-424b-a86a-38ceb8bec938",
   "metadata": {},
   "outputs": [],
   "source": [
    "class ErrorGen():\n",
    "    \"\"\"\n",
    "    Implements the small Markovian taxonomy\n",
    "    \n",
    "    Parameters:\n",
    "        -features: pauli transfer representations for different error processes\n",
    "        -rates: sympy vector of rates\n",
    "    \"\"\"\n",
    "    \n",
    "    def __init__(self, num_qubits, gate_label=('G', 0), parameterization='HSCA'):\n",
    "        \"\"\"\n",
    "        setup the feature dictionary with keys that are sympy variables\n",
    "        \n",
    "        right now, I'm doing this by hand for a 1 qubit model, \n",
    "        TODO: implement logic to generalize to n-qubits\n",
    "        \"\"\"\n",
    "        self.num_qubits = num_qubits\n",
    "        self.feature_map = dict()\n",
    "        self.param_map = dict()\n",
    "        self.labels =  LindbladErrorgen.from_error_generator(4**num_qubits).coefficient_labels()\n",
    "        for lbl in self.labels:\n",
    "            self.feature_map[lbl] = egenlbl_to_mat(lbl, num_qubits)\n",
    "            if len(lbl.basis_element_labels) > 1:\n",
    "                pstr = lbl.basis_element_labels[0] + 'x' + lbl.basis_element_labels[1]\n",
    "                pmat1 = pstr_to_mat(lbl.basis_element_labels[0])\n",
    "                pmat2 = pstr_to_mat(lbl.basis_element_labels[1])\n",
    "            else:\n",
    "                pstr = lbl.basis_element_labels[0]\n",
    "                pmat = pstr_to_mat(lbl.basis_element_labels[0])\n",
    "            if len(gate_label) > 1:\n",
    "                gstr = str(gate_label[0]) + 'q' + str(gate_label[1])\n",
    "            else:\n",
    "                gstr = gate_label[0]\n",
    "            symbol_string = f'{{{lbl.errorgen_type}}}^{{{pstr}}}_{{{gstr}}} '\n",
    "            self.param_map[lbl] = sp.symbols(symbol_string)\n",
    "    \n",
    "            \n",
    "    @property\n",
    "    def vec(self):\n",
    "        return list(self.param_map.values())\n",
    "    \n",
    "    @property\n",
    "    def mat(self):\n",
    "        mat = np.zeros((4**self.num_qubits, 4**self.num_qubits), dtype='O')\n",
    "        for x in self.labels:\n",
    "            mat += self.param_map[x]*self.feature_map[x]\n",
    "        return sp.Matrix(mat)\n",
    "    \n",
    "    @property\n",
    "    def features(self):\n",
    "        return [f for f in self.feature_map.values()]\n",
    "    \n",
    "    def extract_rates(self):\n",
    "        rates = dict()\n",
    "        gen = self.mat\n",
    "        for lbl in tqdm(self.labels):\n",
    "            dgen = egenlbl_to_dual(lbl, self.num_qubits)\n",
    "            rates[lbl] = np.trace(dgen.conj().T@gen)\n",
    "        return rates\n",
    "        "
   ]
  },
  {
   "cell_type": "code",
   "execution_count": 7,
   "id": "cd6dcd1b-c600-4da4-bbbc-d5b489e9324f",
   "metadata": {},
   "outputs": [],
   "source": [
    "egen = ErrorGen(2)"
   ]
  },
  {
   "cell_type": "code",
   "execution_count": 8,
   "id": "51f8f0a2-6643-47c2-9b9d-73106c5cc820",
   "metadata": {},
   "outputs": [
    {
     "name": "stderr",
     "output_type": "stream",
     "text": [
      "100%|█████████████████████████████████████████| 240/240 [00:35<00:00,  6.74it/s]\n"
     ]
    },
    {
     "data": {
      "text/plain": [
       "{('H', ('X',), (1,)): 1.0*{H}^{X}_{Gq0},\n",
       " ('H', ('Y',), (1,)): 1.0*{H}^{Y}_{Gq0},\n",
       " ('H', ('Z',), (1,)): 1.0*{H}^{Z}_{Gq0},\n",
       " ('H', ('X',), (0,)): 1.0*{H}^{X}_{Gq0},\n",
       " ('H', ('XX',), (0, 1)): 1.0*{H}^{XX}_{Gq0},\n",
       " ('H', ('XY',), (0, 1)): 1.0*{H}^{XY}_{Gq0},\n",
       " ('H', ('XZ',), (0, 1)): 1.0*{H}^{XZ}_{Gq0},\n",
       " ('H', ('Y',), (0,)): 1.0*{H}^{Y}_{Gq0},\n",
       " ('H', ('YX',), (0, 1)): 1.0*{H}^{YX}_{Gq0},\n",
       " ('H', ('YY',), (0, 1)): 1.0*{H}^{YY}_{Gq0},\n",
       " ('H', ('YZ',), (0, 1)): 1.0*{H}^{YZ}_{Gq0},\n",
       " ('H', ('Z',), (0,)): 1.0*{H}^{Z}_{Gq0},\n",
       " ('H', ('ZX',), (0, 1)): 1.0*{H}^{ZX}_{Gq0},\n",
       " ('H', ('ZY',), (0, 1)): 1.0*{H}^{ZY}_{Gq0},\n",
       " ('H', ('ZZ',), (0, 1)): 1.0*{H}^{ZZ}_{Gq0},\n",
       " ('S', ('X',), (1,)): 1.0*{S}^{X}_{Gq0},\n",
       " ('C', ('X', 'Y'), (1,)): 1.0*{C}^{XxY}_{Gq0},\n",
       " ('A', ('X', 'Y'), (1,)): 1.0*{A}^{XxY}_{Gq0},\n",
       " ('C', ('X', 'Z'), (1,)): 1.0*{C}^{XxZ}_{Gq0},\n",
       " ('A', ('X', 'Z'), (1,)): 1.0*{A}^{XxZ}_{Gq0},\n",
       " ('C', ('IX', 'XI'), (0, 1)): 1.0*{C}^{IXxXI}_{Gq0},\n",
       " ('A', ('IX', 'XI'), (0, 1)): 1.0*{A}^{IXxXI}_{Gq0},\n",
       " ('C', ('IX', 'XX'), (0, 1)): 1.0*{C}^{IXxXX}_{Gq0},\n",
       " ('A', ('IX', 'XX'), (0, 1)): 1.0*{A}^{IXxXX}_{Gq0},\n",
       " ('C', ('IX', 'XY'), (0, 1)): 1.0*{C}^{IXxXY}_{Gq0},\n",
       " ('A', ('IX', 'XY'), (0, 1)): 1.0*{A}^{IXxXY}_{Gq0},\n",
       " ('C', ('IX', 'XZ'), (0, 1)): 1.0*{C}^{IXxXZ}_{Gq0},\n",
       " ('A', ('IX', 'XZ'), (0, 1)): 1.0*{A}^{IXxXZ}_{Gq0},\n",
       " ('C', ('IX', 'YI'), (0, 1)): 1.0*{C}^{IXxYI}_{Gq0},\n",
       " ('A', ('IX', 'YI'), (0, 1)): 1.0*{A}^{IXxYI}_{Gq0},\n",
       " ('C', ('IX', 'YX'), (0, 1)): 1.0*{C}^{IXxYX}_{Gq0},\n",
       " ('A', ('IX', 'YX'), (0, 1)): 1.0*{A}^{IXxYX}_{Gq0},\n",
       " ('C', ('IX', 'YY'), (0, 1)): 1.0*{C}^{IXxYY}_{Gq0},\n",
       " ('A', ('IX', 'YY'), (0, 1)): 1.0*{A}^{IXxYY}_{Gq0},\n",
       " ('C', ('IX', 'YZ'), (0, 1)): 1.0*{C}^{IXxYZ}_{Gq0},\n",
       " ('A', ('IX', 'YZ'), (0, 1)): 1.0*{A}^{IXxYZ}_{Gq0},\n",
       " ('C', ('IX', 'ZI'), (0, 1)): 1.0*{C}^{IXxZI}_{Gq0},\n",
       " ('A', ('IX', 'ZI'), (0, 1)): 1.0*{A}^{IXxZI}_{Gq0},\n",
       " ('C', ('IX', 'ZX'), (0, 1)): 1.0*{C}^{IXxZX}_{Gq0},\n",
       " ('A', ('IX', 'ZX'), (0, 1)): 1.0*{A}^{IXxZX}_{Gq0},\n",
       " ('C', ('IX', 'ZY'), (0, 1)): 1.0*{C}^{IXxZY}_{Gq0},\n",
       " ('A', ('IX', 'ZY'), (0, 1)): 1.0*{A}^{IXxZY}_{Gq0},\n",
       " ('C', ('IX', 'ZZ'), (0, 1)): 1.0*{C}^{IXxZZ}_{Gq0},\n",
       " ('A', ('IX', 'ZZ'), (0, 1)): 1.0*{A}^{IXxZZ}_{Gq0},\n",
       " ('S', ('Y',), (1,)): 1.0*{S}^{Y}_{Gq0},\n",
       " ('C', ('Y', 'Z'), (1,)): 1.0*{C}^{YxZ}_{Gq0},\n",
       " ('A', ('Y', 'Z'), (1,)): 1.0*{A}^{YxZ}_{Gq0},\n",
       " ('C', ('IY', 'XI'), (0, 1)): 1.0*{C}^{IYxXI}_{Gq0},\n",
       " ('A', ('IY', 'XI'), (0, 1)): 1.0*{A}^{IYxXI}_{Gq0},\n",
       " ('C', ('IY', 'XX'), (0, 1)): 1.0*{C}^{IYxXX}_{Gq0},\n",
       " ('A', ('IY', 'XX'), (0, 1)): 1.0*{A}^{IYxXX}_{Gq0},\n",
       " ('C', ('IY', 'XY'), (0, 1)): 1.0*{C}^{IYxXY}_{Gq0},\n",
       " ('A', ('IY', 'XY'), (0, 1)): 1.0*{A}^{IYxXY}_{Gq0},\n",
       " ('C', ('IY', 'XZ'), (0, 1)): 1.0*{C}^{IYxXZ}_{Gq0},\n",
       " ('A', ('IY', 'XZ'), (0, 1)): 1.0*{A}^{IYxXZ}_{Gq0},\n",
       " ('C', ('IY', 'YI'), (0, 1)): 1.0*{C}^{IYxYI}_{Gq0},\n",
       " ('A', ('IY', 'YI'), (0, 1)): 1.0*{A}^{IYxYI}_{Gq0},\n",
       " ('C', ('IY', 'YX'), (0, 1)): 1.0*{C}^{IYxYX}_{Gq0},\n",
       " ('A', ('IY', 'YX'), (0, 1)): 1.0*{A}^{IYxYX}_{Gq0},\n",
       " ('C', ('IY', 'YY'), (0, 1)): 1.0*{C}^{IYxYY}_{Gq0},\n",
       " ('A', ('IY', 'YY'), (0, 1)): 1.0*{A}^{IYxYY}_{Gq0},\n",
       " ('C', ('IY', 'YZ'), (0, 1)): 1.0*{C}^{IYxYZ}_{Gq0},\n",
       " ('A', ('IY', 'YZ'), (0, 1)): 1.0*{A}^{IYxYZ}_{Gq0},\n",
       " ('C', ('IY', 'ZI'), (0, 1)): 1.0*{C}^{IYxZI}_{Gq0},\n",
       " ('A', ('IY', 'ZI'), (0, 1)): 1.0*{A}^{IYxZI}_{Gq0},\n",
       " ('C', ('IY', 'ZX'), (0, 1)): 1.0*{C}^{IYxZX}_{Gq0},\n",
       " ('A', ('IY', 'ZX'), (0, 1)): 1.0*{A}^{IYxZX}_{Gq0},\n",
       " ('C', ('IY', 'ZY'), (0, 1)): 1.0*{C}^{IYxZY}_{Gq0},\n",
       " ('A', ('IY', 'ZY'), (0, 1)): 1.0*{A}^{IYxZY}_{Gq0},\n",
       " ('C', ('IY', 'ZZ'), (0, 1)): 1.0*{C}^{IYxZZ}_{Gq0},\n",
       " ('A', ('IY', 'ZZ'), (0, 1)): 1.0*{A}^{IYxZZ}_{Gq0},\n",
       " ('S', ('Z',), (1,)): 1.0*{S}^{Z}_{Gq0},\n",
       " ('C', ('IZ', 'XI'), (0, 1)): 1.0*{C}^{IZxXI}_{Gq0},\n",
       " ('A', ('IZ', 'XI'), (0, 1)): 1.0*{A}^{IZxXI}_{Gq0},\n",
       " ('C', ('IZ', 'XX'), (0, 1)): 1.0*{C}^{IZxXX}_{Gq0},\n",
       " ('A', ('IZ', 'XX'), (0, 1)): 1.0*{A}^{IZxXX}_{Gq0},\n",
       " ('C', ('IZ', 'XY'), (0, 1)): 1.0*{C}^{IZxXY}_{Gq0},\n",
       " ('A', ('IZ', 'XY'), (0, 1)): 1.0*{A}^{IZxXY}_{Gq0},\n",
       " ('C', ('IZ', 'XZ'), (0, 1)): 1.0*{C}^{IZxXZ}_{Gq0},\n",
       " ('A', ('IZ', 'XZ'), (0, 1)): 1.0*{A}^{IZxXZ}_{Gq0},\n",
       " ('C', ('IZ', 'YI'), (0, 1)): 1.0*{C}^{IZxYI}_{Gq0},\n",
       " ('A', ('IZ', 'YI'), (0, 1)): 1.0*{A}^{IZxYI}_{Gq0},\n",
       " ('C', ('IZ', 'YX'), (0, 1)): 1.0*{C}^{IZxYX}_{Gq0},\n",
       " ('A', ('IZ', 'YX'), (0, 1)): 1.0*{A}^{IZxYX}_{Gq0},\n",
       " ('C', ('IZ', 'YY'), (0, 1)): 1.0*{C}^{IZxYY}_{Gq0},\n",
       " ('A', ('IZ', 'YY'), (0, 1)): 1.0*{A}^{IZxYY}_{Gq0},\n",
       " ('C', ('IZ', 'YZ'), (0, 1)): 1.0*{C}^{IZxYZ}_{Gq0},\n",
       " ('A', ('IZ', 'YZ'), (0, 1)): 1.0*{A}^{IZxYZ}_{Gq0},\n",
       " ('C', ('IZ', 'ZI'), (0, 1)): 1.0*{C}^{IZxZI}_{Gq0},\n",
       " ('A', ('IZ', 'ZI'), (0, 1)): 1.0*{A}^{IZxZI}_{Gq0},\n",
       " ('C', ('IZ', 'ZX'), (0, 1)): 1.0*{C}^{IZxZX}_{Gq0},\n",
       " ('A', ('IZ', 'ZX'), (0, 1)): 1.0*{A}^{IZxZX}_{Gq0},\n",
       " ('C', ('IZ', 'ZY'), (0, 1)): 1.0*{C}^{IZxZY}_{Gq0},\n",
       " ('A', ('IZ', 'ZY'), (0, 1)): 1.0*{A}^{IZxZY}_{Gq0},\n",
       " ('C', ('IZ', 'ZZ'), (0, 1)): 1.0*{C}^{IZxZZ}_{Gq0},\n",
       " ('A', ('IZ', 'ZZ'), (0, 1)): 1.0*{A}^{IZxZZ}_{Gq0},\n",
       " ('S', ('X',), (0,)): 1.0*{S}^{X}_{Gq0},\n",
       " ('C', ('XI', 'XX'), (0, 1)): 1.0*{C}^{XIxXX}_{Gq0},\n",
       " ('A', ('XI', 'XX'), (0, 1)): 1.0*{A}^{XIxXX}_{Gq0},\n",
       " ('C', ('XI', 'XY'), (0, 1)): 1.0*{C}^{XIxXY}_{Gq0},\n",
       " ('A', ('XI', 'XY'), (0, 1)): 1.0*{A}^{XIxXY}_{Gq0},\n",
       " ('C', ('XI', 'XZ'), (0, 1)): 1.0*{C}^{XIxXZ}_{Gq0},\n",
       " ('A', ('XI', 'XZ'), (0, 1)): 1.0*{A}^{XIxXZ}_{Gq0},\n",
       " ('C', ('X', 'Y'), (0,)): 1.0*{C}^{XxY}_{Gq0},\n",
       " ('A', ('X', 'Y'), (0,)): 1.0*{A}^{XxY}_{Gq0},\n",
       " ('C', ('XI', 'YX'), (0, 1)): 1.0*{C}^{XIxYX}_{Gq0},\n",
       " ('A', ('XI', 'YX'), (0, 1)): 1.0*{A}^{XIxYX}_{Gq0},\n",
       " ('C', ('XI', 'YY'), (0, 1)): 1.0*{C}^{XIxYY}_{Gq0},\n",
       " ('A', ('XI', 'YY'), (0, 1)): 1.0*{A}^{XIxYY}_{Gq0},\n",
       " ('C', ('XI', 'YZ'), (0, 1)): 1.0*{C}^{XIxYZ}_{Gq0},\n",
       " ('A', ('XI', 'YZ'), (0, 1)): 1.0*{A}^{XIxYZ}_{Gq0},\n",
       " ('C', ('X', 'Z'), (0,)): 1.0*{C}^{XxZ}_{Gq0},\n",
       " ('A', ('X', 'Z'), (0,)): 1.0*{A}^{XxZ}_{Gq0},\n",
       " ('C', ('XI', 'ZX'), (0, 1)): 1.0*{C}^{XIxZX}_{Gq0},\n",
       " ('A', ('XI', 'ZX'), (0, 1)): 1.0*{A}^{XIxZX}_{Gq0},\n",
       " ('C', ('XI', 'ZY'), (0, 1)): 1.0*{C}^{XIxZY}_{Gq0},\n",
       " ('A', ('XI', 'ZY'), (0, 1)): 1.0*{A}^{XIxZY}_{Gq0},\n",
       " ('C', ('XI', 'ZZ'), (0, 1)): 1.0*{C}^{XIxZZ}_{Gq0},\n",
       " ('A', ('XI', 'ZZ'), (0, 1)): 1.0*{A}^{XIxZZ}_{Gq0},\n",
       " ('S', ('XX',), (0, 1)): 1.0*{S}^{XX}_{Gq0},\n",
       " ('C', ('XX', 'XY'), (0, 1)): 1.0*{C}^{XXxXY}_{Gq0},\n",
       " ('A', ('XX', 'XY'), (0, 1)): 1.0*{A}^{XXxXY}_{Gq0},\n",
       " ('C', ('XX', 'XZ'), (0, 1)): 1.0*{C}^{XXxXZ}_{Gq0},\n",
       " ('A', ('XX', 'XZ'), (0, 1)): 1.0*{A}^{XXxXZ}_{Gq0},\n",
       " ('C', ('XX', 'YI'), (0, 1)): 1.0*{C}^{XXxYI}_{Gq0},\n",
       " ('A', ('XX', 'YI'), (0, 1)): 1.0*{A}^{XXxYI}_{Gq0},\n",
       " ('C', ('XX', 'YX'), (0, 1)): 1.0*{C}^{XXxYX}_{Gq0},\n",
       " ('A', ('XX', 'YX'), (0, 1)): 1.0*{A}^{XXxYX}_{Gq0},\n",
       " ('C', ('XX', 'YY'), (0, 1)): 1.0*{C}^{XXxYY}_{Gq0},\n",
       " ('A', ('XX', 'YY'), (0, 1)): 1.0*{A}^{XXxYY}_{Gq0},\n",
       " ('C', ('XX', 'YZ'), (0, 1)): 1.0*{C}^{XXxYZ}_{Gq0},\n",
       " ('A', ('XX', 'YZ'), (0, 1)): 1.0*{A}^{XXxYZ}_{Gq0},\n",
       " ('C', ('XX', 'ZI'), (0, 1)): 1.0*{C}^{XXxZI}_{Gq0},\n",
       " ('A', ('XX', 'ZI'), (0, 1)): 1.0*{A}^{XXxZI}_{Gq0},\n",
       " ('C', ('XX', 'ZX'), (0, 1)): 1.0*{C}^{XXxZX}_{Gq0},\n",
       " ('A', ('XX', 'ZX'), (0, 1)): 1.0*{A}^{XXxZX}_{Gq0},\n",
       " ('C', ('XX', 'ZY'), (0, 1)): 1.0*{C}^{XXxZY}_{Gq0},\n",
       " ('A', ('XX', 'ZY'), (0, 1)): 1.0*{A}^{XXxZY}_{Gq0},\n",
       " ('C', ('XX', 'ZZ'), (0, 1)): 1.0*{C}^{XXxZZ}_{Gq0},\n",
       " ('A', ('XX', 'ZZ'), (0, 1)): 1.0*{A}^{XXxZZ}_{Gq0},\n",
       " ('S', ('XY',), (0, 1)): 1.0*{S}^{XY}_{Gq0},\n",
       " ('C', ('XY', 'XZ'), (0, 1)): 1.0*{C}^{XYxXZ}_{Gq0},\n",
       " ('A', ('XY', 'XZ'), (0, 1)): 1.0*{A}^{XYxXZ}_{Gq0},\n",
       " ('C', ('XY', 'YI'), (0, 1)): 1.0*{C}^{XYxYI}_{Gq0},\n",
       " ('A', ('XY', 'YI'), (0, 1)): 1.0*{A}^{XYxYI}_{Gq0},\n",
       " ('C', ('XY', 'YX'), (0, 1)): 1.0*{C}^{XYxYX}_{Gq0},\n",
       " ('A', ('XY', 'YX'), (0, 1)): 1.0*{A}^{XYxYX}_{Gq0},\n",
       " ('C', ('XY', 'YY'), (0, 1)): 1.0*{C}^{XYxYY}_{Gq0},\n",
       " ('A', ('XY', 'YY'), (0, 1)): 1.0*{A}^{XYxYY}_{Gq0},\n",
       " ('C', ('XY', 'YZ'), (0, 1)): 1.0*{C}^{XYxYZ}_{Gq0},\n",
       " ('A', ('XY', 'YZ'), (0, 1)): 1.0*{A}^{XYxYZ}_{Gq0},\n",
       " ('C', ('XY', 'ZI'), (0, 1)): 1.0*{C}^{XYxZI}_{Gq0},\n",
       " ('A', ('XY', 'ZI'), (0, 1)): 1.0*{A}^{XYxZI}_{Gq0},\n",
       " ('C', ('XY', 'ZX'), (0, 1)): 1.0*{C}^{XYxZX}_{Gq0},\n",
       " ('A', ('XY', 'ZX'), (0, 1)): 1.0*{A}^{XYxZX}_{Gq0},\n",
       " ('C', ('XY', 'ZY'), (0, 1)): 1.0*{C}^{XYxZY}_{Gq0},\n",
       " ('A', ('XY', 'ZY'), (0, 1)): 1.0*{A}^{XYxZY}_{Gq0},\n",
       " ('C', ('XY', 'ZZ'), (0, 1)): 1.0*{C}^{XYxZZ}_{Gq0},\n",
       " ('A', ('XY', 'ZZ'), (0, 1)): 1.0*{A}^{XYxZZ}_{Gq0},\n",
       " ('S', ('XZ',), (0, 1)): 1.0*{S}^{XZ}_{Gq0},\n",
       " ('C', ('XZ', 'YI'), (0, 1)): 1.0*{C}^{XZxYI}_{Gq0},\n",
       " ('A', ('XZ', 'YI'), (0, 1)): 1.0*{A}^{XZxYI}_{Gq0},\n",
       " ('C', ('XZ', 'YX'), (0, 1)): 1.0*{C}^{XZxYX}_{Gq0},\n",
       " ('A', ('XZ', 'YX'), (0, 1)): 1.0*{A}^{XZxYX}_{Gq0},\n",
       " ('C', ('XZ', 'YY'), (0, 1)): 1.0*{C}^{XZxYY}_{Gq0},\n",
       " ('A', ('XZ', 'YY'), (0, 1)): 1.0*{A}^{XZxYY}_{Gq0},\n",
       " ('C', ('XZ', 'YZ'), (0, 1)): 1.0*{C}^{XZxYZ}_{Gq0},\n",
       " ('A', ('XZ', 'YZ'), (0, 1)): 1.0*{A}^{XZxYZ}_{Gq0},\n",
       " ('C', ('XZ', 'ZI'), (0, 1)): 1.0*{C}^{XZxZI}_{Gq0},\n",
       " ('A', ('XZ', 'ZI'), (0, 1)): 1.0*{A}^{XZxZI}_{Gq0},\n",
       " ('C', ('XZ', 'ZX'), (0, 1)): 1.0*{C}^{XZxZX}_{Gq0},\n",
       " ('A', ('XZ', 'ZX'), (0, 1)): 1.0*{A}^{XZxZX}_{Gq0},\n",
       " ('C', ('XZ', 'ZY'), (0, 1)): 1.0*{C}^{XZxZY}_{Gq0},\n",
       " ('A', ('XZ', 'ZY'), (0, 1)): 1.0*{A}^{XZxZY}_{Gq0},\n",
       " ('C', ('XZ', 'ZZ'), (0, 1)): 1.0*{C}^{XZxZZ}_{Gq0},\n",
       " ('A', ('XZ', 'ZZ'), (0, 1)): 1.0*{A}^{XZxZZ}_{Gq0},\n",
       " ('S', ('Y',), (0,)): 1.0*{S}^{Y}_{Gq0},\n",
       " ('C', ('YI', 'YX'), (0, 1)): 1.0*{C}^{YIxYX}_{Gq0},\n",
       " ('A', ('YI', 'YX'), (0, 1)): 1.0*{A}^{YIxYX}_{Gq0},\n",
       " ('C', ('YI', 'YY'), (0, 1)): 1.0*{C}^{YIxYY}_{Gq0},\n",
       " ('A', ('YI', 'YY'), (0, 1)): 1.0*{A}^{YIxYY}_{Gq0},\n",
       " ('C', ('YI', 'YZ'), (0, 1)): 1.0*{C}^{YIxYZ}_{Gq0},\n",
       " ('A', ('YI', 'YZ'), (0, 1)): 1.0*{A}^{YIxYZ}_{Gq0},\n",
       " ('C', ('Y', 'Z'), (0,)): 1.0*{C}^{YxZ}_{Gq0},\n",
       " ('A', ('Y', 'Z'), (0,)): 1.0*{A}^{YxZ}_{Gq0},\n",
       " ('C', ('YI', 'ZX'), (0, 1)): 1.0*{C}^{YIxZX}_{Gq0},\n",
       " ('A', ('YI', 'ZX'), (0, 1)): 1.0*{A}^{YIxZX}_{Gq0},\n",
       " ('C', ('YI', 'ZY'), (0, 1)): 1.0*{C}^{YIxZY}_{Gq0},\n",
       " ('A', ('YI', 'ZY'), (0, 1)): 1.0*{A}^{YIxZY}_{Gq0},\n",
       " ('C', ('YI', 'ZZ'), (0, 1)): 1.0*{C}^{YIxZZ}_{Gq0},\n",
       " ('A', ('YI', 'ZZ'), (0, 1)): 1.0*{A}^{YIxZZ}_{Gq0},\n",
       " ('S', ('YX',), (0, 1)): 1.0*{S}^{YX}_{Gq0},\n",
       " ('C', ('YX', 'YY'), (0, 1)): 1.0*{C}^{YXxYY}_{Gq0},\n",
       " ('A', ('YX', 'YY'), (0, 1)): 1.0*{A}^{YXxYY}_{Gq0},\n",
       " ('C', ('YX', 'YZ'), (0, 1)): 1.0*{C}^{YXxYZ}_{Gq0},\n",
       " ('A', ('YX', 'YZ'), (0, 1)): 1.0*{A}^{YXxYZ}_{Gq0},\n",
       " ('C', ('YX', 'ZI'), (0, 1)): 1.0*{C}^{YXxZI}_{Gq0},\n",
       " ('A', ('YX', 'ZI'), (0, 1)): 1.0*{A}^{YXxZI}_{Gq0},\n",
       " ('C', ('YX', 'ZX'), (0, 1)): 1.0*{C}^{YXxZX}_{Gq0},\n",
       " ('A', ('YX', 'ZX'), (0, 1)): 1.0*{A}^{YXxZX}_{Gq0},\n",
       " ('C', ('YX', 'ZY'), (0, 1)): 1.0*{C}^{YXxZY}_{Gq0},\n",
       " ('A', ('YX', 'ZY'), (0, 1)): 1.0*{A}^{YXxZY}_{Gq0},\n",
       " ('C', ('YX', 'ZZ'), (0, 1)): 1.0*{C}^{YXxZZ}_{Gq0},\n",
       " ('A', ('YX', 'ZZ'), (0, 1)): 1.0*{A}^{YXxZZ}_{Gq0},\n",
       " ('S', ('YY',), (0, 1)): 1.0*{S}^{YY}_{Gq0},\n",
       " ('C', ('YY', 'YZ'), (0, 1)): 1.0*{C}^{YYxYZ}_{Gq0},\n",
       " ('A', ('YY', 'YZ'), (0, 1)): 1.0*{A}^{YYxYZ}_{Gq0},\n",
       " ('C', ('YY', 'ZI'), (0, 1)): 1.0*{C}^{YYxZI}_{Gq0},\n",
       " ('A', ('YY', 'ZI'), (0, 1)): 1.0*{A}^{YYxZI}_{Gq0},\n",
       " ('C', ('YY', 'ZX'), (0, 1)): 1.0*{C}^{YYxZX}_{Gq0},\n",
       " ('A', ('YY', 'ZX'), (0, 1)): 1.0*{A}^{YYxZX}_{Gq0},\n",
       " ('C', ('YY', 'ZY'), (0, 1)): 1.0*{C}^{YYxZY}_{Gq0},\n",
       " ('A', ('YY', 'ZY'), (0, 1)): 1.0*{A}^{YYxZY}_{Gq0},\n",
       " ('C', ('YY', 'ZZ'), (0, 1)): 1.0*{C}^{YYxZZ}_{Gq0},\n",
       " ('A', ('YY', 'ZZ'), (0, 1)): 1.0*{A}^{YYxZZ}_{Gq0},\n",
       " ('S', ('YZ',), (0, 1)): 1.0*{S}^{YZ}_{Gq0},\n",
       " ('C', ('YZ', 'ZI'), (0, 1)): 1.0*{C}^{YZxZI}_{Gq0},\n",
       " ('A', ('YZ', 'ZI'), (0, 1)): 1.0*{A}^{YZxZI}_{Gq0},\n",
       " ('C', ('YZ', 'ZX'), (0, 1)): 1.0*{C}^{YZxZX}_{Gq0},\n",
       " ('A', ('YZ', 'ZX'), (0, 1)): 1.0*{A}^{YZxZX}_{Gq0},\n",
       " ('C', ('YZ', 'ZY'), (0, 1)): 1.0*{C}^{YZxZY}_{Gq0},\n",
       " ('A', ('YZ', 'ZY'), (0, 1)): 1.0*{A}^{YZxZY}_{Gq0},\n",
       " ('C', ('YZ', 'ZZ'), (0, 1)): 1.0*{C}^{YZxZZ}_{Gq0},\n",
       " ('A', ('YZ', 'ZZ'), (0, 1)): 1.0*{A}^{YZxZZ}_{Gq0},\n",
       " ('S', ('Z',), (0,)): 1.0*{S}^{Z}_{Gq0},\n",
       " ('C', ('ZI', 'ZX'), (0, 1)): 1.0*{C}^{ZIxZX}_{Gq0},\n",
       " ('A', ('ZI', 'ZX'), (0, 1)): 1.0*{A}^{ZIxZX}_{Gq0},\n",
       " ('C', ('ZI', 'ZY'), (0, 1)): 1.0*{C}^{ZIxZY}_{Gq0},\n",
       " ('A', ('ZI', 'ZY'), (0, 1)): 1.0*{A}^{ZIxZY}_{Gq0},\n",
       " ('C', ('ZI', 'ZZ'), (0, 1)): 1.0*{C}^{ZIxZZ}_{Gq0},\n",
       " ('A', ('ZI', 'ZZ'), (0, 1)): 1.0*{A}^{ZIxZZ}_{Gq0},\n",
       " ('S', ('ZX',), (0, 1)): 1.0*{S}^{ZX}_{Gq0},\n",
       " ('C', ('ZX', 'ZY'), (0, 1)): 1.0*{C}^{ZXxZY}_{Gq0},\n",
       " ('A', ('ZX', 'ZY'), (0, 1)): 1.0*{A}^{ZXxZY}_{Gq0},\n",
       " ('C', ('ZX', 'ZZ'), (0, 1)): 1.0*{C}^{ZXxZZ}_{Gq0},\n",
       " ('A', ('ZX', 'ZZ'), (0, 1)): 1.0*{A}^{ZXxZZ}_{Gq0},\n",
       " ('S', ('ZY',), (0, 1)): 1.0*{S}^{ZY}_{Gq0},\n",
       " ('C', ('ZY', 'ZZ'), (0, 1)): 1.0*{C}^{ZYxZZ}_{Gq0},\n",
       " ('A', ('ZY', 'ZZ'), (0, 1)): 1.0*{A}^{ZYxZZ}_{Gq0},\n",
       " ('S', ('ZZ',), (0, 1)): 1.0*{S}^{ZZ}_{Gq0}}"
      ]
     },
     "execution_count": 8,
     "metadata": {},
     "output_type": "execute_result"
    }
   ],
   "source": [
    "\"\"\"check that the basis is well defined\"\"\"\n",
    "egen.extract_rates()"
   ]
  },
  {
   "cell_type": "code",
   "execution_count": 9,
   "id": "5d179c8a-d855-41a9-828c-01acb14edf45",
   "metadata": {},
   "outputs": [],
   "source": [
    "class GateSet():\n",
    "    \"\"\"\n",
    "    Holds the information for\n",
    "        -all native gates, states, and measurements\n",
    "        -all error generator features (in a feature dict)\n",
    "        -map between gate labels and parameter index list (index set)\n",
    "        -map between parameter indices and error features (feature dict) \n",
    "        \n",
    "    TODO: generalize to n-qubits\n",
    "    \"\"\"\n",
    "    def __init__(self, model_pack):\n",
    "        # A list of error rates, each one corresponding to one feature in the above list\n",
    "        self.rates = []\n",
    "        self.feature_map = dict() # maps variables to their associated feature\n",
    "        self.egen_from_label = dict() # maps gate labels to error generators\n",
    "        self.target_model = model_pack.target_model('CPTP')\n",
    "        self.gate_labels = model_pack.gates\n",
    "        self.num_qubits = model_pack.processor_spec().num_qubits\n",
    "        \n",
    "        # Errors generators for all gates in the model\n",
    "        for gate in model_pack.gates:\n",
    "            if len(gate) <= 1:\n",
    "                egen = ErrorGen(self.num_qubits, (gate, ''))\n",
    "            else:\n",
    "                egen = ErrorGen(self.num_qubits, gate)\n",
    "            self.egen_from_label[gate] = egen\n",
    "            self.rates += egen.vec\n",
    "            self.feature_map.update(egen.feature_map)\n",
    "        # Errors for all measurements in the model\n",
    "        for povm in self.target_model.povms.keys():\n",
    "            egen = ErrorGen(self.num_qubits, (povm, 'M'))\n",
    "            self.egen_from_label[povm] = egen\n",
    "            self.rates += egen.vec\n",
    "            self.feature_map.update(egen.feature_map)\n",
    "        # Errors for all state preparations in the model\n",
    "        for prep in self.target_model.preps.keys():\n",
    "            egen = ErrorGen(self.num_qubits, (prep, 'P'))\n",
    "            self.egen_from_label[prep] = egen\n",
    "            self.rates += egen.vec\n",
    "            self.feature_map.update(egen.feature_map)\n",
    "            \n",
    "    @property\n",
    "    def vec(self):\n",
    "        return self.rates\n",
    "    \n",
    "    def features_of(self, op_label):\n",
    "        \"\"\"Returns the list of error features associated with the given gate/POVM/state-prep\"\"\"\n",
    "        return self.egen_from_label[op_label].features\n",
    "    \n",
    "    def rates_of(self, op_label):\n",
    "        \"\"\"Returns the list of error rates associated with the given gate/POVM/state-prep\"\"\"\n",
    "        return self.egen_from_label[op_label].vec\n",
    "    \n",
    "    def error_generator_of(self, op_label):\n",
    "        \"\"\"Returns the error generator matrix associated with the given gate/POVM/state-prep\"\"\"\n",
    "        return self.egen_from_label[op_label].mat\n",
    "    \n",
    "    def target_op(self, op_label):\n",
    "        \"\"\"\n",
    "        returns the target operation of the given operation\n",
    "        \"\"\"\n",
    "        return self.target_model[op_label].to_dense()\n",
    "\n",
    "    def native_meas(self):\n",
    "        return [m.to_dense() for m in self.target_model['Mdefault'].values()]\n",
    "\n",
    "    def rho0(self):\n",
    "        return self.target_model['rho0'].to_dense()\n"
   ]
  },
  {
   "cell_type": "code",
   "execution_count": 23,
   "id": "175d4b6b-2705-4b59-9cfb-bcb93043e299",
   "metadata": {
    "tags": []
   },
   "outputs": [],
   "source": [
    "from scipy.linalg import expm, logm\n",
    "\n",
    "class CircuitAnalyzer:\n",
    "    \"\"\"Performs operations on a given pygsti Circuit object,\n",
    "    which is part of a given GateSet.\n",
    "    \n",
    "    The Circuit's state prep and measurement operators are set to the default values,\n",
    "    but can be specified by their names, as long as they are part of the GateSet.\"\"\"\n",
    "    def __init__(self, circuit, gateset, state_prep='rho0', povm='Mdefault'):\n",
    "        self.gateset = gateset\n",
    "        self.circuit = circuit\n",
    "        # Extracts the gates in the circuit as a list of labels\n",
    "        self.gates = list(circuit.layertup)\n",
    "        # Finds their PTMs (pauli transfer matrices)\n",
    "        self.gate_matrices = [gateset.target_op(gate) for gate in self.gates]\n",
    "        # Extracts the error matrices corresponding to each of these gates\n",
    "        self.gate_errors = [gateset.error_generator_of(gate) for gate in self.gates]\n",
    "        # Also extracts the error terms corresponding to SPAM (state prep + measurement)\n",
    "        self.state_prep_error = gateset.error_generator_of(state_prep)\n",
    "        self.povm_error = gateset.error_generator_of(povm)\n",
    "        \n",
    "    def left_errors(self):\n",
    "        \"\"\"Moves all gate errors to the left of the circuit,\n",
    "        and returns the resulting list of conjugated error generators.\n",
    "        \n",
    "        NOTE: In our Circuit object, the gates are ordered\n",
    "        left-to-right from first-applied to last-applied.\n",
    "        However, the error terms in the result of this function, are ordered\n",
    "        left-to-right as they would be in matrix multiplication.\"\"\"\n",
    "        \n",
    "        n = len(self.gate_errors)\n",
    "        left_errors = []\n",
    "        # The first error in the result is the measurement error,\n",
    "        # which is unchanged (doesn't need conjugating)\n",
    "        left_errors.append(self.povm_error)\n",
    "        # Compute the matrices by which each error will be conjugated\n",
    "        # These are products of successive gates, in reverse order\n",
    "        conjugators = [np.eye(self.gate_errors[0].shape[0])]\n",
    "        for gate in reversed(self.gate_matrices):\n",
    "            conjugators.append((gate @ conjugators[-1]).round(10))\n",
    "        # Next, process the gate errors from the end of the list to its beginning\n",
    "        # Because that's the order they'll appear in the resulting matrix mult\n",
    "        for i in range(n):\n",
    "            # Note that i = 0 conjugates by the identity; the last gate is unchanged\n",
    "            error = self.gate_errors[n-i-1]\n",
    "            conjugator = conjugators[i]\n",
    "            left_errors.append(conjugator * error * np.linalg.inv(conjugator))\n",
    "        # Finally, add the State prep error;\n",
    "        # We must conjugate it through all gates in the circuit\n",
    "        left_errors.append(conjugators[-1] * self.state_prep_error * np.linalg.inv(conjugators[-1]))\n",
    "        return left_errors\n",
    "    \n",
    "    def linear_F_map(self):\n",
    "        \"\"\"Returns the linear approximation of the F map,\n",
    "        after moving all errors to the left. This approximation assumes they commute.\n",
    "        The result is a function of the error terms of the gate set.\n",
    "        \"\"\"\n",
    "        # Simply take the sum of all error generators after moving them to the left\n",
    "        left_errors = self.left_errors()\n",
    "        return sum(left_errors[1:], left_errors[0])\n",
    "    \n",
    "    def order2_F_map(self):\n",
    "        \"\"\"Returns the order-2 approximation of the F map,\n",
    "        after moving all errors to the left, and applying order-2 BCH.\n",
    "        The result is a function of the error terms of the gate set.\n",
    "        \"\"\"\n",
    "        left_errors = self.left_errors()\n",
    "        # Start with the sum of all error terms\n",
    "        result = sum(left_errors[1:], left_errors[0])\n",
    "        # Then add half the commutator between each pair of errors\n",
    "        comm = lambda X, Y: X@Y - Y@X\n",
    "        n = len(left_errors)\n",
    "        for i in range(n):\n",
    "            for j in range(i, n):\n",
    "                result += comm(left_errors[i], left_errors[j]) / 2\n",
    "                result = sp.expand(result)\n",
    "        return result\n",
    "    \n",
    "    def circuit_matrix(self):\n",
    "        \"\"\"Returns the PTM of the target circuit.\"\"\"\n",
    "        # Multiply all the gates together\n",
    "        # from first-applied (left) to last-applied (right)\n",
    "        circuit = self.gate_matrices[0]\n",
    "        for m in self.gate_matrices[1:]:\n",
    "            circuit = circuit @ m\n",
    "        return circuit\n",
    "    \n",
    "    def simulate(self, substitutions, rho, mu):\n",
    "        \"\"\"Substitute all error terms in the circuit with the given values,\n",
    "        then show the output of the circuit (outcome probabilities),\n",
    "        from state rho and with measurement mu.\"\"\"\n",
    "        circuit = self.circuit_matrix()\n",
    "        # Now substitute all generator terms with the given values\n",
    "        # Then exponentiate the generators, and multiply them with the circuit\n",
    "        subs_errors = [m.subs(substitutions) for m in ca.left_errors()]\n",
    "        subs_errors = [np.array(m).astype(np.float64) for m in subs_errors]\n",
    "        subs_errors = [expm(m) for m in subs_errors]\n",
    "        for m in subs_errors[::-1]:\n",
    "            circuit = m @ circuit\n",
    "        # evaluate at mu, rho\n",
    "        return mu @ circuit @ rho\n",
    "    \n",
    "    def approx_simulate(self, substitutions, rho, mu, order=1):\n",
    "        \"\"\"Substitute all error terms in the circuit with the given values,\n",
    "        then show the APPROXIMATE output of the circuit (outcome probabilities),\n",
    "        from state rho and with measurement mu, using the given approx order (1 or 2).\"\"\"\n",
    "        circuit = self.circuit_matrix()\n",
    "        # Compute the first-order approximation of the error term\n",
    "        if order == 1:\n",
    "            error = self.linear_F_map()\n",
    "        else:\n",
    "            error = self.order2_F_map()\n",
    "        # Now substitute all generator terms with the given values\n",
    "        # Then exponentiate the generator, and multiply it with the circuit\n",
    "        error = error.subs(substitutions)\n",
    "        error = np.array(error).astype(np.float64)\n",
    "        error = expm(error)\n",
    "        circuit = error @ circuit\n",
    "        # evaluate at mu, rho\n",
    "        return mu @ circuit @ rho\n",
    "    \n",
    "    def linear_variation(self, egen_lbl):\n",
    "        \"\"\"\n",
    "        Returns a linear combination of sympy variables that quantifies how \n",
    "        linear varitations in model parameters effect end of circuit rates\n",
    "        \"\"\"\n",
    "        F = self.linear_F_map()\n",
    "        dgen = egenlbl_to_dual(egen_lbl, gs.num_qubits)\n",
    "        return np.trace(dgen.conj().T@F)\n",
    "    \n",
    "    def variation_matrix(self):\n",
    "        \"\"\"\n",
    "        Returns the linear varation matrix that quantifies how \n",
    "        variations in local params affect variations in eoc params\n",
    "        column space: local params in the order provided in gate_set.local_labels\n",
    "        row space: error generator params in the order provided by gate_set.labels\n",
    "        \"\"\"\n",
    "        eoc_lbls = LindbladErrorgen.from_error_generator(4**gs.num_qubits).coefficient_labels()\n",
    "        local_params = gs.vec\n",
    "        varmat = np.zeros((len(eoc_lbls), len(local_params)))\n",
    "        for id_eoc, eoc_lbl in enumerate(eoc_lbls):\n",
    "            var_combo = self.linear_variation(eoc_lbl)\n",
    "            for id_local, p in enumerate(local_params):\n",
    "                varmat[id_eoc, id_local] = var_combo.coeff(p)\n",
    "        return varmat"
   ]
  },
  {
   "cell_type": "markdown",
   "id": "900bffe5",
   "metadata": {},
   "source": [
    "## Circuit outcome testing"
   ]
  },
  {
   "cell_type": "code",
   "execution_count": 24,
   "id": "62623389",
   "metadata": {},
   "outputs": [],
   "source": [
    "import pygsti.modelpacks.smq1Q_XYZI as std\n",
    "#import pygsti.modelpacks.smq2Q_XYCNOT as std\n",
    "edesign = std.create_gst_experiment_design(16)\n",
    "gs = GateSet(std)"
   ]
  },
  {
   "cell_type": "code",
   "execution_count": 25,
   "id": "ec592f09",
   "metadata": {},
   "outputs": [
    {
     "name": "stdout",
     "output_type": "stream",
     "text": [
      "Qubit 0 ---|Gxpi2|---\n",
      "\n"
     ]
    }
   ],
   "source": [
    "circ_list = edesign.circuit_lists[-1]\n",
    "circ = circ_list[1]\n",
    "print(circ)"
   ]
  },
  {
   "cell_type": "code",
   "execution_count": 26,
   "id": "3206292a",
   "metadata": {},
   "outputs": [
    {
     "data": {
      "text/latex": [
       "$\\displaystyle \\left[\\begin{matrix}0 & 0 & 0 & 0\\\\- 4.0 {A}^{YxZ}_{Gxpi2q0} - 4.0 {A}^{YxZ}_{MdefaultqM} - 4.0 {A}^{YxZ}_{rho0qP} & - 2.0 {S}^{Y}_{Gxpi2q0} - 2.0 {S}^{Y}_{MdefaultqM} - 2.0 {S}^{Y}_{rho0qP} - 2.0 {S}^{Z}_{Gxpi2q0} - 2.0 {S}^{Z}_{MdefaultqM} - 2.0 {S}^{Z}_{rho0qP} & 2.0 {C}^{XxY}_{Gxpi2q0} + 2.0 {C}^{XxY}_{MdefaultqM} - 2.0 {C}^{XxZ}_{rho0qP} - 2.0 {H}^{Y}_{rho0qP} - 2.0 {H}^{Z}_{Gxpi2q0} - 2.0 {H}^{Z}_{MdefaultqM} & 2.0 {C}^{XxY}_{rho0qP} + 2.0 {C}^{XxZ}_{Gxpi2q0} + 2.0 {C}^{XxZ}_{MdefaultqM} + 2.0 {H}^{Y}_{Gxpi2q0} + 2.0 {H}^{Y}_{MdefaultqM} - 2.0 {H}^{Z}_{rho0qP}\\\\4.0 {A}^{XxY}_{rho0qP} + 4.0 {A}^{XxZ}_{Gxpi2q0} + 4.0 {A}^{XxZ}_{MdefaultqM} & 2.0 {C}^{XxY}_{Gxpi2q0} + 2.0 {C}^{XxY}_{MdefaultqM} - 2.0 {C}^{XxZ}_{rho0qP} + 2.0 {H}^{Y}_{rho0qP} + 2.0 {H}^{Z}_{Gxpi2q0} + 2.0 {H}^{Z}_{MdefaultqM} & - 2.0 {S}^{X}_{Gxpi2q0} - 2.0 {S}^{X}_{MdefaultqM} - 2.0 {S}^{X}_{rho0qP} - 2.0 {S}^{Y}_{rho0qP} - 2.0 {S}^{Z}_{Gxpi2q0} - 2.0 {S}^{Z}_{MdefaultqM} & 2.0 {C}^{YxZ}_{Gxpi2q0} + 2.0 {C}^{YxZ}_{MdefaultqM} - 2.0 {C}^{YxZ}_{rho0qP} - 2.0 {H}^{X}_{Gxpi2q0} - 2.0 {H}^{X}_{MdefaultqM} - 2.0 {H}^{X}_{rho0qP}\\\\- 4.0 {A}^{XxY}_{Gxpi2q0} - 4.0 {A}^{XxY}_{MdefaultqM} + 4.0 {A}^{XxZ}_{rho0qP} & 2.0 {C}^{XxY}_{rho0qP} + 2.0 {C}^{XxZ}_{Gxpi2q0} + 2.0 {C}^{XxZ}_{MdefaultqM} - 2.0 {H}^{Y}_{Gxpi2q0} - 2.0 {H}^{Y}_{MdefaultqM} + 2.0 {H}^{Z}_{rho0qP} & 2.0 {C}^{YxZ}_{Gxpi2q0} + 2.0 {C}^{YxZ}_{MdefaultqM} - 2.0 {C}^{YxZ}_{rho0qP} + 2.0 {H}^{X}_{Gxpi2q0} + 2.0 {H}^{X}_{MdefaultqM} + 2.0 {H}^{X}_{rho0qP} & - 2.0 {S}^{X}_{Gxpi2q0} - 2.0 {S}^{X}_{MdefaultqM} - 2.0 {S}^{X}_{rho0qP} - 2.0 {S}^{Y}_{Gxpi2q0} - 2.0 {S}^{Y}_{MdefaultqM} - 2.0 {S}^{Z}_{rho0qP}\\end{matrix}\\right]$"
      ],
      "text/plain": [
       "Matrix([\n",
       "[                                                                             0,                                                                                                                                                       0,                                                                                                                                                       0,                                                                                                                                                       0],\n",
       "[-4.0*{A}^{YxZ}_{Gxpi2q0} - 4.0*{A}^{YxZ}_{MdefaultqM} - 4.0*{A}^{YxZ}_{rho0qP},      -2.0*{S}^{Y}_{Gxpi2q0} - 2.0*{S}^{Y}_{MdefaultqM} - 2.0*{S}^{Y}_{rho0qP} - 2.0*{S}^{Z}_{Gxpi2q0} - 2.0*{S}^{Z}_{MdefaultqM} - 2.0*{S}^{Z}_{rho0qP}, 2.0*{C}^{XxY}_{Gxpi2q0} + 2.0*{C}^{XxY}_{MdefaultqM} - 2.0*{C}^{XxZ}_{rho0qP} - 2.0*{H}^{Y}_{rho0qP} - 2.0*{H}^{Z}_{Gxpi2q0} - 2.0*{H}^{Z}_{MdefaultqM}, 2.0*{C}^{XxY}_{rho0qP} + 2.0*{C}^{XxZ}_{Gxpi2q0} + 2.0*{C}^{XxZ}_{MdefaultqM} + 2.0*{H}^{Y}_{Gxpi2q0} + 2.0*{H}^{Y}_{MdefaultqM} - 2.0*{H}^{Z}_{rho0qP}],\n",
       "[ 4.0*{A}^{XxY}_{rho0qP} + 4.0*{A}^{XxZ}_{Gxpi2q0} + 4.0*{A}^{XxZ}_{MdefaultqM}, 2.0*{C}^{XxY}_{Gxpi2q0} + 2.0*{C}^{XxY}_{MdefaultqM} - 2.0*{C}^{XxZ}_{rho0qP} + 2.0*{H}^{Y}_{rho0qP} + 2.0*{H}^{Z}_{Gxpi2q0} + 2.0*{H}^{Z}_{MdefaultqM},      -2.0*{S}^{X}_{Gxpi2q0} - 2.0*{S}^{X}_{MdefaultqM} - 2.0*{S}^{X}_{rho0qP} - 2.0*{S}^{Y}_{rho0qP} - 2.0*{S}^{Z}_{Gxpi2q0} - 2.0*{S}^{Z}_{MdefaultqM}, 2.0*{C}^{YxZ}_{Gxpi2q0} + 2.0*{C}^{YxZ}_{MdefaultqM} - 2.0*{C}^{YxZ}_{rho0qP} - 2.0*{H}^{X}_{Gxpi2q0} - 2.0*{H}^{X}_{MdefaultqM} - 2.0*{H}^{X}_{rho0qP}],\n",
       "[-4.0*{A}^{XxY}_{Gxpi2q0} - 4.0*{A}^{XxY}_{MdefaultqM} + 4.0*{A}^{XxZ}_{rho0qP}, 2.0*{C}^{XxY}_{rho0qP} + 2.0*{C}^{XxZ}_{Gxpi2q0} + 2.0*{C}^{XxZ}_{MdefaultqM} - 2.0*{H}^{Y}_{Gxpi2q0} - 2.0*{H}^{Y}_{MdefaultqM} + 2.0*{H}^{Z}_{rho0qP}, 2.0*{C}^{YxZ}_{Gxpi2q0} + 2.0*{C}^{YxZ}_{MdefaultqM} - 2.0*{C}^{YxZ}_{rho0qP} + 2.0*{H}^{X}_{Gxpi2q0} + 2.0*{H}^{X}_{MdefaultqM} + 2.0*{H}^{X}_{rho0qP},      -2.0*{S}^{X}_{Gxpi2q0} - 2.0*{S}^{X}_{MdefaultqM} - 2.0*{S}^{X}_{rho0qP} - 2.0*{S}^{Y}_{Gxpi2q0} - 2.0*{S}^{Y}_{MdefaultqM} - 2.0*{S}^{Z}_{rho0qP}]])"
      ]
     },
     "execution_count": 26,
     "metadata": {},
     "output_type": "execute_result"
    }
   ],
   "source": [
    "ca = CircuitAnalyzer(circ, gs)\n",
    "order1 = ca.linear_F_map()\n",
    "order1"
   ]
  },
  {
   "cell_type": "code",
   "execution_count": 27,
   "id": "92bb08b3",
   "metadata": {},
   "outputs": [
    {
     "data": {
      "text/latex": [
       "$\\displaystyle \\left[\\begin{matrix}0 & 0 & 0 & 0\\\\4.0 {A}^{XxY}_{Gxpi2q0} {C}^{XxY}_{rho0qP} - 4.0 {A}^{XxY}_{Gxpi2q0} {C}^{XxZ}_{MdefaultqM} - 4.0 {A}^{XxY}_{Gxpi2q0} {H}^{Y}_{MdefaultqM} - 4.0 {A}^{XxY}_{Gxpi2q0} {H}^{Z}_{rho0qP} + 4.0 {A}^{XxY}_{MdefaultqM} {C}^{XxY}_{rho0qP} + 4.0 {A}^{XxY}_{MdefaultqM} {C}^{XxZ}_{Gxpi2q0} + 4.0 {A}^{XxY}_{MdefaultqM} {H}^{Y}_{Gxpi2q0} - 4.0 {A}^{XxY}_{MdefaultqM} {H}^{Z}_{rho0qP} + 4.0 {A}^{XxY}_{rho0qP} {C}^{XxY}_{Gxpi2q0} + 4.0 {A}^{XxY}_{rho0qP} {C}^{XxY}_{MdefaultqM} - 4.0 {A}^{XxY}_{rho0qP} {H}^{Z}_{Gxpi2q0} - 4.0 {A}^{XxY}_{rho0qP} {H}^{Z}_{MdefaultqM} + 4.0 {A}^{XxZ}_{Gxpi2q0} {C}^{XxY}_{MdefaultqM} + 4.0 {A}^{XxZ}_{Gxpi2q0} {C}^{XxZ}_{rho0qP} + 4.0 {A}^{XxZ}_{Gxpi2q0} {H}^{Y}_{rho0qP} - 4.0 {A}^{XxZ}_{Gxpi2q0} {H}^{Z}_{MdefaultqM} - 4.0 {A}^{XxZ}_{MdefaultqM} {C}^{XxY}_{Gxpi2q0} + 4.0 {A}^{XxZ}_{MdefaultqM} {C}^{XxZ}_{rho0qP} + 4.0 {A}^{XxZ}_{MdefaultqM} {H}^{Y}_{rho0qP} + 4.0 {A}^{XxZ}_{MdefaultqM} {H}^{Z}_{Gxpi2q0} + 4.0 {A}^{XxZ}_{rho0qP} {C}^{XxZ}_{Gxpi2q0} + 4.0 {A}^{XxZ}_{rho0qP} {C}^{XxZ}_{MdefaultqM} + 4.0 {A}^{XxZ}_{rho0qP} {H}^{Y}_{Gxpi2q0} + 4.0 {A}^{XxZ}_{rho0qP} {H}^{Y}_{MdefaultqM} + 4.0 {A}^{YxZ}_{Gxpi2q0} {S}^{Y}_{MdefaultqM} - 4.0 {A}^{YxZ}_{Gxpi2q0} {S}^{Y}_{rho0qP} + 4.0 {A}^{YxZ}_{Gxpi2q0} {S}^{Z}_{MdefaultqM} - 4.0 {A}^{YxZ}_{Gxpi2q0} {S}^{Z}_{rho0qP} - 4.0 {A}^{YxZ}_{Gxpi2q0} - 4.0 {A}^{YxZ}_{MdefaultqM} {S}^{Y}_{Gxpi2q0} - 4.0 {A}^{YxZ}_{MdefaultqM} {S}^{Y}_{rho0qP} - 4.0 {A}^{YxZ}_{MdefaultqM} {S}^{Z}_{Gxpi2q0} - 4.0 {A}^{YxZ}_{MdefaultqM} {S}^{Z}_{rho0qP} - 4.0 {A}^{YxZ}_{MdefaultqM} + 4.0 {A}^{YxZ}_{rho0qP} {S}^{Y}_{Gxpi2q0} + 4.0 {A}^{YxZ}_{rho0qP} {S}^{Y}_{MdefaultqM} + 4.0 {A}^{YxZ}_{rho0qP} {S}^{Z}_{Gxpi2q0} + 4.0 {A}^{YxZ}_{rho0qP} {S}^{Z}_{MdefaultqM} - 4.0 {A}^{YxZ}_{rho0qP} & 4.0 {C}^{XxY}_{Gxpi2q0} {H}^{Y}_{rho0qP} - 4.0 {C}^{XxY}_{Gxpi2q0} {H}^{Z}_{MdefaultqM} + 4.0 {C}^{XxY}_{MdefaultqM} {H}^{Y}_{rho0qP} + 4.0 {C}^{XxY}_{MdefaultqM} {H}^{Z}_{Gxpi2q0} + 4.0 {C}^{XxY}_{rho0qP} {H}^{Y}_{Gxpi2q0} + 4.0 {C}^{XxY}_{rho0qP} {H}^{Y}_{MdefaultqM} + 4.0 {C}^{XxZ}_{Gxpi2q0} {H}^{Y}_{MdefaultqM} + 4.0 {C}^{XxZ}_{Gxpi2q0} {H}^{Z}_{rho0qP} - 4.0 {C}^{XxZ}_{MdefaultqM} {H}^{Y}_{Gxpi2q0} + 4.0 {C}^{XxZ}_{MdefaultqM} {H}^{Z}_{rho0qP} + 4.0 {C}^{XxZ}_{rho0qP} {H}^{Z}_{Gxpi2q0} + 4.0 {C}^{XxZ}_{rho0qP} {H}^{Z}_{MdefaultqM} - 2.0 {S}^{Y}_{Gxpi2q0} - 2.0 {S}^{Y}_{MdefaultqM} - 2.0 {S}^{Y}_{rho0qP} - 2.0 {S}^{Z}_{Gxpi2q0} - 2.0 {S}^{Z}_{MdefaultqM} - 2.0 {S}^{Z}_{rho0qP} & 2.0 {C}^{XxY}_{Gxpi2q0} {S}^{X}_{MdefaultqM} - 2.0 {C}^{XxY}_{Gxpi2q0} {S}^{X}_{rho0qP} - 2.0 {C}^{XxY}_{Gxpi2q0} {S}^{Y}_{MdefaultqM} + 2.0 {C}^{XxY}_{Gxpi2q0} {S}^{Z}_{rho0qP} + 2.0 {C}^{XxY}_{Gxpi2q0} - 2.0 {C}^{XxY}_{MdefaultqM} {S}^{X}_{Gxpi2q0} - 2.0 {C}^{XxY}_{MdefaultqM} {S}^{X}_{rho0qP} + 2.0 {C}^{XxY}_{MdefaultqM} {S}^{Y}_{Gxpi2q0} + 2.0 {C}^{XxY}_{MdefaultqM} {S}^{Z}_{rho0qP} + 2.0 {C}^{XxY}_{MdefaultqM} - 2.0 {C}^{XxY}_{rho0qP} {C}^{YxZ}_{Gxpi2q0} - 2.0 {C}^{XxY}_{rho0qP} {C}^{YxZ}_{MdefaultqM} - 2.0 {C}^{XxY}_{rho0qP} {H}^{X}_{Gxpi2q0} - 2.0 {C}^{XxY}_{rho0qP} {H}^{X}_{MdefaultqM} - 2.0 {C}^{XxZ}_{Gxpi2q0} {C}^{YxZ}_{MdefaultqM} - 2.0 {C}^{XxZ}_{Gxpi2q0} {C}^{YxZ}_{rho0qP} - 2.0 {C}^{XxZ}_{Gxpi2q0} {H}^{X}_{MdefaultqM} + 2.0 {C}^{XxZ}_{Gxpi2q0} {H}^{X}_{rho0qP} + 2.0 {C}^{XxZ}_{MdefaultqM} {C}^{YxZ}_{Gxpi2q0} - 2.0 {C}^{XxZ}_{MdefaultqM} {C}^{YxZ}_{rho0qP} + 2.0 {C}^{XxZ}_{MdefaultqM} {H}^{X}_{Gxpi2q0} + 2.0 {C}^{XxZ}_{MdefaultqM} {H}^{X}_{rho0qP} - 2.0 {C}^{XxZ}_{rho0qP} {S}^{X}_{Gxpi2q0} - 2.0 {C}^{XxZ}_{rho0qP} {S}^{X}_{MdefaultqM} + 2.0 {C}^{XxZ}_{rho0qP} {S}^{Y}_{Gxpi2q0} + 2.0 {C}^{XxZ}_{rho0qP} {S}^{Y}_{MdefaultqM} - 2.0 {C}^{XxZ}_{rho0qP} + 2.0 {C}^{YxZ}_{Gxpi2q0} {H}^{Y}_{MdefaultqM} + 2.0 {C}^{YxZ}_{Gxpi2q0} {H}^{Z}_{rho0qP} - 2.0 {C}^{YxZ}_{MdefaultqM} {H}^{Y}_{Gxpi2q0} + 2.0 {C}^{YxZ}_{MdefaultqM} {H}^{Z}_{rho0qP} - 2.0 {C}^{YxZ}_{rho0qP} {H}^{Y}_{Gxpi2q0} - 2.0 {C}^{YxZ}_{rho0qP} {H}^{Y}_{MdefaultqM} + 2.0 {H}^{X}_{Gxpi2q0} {H}^{Y}_{MdefaultqM} + 2.0 {H}^{X}_{Gxpi2q0} {H}^{Z}_{rho0qP} - 2.0 {H}^{X}_{MdefaultqM} {H}^{Y}_{Gxpi2q0} + 2.0 {H}^{X}_{MdefaultqM} {H}^{Z}_{rho0qP} + 2.0 {H}^{X}_{rho0qP} {H}^{Y}_{Gxpi2q0} + 2.0 {H}^{X}_{rho0qP} {H}^{Y}_{MdefaultqM} - 2.0 {H}^{Y}_{rho0qP} {S}^{X}_{Gxpi2q0} - 2.0 {H}^{Y}_{rho0qP} {S}^{X}_{MdefaultqM} + 2.0 {H}^{Y}_{rho0qP} {S}^{Y}_{Gxpi2q0} + 2.0 {H}^{Y}_{rho0qP} {S}^{Y}_{MdefaultqM} - 2.0 {H}^{Y}_{rho0qP} - 2.0 {H}^{Z}_{Gxpi2q0} {S}^{X}_{MdefaultqM} + 2.0 {H}^{Z}_{Gxpi2q0} {S}^{X}_{rho0qP} + 2.0 {H}^{Z}_{Gxpi2q0} {S}^{Y}_{MdefaultqM} - 2.0 {H}^{Z}_{Gxpi2q0} {S}^{Z}_{rho0qP} - 2.0 {H}^{Z}_{Gxpi2q0} + 2.0 {H}^{Z}_{MdefaultqM} {S}^{X}_{Gxpi2q0} + 2.0 {H}^{Z}_{MdefaultqM} {S}^{X}_{rho0qP} - 2.0 {H}^{Z}_{MdefaultqM} {S}^{Y}_{Gxpi2q0} - 2.0 {H}^{Z}_{MdefaultqM} {S}^{Z}_{rho0qP} - 2.0 {H}^{Z}_{MdefaultqM} & - 2.0 {C}^{XxY}_{Gxpi2q0} {C}^{YxZ}_{MdefaultqM} - 2.0 {C}^{XxY}_{Gxpi2q0} {C}^{YxZ}_{rho0qP} + 2.0 {C}^{XxY}_{Gxpi2q0} {H}^{X}_{MdefaultqM} - 2.0 {C}^{XxY}_{Gxpi2q0} {H}^{X}_{rho0qP} + 2.0 {C}^{XxY}_{MdefaultqM} {C}^{YxZ}_{Gxpi2q0} - 2.0 {C}^{XxY}_{MdefaultqM} {C}^{YxZ}_{rho0qP} - 2.0 {C}^{XxY}_{MdefaultqM} {H}^{X}_{Gxpi2q0} - 2.0 {C}^{XxY}_{MdefaultqM} {H}^{X}_{rho0qP} + 2.0 {C}^{XxY}_{rho0qP} {S}^{X}_{Gxpi2q0} + 2.0 {C}^{XxY}_{rho0qP} {S}^{X}_{MdefaultqM} - 2.0 {C}^{XxY}_{rho0qP} {S}^{Z}_{Gxpi2q0} - 2.0 {C}^{XxY}_{rho0qP} {S}^{Z}_{MdefaultqM} + 2.0 {C}^{XxY}_{rho0qP} + 2.0 {C}^{XxZ}_{Gxpi2q0} {S}^{X}_{MdefaultqM} - 2.0 {C}^{XxZ}_{Gxpi2q0} {S}^{X}_{rho0qP} + 2.0 {C}^{XxZ}_{Gxpi2q0} {S}^{Y}_{rho0qP} - 2.0 {C}^{XxZ}_{Gxpi2q0} {S}^{Z}_{MdefaultqM} + 2.0 {C}^{XxZ}_{Gxpi2q0} - 2.0 {C}^{XxZ}_{MdefaultqM} {S}^{X}_{Gxpi2q0} - 2.0 {C}^{XxZ}_{MdefaultqM} {S}^{X}_{rho0qP} + 2.0 {C}^{XxZ}_{MdefaultqM} {S}^{Y}_{rho0qP} + 2.0 {C}^{XxZ}_{MdefaultqM} {S}^{Z}_{Gxpi2q0} + 2.0 {C}^{XxZ}_{MdefaultqM} + 2.0 {C}^{XxZ}_{rho0qP} {C}^{YxZ}_{Gxpi2q0} + 2.0 {C}^{XxZ}_{rho0qP} {C}^{YxZ}_{MdefaultqM} - 2.0 {C}^{XxZ}_{rho0qP} {H}^{X}_{Gxpi2q0} - 2.0 {C}^{XxZ}_{rho0qP} {H}^{X}_{MdefaultqM} + 2.0 {C}^{YxZ}_{Gxpi2q0} {H}^{Y}_{rho0qP} - 2.0 {C}^{YxZ}_{Gxpi2q0} {H}^{Z}_{MdefaultqM} + 2.0 {C}^{YxZ}_{MdefaultqM} {H}^{Y}_{rho0qP} + 2.0 {C}^{YxZ}_{MdefaultqM} {H}^{Z}_{Gxpi2q0} + 2.0 {C}^{YxZ}_{rho0qP} {H}^{Z}_{Gxpi2q0} + 2.0 {C}^{YxZ}_{rho0qP} {H}^{Z}_{MdefaultqM} - 2.0 {H}^{X}_{Gxpi2q0} {H}^{Y}_{rho0qP} + 2.0 {H}^{X}_{Gxpi2q0} {H}^{Z}_{MdefaultqM} - 2.0 {H}^{X}_{MdefaultqM} {H}^{Y}_{rho0qP} - 2.0 {H}^{X}_{MdefaultqM} {H}^{Z}_{Gxpi2q0} + 2.0 {H}^{X}_{rho0qP} {H}^{Z}_{Gxpi2q0} + 2.0 {H}^{X}_{rho0qP} {H}^{Z}_{MdefaultqM} + 2.0 {H}^{Y}_{Gxpi2q0} {S}^{X}_{MdefaultqM} - 2.0 {H}^{Y}_{Gxpi2q0} {S}^{X}_{rho0qP} + 2.0 {H}^{Y}_{Gxpi2q0} {S}^{Y}_{rho0qP} - 2.0 {H}^{Y}_{Gxpi2q0} {S}^{Z}_{MdefaultqM} + 2.0 {H}^{Y}_{Gxpi2q0} - 2.0 {H}^{Y}_{MdefaultqM} {S}^{X}_{Gxpi2q0} - 2.0 {H}^{Y}_{MdefaultqM} {S}^{X}_{rho0qP} + 2.0 {H}^{Y}_{MdefaultqM} {S}^{Y}_{rho0qP} + 2.0 {H}^{Y}_{MdefaultqM} {S}^{Z}_{Gxpi2q0} + 2.0 {H}^{Y}_{MdefaultqM} - 2.0 {H}^{Z}_{rho0qP} {S}^{X}_{Gxpi2q0} - 2.0 {H}^{Z}_{rho0qP} {S}^{X}_{MdefaultqM} + 2.0 {H}^{Z}_{rho0qP} {S}^{Z}_{Gxpi2q0} + 2.0 {H}^{Z}_{rho0qP} {S}^{Z}_{MdefaultqM} - 2.0 {H}^{Z}_{rho0qP}\\\\- 4.0 {A}^{XxY}_{Gxpi2q0} {C}^{YxZ}_{MdefaultqM} - 4.0 {A}^{XxY}_{Gxpi2q0} {C}^{YxZ}_{rho0qP} + 4.0 {A}^{XxY}_{Gxpi2q0} {H}^{X}_{MdefaultqM} - 4.0 {A}^{XxY}_{Gxpi2q0} {H}^{X}_{rho0qP} + 4.0 {A}^{XxY}_{MdefaultqM} {C}^{YxZ}_{Gxpi2q0} - 4.0 {A}^{XxY}_{MdefaultqM} {C}^{YxZ}_{rho0qP} - 4.0 {A}^{XxY}_{MdefaultqM} {H}^{X}_{Gxpi2q0} - 4.0 {A}^{XxY}_{MdefaultqM} {H}^{X}_{rho0qP} - 4.0 {A}^{XxY}_{rho0qP} {S}^{X}_{Gxpi2q0} - 4.0 {A}^{XxY}_{rho0qP} {S}^{X}_{MdefaultqM} - 4.0 {A}^{XxY}_{rho0qP} {S}^{Z}_{Gxpi2q0} - 4.0 {A}^{XxY}_{rho0qP} {S}^{Z}_{MdefaultqM} + 4.0 {A}^{XxY}_{rho0qP} - 4.0 {A}^{XxZ}_{Gxpi2q0} {S}^{X}_{MdefaultqM} + 4.0 {A}^{XxZ}_{Gxpi2q0} {S}^{X}_{rho0qP} + 4.0 {A}^{XxZ}_{Gxpi2q0} {S}^{Y}_{rho0qP} - 4.0 {A}^{XxZ}_{Gxpi2q0} {S}^{Z}_{MdefaultqM} + 4.0 {A}^{XxZ}_{Gxpi2q0} + 4.0 {A}^{XxZ}_{MdefaultqM} {S}^{X}_{Gxpi2q0} + 4.0 {A}^{XxZ}_{MdefaultqM} {S}^{X}_{rho0qP} + 4.0 {A}^{XxZ}_{MdefaultqM} {S}^{Y}_{rho0qP} + 4.0 {A}^{XxZ}_{MdefaultqM} {S}^{Z}_{Gxpi2q0} + 4.0 {A}^{XxZ}_{MdefaultqM} + 4.0 {A}^{XxZ}_{rho0qP} {C}^{YxZ}_{Gxpi2q0} + 4.0 {A}^{XxZ}_{rho0qP} {C}^{YxZ}_{MdefaultqM} - 4.0 {A}^{XxZ}_{rho0qP} {H}^{X}_{Gxpi2q0} - 4.0 {A}^{XxZ}_{rho0qP} {H}^{X}_{MdefaultqM} - 4.0 {A}^{YxZ}_{Gxpi2q0} {C}^{XxY}_{MdefaultqM} - 4.0 {A}^{YxZ}_{Gxpi2q0} {C}^{XxZ}_{rho0qP} + 4.0 {A}^{YxZ}_{Gxpi2q0} {H}^{Y}_{rho0qP} - 4.0 {A}^{YxZ}_{Gxpi2q0} {H}^{Z}_{MdefaultqM} + 4.0 {A}^{YxZ}_{MdefaultqM} {C}^{XxY}_{Gxpi2q0} - 4.0 {A}^{YxZ}_{MdefaultqM} {C}^{XxZ}_{rho0qP} + 4.0 {A}^{YxZ}_{MdefaultqM} {H}^{Y}_{rho0qP} + 4.0 {A}^{YxZ}_{MdefaultqM} {H}^{Z}_{Gxpi2q0} - 4.0 {A}^{YxZ}_{rho0qP} {C}^{XxY}_{Gxpi2q0} - 4.0 {A}^{YxZ}_{rho0qP} {C}^{XxY}_{MdefaultqM} - 4.0 {A}^{YxZ}_{rho0qP} {H}^{Z}_{Gxpi2q0} - 4.0 {A}^{YxZ}_{rho0qP} {H}^{Z}_{MdefaultqM} & - 2.0 {C}^{XxY}_{Gxpi2q0} {S}^{X}_{MdefaultqM} + 2.0 {C}^{XxY}_{Gxpi2q0} {S}^{X}_{rho0qP} + 2.0 {C}^{XxY}_{Gxpi2q0} {S}^{Y}_{MdefaultqM} - 2.0 {C}^{XxY}_{Gxpi2q0} {S}^{Z}_{rho0qP} + 2.0 {C}^{XxY}_{Gxpi2q0} + 2.0 {C}^{XxY}_{MdefaultqM} {S}^{X}_{Gxpi2q0} + 2.0 {C}^{XxY}_{MdefaultqM} {S}^{X}_{rho0qP} - 2.0 {C}^{XxY}_{MdefaultqM} {S}^{Y}_{Gxpi2q0} - 2.0 {C}^{XxY}_{MdefaultqM} {S}^{Z}_{rho0qP} + 2.0 {C}^{XxY}_{MdefaultqM} + 2.0 {C}^{XxY}_{rho0qP} {C}^{YxZ}_{Gxpi2q0} + 2.0 {C}^{XxY}_{rho0qP} {C}^{YxZ}_{MdefaultqM} - 2.0 {C}^{XxY}_{rho0qP} {H}^{X}_{Gxpi2q0} - 2.0 {C}^{XxY}_{rho0qP} {H}^{X}_{MdefaultqM} + 2.0 {C}^{XxZ}_{Gxpi2q0} {C}^{YxZ}_{MdefaultqM} + 2.0 {C}^{XxZ}_{Gxpi2q0} {C}^{YxZ}_{rho0qP} - 2.0 {C}^{XxZ}_{Gxpi2q0} {H}^{X}_{MdefaultqM} + 2.0 {C}^{XxZ}_{Gxpi2q0} {H}^{X}_{rho0qP} - 2.0 {C}^{XxZ}_{MdefaultqM} {C}^{YxZ}_{Gxpi2q0} + 2.0 {C}^{XxZ}_{MdefaultqM} {C}^{YxZ}_{rho0qP} + 2.0 {C}^{XxZ}_{MdefaultqM} {H}^{X}_{Gxpi2q0} + 2.0 {C}^{XxZ}_{MdefaultqM} {H}^{X}_{rho0qP} + 2.0 {C}^{XxZ}_{rho0qP} {S}^{X}_{Gxpi2q0} + 2.0 {C}^{XxZ}_{rho0qP} {S}^{X}_{MdefaultqM} - 2.0 {C}^{XxZ}_{rho0qP} {S}^{Y}_{Gxpi2q0} - 2.0 {C}^{XxZ}_{rho0qP} {S}^{Y}_{MdefaultqM} - 2.0 {C}^{XxZ}_{rho0qP} + 2.0 {C}^{YxZ}_{Gxpi2q0} {H}^{Y}_{MdefaultqM} + 2.0 {C}^{YxZ}_{Gxpi2q0} {H}^{Z}_{rho0qP} - 2.0 {C}^{YxZ}_{MdefaultqM} {H}^{Y}_{Gxpi2q0} + 2.0 {C}^{YxZ}_{MdefaultqM} {H}^{Z}_{rho0qP} - 2.0 {C}^{YxZ}_{rho0qP} {H}^{Y}_{Gxpi2q0} - 2.0 {C}^{YxZ}_{rho0qP} {H}^{Y}_{MdefaultqM} - 2.0 {H}^{X}_{Gxpi2q0} {H}^{Y}_{MdefaultqM} - 2.0 {H}^{X}_{Gxpi2q0} {H}^{Z}_{rho0qP} + 2.0 {H}^{X}_{MdefaultqM} {H}^{Y}_{Gxpi2q0} - 2.0 {H}^{X}_{MdefaultqM} {H}^{Z}_{rho0qP} - 2.0 {H}^{X}_{rho0qP} {H}^{Y}_{Gxpi2q0} - 2.0 {H}^{X}_{rho0qP} {H}^{Y}_{MdefaultqM} - 2.0 {H}^{Y}_{rho0qP} {S}^{X}_{Gxpi2q0} - 2.0 {H}^{Y}_{rho0qP} {S}^{X}_{MdefaultqM} + 2.0 {H}^{Y}_{rho0qP} {S}^{Y}_{Gxpi2q0} + 2.0 {H}^{Y}_{rho0qP} {S}^{Y}_{MdefaultqM} + 2.0 {H}^{Y}_{rho0qP} - 2.0 {H}^{Z}_{Gxpi2q0} {S}^{X}_{MdefaultqM} + 2.0 {H}^{Z}_{Gxpi2q0} {S}^{X}_{rho0qP} + 2.0 {H}^{Z}_{Gxpi2q0} {S}^{Y}_{MdefaultqM} - 2.0 {H}^{Z}_{Gxpi2q0} {S}^{Z}_{rho0qP} + 2.0 {H}^{Z}_{Gxpi2q0} + 2.0 {H}^{Z}_{MdefaultqM} {S}^{X}_{Gxpi2q0} + 2.0 {H}^{Z}_{MdefaultqM} {S}^{X}_{rho0qP} - 2.0 {H}^{Z}_{MdefaultqM} {S}^{Y}_{Gxpi2q0} - 2.0 {H}^{Z}_{MdefaultqM} {S}^{Z}_{rho0qP} + 2.0 {H}^{Z}_{MdefaultqM} & - 4.0 {C}^{XxY}_{Gxpi2q0} {H}^{Y}_{rho0qP} + 4.0 {C}^{XxY}_{Gxpi2q0} {H}^{Z}_{MdefaultqM} - 4.0 {C}^{XxY}_{MdefaultqM} {H}^{Y}_{rho0qP} - 4.0 {C}^{XxY}_{MdefaultqM} {H}^{Z}_{Gxpi2q0} - 4.0 {C}^{XxZ}_{rho0qP} {H}^{Z}_{Gxpi2q0} - 4.0 {C}^{XxZ}_{rho0qP} {H}^{Z}_{MdefaultqM} - 4.0 {C}^{YxZ}_{Gxpi2q0} {H}^{X}_{MdefaultqM} + 4.0 {C}^{YxZ}_{Gxpi2q0} {H}^{X}_{rho0qP} + 4.0 {C}^{YxZ}_{MdefaultqM} {H}^{X}_{Gxpi2q0} + 4.0 {C}^{YxZ}_{MdefaultqM} {H}^{X}_{rho0qP} + 4.0 {C}^{YxZ}_{rho0qP} {H}^{X}_{Gxpi2q0} + 4.0 {C}^{YxZ}_{rho0qP} {H}^{X}_{MdefaultqM} - 2.0 {S}^{X}_{Gxpi2q0} - 2.0 {S}^{X}_{MdefaultqM} - 2.0 {S}^{X}_{rho0qP} - 2.0 {S}^{Y}_{rho0qP} - 2.0 {S}^{Z}_{Gxpi2q0} - 2.0 {S}^{Z}_{MdefaultqM} & 2.0 {C}^{XxY}_{Gxpi2q0} {C}^{XxY}_{rho0qP} - 2.0 {C}^{XxY}_{Gxpi2q0} {C}^{XxZ}_{MdefaultqM} - 2.0 {C}^{XxY}_{Gxpi2q0} {H}^{Y}_{MdefaultqM} - 2.0 {C}^{XxY}_{Gxpi2q0} {H}^{Z}_{rho0qP} + 2.0 {C}^{XxY}_{MdefaultqM} {C}^{XxY}_{rho0qP} + 2.0 {C}^{XxY}_{MdefaultqM} {C}^{XxZ}_{Gxpi2q0} + 2.0 {C}^{XxY}_{MdefaultqM} {H}^{Y}_{Gxpi2q0} - 2.0 {C}^{XxY}_{MdefaultqM} {H}^{Z}_{rho0qP} + 2.0 {C}^{XxY}_{rho0qP} {H}^{Z}_{Gxpi2q0} + 2.0 {C}^{XxY}_{rho0qP} {H}^{Z}_{MdefaultqM} + 2.0 {C}^{XxZ}_{Gxpi2q0} {C}^{XxZ}_{rho0qP} - 2.0 {C}^{XxZ}_{Gxpi2q0} {H}^{Y}_{rho0qP} + 2.0 {C}^{XxZ}_{Gxpi2q0} {H}^{Z}_{MdefaultqM} + 2.0 {C}^{XxZ}_{MdefaultqM} {C}^{XxZ}_{rho0qP} - 2.0 {C}^{XxZ}_{MdefaultqM} {H}^{Y}_{rho0qP} - 2.0 {C}^{XxZ}_{MdefaultqM} {H}^{Z}_{Gxpi2q0} + 2.0 {C}^{XxZ}_{rho0qP} {H}^{Y}_{Gxpi2q0} + 2.0 {C}^{XxZ}_{rho0qP} {H}^{Y}_{MdefaultqM} + 2.0 {C}^{YxZ}_{Gxpi2q0} {S}^{Y}_{MdefaultqM} + 2.0 {C}^{YxZ}_{Gxpi2q0} {S}^{Y}_{rho0qP} - 2.0 {C}^{YxZ}_{Gxpi2q0} {S}^{Z}_{MdefaultqM} - 2.0 {C}^{YxZ}_{Gxpi2q0} {S}^{Z}_{rho0qP} + 2.0 {C}^{YxZ}_{Gxpi2q0} - 2.0 {C}^{YxZ}_{MdefaultqM} {S}^{Y}_{Gxpi2q0} + 2.0 {C}^{YxZ}_{MdefaultqM} {S}^{Y}_{rho0qP} + 2.0 {C}^{YxZ}_{MdefaultqM} {S}^{Z}_{Gxpi2q0} - 2.0 {C}^{YxZ}_{MdefaultqM} {S}^{Z}_{rho0qP} + 2.0 {C}^{YxZ}_{MdefaultqM} - 2.0 {C}^{YxZ}_{rho0qP} {S}^{Y}_{Gxpi2q0} - 2.0 {C}^{YxZ}_{rho0qP} {S}^{Y}_{MdefaultqM} + 2.0 {C}^{YxZ}_{rho0qP} {S}^{Z}_{Gxpi2q0} + 2.0 {C}^{YxZ}_{rho0qP} {S}^{Z}_{MdefaultqM} - 2.0 {C}^{YxZ}_{rho0qP} - 2.0 {H}^{X}_{Gxpi2q0} {S}^{Y}_{MdefaultqM} - 2.0 {H}^{X}_{Gxpi2q0} {S}^{Y}_{rho0qP} + 2.0 {H}^{X}_{Gxpi2q0} {S}^{Z}_{MdefaultqM} + 2.0 {H}^{X}_{Gxpi2q0} {S}^{Z}_{rho0qP} - 2.0 {H}^{X}_{Gxpi2q0} + 2.0 {H}^{X}_{MdefaultqM} {S}^{Y}_{Gxpi2q0} - 2.0 {H}^{X}_{MdefaultqM} {S}^{Y}_{rho0qP} - 2.0 {H}^{X}_{MdefaultqM} {S}^{Z}_{Gxpi2q0} + 2.0 {H}^{X}_{MdefaultqM} {S}^{Z}_{rho0qP} - 2.0 {H}^{X}_{MdefaultqM} - 2.0 {H}^{X}_{rho0qP} {S}^{Y}_{Gxpi2q0} - 2.0 {H}^{X}_{rho0qP} {S}^{Y}_{MdefaultqM} + 2.0 {H}^{X}_{rho0qP} {S}^{Z}_{Gxpi2q0} + 2.0 {H}^{X}_{rho0qP} {S}^{Z}_{MdefaultqM} - 2.0 {H}^{X}_{rho0qP} - 2.0 {H}^{Y}_{Gxpi2q0} {H}^{Y}_{rho0qP} + 2.0 {H}^{Y}_{Gxpi2q0} {H}^{Z}_{MdefaultqM} - 2.0 {H}^{Y}_{MdefaultqM} {H}^{Y}_{rho0qP} - 2.0 {H}^{Y}_{MdefaultqM} {H}^{Z}_{Gxpi2q0} - 2.0 {H}^{Z}_{Gxpi2q0} {H}^{Z}_{rho0qP} - 2.0 {H}^{Z}_{MdefaultqM} {H}^{Z}_{rho0qP}\\\\4.0 {A}^{XxY}_{Gxpi2q0} {S}^{X}_{MdefaultqM} - 4.0 {A}^{XxY}_{Gxpi2q0} {S}^{X}_{rho0qP} + 4.0 {A}^{XxY}_{Gxpi2q0} {S}^{Y}_{MdefaultqM} - 4.0 {A}^{XxY}_{Gxpi2q0} {S}^{Z}_{rho0qP} - 4.0 {A}^{XxY}_{Gxpi2q0} - 4.0 {A}^{XxY}_{MdefaultqM} {S}^{X}_{Gxpi2q0} - 4.0 {A}^{XxY}_{MdefaultqM} {S}^{X}_{rho0qP} - 4.0 {A}^{XxY}_{MdefaultqM} {S}^{Y}_{Gxpi2q0} - 4.0 {A}^{XxY}_{MdefaultqM} {S}^{Z}_{rho0qP} - 4.0 {A}^{XxY}_{MdefaultqM} + 4.0 {A}^{XxY}_{rho0qP} {C}^{YxZ}_{Gxpi2q0} + 4.0 {A}^{XxY}_{rho0qP} {C}^{YxZ}_{MdefaultqM} + 4.0 {A}^{XxY}_{rho0qP} {H}^{X}_{Gxpi2q0} + 4.0 {A}^{XxY}_{rho0qP} {H}^{X}_{MdefaultqM} + 4.0 {A}^{XxZ}_{Gxpi2q0} {C}^{YxZ}_{MdefaultqM} + 4.0 {A}^{XxZ}_{Gxpi2q0} {C}^{YxZ}_{rho0qP} + 4.0 {A}^{XxZ}_{Gxpi2q0} {H}^{X}_{MdefaultqM} - 4.0 {A}^{XxZ}_{Gxpi2q0} {H}^{X}_{rho0qP} - 4.0 {A}^{XxZ}_{MdefaultqM} {C}^{YxZ}_{Gxpi2q0} + 4.0 {A}^{XxZ}_{MdefaultqM} {C}^{YxZ}_{rho0qP} - 4.0 {A}^{XxZ}_{MdefaultqM} {H}^{X}_{Gxpi2q0} - 4.0 {A}^{XxZ}_{MdefaultqM} {H}^{X}_{rho0qP} - 4.0 {A}^{XxZ}_{rho0qP} {S}^{X}_{Gxpi2q0} - 4.0 {A}^{XxZ}_{rho0qP} {S}^{X}_{MdefaultqM} - 4.0 {A}^{XxZ}_{rho0qP} {S}^{Y}_{Gxpi2q0} - 4.0 {A}^{XxZ}_{rho0qP} {S}^{Y}_{MdefaultqM} + 4.0 {A}^{XxZ}_{rho0qP} + 4.0 {A}^{YxZ}_{Gxpi2q0} {C}^{XxY}_{rho0qP} - 4.0 {A}^{YxZ}_{Gxpi2q0} {C}^{XxZ}_{MdefaultqM} + 4.0 {A}^{YxZ}_{Gxpi2q0} {H}^{Y}_{MdefaultqM} + 4.0 {A}^{YxZ}_{Gxpi2q0} {H}^{Z}_{rho0qP} + 4.0 {A}^{YxZ}_{MdefaultqM} {C}^{XxY}_{rho0qP} + 4.0 {A}^{YxZ}_{MdefaultqM} {C}^{XxZ}_{Gxpi2q0} - 4.0 {A}^{YxZ}_{MdefaultqM} {H}^{Y}_{Gxpi2q0} + 4.0 {A}^{YxZ}_{MdefaultqM} {H}^{Z}_{rho0qP} - 4.0 {A}^{YxZ}_{rho0qP} {C}^{XxZ}_{Gxpi2q0} - 4.0 {A}^{YxZ}_{rho0qP} {C}^{XxZ}_{MdefaultqM} + 4.0 {A}^{YxZ}_{rho0qP} {H}^{Y}_{Gxpi2q0} + 4.0 {A}^{YxZ}_{rho0qP} {H}^{Y}_{MdefaultqM} & 2.0 {C}^{XxY}_{Gxpi2q0} {C}^{YxZ}_{MdefaultqM} + 2.0 {C}^{XxY}_{Gxpi2q0} {C}^{YxZ}_{rho0qP} + 2.0 {C}^{XxY}_{Gxpi2q0} {H}^{X}_{MdefaultqM} - 2.0 {C}^{XxY}_{Gxpi2q0} {H}^{X}_{rho0qP} - 2.0 {C}^{XxY}_{MdefaultqM} {C}^{YxZ}_{Gxpi2q0} + 2.0 {C}^{XxY}_{MdefaultqM} {C}^{YxZ}_{rho0qP} - 2.0 {C}^{XxY}_{MdefaultqM} {H}^{X}_{Gxpi2q0} - 2.0 {C}^{XxY}_{MdefaultqM} {H}^{X}_{rho0qP} - 2.0 {C}^{XxY}_{rho0qP} {S}^{X}_{Gxpi2q0} - 2.0 {C}^{XxY}_{rho0qP} {S}^{X}_{MdefaultqM} + 2.0 {C}^{XxY}_{rho0qP} {S}^{Z}_{Gxpi2q0} + 2.0 {C}^{XxY}_{rho0qP} {S}^{Z}_{MdefaultqM} + 2.0 {C}^{XxY}_{rho0qP} - 2.0 {C}^{XxZ}_{Gxpi2q0} {S}^{X}_{MdefaultqM} + 2.0 {C}^{XxZ}_{Gxpi2q0} {S}^{X}_{rho0qP} - 2.0 {C}^{XxZ}_{Gxpi2q0} {S}^{Y}_{rho0qP} + 2.0 {C}^{XxZ}_{Gxpi2q0} {S}^{Z}_{MdefaultqM} + 2.0 {C}^{XxZ}_{Gxpi2q0} + 2.0 {C}^{XxZ}_{MdefaultqM} {S}^{X}_{Gxpi2q0} + 2.0 {C}^{XxZ}_{MdefaultqM} {S}^{X}_{rho0qP} - 2.0 {C}^{XxZ}_{MdefaultqM} {S}^{Y}_{rho0qP} - 2.0 {C}^{XxZ}_{MdefaultqM} {S}^{Z}_{Gxpi2q0} + 2.0 {C}^{XxZ}_{MdefaultqM} - 2.0 {C}^{XxZ}_{rho0qP} {C}^{YxZ}_{Gxpi2q0} - 2.0 {C}^{XxZ}_{rho0qP} {C}^{YxZ}_{MdefaultqM} - 2.0 {C}^{XxZ}_{rho0qP} {H}^{X}_{Gxpi2q0} - 2.0 {C}^{XxZ}_{rho0qP} {H}^{X}_{MdefaultqM} + 2.0 {C}^{YxZ}_{Gxpi2q0} {H}^{Y}_{rho0qP} - 2.0 {C}^{YxZ}_{Gxpi2q0} {H}^{Z}_{MdefaultqM} + 2.0 {C}^{YxZ}_{MdefaultqM} {H}^{Y}_{rho0qP} + 2.0 {C}^{YxZ}_{MdefaultqM} {H}^{Z}_{Gxpi2q0} + 2.0 {C}^{YxZ}_{rho0qP} {H}^{Z}_{Gxpi2q0} + 2.0 {C}^{YxZ}_{rho0qP} {H}^{Z}_{MdefaultqM} + 2.0 {H}^{X}_{Gxpi2q0} {H}^{Y}_{rho0qP} - 2.0 {H}^{X}_{Gxpi2q0} {H}^{Z}_{MdefaultqM} + 2.0 {H}^{X}_{MdefaultqM} {H}^{Y}_{rho0qP} + 2.0 {H}^{X}_{MdefaultqM} {H}^{Z}_{Gxpi2q0} - 2.0 {H}^{X}_{rho0qP} {H}^{Z}_{Gxpi2q0} - 2.0 {H}^{X}_{rho0qP} {H}^{Z}_{MdefaultqM} + 2.0 {H}^{Y}_{Gxpi2q0} {S}^{X}_{MdefaultqM} - 2.0 {H}^{Y}_{Gxpi2q0} {S}^{X}_{rho0qP} + 2.0 {H}^{Y}_{Gxpi2q0} {S}^{Y}_{rho0qP} - 2.0 {H}^{Y}_{Gxpi2q0} {S}^{Z}_{MdefaultqM} - 2.0 {H}^{Y}_{Gxpi2q0} - 2.0 {H}^{Y}_{MdefaultqM} {S}^{X}_{Gxpi2q0} - 2.0 {H}^{Y}_{MdefaultqM} {S}^{X}_{rho0qP} + 2.0 {H}^{Y}_{MdefaultqM} {S}^{Y}_{rho0qP} + 2.0 {H}^{Y}_{MdefaultqM} {S}^{Z}_{Gxpi2q0} - 2.0 {H}^{Y}_{MdefaultqM} - 2.0 {H}^{Z}_{rho0qP} {S}^{X}_{Gxpi2q0} - 2.0 {H}^{Z}_{rho0qP} {S}^{X}_{MdefaultqM} + 2.0 {H}^{Z}_{rho0qP} {S}^{Z}_{Gxpi2q0} + 2.0 {H}^{Z}_{rho0qP} {S}^{Z}_{MdefaultqM} + 2.0 {H}^{Z}_{rho0qP} & - 2.0 {C}^{XxY}_{Gxpi2q0} {C}^{XxY}_{rho0qP} + 2.0 {C}^{XxY}_{Gxpi2q0} {C}^{XxZ}_{MdefaultqM} - 2.0 {C}^{XxY}_{Gxpi2q0} {H}^{Y}_{MdefaultqM} - 2.0 {C}^{XxY}_{Gxpi2q0} {H}^{Z}_{rho0qP} - 2.0 {C}^{XxY}_{MdefaultqM} {C}^{XxY}_{rho0qP} - 2.0 {C}^{XxY}_{MdefaultqM} {C}^{XxZ}_{Gxpi2q0} + 2.0 {C}^{XxY}_{MdefaultqM} {H}^{Y}_{Gxpi2q0} - 2.0 {C}^{XxY}_{MdefaultqM} {H}^{Z}_{rho0qP} + 2.0 {C}^{XxY}_{rho0qP} {H}^{Z}_{Gxpi2q0} + 2.0 {C}^{XxY}_{rho0qP} {H}^{Z}_{MdefaultqM} - 2.0 {C}^{XxZ}_{Gxpi2q0} {C}^{XxZ}_{rho0qP} - 2.0 {C}^{XxZ}_{Gxpi2q0} {H}^{Y}_{rho0qP} + 2.0 {C}^{XxZ}_{Gxpi2q0} {H}^{Z}_{MdefaultqM} - 2.0 {C}^{XxZ}_{MdefaultqM} {C}^{XxZ}_{rho0qP} - 2.0 {C}^{XxZ}_{MdefaultqM} {H}^{Y}_{rho0qP} - 2.0 {C}^{XxZ}_{MdefaultqM} {H}^{Z}_{Gxpi2q0} + 2.0 {C}^{XxZ}_{rho0qP} {H}^{Y}_{Gxpi2q0} + 2.0 {C}^{XxZ}_{rho0qP} {H}^{Y}_{MdefaultqM} - 2.0 {C}^{YxZ}_{Gxpi2q0} {S}^{Y}_{MdefaultqM} - 2.0 {C}^{YxZ}_{Gxpi2q0} {S}^{Y}_{rho0qP} + 2.0 {C}^{YxZ}_{Gxpi2q0} {S}^{Z}_{MdefaultqM} + 2.0 {C}^{YxZ}_{Gxpi2q0} {S}^{Z}_{rho0qP} + 2.0 {C}^{YxZ}_{Gxpi2q0} + 2.0 {C}^{YxZ}_{MdefaultqM} {S}^{Y}_{Gxpi2q0} - 2.0 {C}^{YxZ}_{MdefaultqM} {S}^{Y}_{rho0qP} - 2.0 {C}^{YxZ}_{MdefaultqM} {S}^{Z}_{Gxpi2q0} + 2.0 {C}^{YxZ}_{MdefaultqM} {S}^{Z}_{rho0qP} + 2.0 {C}^{YxZ}_{MdefaultqM} + 2.0 {C}^{YxZ}_{rho0qP} {S}^{Y}_{Gxpi2q0} + 2.0 {C}^{YxZ}_{rho0qP} {S}^{Y}_{MdefaultqM} - 2.0 {C}^{YxZ}_{rho0qP} {S}^{Z}_{Gxpi2q0} - 2.0 {C}^{YxZ}_{rho0qP} {S}^{Z}_{MdefaultqM} - 2.0 {C}^{YxZ}_{rho0qP} - 2.0 {H}^{X}_{Gxpi2q0} {S}^{Y}_{MdefaultqM} - 2.0 {H}^{X}_{Gxpi2q0} {S}^{Y}_{rho0qP} + 2.0 {H}^{X}_{Gxpi2q0} {S}^{Z}_{MdefaultqM} + 2.0 {H}^{X}_{Gxpi2q0} {S}^{Z}_{rho0qP} + 2.0 {H}^{X}_{Gxpi2q0} + 2.0 {H}^{X}_{MdefaultqM} {S}^{Y}_{Gxpi2q0} - 2.0 {H}^{X}_{MdefaultqM} {S}^{Y}_{rho0qP} - 2.0 {H}^{X}_{MdefaultqM} {S}^{Z}_{Gxpi2q0} + 2.0 {H}^{X}_{MdefaultqM} {S}^{Z}_{rho0qP} + 2.0 {H}^{X}_{MdefaultqM} - 2.0 {H}^{X}_{rho0qP} {S}^{Y}_{Gxpi2q0} - 2.0 {H}^{X}_{rho0qP} {S}^{Y}_{MdefaultqM} + 2.0 {H}^{X}_{rho0qP} {S}^{Z}_{Gxpi2q0} + 2.0 {H}^{X}_{rho0qP} {S}^{Z}_{MdefaultqM} + 2.0 {H}^{X}_{rho0qP} + 2.0 {H}^{Y}_{Gxpi2q0} {H}^{Y}_{rho0qP} - 2.0 {H}^{Y}_{Gxpi2q0} {H}^{Z}_{MdefaultqM} + 2.0 {H}^{Y}_{MdefaultqM} {H}^{Y}_{rho0qP} + 2.0 {H}^{Y}_{MdefaultqM} {H}^{Z}_{Gxpi2q0} + 2.0 {H}^{Z}_{Gxpi2q0} {H}^{Z}_{rho0qP} + 2.0 {H}^{Z}_{MdefaultqM} {H}^{Z}_{rho0qP} & - 4.0 {C}^{XxY}_{rho0qP} {H}^{Y}_{Gxpi2q0} - 4.0 {C}^{XxY}_{rho0qP} {H}^{Y}_{MdefaultqM} - 4.0 {C}^{XxZ}_{Gxpi2q0} {H}^{Y}_{MdefaultqM} - 4.0 {C}^{XxZ}_{Gxpi2q0} {H}^{Z}_{rho0qP} + 4.0 {C}^{XxZ}_{MdefaultqM} {H}^{Y}_{Gxpi2q0} - 4.0 {C}^{XxZ}_{MdefaultqM} {H}^{Z}_{rho0qP} + 4.0 {C}^{YxZ}_{Gxpi2q0} {H}^{X}_{MdefaultqM} - 4.0 {C}^{YxZ}_{Gxpi2q0} {H}^{X}_{rho0qP} - 4.0 {C}^{YxZ}_{MdefaultqM} {H}^{X}_{Gxpi2q0} - 4.0 {C}^{YxZ}_{MdefaultqM} {H}^{X}_{rho0qP} - 4.0 {C}^{YxZ}_{rho0qP} {H}^{X}_{Gxpi2q0} - 4.0 {C}^{YxZ}_{rho0qP} {H}^{X}_{MdefaultqM} - 2.0 {S}^{X}_{Gxpi2q0} - 2.0 {S}^{X}_{MdefaultqM} - 2.0 {S}^{X}_{rho0qP} - 2.0 {S}^{Y}_{Gxpi2q0} - 2.0 {S}^{Y}_{MdefaultqM} - 2.0 {S}^{Z}_{rho0qP}\\end{matrix}\\right]$"
      ],
      "text/plain": [
       "Matrix([\n",
       "[                                                                                                                                                                                                                                                                                                                                                                                                                                                                                                                                                                                                                                                                                                                                                                                                                                                                                                                                                                                                                                                                                                                                                                                                                                                                                                                                                                                                                                                                                                                                                                                                                                                                                                                                                                                                     0,                                                                                                                                                                                                                                                                                                                                                                                                                                                                                                                                                                                                                                                                                                                                                                                                                                                                                                                                                                                                                                                                                                                                                                                                                                                                                                                                                                                                                                                                                                                                                                                                                                                                                                                                                                                                                                                                                                                                                                                                                                                                                                                                                                                                                                                                                                                                                                                                0,                                                                                                                                                                                                                                                                                                                                                                                                                                                                                                                                                                                                                                                                                                                                                                                                                                                                                                                                                                                                                                                                                                                                                                                                                                                                                                                                                                                                                                                                                                                                                                                                                                                                                                                                                                                                                                                                                                                                                                                                                                                                                                                                                                                                                                                                                                                                                                                                0,                                                                                                                                                                                                                                                                                                                                                                                                                                                                                                                                                                                                                                                                                                                                                                                                                                                                                                                                                                                                                                                                                                                                                                                                                                                                                                                                                                                                                                                                                                                                                                                                                                                                                                                                                                                                                                                                                                                                                                                                                                                                                                                                                                                                                                                                                                                                                                                                0],\n",
       "[ 4.0*{A}^{XxY}_{Gxpi2q0}*{C}^{XxY}_{rho0qP} - 4.0*{A}^{XxY}_{Gxpi2q0}*{C}^{XxZ}_{MdefaultqM} - 4.0*{A}^{XxY}_{Gxpi2q0}*{H}^{Y}_{MdefaultqM} - 4.0*{A}^{XxY}_{Gxpi2q0}*{H}^{Z}_{rho0qP} + 4.0*{A}^{XxY}_{MdefaultqM}*{C}^{XxY}_{rho0qP} + 4.0*{A}^{XxY}_{MdefaultqM}*{C}^{XxZ}_{Gxpi2q0} + 4.0*{A}^{XxY}_{MdefaultqM}*{H}^{Y}_{Gxpi2q0} - 4.0*{A}^{XxY}_{MdefaultqM}*{H}^{Z}_{rho0qP} + 4.0*{A}^{XxY}_{rho0qP}*{C}^{XxY}_{Gxpi2q0} + 4.0*{A}^{XxY}_{rho0qP}*{C}^{XxY}_{MdefaultqM} - 4.0*{A}^{XxY}_{rho0qP}*{H}^{Z}_{Gxpi2q0} - 4.0*{A}^{XxY}_{rho0qP}*{H}^{Z}_{MdefaultqM} + 4.0*{A}^{XxZ}_{Gxpi2q0}*{C}^{XxY}_{MdefaultqM} + 4.0*{A}^{XxZ}_{Gxpi2q0}*{C}^{XxZ}_{rho0qP} + 4.0*{A}^{XxZ}_{Gxpi2q0}*{H}^{Y}_{rho0qP} - 4.0*{A}^{XxZ}_{Gxpi2q0}*{H}^{Z}_{MdefaultqM} - 4.0*{A}^{XxZ}_{MdefaultqM}*{C}^{XxY}_{Gxpi2q0} + 4.0*{A}^{XxZ}_{MdefaultqM}*{C}^{XxZ}_{rho0qP} + 4.0*{A}^{XxZ}_{MdefaultqM}*{H}^{Y}_{rho0qP} + 4.0*{A}^{XxZ}_{MdefaultqM}*{H}^{Z}_{Gxpi2q0} + 4.0*{A}^{XxZ}_{rho0qP}*{C}^{XxZ}_{Gxpi2q0} + 4.0*{A}^{XxZ}_{rho0qP}*{C}^{XxZ}_{MdefaultqM} + 4.0*{A}^{XxZ}_{rho0qP}*{H}^{Y}_{Gxpi2q0} + 4.0*{A}^{XxZ}_{rho0qP}*{H}^{Y}_{MdefaultqM} + 4.0*{A}^{YxZ}_{Gxpi2q0}*{S}^{Y}_{MdefaultqM} - 4.0*{A}^{YxZ}_{Gxpi2q0}*{S}^{Y}_{rho0qP} + 4.0*{A}^{YxZ}_{Gxpi2q0}*{S}^{Z}_{MdefaultqM} - 4.0*{A}^{YxZ}_{Gxpi2q0}*{S}^{Z}_{rho0qP} - 4.0*{A}^{YxZ}_{Gxpi2q0} - 4.0*{A}^{YxZ}_{MdefaultqM}*{S}^{Y}_{Gxpi2q0} - 4.0*{A}^{YxZ}_{MdefaultqM}*{S}^{Y}_{rho0qP} - 4.0*{A}^{YxZ}_{MdefaultqM}*{S}^{Z}_{Gxpi2q0} - 4.0*{A}^{YxZ}_{MdefaultqM}*{S}^{Z}_{rho0qP} - 4.0*{A}^{YxZ}_{MdefaultqM} + 4.0*{A}^{YxZ}_{rho0qP}*{S}^{Y}_{Gxpi2q0} + 4.0*{A}^{YxZ}_{rho0qP}*{S}^{Y}_{MdefaultqM} + 4.0*{A}^{YxZ}_{rho0qP}*{S}^{Z}_{Gxpi2q0} + 4.0*{A}^{YxZ}_{rho0qP}*{S}^{Z}_{MdefaultqM} - 4.0*{A}^{YxZ}_{rho0qP},                                                                                                                                                                                                                                                                                                                                                                                                                                                                                                                                                                                                                                                                                                                                                                                                                                                                                                                                                                                                                                                                                                                                                                                                                                                                                                                                                                                                                                                                                                                                                                                                                                                                                4.0*{C}^{XxY}_{Gxpi2q0}*{H}^{Y}_{rho0qP} - 4.0*{C}^{XxY}_{Gxpi2q0}*{H}^{Z}_{MdefaultqM} + 4.0*{C}^{XxY}_{MdefaultqM}*{H}^{Y}_{rho0qP} + 4.0*{C}^{XxY}_{MdefaultqM}*{H}^{Z}_{Gxpi2q0} + 4.0*{C}^{XxY}_{rho0qP}*{H}^{Y}_{Gxpi2q0} + 4.0*{C}^{XxY}_{rho0qP}*{H}^{Y}_{MdefaultqM} + 4.0*{C}^{XxZ}_{Gxpi2q0}*{H}^{Y}_{MdefaultqM} + 4.0*{C}^{XxZ}_{Gxpi2q0}*{H}^{Z}_{rho0qP} - 4.0*{C}^{XxZ}_{MdefaultqM}*{H}^{Y}_{Gxpi2q0} + 4.0*{C}^{XxZ}_{MdefaultqM}*{H}^{Z}_{rho0qP} + 4.0*{C}^{XxZ}_{rho0qP}*{H}^{Z}_{Gxpi2q0} + 4.0*{C}^{XxZ}_{rho0qP}*{H}^{Z}_{MdefaultqM} - 2.0*{S}^{Y}_{Gxpi2q0} - 2.0*{S}^{Y}_{MdefaultqM} - 2.0*{S}^{Y}_{rho0qP} - 2.0*{S}^{Z}_{Gxpi2q0} - 2.0*{S}^{Z}_{MdefaultqM} - 2.0*{S}^{Z}_{rho0qP},  2.0*{C}^{XxY}_{Gxpi2q0}*{S}^{X}_{MdefaultqM} - 2.0*{C}^{XxY}_{Gxpi2q0}*{S}^{X}_{rho0qP} - 2.0*{C}^{XxY}_{Gxpi2q0}*{S}^{Y}_{MdefaultqM} + 2.0*{C}^{XxY}_{Gxpi2q0}*{S}^{Z}_{rho0qP} + 2.0*{C}^{XxY}_{Gxpi2q0} - 2.0*{C}^{XxY}_{MdefaultqM}*{S}^{X}_{Gxpi2q0} - 2.0*{C}^{XxY}_{MdefaultqM}*{S}^{X}_{rho0qP} + 2.0*{C}^{XxY}_{MdefaultqM}*{S}^{Y}_{Gxpi2q0} + 2.0*{C}^{XxY}_{MdefaultqM}*{S}^{Z}_{rho0qP} + 2.0*{C}^{XxY}_{MdefaultqM} - 2.0*{C}^{XxY}_{rho0qP}*{C}^{YxZ}_{Gxpi2q0} - 2.0*{C}^{XxY}_{rho0qP}*{C}^{YxZ}_{MdefaultqM} - 2.0*{C}^{XxY}_{rho0qP}*{H}^{X}_{Gxpi2q0} - 2.0*{C}^{XxY}_{rho0qP}*{H}^{X}_{MdefaultqM} - 2.0*{C}^{XxZ}_{Gxpi2q0}*{C}^{YxZ}_{MdefaultqM} - 2.0*{C}^{XxZ}_{Gxpi2q0}*{C}^{YxZ}_{rho0qP} - 2.0*{C}^{XxZ}_{Gxpi2q0}*{H}^{X}_{MdefaultqM} + 2.0*{C}^{XxZ}_{Gxpi2q0}*{H}^{X}_{rho0qP} + 2.0*{C}^{XxZ}_{MdefaultqM}*{C}^{YxZ}_{Gxpi2q0} - 2.0*{C}^{XxZ}_{MdefaultqM}*{C}^{YxZ}_{rho0qP} + 2.0*{C}^{XxZ}_{MdefaultqM}*{H}^{X}_{Gxpi2q0} + 2.0*{C}^{XxZ}_{MdefaultqM}*{H}^{X}_{rho0qP} - 2.0*{C}^{XxZ}_{rho0qP}*{S}^{X}_{Gxpi2q0} - 2.0*{C}^{XxZ}_{rho0qP}*{S}^{X}_{MdefaultqM} + 2.0*{C}^{XxZ}_{rho0qP}*{S}^{Y}_{Gxpi2q0} + 2.0*{C}^{XxZ}_{rho0qP}*{S}^{Y}_{MdefaultqM} - 2.0*{C}^{XxZ}_{rho0qP} + 2.0*{C}^{YxZ}_{Gxpi2q0}*{H}^{Y}_{MdefaultqM} + 2.0*{C}^{YxZ}_{Gxpi2q0}*{H}^{Z}_{rho0qP} - 2.0*{C}^{YxZ}_{MdefaultqM}*{H}^{Y}_{Gxpi2q0} + 2.0*{C}^{YxZ}_{MdefaultqM}*{H}^{Z}_{rho0qP} - 2.0*{C}^{YxZ}_{rho0qP}*{H}^{Y}_{Gxpi2q0} - 2.0*{C}^{YxZ}_{rho0qP}*{H}^{Y}_{MdefaultqM} + 2.0*{H}^{X}_{Gxpi2q0}*{H}^{Y}_{MdefaultqM} + 2.0*{H}^{X}_{Gxpi2q0}*{H}^{Z}_{rho0qP} - 2.0*{H}^{X}_{MdefaultqM}*{H}^{Y}_{Gxpi2q0} + 2.0*{H}^{X}_{MdefaultqM}*{H}^{Z}_{rho0qP} + 2.0*{H}^{X}_{rho0qP}*{H}^{Y}_{Gxpi2q0} + 2.0*{H}^{X}_{rho0qP}*{H}^{Y}_{MdefaultqM} - 2.0*{H}^{Y}_{rho0qP}*{S}^{X}_{Gxpi2q0} - 2.0*{H}^{Y}_{rho0qP}*{S}^{X}_{MdefaultqM} + 2.0*{H}^{Y}_{rho0qP}*{S}^{Y}_{Gxpi2q0} + 2.0*{H}^{Y}_{rho0qP}*{S}^{Y}_{MdefaultqM} - 2.0*{H}^{Y}_{rho0qP} - 2.0*{H}^{Z}_{Gxpi2q0}*{S}^{X}_{MdefaultqM} + 2.0*{H}^{Z}_{Gxpi2q0}*{S}^{X}_{rho0qP} + 2.0*{H}^{Z}_{Gxpi2q0}*{S}^{Y}_{MdefaultqM} - 2.0*{H}^{Z}_{Gxpi2q0}*{S}^{Z}_{rho0qP} - 2.0*{H}^{Z}_{Gxpi2q0} + 2.0*{H}^{Z}_{MdefaultqM}*{S}^{X}_{Gxpi2q0} + 2.0*{H}^{Z}_{MdefaultqM}*{S}^{X}_{rho0qP} - 2.0*{H}^{Z}_{MdefaultqM}*{S}^{Y}_{Gxpi2q0} - 2.0*{H}^{Z}_{MdefaultqM}*{S}^{Z}_{rho0qP} - 2.0*{H}^{Z}_{MdefaultqM}, -2.0*{C}^{XxY}_{Gxpi2q0}*{C}^{YxZ}_{MdefaultqM} - 2.0*{C}^{XxY}_{Gxpi2q0}*{C}^{YxZ}_{rho0qP} + 2.0*{C}^{XxY}_{Gxpi2q0}*{H}^{X}_{MdefaultqM} - 2.0*{C}^{XxY}_{Gxpi2q0}*{H}^{X}_{rho0qP} + 2.0*{C}^{XxY}_{MdefaultqM}*{C}^{YxZ}_{Gxpi2q0} - 2.0*{C}^{XxY}_{MdefaultqM}*{C}^{YxZ}_{rho0qP} - 2.0*{C}^{XxY}_{MdefaultqM}*{H}^{X}_{Gxpi2q0} - 2.0*{C}^{XxY}_{MdefaultqM}*{H}^{X}_{rho0qP} + 2.0*{C}^{XxY}_{rho0qP}*{S}^{X}_{Gxpi2q0} + 2.0*{C}^{XxY}_{rho0qP}*{S}^{X}_{MdefaultqM} - 2.0*{C}^{XxY}_{rho0qP}*{S}^{Z}_{Gxpi2q0} - 2.0*{C}^{XxY}_{rho0qP}*{S}^{Z}_{MdefaultqM} + 2.0*{C}^{XxY}_{rho0qP} + 2.0*{C}^{XxZ}_{Gxpi2q0}*{S}^{X}_{MdefaultqM} - 2.0*{C}^{XxZ}_{Gxpi2q0}*{S}^{X}_{rho0qP} + 2.0*{C}^{XxZ}_{Gxpi2q0}*{S}^{Y}_{rho0qP} - 2.0*{C}^{XxZ}_{Gxpi2q0}*{S}^{Z}_{MdefaultqM} + 2.0*{C}^{XxZ}_{Gxpi2q0} - 2.0*{C}^{XxZ}_{MdefaultqM}*{S}^{X}_{Gxpi2q0} - 2.0*{C}^{XxZ}_{MdefaultqM}*{S}^{X}_{rho0qP} + 2.0*{C}^{XxZ}_{MdefaultqM}*{S}^{Y}_{rho0qP} + 2.0*{C}^{XxZ}_{MdefaultqM}*{S}^{Z}_{Gxpi2q0} + 2.0*{C}^{XxZ}_{MdefaultqM} + 2.0*{C}^{XxZ}_{rho0qP}*{C}^{YxZ}_{Gxpi2q0} + 2.0*{C}^{XxZ}_{rho0qP}*{C}^{YxZ}_{MdefaultqM} - 2.0*{C}^{XxZ}_{rho0qP}*{H}^{X}_{Gxpi2q0} - 2.0*{C}^{XxZ}_{rho0qP}*{H}^{X}_{MdefaultqM} + 2.0*{C}^{YxZ}_{Gxpi2q0}*{H}^{Y}_{rho0qP} - 2.0*{C}^{YxZ}_{Gxpi2q0}*{H}^{Z}_{MdefaultqM} + 2.0*{C}^{YxZ}_{MdefaultqM}*{H}^{Y}_{rho0qP} + 2.0*{C}^{YxZ}_{MdefaultqM}*{H}^{Z}_{Gxpi2q0} + 2.0*{C}^{YxZ}_{rho0qP}*{H}^{Z}_{Gxpi2q0} + 2.0*{C}^{YxZ}_{rho0qP}*{H}^{Z}_{MdefaultqM} - 2.0*{H}^{X}_{Gxpi2q0}*{H}^{Y}_{rho0qP} + 2.0*{H}^{X}_{Gxpi2q0}*{H}^{Z}_{MdefaultqM} - 2.0*{H}^{X}_{MdefaultqM}*{H}^{Y}_{rho0qP} - 2.0*{H}^{X}_{MdefaultqM}*{H}^{Z}_{Gxpi2q0} + 2.0*{H}^{X}_{rho0qP}*{H}^{Z}_{Gxpi2q0} + 2.0*{H}^{X}_{rho0qP}*{H}^{Z}_{MdefaultqM} + 2.0*{H}^{Y}_{Gxpi2q0}*{S}^{X}_{MdefaultqM} - 2.0*{H}^{Y}_{Gxpi2q0}*{S}^{X}_{rho0qP} + 2.0*{H}^{Y}_{Gxpi2q0}*{S}^{Y}_{rho0qP} - 2.0*{H}^{Y}_{Gxpi2q0}*{S}^{Z}_{MdefaultqM} + 2.0*{H}^{Y}_{Gxpi2q0} - 2.0*{H}^{Y}_{MdefaultqM}*{S}^{X}_{Gxpi2q0} - 2.0*{H}^{Y}_{MdefaultqM}*{S}^{X}_{rho0qP} + 2.0*{H}^{Y}_{MdefaultqM}*{S}^{Y}_{rho0qP} + 2.0*{H}^{Y}_{MdefaultqM}*{S}^{Z}_{Gxpi2q0} + 2.0*{H}^{Y}_{MdefaultqM} - 2.0*{H}^{Z}_{rho0qP}*{S}^{X}_{Gxpi2q0} - 2.0*{H}^{Z}_{rho0qP}*{S}^{X}_{MdefaultqM} + 2.0*{H}^{Z}_{rho0qP}*{S}^{Z}_{Gxpi2q0} + 2.0*{H}^{Z}_{rho0qP}*{S}^{Z}_{MdefaultqM} - 2.0*{H}^{Z}_{rho0qP}],\n",
       "[-4.0*{A}^{XxY}_{Gxpi2q0}*{C}^{YxZ}_{MdefaultqM} - 4.0*{A}^{XxY}_{Gxpi2q0}*{C}^{YxZ}_{rho0qP} + 4.0*{A}^{XxY}_{Gxpi2q0}*{H}^{X}_{MdefaultqM} - 4.0*{A}^{XxY}_{Gxpi2q0}*{H}^{X}_{rho0qP} + 4.0*{A}^{XxY}_{MdefaultqM}*{C}^{YxZ}_{Gxpi2q0} - 4.0*{A}^{XxY}_{MdefaultqM}*{C}^{YxZ}_{rho0qP} - 4.0*{A}^{XxY}_{MdefaultqM}*{H}^{X}_{Gxpi2q0} - 4.0*{A}^{XxY}_{MdefaultqM}*{H}^{X}_{rho0qP} - 4.0*{A}^{XxY}_{rho0qP}*{S}^{X}_{Gxpi2q0} - 4.0*{A}^{XxY}_{rho0qP}*{S}^{X}_{MdefaultqM} - 4.0*{A}^{XxY}_{rho0qP}*{S}^{Z}_{Gxpi2q0} - 4.0*{A}^{XxY}_{rho0qP}*{S}^{Z}_{MdefaultqM} + 4.0*{A}^{XxY}_{rho0qP} - 4.0*{A}^{XxZ}_{Gxpi2q0}*{S}^{X}_{MdefaultqM} + 4.0*{A}^{XxZ}_{Gxpi2q0}*{S}^{X}_{rho0qP} + 4.0*{A}^{XxZ}_{Gxpi2q0}*{S}^{Y}_{rho0qP} - 4.0*{A}^{XxZ}_{Gxpi2q0}*{S}^{Z}_{MdefaultqM} + 4.0*{A}^{XxZ}_{Gxpi2q0} + 4.0*{A}^{XxZ}_{MdefaultqM}*{S}^{X}_{Gxpi2q0} + 4.0*{A}^{XxZ}_{MdefaultqM}*{S}^{X}_{rho0qP} + 4.0*{A}^{XxZ}_{MdefaultqM}*{S}^{Y}_{rho0qP} + 4.0*{A}^{XxZ}_{MdefaultqM}*{S}^{Z}_{Gxpi2q0} + 4.0*{A}^{XxZ}_{MdefaultqM} + 4.0*{A}^{XxZ}_{rho0qP}*{C}^{YxZ}_{Gxpi2q0} + 4.0*{A}^{XxZ}_{rho0qP}*{C}^{YxZ}_{MdefaultqM} - 4.0*{A}^{XxZ}_{rho0qP}*{H}^{X}_{Gxpi2q0} - 4.0*{A}^{XxZ}_{rho0qP}*{H}^{X}_{MdefaultqM} - 4.0*{A}^{YxZ}_{Gxpi2q0}*{C}^{XxY}_{MdefaultqM} - 4.0*{A}^{YxZ}_{Gxpi2q0}*{C}^{XxZ}_{rho0qP} + 4.0*{A}^{YxZ}_{Gxpi2q0}*{H}^{Y}_{rho0qP} - 4.0*{A}^{YxZ}_{Gxpi2q0}*{H}^{Z}_{MdefaultqM} + 4.0*{A}^{YxZ}_{MdefaultqM}*{C}^{XxY}_{Gxpi2q0} - 4.0*{A}^{YxZ}_{MdefaultqM}*{C}^{XxZ}_{rho0qP} + 4.0*{A}^{YxZ}_{MdefaultqM}*{H}^{Y}_{rho0qP} + 4.0*{A}^{YxZ}_{MdefaultqM}*{H}^{Z}_{Gxpi2q0} - 4.0*{A}^{YxZ}_{rho0qP}*{C}^{XxY}_{Gxpi2q0} - 4.0*{A}^{YxZ}_{rho0qP}*{C}^{XxY}_{MdefaultqM} - 4.0*{A}^{YxZ}_{rho0qP}*{H}^{Z}_{Gxpi2q0} - 4.0*{A}^{YxZ}_{rho0qP}*{H}^{Z}_{MdefaultqM}, -2.0*{C}^{XxY}_{Gxpi2q0}*{S}^{X}_{MdefaultqM} + 2.0*{C}^{XxY}_{Gxpi2q0}*{S}^{X}_{rho0qP} + 2.0*{C}^{XxY}_{Gxpi2q0}*{S}^{Y}_{MdefaultqM} - 2.0*{C}^{XxY}_{Gxpi2q0}*{S}^{Z}_{rho0qP} + 2.0*{C}^{XxY}_{Gxpi2q0} + 2.0*{C}^{XxY}_{MdefaultqM}*{S}^{X}_{Gxpi2q0} + 2.0*{C}^{XxY}_{MdefaultqM}*{S}^{X}_{rho0qP} - 2.0*{C}^{XxY}_{MdefaultqM}*{S}^{Y}_{Gxpi2q0} - 2.0*{C}^{XxY}_{MdefaultqM}*{S}^{Z}_{rho0qP} + 2.0*{C}^{XxY}_{MdefaultqM} + 2.0*{C}^{XxY}_{rho0qP}*{C}^{YxZ}_{Gxpi2q0} + 2.0*{C}^{XxY}_{rho0qP}*{C}^{YxZ}_{MdefaultqM} - 2.0*{C}^{XxY}_{rho0qP}*{H}^{X}_{Gxpi2q0} - 2.0*{C}^{XxY}_{rho0qP}*{H}^{X}_{MdefaultqM} + 2.0*{C}^{XxZ}_{Gxpi2q0}*{C}^{YxZ}_{MdefaultqM} + 2.0*{C}^{XxZ}_{Gxpi2q0}*{C}^{YxZ}_{rho0qP} - 2.0*{C}^{XxZ}_{Gxpi2q0}*{H}^{X}_{MdefaultqM} + 2.0*{C}^{XxZ}_{Gxpi2q0}*{H}^{X}_{rho0qP} - 2.0*{C}^{XxZ}_{MdefaultqM}*{C}^{YxZ}_{Gxpi2q0} + 2.0*{C}^{XxZ}_{MdefaultqM}*{C}^{YxZ}_{rho0qP} + 2.0*{C}^{XxZ}_{MdefaultqM}*{H}^{X}_{Gxpi2q0} + 2.0*{C}^{XxZ}_{MdefaultqM}*{H}^{X}_{rho0qP} + 2.0*{C}^{XxZ}_{rho0qP}*{S}^{X}_{Gxpi2q0} + 2.0*{C}^{XxZ}_{rho0qP}*{S}^{X}_{MdefaultqM} - 2.0*{C}^{XxZ}_{rho0qP}*{S}^{Y}_{Gxpi2q0} - 2.0*{C}^{XxZ}_{rho0qP}*{S}^{Y}_{MdefaultqM} - 2.0*{C}^{XxZ}_{rho0qP} + 2.0*{C}^{YxZ}_{Gxpi2q0}*{H}^{Y}_{MdefaultqM} + 2.0*{C}^{YxZ}_{Gxpi2q0}*{H}^{Z}_{rho0qP} - 2.0*{C}^{YxZ}_{MdefaultqM}*{H}^{Y}_{Gxpi2q0} + 2.0*{C}^{YxZ}_{MdefaultqM}*{H}^{Z}_{rho0qP} - 2.0*{C}^{YxZ}_{rho0qP}*{H}^{Y}_{Gxpi2q0} - 2.0*{C}^{YxZ}_{rho0qP}*{H}^{Y}_{MdefaultqM} - 2.0*{H}^{X}_{Gxpi2q0}*{H}^{Y}_{MdefaultqM} - 2.0*{H}^{X}_{Gxpi2q0}*{H}^{Z}_{rho0qP} + 2.0*{H}^{X}_{MdefaultqM}*{H}^{Y}_{Gxpi2q0} - 2.0*{H}^{X}_{MdefaultqM}*{H}^{Z}_{rho0qP} - 2.0*{H}^{X}_{rho0qP}*{H}^{Y}_{Gxpi2q0} - 2.0*{H}^{X}_{rho0qP}*{H}^{Y}_{MdefaultqM} - 2.0*{H}^{Y}_{rho0qP}*{S}^{X}_{Gxpi2q0} - 2.0*{H}^{Y}_{rho0qP}*{S}^{X}_{MdefaultqM} + 2.0*{H}^{Y}_{rho0qP}*{S}^{Y}_{Gxpi2q0} + 2.0*{H}^{Y}_{rho0qP}*{S}^{Y}_{MdefaultqM} + 2.0*{H}^{Y}_{rho0qP} - 2.0*{H}^{Z}_{Gxpi2q0}*{S}^{X}_{MdefaultqM} + 2.0*{H}^{Z}_{Gxpi2q0}*{S}^{X}_{rho0qP} + 2.0*{H}^{Z}_{Gxpi2q0}*{S}^{Y}_{MdefaultqM} - 2.0*{H}^{Z}_{Gxpi2q0}*{S}^{Z}_{rho0qP} + 2.0*{H}^{Z}_{Gxpi2q0} + 2.0*{H}^{Z}_{MdefaultqM}*{S}^{X}_{Gxpi2q0} + 2.0*{H}^{Z}_{MdefaultqM}*{S}^{X}_{rho0qP} - 2.0*{H}^{Z}_{MdefaultqM}*{S}^{Y}_{Gxpi2q0} - 2.0*{H}^{Z}_{MdefaultqM}*{S}^{Z}_{rho0qP} + 2.0*{H}^{Z}_{MdefaultqM},                                                                                                                                                                                                                                                                                                                                                                                                                                                                                                                                                                                                                                                                                                                                                                                                                                                                                                                                                                                                                                                                                                                                                                                                                                                                                                                                                                                                                                                                                                                                                                                                                                                                               -4.0*{C}^{XxY}_{Gxpi2q0}*{H}^{Y}_{rho0qP} + 4.0*{C}^{XxY}_{Gxpi2q0}*{H}^{Z}_{MdefaultqM} - 4.0*{C}^{XxY}_{MdefaultqM}*{H}^{Y}_{rho0qP} - 4.0*{C}^{XxY}_{MdefaultqM}*{H}^{Z}_{Gxpi2q0} - 4.0*{C}^{XxZ}_{rho0qP}*{H}^{Z}_{Gxpi2q0} - 4.0*{C}^{XxZ}_{rho0qP}*{H}^{Z}_{MdefaultqM} - 4.0*{C}^{YxZ}_{Gxpi2q0}*{H}^{X}_{MdefaultqM} + 4.0*{C}^{YxZ}_{Gxpi2q0}*{H}^{X}_{rho0qP} + 4.0*{C}^{YxZ}_{MdefaultqM}*{H}^{X}_{Gxpi2q0} + 4.0*{C}^{YxZ}_{MdefaultqM}*{H}^{X}_{rho0qP} + 4.0*{C}^{YxZ}_{rho0qP}*{H}^{X}_{Gxpi2q0} + 4.0*{C}^{YxZ}_{rho0qP}*{H}^{X}_{MdefaultqM} - 2.0*{S}^{X}_{Gxpi2q0} - 2.0*{S}^{X}_{MdefaultqM} - 2.0*{S}^{X}_{rho0qP} - 2.0*{S}^{Y}_{rho0qP} - 2.0*{S}^{Z}_{Gxpi2q0} - 2.0*{S}^{Z}_{MdefaultqM},  2.0*{C}^{XxY}_{Gxpi2q0}*{C}^{XxY}_{rho0qP} - 2.0*{C}^{XxY}_{Gxpi2q0}*{C}^{XxZ}_{MdefaultqM} - 2.0*{C}^{XxY}_{Gxpi2q0}*{H}^{Y}_{MdefaultqM} - 2.0*{C}^{XxY}_{Gxpi2q0}*{H}^{Z}_{rho0qP} + 2.0*{C}^{XxY}_{MdefaultqM}*{C}^{XxY}_{rho0qP} + 2.0*{C}^{XxY}_{MdefaultqM}*{C}^{XxZ}_{Gxpi2q0} + 2.0*{C}^{XxY}_{MdefaultqM}*{H}^{Y}_{Gxpi2q0} - 2.0*{C}^{XxY}_{MdefaultqM}*{H}^{Z}_{rho0qP} + 2.0*{C}^{XxY}_{rho0qP}*{H}^{Z}_{Gxpi2q0} + 2.0*{C}^{XxY}_{rho0qP}*{H}^{Z}_{MdefaultqM} + 2.0*{C}^{XxZ}_{Gxpi2q0}*{C}^{XxZ}_{rho0qP} - 2.0*{C}^{XxZ}_{Gxpi2q0}*{H}^{Y}_{rho0qP} + 2.0*{C}^{XxZ}_{Gxpi2q0}*{H}^{Z}_{MdefaultqM} + 2.0*{C}^{XxZ}_{MdefaultqM}*{C}^{XxZ}_{rho0qP} - 2.0*{C}^{XxZ}_{MdefaultqM}*{H}^{Y}_{rho0qP} - 2.0*{C}^{XxZ}_{MdefaultqM}*{H}^{Z}_{Gxpi2q0} + 2.0*{C}^{XxZ}_{rho0qP}*{H}^{Y}_{Gxpi2q0} + 2.0*{C}^{XxZ}_{rho0qP}*{H}^{Y}_{MdefaultqM} + 2.0*{C}^{YxZ}_{Gxpi2q0}*{S}^{Y}_{MdefaultqM} + 2.0*{C}^{YxZ}_{Gxpi2q0}*{S}^{Y}_{rho0qP} - 2.0*{C}^{YxZ}_{Gxpi2q0}*{S}^{Z}_{MdefaultqM} - 2.0*{C}^{YxZ}_{Gxpi2q0}*{S}^{Z}_{rho0qP} + 2.0*{C}^{YxZ}_{Gxpi2q0} - 2.0*{C}^{YxZ}_{MdefaultqM}*{S}^{Y}_{Gxpi2q0} + 2.0*{C}^{YxZ}_{MdefaultqM}*{S}^{Y}_{rho0qP} + 2.0*{C}^{YxZ}_{MdefaultqM}*{S}^{Z}_{Gxpi2q0} - 2.0*{C}^{YxZ}_{MdefaultqM}*{S}^{Z}_{rho0qP} + 2.0*{C}^{YxZ}_{MdefaultqM} - 2.0*{C}^{YxZ}_{rho0qP}*{S}^{Y}_{Gxpi2q0} - 2.0*{C}^{YxZ}_{rho0qP}*{S}^{Y}_{MdefaultqM} + 2.0*{C}^{YxZ}_{rho0qP}*{S}^{Z}_{Gxpi2q0} + 2.0*{C}^{YxZ}_{rho0qP}*{S}^{Z}_{MdefaultqM} - 2.0*{C}^{YxZ}_{rho0qP} - 2.0*{H}^{X}_{Gxpi2q0}*{S}^{Y}_{MdefaultqM} - 2.0*{H}^{X}_{Gxpi2q0}*{S}^{Y}_{rho0qP} + 2.0*{H}^{X}_{Gxpi2q0}*{S}^{Z}_{MdefaultqM} + 2.0*{H}^{X}_{Gxpi2q0}*{S}^{Z}_{rho0qP} - 2.0*{H}^{X}_{Gxpi2q0} + 2.0*{H}^{X}_{MdefaultqM}*{S}^{Y}_{Gxpi2q0} - 2.0*{H}^{X}_{MdefaultqM}*{S}^{Y}_{rho0qP} - 2.0*{H}^{X}_{MdefaultqM}*{S}^{Z}_{Gxpi2q0} + 2.0*{H}^{X}_{MdefaultqM}*{S}^{Z}_{rho0qP} - 2.0*{H}^{X}_{MdefaultqM} - 2.0*{H}^{X}_{rho0qP}*{S}^{Y}_{Gxpi2q0} - 2.0*{H}^{X}_{rho0qP}*{S}^{Y}_{MdefaultqM} + 2.0*{H}^{X}_{rho0qP}*{S}^{Z}_{Gxpi2q0} + 2.0*{H}^{X}_{rho0qP}*{S}^{Z}_{MdefaultqM} - 2.0*{H}^{X}_{rho0qP} - 2.0*{H}^{Y}_{Gxpi2q0}*{H}^{Y}_{rho0qP} + 2.0*{H}^{Y}_{Gxpi2q0}*{H}^{Z}_{MdefaultqM} - 2.0*{H}^{Y}_{MdefaultqM}*{H}^{Y}_{rho0qP} - 2.0*{H}^{Y}_{MdefaultqM}*{H}^{Z}_{Gxpi2q0} - 2.0*{H}^{Z}_{Gxpi2q0}*{H}^{Z}_{rho0qP} - 2.0*{H}^{Z}_{MdefaultqM}*{H}^{Z}_{rho0qP}],\n",
       "[ 4.0*{A}^{XxY}_{Gxpi2q0}*{S}^{X}_{MdefaultqM} - 4.0*{A}^{XxY}_{Gxpi2q0}*{S}^{X}_{rho0qP} + 4.0*{A}^{XxY}_{Gxpi2q0}*{S}^{Y}_{MdefaultqM} - 4.0*{A}^{XxY}_{Gxpi2q0}*{S}^{Z}_{rho0qP} - 4.0*{A}^{XxY}_{Gxpi2q0} - 4.0*{A}^{XxY}_{MdefaultqM}*{S}^{X}_{Gxpi2q0} - 4.0*{A}^{XxY}_{MdefaultqM}*{S}^{X}_{rho0qP} - 4.0*{A}^{XxY}_{MdefaultqM}*{S}^{Y}_{Gxpi2q0} - 4.0*{A}^{XxY}_{MdefaultqM}*{S}^{Z}_{rho0qP} - 4.0*{A}^{XxY}_{MdefaultqM} + 4.0*{A}^{XxY}_{rho0qP}*{C}^{YxZ}_{Gxpi2q0} + 4.0*{A}^{XxY}_{rho0qP}*{C}^{YxZ}_{MdefaultqM} + 4.0*{A}^{XxY}_{rho0qP}*{H}^{X}_{Gxpi2q0} + 4.0*{A}^{XxY}_{rho0qP}*{H}^{X}_{MdefaultqM} + 4.0*{A}^{XxZ}_{Gxpi2q0}*{C}^{YxZ}_{MdefaultqM} + 4.0*{A}^{XxZ}_{Gxpi2q0}*{C}^{YxZ}_{rho0qP} + 4.0*{A}^{XxZ}_{Gxpi2q0}*{H}^{X}_{MdefaultqM} - 4.0*{A}^{XxZ}_{Gxpi2q0}*{H}^{X}_{rho0qP} - 4.0*{A}^{XxZ}_{MdefaultqM}*{C}^{YxZ}_{Gxpi2q0} + 4.0*{A}^{XxZ}_{MdefaultqM}*{C}^{YxZ}_{rho0qP} - 4.0*{A}^{XxZ}_{MdefaultqM}*{H}^{X}_{Gxpi2q0} - 4.0*{A}^{XxZ}_{MdefaultqM}*{H}^{X}_{rho0qP} - 4.0*{A}^{XxZ}_{rho0qP}*{S}^{X}_{Gxpi2q0} - 4.0*{A}^{XxZ}_{rho0qP}*{S}^{X}_{MdefaultqM} - 4.0*{A}^{XxZ}_{rho0qP}*{S}^{Y}_{Gxpi2q0} - 4.0*{A}^{XxZ}_{rho0qP}*{S}^{Y}_{MdefaultqM} + 4.0*{A}^{XxZ}_{rho0qP} + 4.0*{A}^{YxZ}_{Gxpi2q0}*{C}^{XxY}_{rho0qP} - 4.0*{A}^{YxZ}_{Gxpi2q0}*{C}^{XxZ}_{MdefaultqM} + 4.0*{A}^{YxZ}_{Gxpi2q0}*{H}^{Y}_{MdefaultqM} + 4.0*{A}^{YxZ}_{Gxpi2q0}*{H}^{Z}_{rho0qP} + 4.0*{A}^{YxZ}_{MdefaultqM}*{C}^{XxY}_{rho0qP} + 4.0*{A}^{YxZ}_{MdefaultqM}*{C}^{XxZ}_{Gxpi2q0} - 4.0*{A}^{YxZ}_{MdefaultqM}*{H}^{Y}_{Gxpi2q0} + 4.0*{A}^{YxZ}_{MdefaultqM}*{H}^{Z}_{rho0qP} - 4.0*{A}^{YxZ}_{rho0qP}*{C}^{XxZ}_{Gxpi2q0} - 4.0*{A}^{YxZ}_{rho0qP}*{C}^{XxZ}_{MdefaultqM} + 4.0*{A}^{YxZ}_{rho0qP}*{H}^{Y}_{Gxpi2q0} + 4.0*{A}^{YxZ}_{rho0qP}*{H}^{Y}_{MdefaultqM},  2.0*{C}^{XxY}_{Gxpi2q0}*{C}^{YxZ}_{MdefaultqM} + 2.0*{C}^{XxY}_{Gxpi2q0}*{C}^{YxZ}_{rho0qP} + 2.0*{C}^{XxY}_{Gxpi2q0}*{H}^{X}_{MdefaultqM} - 2.0*{C}^{XxY}_{Gxpi2q0}*{H}^{X}_{rho0qP} - 2.0*{C}^{XxY}_{MdefaultqM}*{C}^{YxZ}_{Gxpi2q0} + 2.0*{C}^{XxY}_{MdefaultqM}*{C}^{YxZ}_{rho0qP} - 2.0*{C}^{XxY}_{MdefaultqM}*{H}^{X}_{Gxpi2q0} - 2.0*{C}^{XxY}_{MdefaultqM}*{H}^{X}_{rho0qP} - 2.0*{C}^{XxY}_{rho0qP}*{S}^{X}_{Gxpi2q0} - 2.0*{C}^{XxY}_{rho0qP}*{S}^{X}_{MdefaultqM} + 2.0*{C}^{XxY}_{rho0qP}*{S}^{Z}_{Gxpi2q0} + 2.0*{C}^{XxY}_{rho0qP}*{S}^{Z}_{MdefaultqM} + 2.0*{C}^{XxY}_{rho0qP} - 2.0*{C}^{XxZ}_{Gxpi2q0}*{S}^{X}_{MdefaultqM} + 2.0*{C}^{XxZ}_{Gxpi2q0}*{S}^{X}_{rho0qP} - 2.0*{C}^{XxZ}_{Gxpi2q0}*{S}^{Y}_{rho0qP} + 2.0*{C}^{XxZ}_{Gxpi2q0}*{S}^{Z}_{MdefaultqM} + 2.0*{C}^{XxZ}_{Gxpi2q0} + 2.0*{C}^{XxZ}_{MdefaultqM}*{S}^{X}_{Gxpi2q0} + 2.0*{C}^{XxZ}_{MdefaultqM}*{S}^{X}_{rho0qP} - 2.0*{C}^{XxZ}_{MdefaultqM}*{S}^{Y}_{rho0qP} - 2.0*{C}^{XxZ}_{MdefaultqM}*{S}^{Z}_{Gxpi2q0} + 2.0*{C}^{XxZ}_{MdefaultqM} - 2.0*{C}^{XxZ}_{rho0qP}*{C}^{YxZ}_{Gxpi2q0} - 2.0*{C}^{XxZ}_{rho0qP}*{C}^{YxZ}_{MdefaultqM} - 2.0*{C}^{XxZ}_{rho0qP}*{H}^{X}_{Gxpi2q0} - 2.0*{C}^{XxZ}_{rho0qP}*{H}^{X}_{MdefaultqM} + 2.0*{C}^{YxZ}_{Gxpi2q0}*{H}^{Y}_{rho0qP} - 2.0*{C}^{YxZ}_{Gxpi2q0}*{H}^{Z}_{MdefaultqM} + 2.0*{C}^{YxZ}_{MdefaultqM}*{H}^{Y}_{rho0qP} + 2.0*{C}^{YxZ}_{MdefaultqM}*{H}^{Z}_{Gxpi2q0} + 2.0*{C}^{YxZ}_{rho0qP}*{H}^{Z}_{Gxpi2q0} + 2.0*{C}^{YxZ}_{rho0qP}*{H}^{Z}_{MdefaultqM} + 2.0*{H}^{X}_{Gxpi2q0}*{H}^{Y}_{rho0qP} - 2.0*{H}^{X}_{Gxpi2q0}*{H}^{Z}_{MdefaultqM} + 2.0*{H}^{X}_{MdefaultqM}*{H}^{Y}_{rho0qP} + 2.0*{H}^{X}_{MdefaultqM}*{H}^{Z}_{Gxpi2q0} - 2.0*{H}^{X}_{rho0qP}*{H}^{Z}_{Gxpi2q0} - 2.0*{H}^{X}_{rho0qP}*{H}^{Z}_{MdefaultqM} + 2.0*{H}^{Y}_{Gxpi2q0}*{S}^{X}_{MdefaultqM} - 2.0*{H}^{Y}_{Gxpi2q0}*{S}^{X}_{rho0qP} + 2.0*{H}^{Y}_{Gxpi2q0}*{S}^{Y}_{rho0qP} - 2.0*{H}^{Y}_{Gxpi2q0}*{S}^{Z}_{MdefaultqM} - 2.0*{H}^{Y}_{Gxpi2q0} - 2.0*{H}^{Y}_{MdefaultqM}*{S}^{X}_{Gxpi2q0} - 2.0*{H}^{Y}_{MdefaultqM}*{S}^{X}_{rho0qP} + 2.0*{H}^{Y}_{MdefaultqM}*{S}^{Y}_{rho0qP} + 2.0*{H}^{Y}_{MdefaultqM}*{S}^{Z}_{Gxpi2q0} - 2.0*{H}^{Y}_{MdefaultqM} - 2.0*{H}^{Z}_{rho0qP}*{S}^{X}_{Gxpi2q0} - 2.0*{H}^{Z}_{rho0qP}*{S}^{X}_{MdefaultqM} + 2.0*{H}^{Z}_{rho0qP}*{S}^{Z}_{Gxpi2q0} + 2.0*{H}^{Z}_{rho0qP}*{S}^{Z}_{MdefaultqM} + 2.0*{H}^{Z}_{rho0qP}, -2.0*{C}^{XxY}_{Gxpi2q0}*{C}^{XxY}_{rho0qP} + 2.0*{C}^{XxY}_{Gxpi2q0}*{C}^{XxZ}_{MdefaultqM} - 2.0*{C}^{XxY}_{Gxpi2q0}*{H}^{Y}_{MdefaultqM} - 2.0*{C}^{XxY}_{Gxpi2q0}*{H}^{Z}_{rho0qP} - 2.0*{C}^{XxY}_{MdefaultqM}*{C}^{XxY}_{rho0qP} - 2.0*{C}^{XxY}_{MdefaultqM}*{C}^{XxZ}_{Gxpi2q0} + 2.0*{C}^{XxY}_{MdefaultqM}*{H}^{Y}_{Gxpi2q0} - 2.0*{C}^{XxY}_{MdefaultqM}*{H}^{Z}_{rho0qP} + 2.0*{C}^{XxY}_{rho0qP}*{H}^{Z}_{Gxpi2q0} + 2.0*{C}^{XxY}_{rho0qP}*{H}^{Z}_{MdefaultqM} - 2.0*{C}^{XxZ}_{Gxpi2q0}*{C}^{XxZ}_{rho0qP} - 2.0*{C}^{XxZ}_{Gxpi2q0}*{H}^{Y}_{rho0qP} + 2.0*{C}^{XxZ}_{Gxpi2q0}*{H}^{Z}_{MdefaultqM} - 2.0*{C}^{XxZ}_{MdefaultqM}*{C}^{XxZ}_{rho0qP} - 2.0*{C}^{XxZ}_{MdefaultqM}*{H}^{Y}_{rho0qP} - 2.0*{C}^{XxZ}_{MdefaultqM}*{H}^{Z}_{Gxpi2q0} + 2.0*{C}^{XxZ}_{rho0qP}*{H}^{Y}_{Gxpi2q0} + 2.0*{C}^{XxZ}_{rho0qP}*{H}^{Y}_{MdefaultqM} - 2.0*{C}^{YxZ}_{Gxpi2q0}*{S}^{Y}_{MdefaultqM} - 2.0*{C}^{YxZ}_{Gxpi2q0}*{S}^{Y}_{rho0qP} + 2.0*{C}^{YxZ}_{Gxpi2q0}*{S}^{Z}_{MdefaultqM} + 2.0*{C}^{YxZ}_{Gxpi2q0}*{S}^{Z}_{rho0qP} + 2.0*{C}^{YxZ}_{Gxpi2q0} + 2.0*{C}^{YxZ}_{MdefaultqM}*{S}^{Y}_{Gxpi2q0} - 2.0*{C}^{YxZ}_{MdefaultqM}*{S}^{Y}_{rho0qP} - 2.0*{C}^{YxZ}_{MdefaultqM}*{S}^{Z}_{Gxpi2q0} + 2.0*{C}^{YxZ}_{MdefaultqM}*{S}^{Z}_{rho0qP} + 2.0*{C}^{YxZ}_{MdefaultqM} + 2.0*{C}^{YxZ}_{rho0qP}*{S}^{Y}_{Gxpi2q0} + 2.0*{C}^{YxZ}_{rho0qP}*{S}^{Y}_{MdefaultqM} - 2.0*{C}^{YxZ}_{rho0qP}*{S}^{Z}_{Gxpi2q0} - 2.0*{C}^{YxZ}_{rho0qP}*{S}^{Z}_{MdefaultqM} - 2.0*{C}^{YxZ}_{rho0qP} - 2.0*{H}^{X}_{Gxpi2q0}*{S}^{Y}_{MdefaultqM} - 2.0*{H}^{X}_{Gxpi2q0}*{S}^{Y}_{rho0qP} + 2.0*{H}^{X}_{Gxpi2q0}*{S}^{Z}_{MdefaultqM} + 2.0*{H}^{X}_{Gxpi2q0}*{S}^{Z}_{rho0qP} + 2.0*{H}^{X}_{Gxpi2q0} + 2.0*{H}^{X}_{MdefaultqM}*{S}^{Y}_{Gxpi2q0} - 2.0*{H}^{X}_{MdefaultqM}*{S}^{Y}_{rho0qP} - 2.0*{H}^{X}_{MdefaultqM}*{S}^{Z}_{Gxpi2q0} + 2.0*{H}^{X}_{MdefaultqM}*{S}^{Z}_{rho0qP} + 2.0*{H}^{X}_{MdefaultqM} - 2.0*{H}^{X}_{rho0qP}*{S}^{Y}_{Gxpi2q0} - 2.0*{H}^{X}_{rho0qP}*{S}^{Y}_{MdefaultqM} + 2.0*{H}^{X}_{rho0qP}*{S}^{Z}_{Gxpi2q0} + 2.0*{H}^{X}_{rho0qP}*{S}^{Z}_{MdefaultqM} + 2.0*{H}^{X}_{rho0qP} + 2.0*{H}^{Y}_{Gxpi2q0}*{H}^{Y}_{rho0qP} - 2.0*{H}^{Y}_{Gxpi2q0}*{H}^{Z}_{MdefaultqM} + 2.0*{H}^{Y}_{MdefaultqM}*{H}^{Y}_{rho0qP} + 2.0*{H}^{Y}_{MdefaultqM}*{H}^{Z}_{Gxpi2q0} + 2.0*{H}^{Z}_{Gxpi2q0}*{H}^{Z}_{rho0qP} + 2.0*{H}^{Z}_{MdefaultqM}*{H}^{Z}_{rho0qP},                                                                                                                                                                                                                                                                                                                                                                                                                                                                                                                                                                                                                                                                                                                                                                                                                                                                                                                                                                                                                                                                                                                                                                                                                                                                                                                                                                                                                                                                                                                                                                                                                                                                               -4.0*{C}^{XxY}_{rho0qP}*{H}^{Y}_{Gxpi2q0} - 4.0*{C}^{XxY}_{rho0qP}*{H}^{Y}_{MdefaultqM} - 4.0*{C}^{XxZ}_{Gxpi2q0}*{H}^{Y}_{MdefaultqM} - 4.0*{C}^{XxZ}_{Gxpi2q0}*{H}^{Z}_{rho0qP} + 4.0*{C}^{XxZ}_{MdefaultqM}*{H}^{Y}_{Gxpi2q0} - 4.0*{C}^{XxZ}_{MdefaultqM}*{H}^{Z}_{rho0qP} + 4.0*{C}^{YxZ}_{Gxpi2q0}*{H}^{X}_{MdefaultqM} - 4.0*{C}^{YxZ}_{Gxpi2q0}*{H}^{X}_{rho0qP} - 4.0*{C}^{YxZ}_{MdefaultqM}*{H}^{X}_{Gxpi2q0} - 4.0*{C}^{YxZ}_{MdefaultqM}*{H}^{X}_{rho0qP} - 4.0*{C}^{YxZ}_{rho0qP}*{H}^{X}_{Gxpi2q0} - 4.0*{C}^{YxZ}_{rho0qP}*{H}^{X}_{MdefaultqM} - 2.0*{S}^{X}_{Gxpi2q0} - 2.0*{S}^{X}_{MdefaultqM} - 2.0*{S}^{X}_{rho0qP} - 2.0*{S}^{Y}_{Gxpi2q0} - 2.0*{S}^{Y}_{MdefaultqM} - 2.0*{S}^{Z}_{rho0qP}]])"
      ]
     },
     "execution_count": 27,
     "metadata": {},
     "output_type": "execute_result"
    }
   ],
   "source": [
    "order2 = ca.order2_F_map()\n",
    "order2"
   ]
  },
  {
   "cell_type": "code",
   "execution_count": 28,
   "id": "484eb2fa",
   "metadata": {},
   "outputs": [],
   "source": [
    "# Collect the names of all distinct error rates\n",
    "symbols_to_replace = set()\n",
    "for i in range(1, 4):\n",
    "    for j in range(4):\n",
    "        symbols_to_replace = symbols_to_replace.union(order2[i, j].free_symbols)\n",
    "# Replace them with random values in (0, 0.01)\n",
    "n = len(symbols_to_replace)\n",
    "vals = np.random.rand(n) / 100\n",
    "replacements = list(zip(symbols_to_replace, vals))"
   ]
  },
  {
   "cell_type": "code",
   "execution_count": 29,
   "id": "aa899515",
   "metadata": {},
   "outputs": [],
   "source": [
    "# Find the true circuit probabilities, starting at |0>\n",
    "rho = np.array([1, 0, 0, 1]) / np.sqrt(2)\n",
    "mu0 = np.array([1, 0, 0, 1]) / np.sqrt(2)\n",
    "mu1 = np.array([1, 0, 0, -1]) / np.sqrt(2)\n",
    "mu = np.array([[1, 0, 0, 1], [1, 0, 0, -1]]) / np.sqrt(2)"
   ]
  },
  {
   "cell_type": "code",
   "execution_count": 30,
   "id": "5e65d237",
   "metadata": {},
   "outputs": [
    {
     "data": {
      "text/plain": [
       "array([0.48118184, 0.51881816])"
      ]
     },
     "execution_count": 30,
     "metadata": {},
     "output_type": "execute_result"
    }
   ],
   "source": [
    "# probs given the error\n",
    "probs = ca.simulate(replacements, rho, mu)\n",
    "probs"
   ]
  },
  {
   "cell_type": "code",
   "execution_count": 31,
   "id": "0840d970",
   "metadata": {},
   "outputs": [
    {
     "data": {
      "text/plain": [
       "array([0.48154233, 0.51845767])"
      ]
     },
     "execution_count": 31,
     "metadata": {},
     "output_type": "execute_result"
    }
   ],
   "source": [
    "# approx probs given our linear error estimates\n",
    "approx_probs_1 = ca.approx_simulate(replacements, rho, mu, order=1)\n",
    "approx_probs_1"
   ]
  },
  {
   "cell_type": "code",
   "execution_count": 32,
   "id": "015e84c9",
   "metadata": {},
   "outputs": [
    {
     "data": {
      "text/plain": [
       "array([-0.00074917,  0.00069482])"
      ]
     },
     "execution_count": 32,
     "metadata": {},
     "output_type": "execute_result"
    }
   ],
   "source": [
    "# relative error 1\n",
    "(probs - approx_probs_1) / probs"
   ]
  },
  {
   "cell_type": "code",
   "execution_count": 33,
   "id": "61d5cfb5",
   "metadata": {},
   "outputs": [
    {
     "data": {
      "text/plain": [
       "array([0.48118958, 0.51881042])"
      ]
     },
     "execution_count": 33,
     "metadata": {},
     "output_type": "execute_result"
    }
   ],
   "source": [
    "# approx probs given our order2 error estimates\n",
    "approx_probs_2 = ca.approx_simulate(replacements, rho, mu, order=2)\n",
    "approx_probs_2"
   ]
  },
  {
   "cell_type": "code",
   "execution_count": 34,
   "id": "60ca47fd",
   "metadata": {},
   "outputs": [
    {
     "data": {
      "text/plain": [
       "array([-1.60777795e-05,  1.49114588e-05])"
      ]
     },
     "execution_count": 34,
     "metadata": {},
     "output_type": "execute_result"
    }
   ],
   "source": [
    "# relative error 2\n",
    "(probs - approx_probs_2) / probs"
   ]
  },
  {
   "cell_type": "code",
   "execution_count": 35,
   "id": "b70b3bda",
   "metadata": {},
   "outputs": [
    {
     "data": {
      "text/plain": [
       "array([0.5, 0.5])"
      ]
     },
     "execution_count": 35,
     "metadata": {},
     "output_type": "execute_result"
    }
   ],
   "source": [
    "# ideal probs, for context\n",
    "mu @(ca.gate_matrices[0]@ rho).round(10)"
   ]
  },
  {
   "cell_type": "markdown",
   "id": "72401541",
   "metadata": {},
   "source": [
    "### ...systematically"
   ]
  },
  {
   "cell_type": "code",
   "execution_count": null,
   "id": "8c3d43f7",
   "metadata": {},
   "outputs": [],
   "source": [
    "# Function to do all of the above\n",
    "def outcome_errors(circuit_analyzer):\n",
    "    order2 = circuit_analyzer.order2_F_map()\n",
    "    \n",
    "    # Collect the names of all distinct error rates\n",
    "    symbols_to_replace = set()\n",
    "    for i in range(1, 4):\n",
    "        for j in range(4):\n",
    "            symbols_to_replace = symbols_to_replace.union(order2[i, j].free_symbols)\n",
    "    # Replace them with random values in (0, 0.01)\n",
    "    n = len(symbols_to_replace)\n",
    "    vals = np.random.rand(n) / 100\n",
    "    replacements = list(zip(symbols_to_replace, vals))\n",
    "    \n",
    "    # probs given the error\n",
    "    probs = ca.simulate(replacements, rho, mu)\n",
    "    # approx probs given our linear error estimates\n",
    "    approx_probs_1 = ca.approx_simulate(replacements, rho, mu, order=1)\n",
    "    # approx probs given our order2 error estimates\n",
    "    approx_probs_2 = ca.approx_simulate(replacements, rho, mu, order=2)\n",
    "    # return the relative errors\n",
    "    return abs(probs - approx_probs_1) / probs, abs(probs - approx_probs_2) / probs"
   ]
  },
  {
   "cell_type": "code",
   "execution_count": null,
   "id": "c9c1f26c",
   "metadata": {},
   "outputs": [],
   "source": [
    "import pygsti.modelpacks.smq1Q_XYZI as std\n",
    "#import pygsti.modelpacks.smq2Q_XYCNOT as std\n",
    "edesign = std.create_gst_experiment_design(16)\n",
    "gs = GateSet(std)"
   ]
  },
  {
   "cell_type": "code",
   "execution_count": null,
   "id": "b8e8a72d",
   "metadata": {},
   "outputs": [],
   "source": [
    "rho = np.array([1, 0, 0, 1]) / np.sqrt(2)\n",
    "mu0 = np.array([1, 0, 0, 1]) / np.sqrt(2)\n",
    "mu1 = np.array([1, 0, 0, -1]) / np.sqrt(2)\n",
    "mu = np.array([[1, 0, 0, 1], [1, 0, 0, -1]]) / np.sqrt(2)"
   ]
  },
  {
   "cell_type": "code",
   "execution_count": null,
   "id": "78dca081",
   "metadata": {},
   "outputs": [],
   "source": [
    "circ_list = edesign.circuit_lists[-1]\n",
    "circ = circ_list[120]\n",
    "print(circ)"
   ]
  },
  {
   "cell_type": "code",
   "execution_count": null,
   "id": "06fb9027",
   "metadata": {},
   "outputs": [],
   "source": [
    "ca = CircuitAnalyzer(circ, gs)\n",
    "outcome_errors(ca)"
   ]
  },
  {
   "cell_type": "markdown",
   "id": "c4d28d8f",
   "metadata": {},
   "source": [
    "## Compare errors for different circuit lengths"
   ]
  },
  {
   "cell_type": "code",
   "execution_count": null,
   "id": "3a67b7be",
   "metadata": {},
   "outputs": [],
   "source": [
    "# Create circuits up to a given length\n",
    "max_len = 22\n",
    "circ_list = std.create_gst_experiment_design(max_len).circuit_lists[-1]"
   ]
  },
  {
   "cell_type": "code",
   "execution_count": null,
   "id": "3d7e649f",
   "metadata": {},
   "outputs": [],
   "source": [
    "# Categorize circuits by length\n",
    "circs_by_len = {i : [] for i in range(max_len+1)}\n",
    "for circ in circ_list:\n",
    "    circs_by_len[len(circ)].append(circ)"
   ]
  },
  {
   "cell_type": "code",
   "execution_count": null,
   "id": "a0d47321",
   "metadata": {},
   "outputs": [],
   "source": [
    "# Randomly choose one circuit per length\n",
    "chosen_circs = []\n",
    "for i in range(1, max_len+1):\n",
    "    np.random.shuffle(circs_by_len[i])\n",
    "    chosen_circs.append(circs_by_len[i][0])\n",
    "len(chosen_circs)"
   ]
  },
  {
   "cell_type": "code",
   "execution_count": null,
   "id": "b4ccdaad",
   "metadata": {},
   "outputs": [],
   "source": [
    "# Find the errors in circuit probabilities for each circuit + each approximation\n",
    "o1_errors = []\n",
    "o2_errors = []\n",
    "for i in tqdm(range(max_len)):\n",
    "    circ = chosen_circs[i]\n",
    "    ca = CircuitAnalyzer(circ, gs)\n",
    "    o1_error, o2_error = outcome_errors(ca)\n",
    "    o1_errors.append(np.max(o1_error))\n",
    "    o2_errors.append(np.max(o2_error))\n",
    "o1_errors, o2_errors"
   ]
  },
  {
   "cell_type": "code",
   "execution_count": null,
   "id": "87e4f0d4",
   "metadata": {},
   "outputs": [],
   "source": [
    "# Plot them\n",
    "plt.plot(range(2, max_len+1), o1_errors)\n",
    "plt.plot(range(2, max_len+1), o2_errors)\n",
    "plt.ylabel(\"Log relative error of outcome probabilities\")\n",
    "plt.xlabel(\"Circuit length\")\n",
    "plt.xticks(range(2, max_len+1))\n",
    "plt.yscale(\"log\")\n",
    "plt.grid();"
   ]
  },
  {
   "cell_type": "markdown",
   "id": "95fe2303-5e73-460d-86a1-ca71267cae68",
   "metadata": {},
   "source": [
    "# How changes in an end of circuit error map effect changes in output probabilities for an arbitrary qubit state"
   ]
  },
  {
   "cell_type": "code",
   "execution_count": null,
   "id": "66bffdd9-53d2-4125-85fd-6d895acbd68e",
   "metadata": {},
   "outputs": [],
   "source": [
    "import pygsti.modelpacks.smq1Q_XYZI as std\n",
    "mdl = std.target_model('TP')\n",
    "print('mu0: ', mdl['Mdefault']['0'].to_dense())\n",
    "print('mu1: ', mdl['Mdefault']['1'].to_dense())\n",
    "print('rho0:' ,mdl['rho0'].to_dense())"
   ]
  },
  {
   "cell_type": "code",
   "execution_count": null,
   "id": "9b27664f-2127-4e08-acab-60cc28971319",
   "metadata": {},
   "outputs": [],
   "source": [
    "egen = ErrorGen(1)\n",
    "egen.mat\n",
    "\n",
    "bloch_vec = [0, 1, 0] # x, y, z\n",
    "rho = np.array([1, bloch_vec[0], bloch_vec[1], bloch_vec[2]])\n",
    "rho = sp.Matrix(rho/np.sqrt(rho@rho))\n",
    "\n",
    "mu0 = sp.Matrix((1/np.sqrt(2))*np.array([1, 0, 0, 1])).T\n",
    "mu1 = sp.Matrix((1/np.sqrt(2))*np.array([1, 0, 0,-1])).T"
   ]
  },
  {
   "cell_type": "code",
   "execution_count": null,
   "id": "46f4a084-4c10-4900-8c75-604cd560b058",
   "metadata": {},
   "outputs": [],
   "source": [
    "mu0"
   ]
  },
  {
   "cell_type": "code",
   "execution_count": null,
   "id": "91439cc7-e8e5-4f50-80c5-601c3587fb36",
   "metadata": {},
   "outputs": [],
   "source": [
    "mu0@egen.mat@rho"
   ]
  },
  {
   "cell_type": "code",
   "execution_count": null,
   "id": "24e8bb82-b3d3-422e-9c53-1255195307e5",
   "metadata": {},
   "outputs": [],
   "source": [
    "mu1@egen.mat@rho"
   ]
  },
  {
   "cell_type": "markdown",
   "id": "0b304549-fa32-49dd-935f-b1732acb5feb",
   "metadata": {},
   "source": [
    "# 1 qubit demo"
   ]
  },
  {
   "cell_type": "code",
   "execution_count": null,
   "id": "e70d0d81-fabb-45a7-8dbb-c572193fef60",
   "metadata": {},
   "outputs": [],
   "source": [
    "import pygsti.modelpacks.smq1Q_XYZI as std\n",
    "#import pygsti.modelpacks.smq2Q_XYCNOT as std\n",
    "edesign = std.create_gst_experiment_design(16)\n",
    "gs = GateSet(std)"
   ]
  },
  {
   "cell_type": "code",
   "execution_count": null,
   "id": "8086d712-bcba-4ce7-9198-b3dfa1367470",
   "metadata": {},
   "outputs": [],
   "source": [
    "circ_list = edesign.circuit_lists[-1]\n",
    "circ = circ_list[-1]"
   ]
  },
  {
   "cell_type": "code",
   "execution_count": null,
   "id": "ee88337c-1477-4688-9d34-47943fd8b84e",
   "metadata": {},
   "outputs": [],
   "source": [
    "len(circ_list)"
   ]
  },
  {
   "cell_type": "code",
   "execution_count": null,
   "id": "9e288f90-52e8-4cb2-827c-2f85cf70f237",
   "metadata": {},
   "outputs": [],
   "source": [
    "print(circ)"
   ]
  },
  {
   "cell_type": "code",
   "execution_count": null,
   "id": "0a298d1d-e102-4ed0-ba4c-31cbccd4398a",
   "metadata": {},
   "outputs": [],
   "source": [
    "len(circ)"
   ]
  },
  {
   "cell_type": "code",
   "execution_count": null,
   "id": "11b6c2a0-3d63-492b-a533-4799e3f3e0cc",
   "metadata": {},
   "outputs": [],
   "source": [
    "ca = CircuitAnalyzer(circ, gs)"
   ]
  },
  {
   "cell_type": "code",
   "execution_count": null,
   "id": "5a5c7eb2-a000-400f-853e-0227f53555f1",
   "metadata": {},
   "outputs": [],
   "source": [
    "ca.linear_F_map()"
   ]
  },
  {
   "cell_type": "code",
   "execution_count": null,
   "id": "2753e760-0647-4518-a923-426abda3af38",
   "metadata": {},
   "outputs": [],
   "source": [
    "from IPython.display import display\n",
    "egenlbls = LindbladErrorgen.from_error_generator(4**1).coefficient_labels()\n",
    "for lbl in egenlbls:\n",
    "    print(lbl) \n",
    "    display(ca.linear_variation(lbl))"
   ]
  },
  {
   "cell_type": "code",
   "execution_count": null,
   "id": "28c73246-e65d-4434-ad97-c9ec389a54f1",
   "metadata": {},
   "outputs": [],
   "source": [
    "plt.matshow(ca.variation_matrix())"
   ]
  },
  {
   "cell_type": "code",
   "execution_count": null,
   "id": "f9ba1f12-30fb-49e5-ad71-81b62573824c",
   "metadata": {},
   "outputs": [],
   "source": [
    "gs.vec"
   ]
  },
  {
   "cell_type": "markdown",
   "id": "4102a270-09c6-48cd-ae12-51c05dcd4e78",
   "metadata": {},
   "source": [
    "# 2 qubit demo"
   ]
  },
  {
   "cell_type": "code",
   "execution_count": null,
   "id": "b98cad5d-ddca-4cc1-8222-0c595f7fd98d",
   "metadata": {},
   "outputs": [],
   "source": [
    "import pygsti.modelpacks.smq2Q_XYCNOT as std\n",
    "edesign = std.get_gst_experiment_design(16)\n",
    "gs = GateSet(std)"
   ]
  },
  {
   "cell_type": "code",
   "execution_count": null,
   "id": "7c8332c3-2aad-470a-9e08-2999e708a8d3",
   "metadata": {},
   "outputs": [],
   "source": [
    "std.gates"
   ]
  },
  {
   "cell_type": "code",
   "execution_count": null,
   "id": "3e931ed7-2ac8-49c4-9064-57e408689384",
   "metadata": {},
   "outputs": [],
   "source": [
    "circ = Circuit([('Gxpi2', 0), ('Gcnot', 0, 1)])"
   ]
  },
  {
   "cell_type": "code",
   "execution_count": null,
   "id": "15899bca-af1e-46fe-8627-07eb625ef0f7",
   "metadata": {},
   "outputs": [],
   "source": [
    "print(circ)"
   ]
  },
  {
   "cell_type": "code",
   "execution_count": null,
   "id": "ddcf233c-3060-4974-9c44-e2892645bea9",
   "metadata": {},
   "outputs": [],
   "source": [
    "ca = CircuitAnalyzer(circ, gs)"
   ]
  },
  {
   "cell_type": "code",
   "execution_count": null,
   "id": "499a41d3-effb-482f-8c9a-232c3351728a",
   "metadata": {},
   "outputs": [],
   "source": [
    "ca.linear_F_map()"
   ]
  },
  {
   "cell_type": "code",
   "execution_count": null,
   "id": "ad92c2ca-ee09-4ad8-bc68-592ff8dc80ce",
   "metadata": {},
   "outputs": [],
   "source": []
  }
 ],
 "metadata": {
  "kernelspec": {
   "display_name": "Python 3",
   "language": "python",
   "name": "python3"
  },
  "language_info": {
   "codemirror_mode": {
    "name": "ipython",
    "version": 3
   },
   "file_extension": ".py",
   "mimetype": "text/x-python",
   "name": "python",
   "nbconvert_exporter": "python",
   "pygments_lexer": "ipython3",
   "version": "3.9.1"
  }
 },
 "nbformat": 4,
 "nbformat_minor": 5
}

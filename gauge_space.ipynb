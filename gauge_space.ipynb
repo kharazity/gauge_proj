{
 "cells": [
  {
   "cell_type": "code",
   "execution_count": 45,
   "id": "972f1389-088c-4e0e-9e9f-2f9fa1ec3f93",
   "metadata": {},
   "outputs": [],
   "source": [
    "import pygsti\n",
    "from pygsti.circuits import Circuit\n",
    "import random\n",
    "from pygsti.modelpacks import smq1Q_XYZI as std\n",
    "# Note that numpy 1.23 will break pygsti\n",
    "import numpy as np\n",
    "import sympy as sp\n",
    "import matplotlib.pyplot as plt\n",
    "from forest.benchmarking.operator_tools import vec, unvec"
   ]
  },
  {
   "cell_type": "code",
   "execution_count": 46,
   "id": "c8199d37-3931-443f-b4d5-02fafc0fdb7e",
   "metadata": {},
   "outputs": [],
   "source": [
    "model = std.target_model('CPTP')"
   ]
  },
  {
   "cell_type": "code",
   "execution_count": 47,
   "id": "f155c59b-1ad1-4a1a-bd8a-9bc6f8e7a9a1",
   "metadata": {},
   "outputs": [],
   "source": [
    "from forest.benchmarking.utils import *\n",
    "from forest.benchmarking.operator_tools import *\n",
    "\n",
    "class ErrorGen():\n",
    "    \"\"\"\n",
    "    Implements the small Markovian taxonomy\n",
    "    \n",
    "    Parameters:\n",
    "        -features: pauli transfer representations for different error processes\n",
    "        -rates: sympy vector of rates\n",
    "    \"\"\"\n",
    "    \n",
    "    def __init__(self, num_qubits, label=('G', 0), parameterization='HSCA'):\n",
    "        \"\"\"\n",
    "        setup the feature dictionary with keys that are sympy variables\n",
    "        \n",
    "        right now, I'm doing this by hand for a 1 qubit model, \n",
    "        TODO: implement logic to generalize to n-qubits\n",
    "        \"\"\"\n",
    "        self.num_qubits = num_qubits\n",
    "        self.basis = n_qubit_pauli_basis(num_qubits)\n",
    "        self.feature_map = dict()\n",
    "        gate_label = label[0]\n",
    "        qbit_index = label[1]\n",
    "        if 'H' in parameterization:\n",
    "            self.hparams = sp.symbols(\n",
    "                f'H^{{X{qbit_index}}}_{{{gate_label}}} ' +\n",
    "                f'H^{{Y{qbit_index}}}_{{{gate_label}}} ' +  \n",
    "                f'H^{{Z{qbit_index}}}_{{{gate_label}}}')\n",
    "            self.feature_map[self.hparams[0]] = self.herr('X')\n",
    "            self.feature_map[self.hparams[1]] = self.herr('Y')\n",
    "            self.feature_map[self.hparams[2]] = self.herr('Z')\n",
    "        else:\n",
    "            self.hparams = []\n",
    "            \n",
    "        if 'S' in parameterization:\n",
    "            self.sparams = sp.symbols(\n",
    "                f'S^{{X{qbit_index}}}_{{{gate_label}}} ' +\n",
    "                f'S^{{Y{qbit_index}}}_{{{gate_label}}} ' +  \n",
    "                f'S^{{Z{qbit_index}}}_{{{gate_label}}}')\n",
    "            self.feature_map[self.sparams[0]] = self.serr('X')\n",
    "            self.feature_map[self.sparams[1]] = self.serr('Y')\n",
    "            self.feature_map[self.sparams[2]] = self.serr('Z')\n",
    "        else:\n",
    "            self.sparams = []\n",
    "            \n",
    "        if 'C' in parameterization:\n",
    "            self.cparams = sp.symbols(\n",
    "                f'C^{{XY{qbit_index}}}_{{{gate_label}}} ' +\n",
    "                f'C^{{YZ{qbit_index}}}_{{{gate_label}}} ' +  \n",
    "                f'C^{{ZX{qbit_index}}}_{{{gate_label}}}')\n",
    "            self.feature_map[self.cparams[0]] = self.cerr('X', 'Y')\n",
    "            self.feature_map[self.cparams[1]] = self.cerr('Y', 'Z')\n",
    "            self.feature_map[self.cparams[2]] = self.cerr('Z', 'X')\n",
    "        else:\n",
    "            self.cparams = []\n",
    "            \n",
    "        if 'A' in parameterization:\n",
    "            self.aparams = sp.symbols(\n",
    "                f'A^{{XY{qbit_index}}}_{{{gate_label}}} ' +\n",
    "                f'A^{{YZ{qbit_index}}}_{{{gate_label}}} ' +  \n",
    "                f'A^{{ZX{qbit_index}}}_{{{gate_label}}}')\n",
    "            self.feature_map[self.aparams[0]] = self.aerr('X', 'Y')\n",
    "            self.feature_map[self.aparams[1]] = self.aerr('Y', 'Z')\n",
    "            self.feature_map[self.aparams[2]] = self.aerr('Z', 'X')\n",
    "        else:\n",
    "            self.aparams = []\n",
    "            \n",
    "    @property\n",
    "    def vec(self):\n",
    "        return self.hparams+self.sparams+self.cparams+self.aparams\n",
    "    \n",
    "    @property\n",
    "    def mat(self):\n",
    "        mat = np.zeros((4**self.num_qubits, 4**self.num_qubits), dtype='O')\n",
    "        for x in self.vec:\n",
    "            mat += x*self.feature_map[x]\n",
    "        return sp.Matrix(mat)\n",
    "    \n",
    "    @property\n",
    "    def features(self):\n",
    "        return [f for f in self.feature_map.values()]\n",
    "    \n",
    "    def herr(self, pauli_str):\n",
    "        \"\"\"\n",
    "        hamiltonian error labelled by pauli\n",
    "        \n",
    "        Equation (10) in the paper\n",
    "        \"\"\"\n",
    "        pindex = self.basis.labels.index(pauli_str)\n",
    "        chi_mat = np.zeros((4**len(pauli_str), 4**len(pauli_str)), dtype=complex)\n",
    "        chi_mat[0, pindex] = 1j\n",
    "        chi_mat[pindex, 0] = -1j\n",
    "        return chi2pauli_liouville(chi_mat)\n",
    "    \n",
    "    def serr(self, pauli_str):\n",
    "        \"\"\"\n",
    "        stochatic error labelled by pauli\n",
    "        \n",
    "        Equation (14) in the paper\n",
    "        \"\"\"\n",
    "        pindex = self.basis.labels.index(pauli_str)\n",
    "        chi_mat = np.zeros((4**len(pauli_str), 4**len(pauli_str)), dtype=complex)\n",
    "        chi_mat[0, 0] = -1\n",
    "        chi_mat[pindex, pindex] = 1\n",
    "        return chi2pauli_liouville(chi_mat)\n",
    "    \n",
    "    def cerr(self, pauli_str1, pauli_str2):\n",
    "        \"\"\"\n",
    "        correlated stochatic error labelled by pair of paulis\n",
    "        \n",
    "        Equation (15) in the paper\n",
    "        \"\"\"\n",
    "        pindex1 = self.basis.labels.index(pauli_str1)\n",
    "        pindex2 = self.basis.labels.index(pauli_str2)\n",
    "        \n",
    "        # we also need product terms and their phases\n",
    "        # this could probably be made more elegant\n",
    "        pterm1 = str_to_pauli_term(pauli_str1)*str_to_pauli_term(pauli_str2)\n",
    "        pterm2 = str_to_pauli_term(pauli_str2)*str_to_pauli_term(pauli_str1)\n",
    "        \n",
    "        phase1 = pterm1.coefficient\n",
    "        phase2 = pterm2.coefficient\n",
    "        pid1 = pterm1.id()\n",
    "        pid2 = pterm1.id()\n",
    "        # need to fix the id convention that pyquil uses\n",
    "        # discard the even indices\n",
    "        pid1 = [ele for idx, ele in enumerate(pid1) if idx % 2 == 0]\n",
    "        pid2 = [ele for idx, ele in enumerate(pid2) if idx % 2 == 0]\n",
    "        prod_index1 = self.basis.labels.index(''.join(pid1))\n",
    "        prod_index2 = self.basis.labels.index(''.join(pid2))\n",
    "\n",
    "        chi_mat = np.zeros((4**self.num_qubits, 4**self.num_qubits), dtype=complex)\n",
    "        chi_mat[pindex1, pindex2] += 1\n",
    "        chi_mat[pindex2, pindex1] += 1\n",
    "        # include the terms \n",
    "        # PQrII + QPrII + IIrPQ + IIrQP\n",
    "        chi_mat[prod_index1, 0] += -0.5*phase1\n",
    "        chi_mat[prod_index2, 0] += -0.5*phase2\n",
    "        chi_mat[0, prod_index1] += -0.5*phase1\n",
    "        chi_mat[0, prod_index2] += -0.5*phase2\n",
    "        return chi2pauli_liouville(chi_mat)\n",
    "    \n",
    "    def aerr(self, pauli_str1, pauli_str2):\n",
    "        \"\"\"\n",
    "        active error labelled by pair of paulis\n",
    "        \n",
    "        Equation (16) in the paper\n",
    "        \"\"\"\n",
    "        pindex1 = self.basis.labels.index(pauli_str1)\n",
    "        pindex2 = self.basis.labels.index(pauli_str2)\n",
    "        \n",
    "        # we also need product terms and their phases\n",
    "        # this could probably be made more elegant\n",
    "        pterm1 = str_to_pauli_term(pauli_str1)*str_to_pauli_term(pauli_str2)\n",
    "        pterm2 = str_to_pauli_term(pauli_str2)*str_to_pauli_term(pauli_str1)\n",
    "        \n",
    "        phase1 = pterm1.coefficient\n",
    "        phase2 = pterm2.coefficient\n",
    "        pid1 = pterm1.id()\n",
    "        pid2 = pterm1.id()\n",
    "        # need to fix the id convention that pyquil uses\n",
    "        # discard the even indices\n",
    "        pid1 = [ele for idx, ele in enumerate(pid1) if idx % 2 == 0]\n",
    "        pid2 = [ele for idx, ele in enumerate(pid2) if idx % 2 == 0]\n",
    "        prod_index1 = self.basis.labels.index(''.join(pid1))\n",
    "        prod_index2 = self.basis.labels.index(''.join(pid2))\n",
    "\n",
    "        chi_mat = np.zeros((4**self.num_qubits, 4**self.num_qubits), dtype=complex)\n",
    "        chi_mat[pindex1, pindex2] += 1j\n",
    "        chi_mat[pindex2, pindex1] += -1j\n",
    "        # include the terms \n",
    "        # PQrII - QPrII + IIrPQ - IIrQP\n",
    "        chi_mat[prod_index1, 0] += 0.5j*phase1\n",
    "        chi_mat[prod_index2, 0] += -0.5j*phase2\n",
    "        chi_mat[0, prod_index1] += 0.5j*phase1\n",
    "        chi_mat[0, prod_index2] += -0.5j*phase2\n",
    "        return chi2pauli_liouville(chi_mat)"
   ]
  },
  {
   "cell_type": "code",
   "execution_count": 48,
   "id": "edadd838-494a-4ead-828e-c4eed1ac61de",
   "metadata": {},
   "outputs": [],
   "source": [
    "class GateSet():\n",
    "    \"\"\"\n",
    "    Holds the information for\n",
    "        -all native gates, states, and measurements\n",
    "        -all error generator features (in a feature dict)\n",
    "        -map between gate labels and parameter index list (index set)\n",
    "        -map between parameter indices and error features (feature dict) \n",
    "        \n",
    "    TODO: generalize to n-qubits\n",
    "    \"\"\"\n",
    "    def __init__(self, model_pack, parameterization='HSCA'):\n",
    "        # A list of error rates, each one corresponding to one feature in the above list\n",
    "        self.rates = []\n",
    "        self.feature_map = dict() # maps variables to their associated feature\n",
    "        self.egen_from_label = dict() # maps gate labels to error generators\n",
    "        self.target_model = model_pack.target_model('CPTP')\n",
    "        self.gate_labels = model_pack.gates\n",
    "        \n",
    "        # Errors generators for all gates in the model\n",
    "        for gate in model_pack.gates:\n",
    "            if len(gate) <= 1:\n",
    "                egen = ErrorGen(1, (gate, ''))\n",
    "            else:\n",
    "                egen = ErrorGen(1, gate)\n",
    "            self.egen_from_label[gate] = egen\n",
    "            self.rates += egen.vec\n",
    "            self.feature_map.update(egen.feature_map)\n",
    "        # Errors for all measurements in the model\n",
    "        for povm in model.povms.keys():\n",
    "            egen = ErrorGen(1, (povm, 'M'))\n",
    "            self.egen_from_label[povm] = egen\n",
    "            self.rates += egen.vec\n",
    "            self.feature_map.update(egen.feature_map)\n",
    "        # Errors for all state preparations in the model\n",
    "        for prep in model.preps.keys():\n",
    "            egen = ErrorGen(1, (prep, 'P'))\n",
    "            self.egen_from_label[prep] = egen\n",
    "            self.rates += egen.vec\n",
    "            self.feature_map.update(egen.feature_map)\n",
    "            \n",
    "    @property\n",
    "    def vec(self):\n",
    "        return self.rates\n",
    "    \n",
    "    def features_of(self, op_label):\n",
    "        \"\"\"Returns the list of error features associated with the given gate/POVM/state-prep\"\"\"\n",
    "        return self.egen_from_label[op_label].features\n",
    "    \n",
    "    def rates_of(self, op_label):\n",
    "        \"\"\"Returns the list of error rates associated with the given gate/POVM/state-prep\"\"\"\n",
    "        return self.egen_from_label[op_label].vec\n",
    "    \n",
    "    def error_generator_of(self, op_label):\n",
    "        \"\"\"Returns the error generator matrix associated with the given gate/POVM/state-prep\"\"\"\n",
    "        return self.egen_from_label[op_label].mat\n",
    "    \n",
    "    def target_op(self, op_label):\n",
    "        \"\"\"\n",
    "        returns the target operation of the given operation\n",
    "        \"\"\"\n",
    "        return self.target_model[op_label].to_dense()\n",
    "\n",
    "    def native_meas(self):\n",
    "        return [m.to_dense() for m in self.target_model['Mdefault'].values()]\n",
    "\n",
    "    def rho0(self):\n",
    "        return self.target_model['rho0'].to_dense()\n"
   ]
  },
  {
   "cell_type": "code",
   "execution_count": 205,
   "id": "70aba610-3767-477f-b6a7-2c958cd5a8be",
   "metadata": {
    "tags": []
   },
   "outputs": [],
   "source": [
    "class CircuitAnalyzer:\n",
    "    \"\"\"Performs operations on a given pygsti Circuit object,\n",
    "    which is part of a given GateSet.\n",
    "    \n",
    "    The Circuit's state prep and measurement operators are set to the default values,\n",
    "    but can be specified by their names, as long as they are part of the GateSet.\"\"\"\n",
    "    def __init__(self, circuit, gateset, state_prep=\"rho0\", povm=\"Mdefault\"):\n",
    "        self.gateset = gateset\n",
    "        self.circuit = circuit\n",
    "        # Extracts the gates in the circuit as a list of labels\n",
    "        # This may only work for sngle-qubit gates as written?\n",
    "        self.gates = list(circuit.layertup)\n",
    "        # Finds their PTMs (pauli transfer matrices)\n",
    "        self.gate_matrices = [gateset.target_op(gate) for gate in self.gates]\n",
    "        # Extracts the error matrices corresponding to each of these gates\n",
    "        self.gate_errors = [gateset.error_generator_of(gate) for gate in self.gates]\n",
    "        ## TODO extract the circuit's POVM and State Prep, to find their associated errors\n",
    "        self.state_prep_error = gateset.error_generator_of(state_prep)\n",
    "        self.povm_error = gateset.error_generator_of(povm)\n",
    "        \n",
    "    def left_errors(self):\n",
    "        \"\"\"Moves all gate errors to the left of the circuit,\n",
    "        and returns the resulting list of conjugated error generators.\n",
    "        \n",
    "        NOTE: In our Circuit object, the gates are ordered\n",
    "        left-to-right from first-applied to last-applied.\n",
    "        However, the error terms in the result of this function, are ordered\n",
    "        left-to-right as they would be in matrix multiplication.\"\"\"\n",
    "        \n",
    "        left_errors = []\n",
    "        # The first error in the result is the measurement error,\n",
    "        # which is unchanged (doesn't need conjugating)\n",
    "        left_errors.append(self.povm_error)\n",
    "        # Next, process the gate errors from the end of the list to its beginning\n",
    "        # Because that's the order they'll appear in the resulting matrix mult\n",
    "        n = len(self.gate_errors)\n",
    "        for i in range(n-1, -1, -1):\n",
    "            error = self.gate_errors[i]\n",
    "            # Conjugate by all gates being applied after i: gates i+1 through n\n",
    "            for j in range(i+1, n):\n",
    "                gate_matrix = self.gate_matrices[j].round(10)\n",
    "                error = gate_matrix * error * np.linalg.inv(gate_matrix)\n",
    "            left_errors.append(error)\n",
    "        # Finally, add the State prep error;\n",
    "        # We must conjugate it through all gates in the circuit\n",
    "        error = self.state_prep_error\n",
    "        for j in range(n):\n",
    "            gate_matrix = self.gate_matrices[j].round(10)\n",
    "            error = gate_matrix * error * np.linalg.inv(gate_matrix)\n",
    "        left_errors.append(error)\n",
    "        return left_errors\n",
    "    \n",
    "    def linear_F_map(self):\n",
    "        \"\"\"Returns the linear approximation of the F map,\n",
    "        after moving all errors to the left. This approximation assumes they commute.\n",
    "        The result is a function of the error terms of the gate set.\n",
    "        \"\"\"\n",
    "        # Simply take the sum of all error generators after moving them to the left\n",
    "        left_errors = self.left_errors()\n",
    "        return sum(left_errors[1:], left_errors[0])\n",
    "    \n",
    "    def order2_F_map(self):\n",
    "        \"\"\"Returns the order-2 approximation of the F map,\n",
    "        after moving all errors to the left, and applying order-2 BCH.\n",
    "        The result is a function of the error terms of the gate set.\n",
    "        \"\"\"\n",
    "        left_errors = self.left_errors()\n",
    "        BCH2 = lambda X, Y : X + Y + (X@Y - Y@X) / 2\n",
    "        # After extracting the left-side errors,\n",
    "        # reduce the list to one matrix by applying BCH to each pair\n",
    "        result = left_errors[0]\n",
    "        for F in left_errors[1:]:\n",
    "            result = sp.expand(BCH2(result, F))\n",
    "        return result\n",
    "    \n",
    "    def linear_op(self):\n",
    "        \"\"\"\n",
    "        convert the linear left feature map into \n",
    "        a linear operator that maps gateset features to total circuit features\n",
    "\n",
    "        TODO: more efficient design\n",
    "        TODO: rewrite in terms of HSCA parameterization\n",
    "        \"\"\"\n",
    "        dim = 4**self.circuit.width # dimension of the hilbert space\n",
    "        lop = np.zeros((dim*(dim-1), len(self.gateset.vec)))\n",
    "        fmap = self.linear_F_map()\n",
    "        for i in range(1, dim):\n",
    "            for j in range(0, dim):\n",
    "                for idx, x in enumerate(self.gateset.vec):\n",
    "                    lop[(i-1)*dim+j, idx] = fmap[i, j].coeff(x)\n",
    "        return lop"
   ]
  },
  {
   "cell_type": "markdown",
   "id": "a213589c-5c58-4a19-9323-1c44069e4261",
   "metadata": {},
   "source": [
    "## the linear feature design:\n",
    "\n",
    "The left or right F-matrix can be viewed as an operator from the high dimensional space of the vectorized gateset to the lower dimensional space of the total circuit error feature"
   ]
  },
  {
   "cell_type": "code",
   "execution_count": 206,
   "id": "23efd075-2dfb-4147-8db6-4530d04fd505",
   "metadata": {},
   "outputs": [],
   "source": [
    "# Create a simple two gate circuit\n",
    "gs = GateSet(std)\n",
    "circ = Circuit([(\"Gxpi2\", 0), (\"Gzpi2\", 0)])\n",
    "ca = CircuitAnalyzer(circ, gs)"
   ]
  },
  {
   "cell_type": "code",
   "execution_count": 207,
   "id": "destroyed-pitch",
   "metadata": {},
   "outputs": [
    {
     "data": {
      "text/plain": [
       "4"
      ]
     },
     "execution_count": 207,
     "metadata": {},
     "output_type": "execute_result"
    }
   ],
   "source": [
    "len(ca.left_errors())"
   ]
  },
  {
   "cell_type": "code",
   "execution_count": 208,
   "id": "juvenile-notification",
   "metadata": {},
   "outputs": [
    {
     "data": {
      "text/latex": [
       "$\\displaystyle \\left[\\begin{matrix}0 & 0 & 0 & 0\\\\- 4.0 A^{XYP}_{rho0} - 4.0 A^{YZ0}_{Gzpi2} - 4.0 A^{YZM}_{Mdefault} + 4.0 A^{ZX0}_{Gxpi2} & - 2.0 S^{X0}_{Gxpi2} - 2.0 S^{XP}_{rho0} - 2.0 S^{Y0}_{Gzpi2} - 2.0 S^{YM}_{Mdefault} - 2.0 S^{YP}_{rho0} - 2.0 S^{Z0}_{Gxpi2} - 2.0 S^{Z0}_{Gzpi2} - 2.0 S^{ZM}_{Mdefault} & - 2.0 C^{XY0}_{Gxpi2} + 2.0 C^{XY0}_{Gzpi2} + 2.0 C^{XYM}_{Mdefault} + 2.0 C^{ZXP}_{rho0} - 2.0 H^{YP}_{rho0} - 2.0 H^{Z0}_{Gxpi2} - 2.0 H^{Z0}_{Gzpi2} - 2.0 H^{ZM}_{Mdefault} & - 2.0 C^{YZ0}_{Gxpi2} + 2.0 C^{YZP}_{rho0} + 2.0 C^{ZX0}_{Gzpi2} + 2.0 C^{ZXM}_{Mdefault} + 2.0 H^{X0}_{Gxpi2} + 2.0 H^{XP}_{rho0} + 2.0 H^{Y0}_{Gzpi2} + 2.0 H^{YM}_{Mdefault}\\\\- 4.0 A^{YZ0}_{Gxpi2} - 4.0 A^{YZP}_{rho0} - 4.0 A^{ZX0}_{Gzpi2} - 4.0 A^{ZXM}_{Mdefault} & - 2.0 C^{XY0}_{Gxpi2} + 2.0 C^{XY0}_{Gzpi2} + 2.0 C^{XYM}_{Mdefault} + 2.0 C^{ZXP}_{rho0} + 2.0 H^{YP}_{rho0} + 2.0 H^{Z0}_{Gxpi2} + 2.0 H^{Z0}_{Gzpi2} + 2.0 H^{ZM}_{Mdefault} & - 2.0 S^{X0}_{Gzpi2} - 2.0 S^{XM}_{Mdefault} - 2.0 S^{Y0}_{Gxpi2} - 2.0 S^{YP}_{rho0} - 2.0 S^{Z0}_{Gxpi2} - 2.0 S^{Z0}_{Gzpi2} - 2.0 S^{ZM}_{Mdefault} - 2.0 S^{ZP}_{rho0} & 2.0 C^{XYP}_{rho0} + 2.0 C^{YZ0}_{Gzpi2} + 2.0 C^{YZM}_{Mdefault} + 2.0 C^{ZX0}_{Gxpi2} - 2.0 H^{X0}_{Gzpi2} - 2.0 H^{XM}_{Mdefault} + 2.0 H^{Y0}_{Gxpi2} - 2.0 H^{ZP}_{rho0}\\\\- 4.0 A^{XY0}_{Gxpi2} - 4.0 A^{XY0}_{Gzpi2} - 4.0 A^{XYM}_{Mdefault} - 4.0 A^{ZXP}_{rho0} & - 2.0 C^{YZ0}_{Gxpi2} + 2.0 C^{YZP}_{rho0} + 2.0 C^{ZX0}_{Gzpi2} + 2.0 C^{ZXM}_{Mdefault} - 2.0 H^{X0}_{Gxpi2} - 2.0 H^{XP}_{rho0} - 2.0 H^{Y0}_{Gzpi2} - 2.0 H^{YM}_{Mdefault} & 2.0 C^{XYP}_{rho0} + 2.0 C^{YZ0}_{Gzpi2} + 2.0 C^{YZM}_{Mdefault} + 2.0 C^{ZX0}_{Gxpi2} + 2.0 H^{X0}_{Gzpi2} + 2.0 H^{XM}_{Mdefault} - 2.0 H^{Y0}_{Gxpi2} + 2.0 H^{ZP}_{rho0} & - 2.0 S^{X0}_{Gxpi2} - 2.0 S^{X0}_{Gzpi2} - 2.0 S^{XM}_{Mdefault} - 2.0 S^{XP}_{rho0} - 2.0 S^{Y0}_{Gxpi2} - 2.0 S^{Y0}_{Gzpi2} - 2.0 S^{YM}_{Mdefault} - 2.0 S^{ZP}_{rho0}\\end{matrix}\\right]$"
      ],
      "text/plain": [
       "Matrix([\n",
       "[                                                                                       0,                                                                                                                                                                              0,                                                                                                                                                                              0,                                                                                                                                                                              0],\n",
       "[-4.0*A^{XYP}_{rho0} - 4.0*A^{YZ0}_{Gzpi2} - 4.0*A^{YZM}_{Mdefault} + 4.0*A^{ZX0}_{Gxpi2},     -2.0*S^{X0}_{Gxpi2} - 2.0*S^{XP}_{rho0} - 2.0*S^{Y0}_{Gzpi2} - 2.0*S^{YM}_{Mdefault} - 2.0*S^{YP}_{rho0} - 2.0*S^{Z0}_{Gxpi2} - 2.0*S^{Z0}_{Gzpi2} - 2.0*S^{ZM}_{Mdefault}, -2.0*C^{XY0}_{Gxpi2} + 2.0*C^{XY0}_{Gzpi2} + 2.0*C^{XYM}_{Mdefault} + 2.0*C^{ZXP}_{rho0} - 2.0*H^{YP}_{rho0} - 2.0*H^{Z0}_{Gxpi2} - 2.0*H^{Z0}_{Gzpi2} - 2.0*H^{ZM}_{Mdefault}, -2.0*C^{YZ0}_{Gxpi2} + 2.0*C^{YZP}_{rho0} + 2.0*C^{ZX0}_{Gzpi2} + 2.0*C^{ZXM}_{Mdefault} + 2.0*H^{X0}_{Gxpi2} + 2.0*H^{XP}_{rho0} + 2.0*H^{Y0}_{Gzpi2} + 2.0*H^{YM}_{Mdefault}],\n",
       "[-4.0*A^{YZ0}_{Gxpi2} - 4.0*A^{YZP}_{rho0} - 4.0*A^{ZX0}_{Gzpi2} - 4.0*A^{ZXM}_{Mdefault}, -2.0*C^{XY0}_{Gxpi2} + 2.0*C^{XY0}_{Gzpi2} + 2.0*C^{XYM}_{Mdefault} + 2.0*C^{ZXP}_{rho0} + 2.0*H^{YP}_{rho0} + 2.0*H^{Z0}_{Gxpi2} + 2.0*H^{Z0}_{Gzpi2} + 2.0*H^{ZM}_{Mdefault},     -2.0*S^{X0}_{Gzpi2} - 2.0*S^{XM}_{Mdefault} - 2.0*S^{Y0}_{Gxpi2} - 2.0*S^{YP}_{rho0} - 2.0*S^{Z0}_{Gxpi2} - 2.0*S^{Z0}_{Gzpi2} - 2.0*S^{ZM}_{Mdefault} - 2.0*S^{ZP}_{rho0},  2.0*C^{XYP}_{rho0} + 2.0*C^{YZ0}_{Gzpi2} + 2.0*C^{YZM}_{Mdefault} + 2.0*C^{ZX0}_{Gxpi2} - 2.0*H^{X0}_{Gzpi2} - 2.0*H^{XM}_{Mdefault} + 2.0*H^{Y0}_{Gxpi2} - 2.0*H^{ZP}_{rho0}],\n",
       "[-4.0*A^{XY0}_{Gxpi2} - 4.0*A^{XY0}_{Gzpi2} - 4.0*A^{XYM}_{Mdefault} - 4.0*A^{ZXP}_{rho0}, -2.0*C^{YZ0}_{Gxpi2} + 2.0*C^{YZP}_{rho0} + 2.0*C^{ZX0}_{Gzpi2} + 2.0*C^{ZXM}_{Mdefault} - 2.0*H^{X0}_{Gxpi2} - 2.0*H^{XP}_{rho0} - 2.0*H^{Y0}_{Gzpi2} - 2.0*H^{YM}_{Mdefault},  2.0*C^{XYP}_{rho0} + 2.0*C^{YZ0}_{Gzpi2} + 2.0*C^{YZM}_{Mdefault} + 2.0*C^{ZX0}_{Gxpi2} + 2.0*H^{X0}_{Gzpi2} + 2.0*H^{XM}_{Mdefault} - 2.0*H^{Y0}_{Gxpi2} + 2.0*H^{ZP}_{rho0},     -2.0*S^{X0}_{Gxpi2} - 2.0*S^{X0}_{Gzpi2} - 2.0*S^{XM}_{Mdefault} - 2.0*S^{XP}_{rho0} - 2.0*S^{Y0}_{Gxpi2} - 2.0*S^{Y0}_{Gzpi2} - 2.0*S^{YM}_{Mdefault} - 2.0*S^{ZP}_{rho0}]])"
      ]
     },
     "execution_count": 208,
     "metadata": {},
     "output_type": "execute_result"
    }
   ],
   "source": [
    "ca.linear_F_map()"
   ]
  },
  {
   "cell_type": "code",
   "execution_count": 209,
   "id": "expensive-adaptation",
   "metadata": {},
   "outputs": [],
   "source": [
    "# do NOT DISPLAY the result. it's huge. It will crash the notebook due to Latex formatting.\n",
    "order2 = ca.order2_F_map()"
   ]
  },
  {
   "cell_type": "code",
   "execution_count": 210,
   "id": "developed-alignment",
   "metadata": {},
   "outputs": [
    {
     "name": "stdout",
     "output_type": "stream",
     "text": [
      "89051\n",
      "23010\n",
      "78674\n",
      "78673\n",
      "89052\n",
      "78673\n",
      "23009\n",
      "78673\n",
      "89052\n",
      "78673\n",
      "78674\n",
      "23010\n"
     ]
    }
   ],
   "source": [
    "# Here's how long each entry is, as a string\n",
    "for i in range(1, 4):\n",
    "    for j in range(4):\n",
    "        print(len(str(order2[i, j])))"
   ]
  },
  {
   "cell_type": "code",
   "execution_count": 180,
   "id": "1181c49c-4841-45a8-bcec-3ac7c319f36c",
   "metadata": {},
   "outputs": [
    {
     "data": {
      "image/png": "[encoded data removed]",
      "text/plain": [
       "<Figure size 1152x192 with 1 Axes>"
      ]
     },
     "metadata": {
      "needs_background": "light"
     },
     "output_type": "display_data"
    }
   ],
   "source": [
    "plt.matshow(ca.linear_op());"
   ]
  },
  {
   "cell_type": "markdown",
   "id": "62b01367-18dc-4142-aadd-2a8f57c65ac8",
   "metadata": {},
   "source": [
    "# Total feature design\n",
    "\n",
    "I'll create a simple experimental design consisting of some repeated germs and then I'll find the total feature design that comes from stacking up each circuit's feature design. The nullspace of this opeartor gives information about gauge transformations"
   ]
  },
  {
   "cell_type": "code",
   "execution_count": 181,
   "id": "6574ec30-9629-479a-9b37-79ac52ae15f0",
   "metadata": {},
   "outputs": [
    {
     "data": {
      "text/plain": [
       "128"
      ]
     },
     "execution_count": 181,
     "metadata": {},
     "output_type": "execute_result"
    }
   ],
   "source": [
    "edesign = std.create_gst_experiment_design(1) # max length of edesign is 2\n",
    "circ_list = edesign.circuit_lists[-1]\n",
    "len(circ_list)"
   ]
  },
  {
   "cell_type": "code",
   "execution_count": 182,
   "id": "b45c11c9-e38b-42c5-bf47-c16e0473df34",
   "metadata": {},
   "outputs": [
    {
     "name": "stderr",
     "output_type": "stream",
     "text": [
      "100%|██████████| 127/127 [00:23<00:00,  5.40it/s]\n"
     ]
    }
   ],
   "source": [
    "from tqdm import tqdm\n",
    "total_lop = np.zeros((0, len(gs.vec)))\n",
    "for circ in tqdm(circ_list[1:]):\n",
    "    ca = CircuitAnalyzer(circ, gs)\n",
    "    total_lop = np.vstack([total_lop, ca.linear_op()])"
   ]
  },
  {
   "cell_type": "code",
   "execution_count": 183,
   "id": "3f8a95f5-6aa5-43d0-8da6-f092be158031",
   "metadata": {},
   "outputs": [
    {
     "data": {
      "text/plain": [
       "<matplotlib.image.AxesImage at 0x14b26f730>"
      ]
     },
     "execution_count": 183,
     "metadata": {},
     "output_type": "execute_result"
    },
    {
     "data": {
      "image/png": "[encoded data removed]",
      "text/plain": [
       "<Figure size 288x1152 with 1 Axes>"
      ]
     },
     "metadata": {
      "needs_background": "light"
     },
     "output_type": "display_data"
    }
   ],
   "source": [
    "plt.matshow(total_lop)"
   ]
  },
  {
   "cell_type": "code",
   "execution_count": 184,
   "id": "2e790641-a85a-46b8-93dd-d2d5a845f5db",
   "metadata": {},
   "outputs": [
    {
     "data": {
      "text/plain": [
       "60"
      ]
     },
     "execution_count": 184,
     "metadata": {},
     "output_type": "execute_result"
    }
   ],
   "source": [
    "np.linalg.matrix_rank(total_lop)"
   ]
  },
  {
   "cell_type": "code",
   "execution_count": null,
   "id": "814fccd4-bd3d-4fca-84bd-46ecb894a8f1",
   "metadata": {},
   "outputs": [],
   "source": []
  }
 ],
 "metadata": {
  "kernelspec": {
   "display_name": "Python 3",
   "language": "python",
   "name": "python3"
  },
  "language_info": {
   "codemirror_mode": {
    "name": "ipython",
    "version": 3
   },
   "file_extension": ".py",
   "mimetype": "text/x-python",
   "name": "python",
   "nbconvert_exporter": "python",
   "pygments_lexer": "ipython3",
   "version": "3.9.1"
  }
 },
 "nbformat": 4,
 "nbformat_minor": 5
}

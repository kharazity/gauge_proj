{
 "cells": [
  {
   "cell_type": "code",
   "execution_count": 264,
   "id": "09789805-35c8-4828-aea7-77c14a3e16c9",
   "metadata": {},
   "outputs": [],
   "source": [
    "import pygsti\n",
    "from pygsti.circuits import Circuit\n",
    "import random\n",
    "from pygsti.modelpacks import smq1Q_XYZI as std\n",
    "# Note that numpy 1.23 will break pygsti\n",
    "import numpy as np\n",
    "import sympy as sp\n",
    "import matplotlib.pyplot as plt\n",
    "from forest.benchmarking.operator_tools import vec, unvec"
   ]
  },
  {
   "cell_type": "code",
   "execution_count": 265,
   "id": "7db44973-3623-430f-a384-3c3293bd353d",
   "metadata": {},
   "outputs": [],
   "source": [
    "model = std.target_model('CPTP')"
   ]
  },
  {
   "cell_type": "code",
   "execution_count": 330,
   "id": "a8c07a6c-b96b-434b-a732-8d229435ba2a",
   "metadata": {},
   "outputs": [],
   "source": [
    "from forest.benchmarking.utils import *\n",
    "from forest.benchmarking.operator_tools import *\n",
    "\n",
    "class ErrorGen():\n",
    "    \"\"\"\n",
    "    Implements the small Markovian taxonomy\n",
    "    \n",
    "    Parameters:\n",
    "        -features: pauli transfer representations for different error processes\n",
    "        -rates: sympy vector of rates\n",
    "    \"\"\"\n",
    "    \n",
    "    def __init__(self, num_qubits, label=('G', 0), parameterization='HSCA'):\n",
    "        \"\"\"\n",
    "        setup the feature dictionary with keys that are sympy variables\n",
    "        \n",
    "        right now, I'm doing this by hand for a 1 qubit model, \n",
    "        TODO: implement logic to generalize to n-qubits\n",
    "        \"\"\"\n",
    "        self.num_qubits = num_qubits\n",
    "        self.basis = n_qubit_pauli_basis(num_qubits)\n",
    "        self.feature_map = dict()\n",
    "        gate_label = label[0]\n",
    "        qbit_index = label[1]\n",
    "        if 'H' in parameterization:\n",
    "            self.hparams = sp.symbols(\n",
    "                f'H^{{X{qbit_index}}}_{{{gate_label}}} ' +\n",
    "                f'H^{{Y{qbit_index}}}_{{{gate_label}}} ' +  \n",
    "                f'H^{{Z{qbit_index}}}_{{{gate_label}}}')\n",
    "            self.feature_map[self.hparams[0]] = self.herr('X')\n",
    "            self.feature_map[self.hparams[1]] = self.herr('Y')\n",
    "            self.feature_map[self.hparams[2]] = self.herr('Z')\n",
    "        else:\n",
    "            self.hparams = []\n",
    "            \n",
    "        if 'S' in parameterization:\n",
    "            self.sparams = sp.symbols(\n",
    "                f'S^{{X{qbit_index}}}_{{{gate_label}}} ' +\n",
    "                f'S^{{Y{qbit_index}}}_{{{gate_label}}} ' +  \n",
    "                f'S^{{Z{qbit_index}}}_{{{gate_label}}}')\n",
    "            self.feature_map[self.sparams[0]] = self.serr('X')\n",
    "            self.feature_map[self.sparams[1]] = self.serr('Y')\n",
    "            self.feature_map[self.sparams[2]] = self.serr('Z')\n",
    "        else:\n",
    "            self.sparams = []\n",
    "            \n",
    "        if 'C' in parameterization:\n",
    "            self.cparams = sp.symbols(\n",
    "                f'C^{{XY{qbit_index}}}_{{{gate_label}}} ' +\n",
    "                f'C^{{YZ{qbit_index}}}_{{{gate_label}}} ' +  \n",
    "                f'C^{{ZX{qbit_index}}}_{{{gate_label}}}')\n",
    "            self.feature_map[self.cparams[0]] = self.cerr('X', 'Y')\n",
    "            self.feature_map[self.cparams[1]] = self.cerr('Y', 'Z')\n",
    "            self.feature_map[self.cparams[2]] = self.cerr('Z', 'X')\n",
    "        else:\n",
    "            self.cparams = []\n",
    "            \n",
    "        if 'A' in parameterization:\n",
    "            self.aparams = sp.symbols(\n",
    "                f'A^{{XY{qbit_index}}}_{{{gate_label}}} ' +\n",
    "                f'A^{{YZ{qbit_index}}}_{{{gate_label}}} ' +  \n",
    "                f'A^{{ZX{qbit_index}}}_{{{gate_label}}}')\n",
    "            self.feature_map[self.aparams[0]] = self.aerr('X', 'Y')\n",
    "            self.feature_map[self.aparams[1]] = self.aerr('Y', 'Z')\n",
    "            self.feature_map[self.aparams[2]] = self.aerr('Z', 'X')\n",
    "        else:\n",
    "            self.aparams = []\n",
    "            \n",
    "    @property\n",
    "    def vec(self):\n",
    "        return self.hparams+self.sparams+self.cparams+self.aparams\n",
    "    \n",
    "    @property\n",
    "    def mat(self):\n",
    "        mat = np.zeros((4**self.num_qubits, 4**self.num_qubits), dtype='O')\n",
    "        for x in self.vec:\n",
    "            mat += x*self.feature_map[x]\n",
    "        return sp.Matrix(mat)\n",
    "    \n",
    "    @property\n",
    "    def features(self):\n",
    "        return [f for f in self.feature_map.values()]\n",
    "    \n",
    "    def herr(self, pauli_str):\n",
    "        \"\"\"\n",
    "        hamiltonian error labelled by pauli\n",
    "        \n",
    "        Equation (10) in the paper\n",
    "        \"\"\"\n",
    "        pindex = self.basis.labels.index(pauli_str)\n",
    "        chi_mat = np.zeros((4**len(pauli_str), 4**len(pauli_str)), dtype=complex)\n",
    "        chi_mat[0, pindex] = 1j\n",
    "        chi_mat[pindex, 0] = -1j\n",
    "        return chi2pauli_liouville(chi_mat)\n",
    "    \n",
    "    def serr(self, pauli_str):\n",
    "        \"\"\"\n",
    "        stochatic error labelled by pauli\n",
    "        \n",
    "        Equation (14) in the paper\n",
    "        \"\"\"\n",
    "        pindex = self.basis.labels.index(pauli_str)\n",
    "        chi_mat = np.zeros((4**len(pauli_str), 4**len(pauli_str)), dtype=complex)\n",
    "        chi_mat[0, 0] = -1\n",
    "        chi_mat[pindex, pindex] = 1\n",
    "        return chi2pauli_liouville(chi_mat)\n",
    "    \n",
    "    def cerr(self, pauli_str1, pauli_str2):\n",
    "        \"\"\"\n",
    "        correlated stochatic error labelled by pair of paulis\n",
    "        \n",
    "        Equation (15) in the paper\n",
    "        \"\"\"\n",
    "        pindex1 = self.basis.labels.index(pauli_str1)\n",
    "        pindex2 = self.basis.labels.index(pauli_str2)\n",
    "        \n",
    "        # we also need product terms and their phases\n",
    "        # this could probably be made more elegant\n",
    "        pterm1 = str_to_pauli_term(pauli_str1)*str_to_pauli_term(pauli_str2)\n",
    "        pterm2 = str_to_pauli_term(pauli_str2)*str_to_pauli_term(pauli_str1)\n",
    "        \n",
    "        phase1 = pterm1.coefficient\n",
    "        phase2 = pterm2.coefficient\n",
    "        pid1 = pterm1.id()\n",
    "        pid2 = pterm1.id()\n",
    "        # need to fix the id convention that pyquil uses\n",
    "        # discard the even indices\n",
    "        pid1 = [ele for idx, ele in enumerate(pid1) if idx % 2 == 0]\n",
    "        pid2 = [ele for idx, ele in enumerate(pid2) if idx % 2 == 0]\n",
    "        prod_index1 = self.basis.labels.index(''.join(pid1))\n",
    "        prod_index2 = self.basis.labels.index(''.join(pid2))\n",
    "\n",
    "        chi_mat = np.zeros((4**self.num_qubits, 4**self.num_qubits), dtype=complex)\n",
    "        chi_mat[pindex1, pindex2] += 1\n",
    "        chi_mat[pindex2, pindex1] += 1\n",
    "        # include the terms \n",
    "        # PQrII + QPrII + IIrPQ + IIrQP\n",
    "        chi_mat[prod_index1, 0] += -0.5*phase1\n",
    "        chi_mat[prod_index2, 0] += -0.5*phase2\n",
    "        chi_mat[0, prod_index1] += -0.5*phase1\n",
    "        chi_mat[0, prod_index2] += -0.5*phase2\n",
    "        return chi2pauli_liouville(chi_mat)\n",
    "    \n",
    "    def aerr(self, pauli_str1, pauli_str2):\n",
    "        \"\"\"\n",
    "        active error labelled by pair of paulis\n",
    "        \n",
    "        Equation (16) in the paper\n",
    "        \"\"\"\n",
    "        pindex1 = self.basis.labels.index(pauli_str1)\n",
    "        pindex2 = self.basis.labels.index(pauli_str2)\n",
    "        \n",
    "        # we also need product terms and their phases\n",
    "        # this could probably be made more elegant\n",
    "        pterm1 = str_to_pauli_term(pauli_str1)*str_to_pauli_term(pauli_str2)\n",
    "        pterm2 = str_to_pauli_term(pauli_str2)*str_to_pauli_term(pauli_str1)\n",
    "        \n",
    "        phase1 = pterm1.coefficient\n",
    "        phase2 = pterm2.coefficient\n",
    "        pid1 = pterm1.id()\n",
    "        pid2 = pterm1.id()\n",
    "        # need to fix the id convention that pyquil uses\n",
    "        # discard the even indices\n",
    "        pid1 = [ele for idx, ele in enumerate(pid1) if idx % 2 == 0]\n",
    "        pid2 = [ele for idx, ele in enumerate(pid2) if idx % 2 == 0]\n",
    "        prod_index1 = self.basis.labels.index(''.join(pid1))\n",
    "        prod_index2 = self.basis.labels.index(''.join(pid2))\n",
    "\n",
    "        chi_mat = np.zeros((4**self.num_qubits, 4**self.num_qubits), dtype=complex)\n",
    "        chi_mat[pindex1, pindex2] += 1j\n",
    "        chi_mat[pindex2, pindex1] += -1j\n",
    "        # include the terms \n",
    "        # PQrII - QPrII + IIrPQ - IIrQP\n",
    "        chi_mat[prod_index1, 0] += 0.5j*phase1\n",
    "        chi_mat[prod_index2, 0] += -0.5j*phase2\n",
    "        chi_mat[0, prod_index1] += 0.5j*phase1\n",
    "        chi_mat[0, prod_index2] += -0.5j*phase2\n",
    "        return chi2pauli_liouville(chi_mat)"
   ]
  },
  {
   "cell_type": "code",
   "execution_count": 331,
   "id": "70335a30-5118-4c70-bdea-f974491e9f35",
   "metadata": {},
   "outputs": [
    {
     "data": {
      "text/plain": [
       "array([[ 0.+0.j,  0.+0.j,  0.+0.j,  0.+0.j],\n",
       "       [ 0.+0.j,  0.+0.j,  0.+0.j,  2.+0.j],\n",
       "       [ 0.+0.j,  0.+0.j,  0.+0.j,  0.+0.j],\n",
       "       [ 0.+0.j, -2.+0.j,  0.+0.j,  0.+0.j]])"
      ]
     },
     "execution_count": 331,
     "metadata": {},
     "output_type": "execute_result"
    }
   ],
   "source": [
    "egen = ErrorGen(1, c[1])\n",
    "egen.hparams[1]\n",
    "egen.feature_map[egen.hparams[1]]"
   ]
  },
  {
   "cell_type": "code",
   "execution_count": 332,
   "id": "80a49c6f-b4a3-4245-a828-d5b1d9aa1957",
   "metadata": {},
   "outputs": [
    {
     "data": {
      "text/plain": [
       "(H^{X0}_{Gxpi2},\n",
       " H^{Y0}_{Gxpi2},\n",
       " H^{Z0}_{Gxpi2},\n",
       " S^{X0}_{Gxpi2},\n",
       " S^{Y0}_{Gxpi2},\n",
       " S^{Z0}_{Gxpi2},\n",
       " C^{XY0}_{Gxpi2},\n",
       " C^{YZ0}_{Gxpi2},\n",
       " C^{ZX0}_{Gxpi2},\n",
       " A^{XY0}_{Gxpi2},\n",
       " A^{YZ0}_{Gxpi2},\n",
       " A^{ZX0}_{Gxpi2})"
      ]
     },
     "execution_count": 332,
     "metadata": {},
     "output_type": "execute_result"
    }
   ],
   "source": [
    "egen.vec"
   ]
  },
  {
   "cell_type": "code",
   "execution_count": 333,
   "id": "a7588501-4700-40b3-aeb2-722b4ba78147",
   "metadata": {},
   "outputs": [
    {
     "data": {
      "text/latex": [
       "$\\displaystyle \\left[\\begin{matrix}0 & 0 & 0 & 0\\\\- 4.0 A^{YZ0}_{Gxpi2} & - 2.0 S^{Y0}_{Gxpi2} - 2.0 S^{Z0}_{Gxpi2} & 2.0 C^{XY0}_{Gxpi2} - 2.0 H^{Z0}_{Gxpi2} & 2.0 C^{ZX0}_{Gxpi2} + 2.0 H^{Y0}_{Gxpi2}\\\\- 4.0 A^{ZX0}_{Gxpi2} & 2.0 C^{XY0}_{Gxpi2} + 2.0 H^{Z0}_{Gxpi2} & - 2.0 S^{X0}_{Gxpi2} - 2.0 S^{Z0}_{Gxpi2} & 2.0 C^{YZ0}_{Gxpi2} - 2.0 H^{X0}_{Gxpi2}\\\\- 4.0 A^{XY0}_{Gxpi2} & 2.0 C^{ZX0}_{Gxpi2} - 2.0 H^{Y0}_{Gxpi2} & 2.0 C^{YZ0}_{Gxpi2} + 2.0 H^{X0}_{Gxpi2} & - 2.0 S^{X0}_{Gxpi2} - 2.0 S^{Y0}_{Gxpi2}\\end{matrix}\\right]$"
      ],
      "text/plain": [
       "Matrix([\n",
       "[                   0,                                        0,                                        0,                                        0],\n",
       "[-4.0*A^{YZ0}_{Gxpi2}, -2.0*S^{Y0}_{Gxpi2} - 2.0*S^{Z0}_{Gxpi2}, 2.0*C^{XY0}_{Gxpi2} - 2.0*H^{Z0}_{Gxpi2}, 2.0*C^{ZX0}_{Gxpi2} + 2.0*H^{Y0}_{Gxpi2}],\n",
       "[-4.0*A^{ZX0}_{Gxpi2}, 2.0*C^{XY0}_{Gxpi2} + 2.0*H^{Z0}_{Gxpi2}, -2.0*S^{X0}_{Gxpi2} - 2.0*S^{Z0}_{Gxpi2}, 2.0*C^{YZ0}_{Gxpi2} - 2.0*H^{X0}_{Gxpi2}],\n",
       "[-4.0*A^{XY0}_{Gxpi2}, 2.0*C^{ZX0}_{Gxpi2} - 2.0*H^{Y0}_{Gxpi2}, 2.0*C^{YZ0}_{Gxpi2} + 2.0*H^{X0}_{Gxpi2}, -2.0*S^{X0}_{Gxpi2} - 2.0*S^{Y0}_{Gxpi2}]])"
      ]
     },
     "execution_count": 333,
     "metadata": {},
     "output_type": "execute_result"
    }
   ],
   "source": [
    "egen.mat"
   ]
  },
  {
   "cell_type": "code",
   "execution_count": 335,
   "id": "b0340e42-2574-4a93-a3bc-75fb413d51a0",
   "metadata": {},
   "outputs": [
    {
     "name": "stdout",
     "output_type": "stream",
     "text": [
      "H^{X0}_{Gxpi2} \n",
      " [[ 0.+0.j  0.+0.j  0.+0.j  0.+0.j]\n",
      " [ 0.+0.j  0.+0.j  0.+0.j  0.+0.j]\n",
      " [ 0.+0.j  0.+0.j  0.+0.j -2.+0.j]\n",
      " [ 0.+0.j  0.+0.j  2.+0.j  0.+0.j]]\n",
      "H^{Y0}_{Gxpi2} \n",
      " [[ 0.+0.j  0.+0.j  0.+0.j  0.+0.j]\n",
      " [ 0.+0.j  0.+0.j  0.+0.j  2.+0.j]\n",
      " [ 0.+0.j  0.+0.j  0.+0.j  0.+0.j]\n",
      " [ 0.+0.j -2.+0.j  0.+0.j  0.+0.j]]\n",
      "H^{Z0}_{Gxpi2} \n",
      " [[ 0.+0.j  0.+0.j  0.+0.j  0.+0.j]\n",
      " [ 0.+0.j  0.+0.j -2.+0.j  0.+0.j]\n",
      " [ 0.+0.j  2.+0.j  0.+0.j  0.+0.j]\n",
      " [ 0.+0.j  0.+0.j  0.+0.j  0.+0.j]]\n",
      "S^{X0}_{Gxpi2} \n",
      " [[ 0.+0.j  0.+0.j  0.+0.j  0.+0.j]\n",
      " [ 0.+0.j  0.+0.j  0.+0.j  0.+0.j]\n",
      " [ 0.+0.j  0.+0.j -2.+0.j  0.+0.j]\n",
      " [ 0.+0.j  0.+0.j  0.+0.j -2.+0.j]]\n",
      "S^{Y0}_{Gxpi2} \n",
      " [[ 0.+0.j  0.+0.j  0.+0.j  0.+0.j]\n",
      " [ 0.+0.j -2.+0.j  0.+0.j  0.+0.j]\n",
      " [ 0.+0.j  0.+0.j  0.+0.j  0.+0.j]\n",
      " [ 0.+0.j  0.+0.j  0.+0.j -2.+0.j]]\n",
      "S^{Z0}_{Gxpi2} \n",
      " [[ 0.+0.j  0.+0.j  0.+0.j  0.+0.j]\n",
      " [ 0.+0.j -2.+0.j  0.+0.j  0.+0.j]\n",
      " [ 0.+0.j  0.+0.j -2.+0.j  0.+0.j]\n",
      " [ 0.+0.j  0.+0.j  0.+0.j  0.+0.j]]\n",
      "C^{XY0}_{Gxpi2} \n",
      " [[0.+0.j 0.+0.j 0.+0.j 0.+0.j]\n",
      " [0.+0.j 0.+0.j 2.+0.j 0.+0.j]\n",
      " [0.+0.j 2.+0.j 0.+0.j 0.+0.j]\n",
      " [0.+0.j 0.+0.j 0.+0.j 0.+0.j]]\n",
      "C^{YZ0}_{Gxpi2} \n",
      " [[0.+0.j 0.+0.j 0.+0.j 0.+0.j]\n",
      " [0.+0.j 0.+0.j 0.+0.j 0.+0.j]\n",
      " [0.+0.j 0.+0.j 0.+0.j 2.+0.j]\n",
      " [0.+0.j 0.+0.j 2.+0.j 0.+0.j]]\n",
      "C^{ZX0}_{Gxpi2} \n",
      " [[0.+0.j 0.+0.j 0.+0.j 0.+0.j]\n",
      " [0.+0.j 0.+0.j 0.+0.j 2.+0.j]\n",
      " [0.+0.j 0.+0.j 0.+0.j 0.+0.j]\n",
      " [0.+0.j 2.+0.j 0.+0.j 0.+0.j]]\n",
      "A^{XY0}_{Gxpi2} \n",
      " [[ 0.+0.j  0.+0.j  0.+0.j  0.+0.j]\n",
      " [ 0.+0.j  0.+0.j  0.+0.j  0.+0.j]\n",
      " [ 0.+0.j  0.+0.j  0.+0.j  0.+0.j]\n",
      " [-4.+0.j  0.+0.j  0.+0.j  0.+0.j]]\n",
      "A^{YZ0}_{Gxpi2} \n",
      " [[ 0.+0.j  0.+0.j  0.+0.j  0.+0.j]\n",
      " [-4.+0.j  0.+0.j  0.+0.j  0.+0.j]\n",
      " [ 0.+0.j  0.+0.j  0.+0.j  0.+0.j]\n",
      " [ 0.+0.j  0.+0.j  0.+0.j  0.+0.j]]\n",
      "A^{ZX0}_{Gxpi2} \n",
      " [[ 0.+0.j  0.+0.j  0.+0.j  0.+0.j]\n",
      " [ 0.+0.j  0.+0.j  0.+0.j  0.+0.j]\n",
      " [-4.+0.j  0.+0.j  0.+0.j  0.+0.j]\n",
      " [ 0.+0.j  0.+0.j  0.+0.j  0.+0.j]]\n"
     ]
    }
   ],
   "source": [
    "\"\"\"print out all the elementary generators for 1 qubit egen\"\"\"\n",
    "for x in egen.vec:\n",
    "    print(x, '\\n', egen.feature_map[x])"
   ]
  },
  {
   "cell_type": "code",
   "execution_count": 376,
   "id": "ecb742e2-f6fc-4c16-82e7-49a4dcfca517",
   "metadata": {},
   "outputs": [],
   "source": [
    "class GateSet():\n",
    "    \"\"\"\n",
    "    Holds the information for\n",
    "        -all native gates, states, and measurements\n",
    "        -all error generator features (in a feature dict)\n",
    "        -map between gate labels and parameter index list (index set)\n",
    "        -map between parameter indices and error features (feature dict) \n",
    "        \n",
    "    TODO: generalize to n-qubits\n",
    "    \"\"\"\n",
    "    def __init__(self, model_pack, parameterization='HSCA'):\n",
    "        # A list of error rates, each one corresponding to one feature in the above list\n",
    "        self.rates = []\n",
    "        self.feature_map = dict() # maps variables to their associated feature\n",
    "        self.egen_from_label = dict() # maps gate labels to error generators\n",
    "        self.target_model = model_pack.target_model('CPTP')\n",
    "        self.gate_labels = model_pack.gates\n",
    "        \n",
    "        # Errors generators for all gates in the model\n",
    "        for gate in model_pack.gates:\n",
    "            if len(gate) <= 1:\n",
    "                egen = ErrorGen(1, (gate, ''))\n",
    "            else:\n",
    "                egen = ErrorGen(1, gate)\n",
    "            self.egen_from_label[gate] = egen\n",
    "            self.rates += egen.vec\n",
    "            self.feature_map.update(egen.feature_map)\n",
    "        # Errors for all measurements in the model\n",
    "        for povm in model.povms.keys():\n",
    "            egen = ErrorGen(1, (povm, 'M'))\n",
    "            self.egen_from_label[povm] = egen\n",
    "            self.rates += egen.vec\n",
    "            self.feature_map.update(egen.feature_map)\n",
    "        # Errors for all state preparations in the model\n",
    "        for prep in model.preps.keys():\n",
    "            egen = ErrorGen(1, (prep, 'P'))\n",
    "            self.egen_from_label[prep] = egen\n",
    "            self.rates += egen.vec\n",
    "            self.feature_map.update(egen.feature_map)\n",
    "            \n",
    "    @property\n",
    "    def vec(self):\n",
    "        return self.rates\n",
    "    \n",
    "    def features_of(self, op_label):\n",
    "        \"\"\"Returns the list of error features associated with the given gate/POVM/state-prep\"\"\"\n",
    "        return self.egen_from_label[op_label].features\n",
    "    \n",
    "    def rates_of(self, op_label):\n",
    "        \"\"\"Returns the list of error rates associated with the given gate/POVM/state-prep\"\"\"\n",
    "        return self.egen_from_label[op_label].vec\n",
    "    \n",
    "    def error_generator_of(self, op_label):\n",
    "        \"\"\"Returns the error generator matrix associated with the given gate/POVM/state-prep\"\"\"\n",
    "        return self.egen_from_label[op_label].mat\n",
    "    \n",
    "    def target_op(self, op_label):\n",
    "        \"\"\"\n",
    "        returns the target operation of the given operation\n",
    "        \"\"\"\n",
    "        return self.target_model[op_label].to_dense()\n",
    "\n",
    "    def native_meas(self):\n",
    "        return [m.to_dense() for m in self.target_model['Mdefault'].values()]\n",
    "\n",
    "    def rho0(self):\n",
    "        return self.target_model['rho0'].to_dense()\n"
   ]
  },
  {
   "cell_type": "code",
   "execution_count": 377,
   "id": "f9847f4f-a4c8-4e10-9740-eca5f1b6ba7c",
   "metadata": {},
   "outputs": [
    {
     "data": {
      "text/plain": [
       "[H^{X}_{()},\n",
       " H^{Y}_{()},\n",
       " H^{Z}_{()},\n",
       " S^{X}_{()},\n",
       " S^{Y}_{()},\n",
       " S^{Z}_{()},\n",
       " C^{XY}_{()},\n",
       " C^{YZ}_{()},\n",
       " C^{ZX}_{()},\n",
       " A^{XY}_{()},\n",
       " A^{YZ}_{()},\n",
       " A^{ZX}_{()},\n",
       " H^{X0}_{Gxpi2},\n",
       " H^{Y0}_{Gxpi2},\n",
       " H^{Z0}_{Gxpi2},\n",
       " S^{X0}_{Gxpi2},\n",
       " S^{Y0}_{Gxpi2},\n",
       " S^{Z0}_{Gxpi2},\n",
       " C^{XY0}_{Gxpi2},\n",
       " C^{YZ0}_{Gxpi2},\n",
       " C^{ZX0}_{Gxpi2},\n",
       " A^{XY0}_{Gxpi2},\n",
       " A^{YZ0}_{Gxpi2},\n",
       " A^{ZX0}_{Gxpi2},\n",
       " H^{X0}_{Gypi2},\n",
       " H^{Y0}_{Gypi2},\n",
       " H^{Z0}_{Gypi2},\n",
       " S^{X0}_{Gypi2},\n",
       " S^{Y0}_{Gypi2},\n",
       " S^{Z0}_{Gypi2},\n",
       " C^{XY0}_{Gypi2},\n",
       " C^{YZ0}_{Gypi2},\n",
       " C^{ZX0}_{Gypi2},\n",
       " A^{XY0}_{Gypi2},\n",
       " A^{YZ0}_{Gypi2},\n",
       " A^{ZX0}_{Gypi2},\n",
       " H^{X0}_{Gzpi2},\n",
       " H^{Y0}_{Gzpi2},\n",
       " H^{Z0}_{Gzpi2},\n",
       " S^{X0}_{Gzpi2},\n",
       " S^{Y0}_{Gzpi2},\n",
       " S^{Z0}_{Gzpi2},\n",
       " C^{XY0}_{Gzpi2},\n",
       " C^{YZ0}_{Gzpi2},\n",
       " C^{ZX0}_{Gzpi2},\n",
       " A^{XY0}_{Gzpi2},\n",
       " A^{YZ0}_{Gzpi2},\n",
       " A^{ZX0}_{Gzpi2},\n",
       " H^{XM}_{Mdefault},\n",
       " H^{YM}_{Mdefault},\n",
       " H^{ZM}_{Mdefault},\n",
       " S^{XM}_{Mdefault},\n",
       " S^{YM}_{Mdefault},\n",
       " S^{ZM}_{Mdefault},\n",
       " C^{XYM}_{Mdefault},\n",
       " C^{YZM}_{Mdefault},\n",
       " C^{ZXM}_{Mdefault},\n",
       " A^{XYM}_{Mdefault},\n",
       " A^{YZM}_{Mdefault},\n",
       " A^{ZXM}_{Mdefault},\n",
       " H^{XP}_{rho0},\n",
       " H^{YP}_{rho0},\n",
       " H^{ZP}_{rho0},\n",
       " S^{XP}_{rho0},\n",
       " S^{YP}_{rho0},\n",
       " S^{ZP}_{rho0},\n",
       " C^{XYP}_{rho0},\n",
       " C^{YZP}_{rho0},\n",
       " C^{ZXP}_{rho0},\n",
       " A^{XYP}_{rho0},\n",
       " A^{YZP}_{rho0},\n",
       " A^{ZXP}_{rho0}]"
      ]
     },
     "execution_count": 377,
     "metadata": {},
     "output_type": "execute_result"
    }
   ],
   "source": [
    "gs.vec"
   ]
  },
  {
   "cell_type": "code",
   "execution_count": 410,
   "id": "6726d6e6-c310-4259-b7f1-60cb91b20717",
   "metadata": {
    "tags": []
   },
   "outputs": [],
   "source": [
    "class CircuitAnalyzer:\n",
    "    \"\"\"Performs operations on a given pygsti Circuit object,\n",
    "    which is part of a given GateSet.\"\"\"\n",
    "    def __init__(self, circuit, gateset):\n",
    "        self.gateset = gateset\n",
    "        self.circuit = circuit\n",
    "        # Extracts the gates in the circuit as a list of labels\n",
    "        # This may only work for sngle-qubit gates as written?\n",
    "        self.gates = list(circuit.layertup)\n",
    "        # Finds their PTMs (pauli transfer matrices)\n",
    "        self.gate_matrices = [gateset.target_op(gate) for gate in self.gates]\n",
    "        # Extracts the error matrices corresponding to each of these gates\n",
    "        self.errors = [gateset.error_generator_of(gate) for gate in self.gates]\n",
    "        \n",
    "    def left_errors(self):\n",
    "        \"\"\"Moves all gate errors to the left of the circuit,\n",
    "        and returns the resulting list of conjugated error generators.\n",
    "        \n",
    "        NOTE: In our Circuit object, the gates are ordered\n",
    "        left-to-right from first-applied to last-applied.\n",
    "        However, the error terms in the result of this function, are ordered\n",
    "        left-to-right as they would be in matrix multiplication.\"\"\"\n",
    "        \n",
    "        left_errors = []\n",
    "        # Process the errors from the end of the list to its beginning\n",
    "        # Because that's the order they'll appear in the resulting matrix mult\n",
    "        n = len(self.errors)\n",
    "        for i in range(n-1, -1, -1):\n",
    "            error = self.errors[i]\n",
    "            # Conjugate by all gates being applied after i: gates i+1 through n\n",
    "            for j in range(i+1, n):\n",
    "                gate_matrix = self.gate_matrices[j].round(10)\n",
    "                error = gate_matrix * error * np.linalg.inv(gate_matrix)\n",
    "            left_errors.append(error)\n",
    "        return left_errors\n",
    "    \n",
    "    def linear_F_map(self):\n",
    "        \"\"\"Returns the linear approximation of the F map,\n",
    "        after moving all errors to the left. This approximation assumes they commute.\n",
    "        The result is a function of the error terms of the gate set.\n",
    "        \"\"\"\n",
    "        # Simply take the sum of all error generators after moving them to the left\n",
    "        left_errors = self.left_errors()\n",
    "        return sum(left_errors[1:], left_errors[0])\n",
    "    \n",
    "    def order2_F_map(self):\n",
    "        \"\"\"Returns the order-2 approximation of the F map,\n",
    "        after moving all errors to the left, and applying order-2 BCH.\n",
    "        The result is a function of the error terms of the gate set.\n",
    "        \"\"\"\n",
    "        left_errors = self.left_errors()\n",
    "        BCH2 = lambda X, Y : X + Y + (X@Y - Y@X) / 2\n",
    "        # After extracting the left-side errors,\n",
    "        # reduce the list to one matrix by applying BCH to each pair\n",
    "        result = left_errors[0]\n",
    "        for F in left_errors[1:]:\n",
    "            result = BCH2(result, F)\n",
    "        return result"
   ]
  },
  {
   "cell_type": "code",
   "execution_count": 411,
   "id": "91dbc565-ec09-4e34-af9a-efeb45d708ae",
   "metadata": {},
   "outputs": [
    {
     "data": {
      "text/plain": [
       "[(), ('Gxpi2', 0), ('Gypi2', 0), ('Gzpi2', 0)]"
      ]
     },
     "execution_count": 411,
     "metadata": {},
     "output_type": "execute_result"
    }
   ],
   "source": [
    "std.gates"
   ]
  },
  {
   "cell_type": "code",
   "execution_count": 412,
   "id": "3a0c6302-b52b-4204-8e8f-d441de0e007e",
   "metadata": {},
   "outputs": [],
   "source": [
    "gs = GateSet(std)"
   ]
  },
  {
   "cell_type": "code",
   "execution_count": 413,
   "id": "779e1359-4e9c-40de-8fdb-6070b8d6916c",
   "metadata": {},
   "outputs": [
    {
     "data": {
      "text/plain": [
       "(Label(('Gxpi2', 0)), Label(('Gzpi2', 0)))"
      ]
     },
     "execution_count": 413,
     "metadata": {},
     "output_type": "execute_result"
    }
   ],
   "source": [
    "c.layertup"
   ]
  },
  {
   "cell_type": "code",
   "execution_count": 414,
   "id": "23efd075-2dfb-4147-8db6-4530d04fd505",
   "metadata": {},
   "outputs": [
    {
     "name": "stdout",
     "output_type": "stream",
     "text": [
      "Qubit 0 ---|Gxpi2|-|Gzpi2|---\n",
      "\n"
     ]
    }
   ],
   "source": [
    "# Create a simple two gate circuit\n",
    "c = Circuit([(\"Gxpi2\", 0), (\"Gzpi2\", 0)])\n",
    "print(c)"
   ]
  },
  {
   "cell_type": "code",
   "execution_count": 415,
   "id": "49e6ff9a-a902-4e57-b107-92c5bf735684",
   "metadata": {},
   "outputs": [
    {
     "data": {
      "text/latex": [
       "$\\displaystyle \\left[\\begin{matrix}0 & 0 & 0 & 0\\\\- 4.0 A^{YZ0}_{Gxpi2} & - 2.0 S^{Y0}_{Gxpi2} - 2.0 S^{Z0}_{Gxpi2} & 2.0 C^{XY0}_{Gxpi2} - 2.0 H^{Z0}_{Gxpi2} & 2.0 C^{ZX0}_{Gxpi2} + 2.0 H^{Y0}_{Gxpi2}\\\\- 4.0 A^{ZX0}_{Gxpi2} & 2.0 C^{XY0}_{Gxpi2} + 2.0 H^{Z0}_{Gxpi2} & - 2.0 S^{X0}_{Gxpi2} - 2.0 S^{Z0}_{Gxpi2} & 2.0 C^{YZ0}_{Gxpi2} - 2.0 H^{X0}_{Gxpi2}\\\\- 4.0 A^{XY0}_{Gxpi2} & 2.0 C^{ZX0}_{Gxpi2} - 2.0 H^{Y0}_{Gxpi2} & 2.0 C^{YZ0}_{Gxpi2} + 2.0 H^{X0}_{Gxpi2} & - 2.0 S^{X0}_{Gxpi2} - 2.0 S^{Y0}_{Gxpi2}\\end{matrix}\\right]$"
      ],
      "text/plain": [
       "Matrix([\n",
       "[                   0,                                        0,                                        0,                                        0],\n",
       "[-4.0*A^{YZ0}_{Gxpi2}, -2.0*S^{Y0}_{Gxpi2} - 2.0*S^{Z0}_{Gxpi2}, 2.0*C^{XY0}_{Gxpi2} - 2.0*H^{Z0}_{Gxpi2}, 2.0*C^{ZX0}_{Gxpi2} + 2.0*H^{Y0}_{Gxpi2}],\n",
       "[-4.0*A^{ZX0}_{Gxpi2}, 2.0*C^{XY0}_{Gxpi2} + 2.0*H^{Z0}_{Gxpi2}, -2.0*S^{X0}_{Gxpi2} - 2.0*S^{Z0}_{Gxpi2}, 2.0*C^{YZ0}_{Gxpi2} - 2.0*H^{X0}_{Gxpi2}],\n",
       "[-4.0*A^{XY0}_{Gxpi2}, 2.0*C^{ZX0}_{Gxpi2} - 2.0*H^{Y0}_{Gxpi2}, 2.0*C^{YZ0}_{Gxpi2} + 2.0*H^{X0}_{Gxpi2}, -2.0*S^{X0}_{Gxpi2} - 2.0*S^{Y0}_{Gxpi2}]])"
      ]
     },
     "execution_count": 415,
     "metadata": {},
     "output_type": "execute_result"
    }
   ],
   "source": [
    "gs.error_generator_of(c[0])"
   ]
  },
  {
   "cell_type": "code",
   "execution_count": 426,
   "id": "f906b5c7-1bb5-499d-9ddb-473f781a92e0",
   "metadata": {},
   "outputs": [
    {
     "data": {
      "text/latex": [
       "$\\displaystyle \\left[\\begin{matrix}0 & 0 & 0 & 0\\\\- 4.0 A^{YZ0}_{Gzpi2} & - 2.0 S^{Y0}_{Gzpi2} - 2.0 S^{Z0}_{Gzpi2} & 2.0 C^{XY0}_{Gzpi2} - 2.0 H^{Z0}_{Gzpi2} & 2.0 C^{ZX0}_{Gzpi2} + 2.0 H^{Y0}_{Gzpi2}\\\\- 4.0 A^{ZX0}_{Gzpi2} & 2.0 C^{XY0}_{Gzpi2} + 2.0 H^{Z0}_{Gzpi2} & - 2.0 S^{X0}_{Gzpi2} - 2.0 S^{Z0}_{Gzpi2} & 2.0 C^{YZ0}_{Gzpi2} - 2.0 H^{X0}_{Gzpi2}\\\\- 4.0 A^{XY0}_{Gzpi2} & 2.0 C^{ZX0}_{Gzpi2} - 2.0 H^{Y0}_{Gzpi2} & 2.0 C^{YZ0}_{Gzpi2} + 2.0 H^{X0}_{Gzpi2} & - 2.0 S^{X0}_{Gzpi2} - 2.0 S^{Y0}_{Gzpi2}\\end{matrix}\\right]$"
      ],
      "text/plain": [
       "Matrix([\n",
       "[                   0,                                        0,                                        0,                                        0],\n",
       "[-4.0*A^{YZ0}_{Gzpi2}, -2.0*S^{Y0}_{Gzpi2} - 2.0*S^{Z0}_{Gzpi2}, 2.0*C^{XY0}_{Gzpi2} - 2.0*H^{Z0}_{Gzpi2}, 2.0*C^{ZX0}_{Gzpi2} + 2.0*H^{Y0}_{Gzpi2}],\n",
       "[-4.0*A^{ZX0}_{Gzpi2}, 2.0*C^{XY0}_{Gzpi2} + 2.0*H^{Z0}_{Gzpi2}, -2.0*S^{X0}_{Gzpi2} - 2.0*S^{Z0}_{Gzpi2}, 2.0*C^{YZ0}_{Gzpi2} - 2.0*H^{X0}_{Gzpi2}],\n",
       "[-4.0*A^{XY0}_{Gzpi2}, 2.0*C^{ZX0}_{Gzpi2} - 2.0*H^{Y0}_{Gzpi2}, 2.0*C^{YZ0}_{Gzpi2} + 2.0*H^{X0}_{Gzpi2}, -2.0*S^{X0}_{Gzpi2} - 2.0*S^{Y0}_{Gzpi2}]])"
      ]
     },
     "execution_count": 426,
     "metadata": {},
     "output_type": "execute_result"
    }
   ],
   "source": [
    "# Initialize our analyzer object. Verify that the error maps for both X(pi/2) gates are identical\n",
    "a = CircuitAnalyzer(c, gs)\n",
    "a.errors[1]"
   ]
  },
  {
   "cell_type": "code",
   "execution_count": 442,
   "id": "f3a57f1d-77ec-4da8-91f8-963d015ef036",
   "metadata": {},
   "outputs": [
    {
     "data": {
      "text/latex": [
       "$\\displaystyle \\left[\\begin{matrix}0 & 0 & 0 & 0\\\\- 4.0 A^{YZ0}_{Gzpi2} + 4.0 A^{ZX0}_{Gxpi2} & - 2.0 S^{X0}_{Gxpi2} - 2.0 S^{Y0}_{Gzpi2} - 2.0 S^{Z0}_{Gxpi2} - 2.0 S^{Z0}_{Gzpi2} & - 2.0 C^{XY0}_{Gxpi2} + 2.0 C^{XY0}_{Gzpi2} - 2.0 H^{Z0}_{Gxpi2} - 2.0 H^{Z0}_{Gzpi2} & - 2.0 C^{YZ0}_{Gxpi2} + 2.0 C^{ZX0}_{Gzpi2} + 2.0 H^{X0}_{Gxpi2} + 2.0 H^{Y0}_{Gzpi2}\\\\- 4.0 A^{YZ0}_{Gxpi2} - 4.0 A^{ZX0}_{Gzpi2} & - 2.0 C^{XY0}_{Gxpi2} + 2.0 C^{XY0}_{Gzpi2} + 2.0 H^{Z0}_{Gxpi2} + 2.0 H^{Z0}_{Gzpi2} & - 2.0 S^{X0}_{Gzpi2} - 2.0 S^{Y0}_{Gxpi2} - 2.0 S^{Z0}_{Gxpi2} - 2.0 S^{Z0}_{Gzpi2} & 2.0 C^{YZ0}_{Gzpi2} + 2.0 C^{ZX0}_{Gxpi2} - 2.0 H^{X0}_{Gzpi2} + 2.0 H^{Y0}_{Gxpi2}\\\\- 4.0 A^{XY0}_{Gxpi2} - 4.0 A^{XY0}_{Gzpi2} & - 2.0 C^{YZ0}_{Gxpi2} + 2.0 C^{ZX0}_{Gzpi2} - 2.0 H^{X0}_{Gxpi2} - 2.0 H^{Y0}_{Gzpi2} & 2.0 C^{YZ0}_{Gzpi2} + 2.0 C^{ZX0}_{Gxpi2} + 2.0 H^{X0}_{Gzpi2} - 2.0 H^{Y0}_{Gxpi2} & - 2.0 S^{X0}_{Gxpi2} - 2.0 S^{X0}_{Gzpi2} - 2.0 S^{Y0}_{Gxpi2} - 2.0 S^{Y0}_{Gzpi2}\\end{matrix}\\right]$"
      ],
      "text/plain": [
       "Matrix([\n",
       "[                                         0,                                                                                    0,                                                                                    0,                                                                                    0],\n",
       "[-4.0*A^{YZ0}_{Gzpi2} + 4.0*A^{ZX0}_{Gxpi2},   -2.0*S^{X0}_{Gxpi2} - 2.0*S^{Y0}_{Gzpi2} - 2.0*S^{Z0}_{Gxpi2} - 2.0*S^{Z0}_{Gzpi2}, -2.0*C^{XY0}_{Gxpi2} + 2.0*C^{XY0}_{Gzpi2} - 2.0*H^{Z0}_{Gxpi2} - 2.0*H^{Z0}_{Gzpi2}, -2.0*C^{YZ0}_{Gxpi2} + 2.0*C^{ZX0}_{Gzpi2} + 2.0*H^{X0}_{Gxpi2} + 2.0*H^{Y0}_{Gzpi2}],\n",
       "[-4.0*A^{YZ0}_{Gxpi2} - 4.0*A^{ZX0}_{Gzpi2}, -2.0*C^{XY0}_{Gxpi2} + 2.0*C^{XY0}_{Gzpi2} + 2.0*H^{Z0}_{Gxpi2} + 2.0*H^{Z0}_{Gzpi2},   -2.0*S^{X0}_{Gzpi2} - 2.0*S^{Y0}_{Gxpi2} - 2.0*S^{Z0}_{Gxpi2} - 2.0*S^{Z0}_{Gzpi2},  2.0*C^{YZ0}_{Gzpi2} + 2.0*C^{ZX0}_{Gxpi2} - 2.0*H^{X0}_{Gzpi2} + 2.0*H^{Y0}_{Gxpi2}],\n",
       "[-4.0*A^{XY0}_{Gxpi2} - 4.0*A^{XY0}_{Gzpi2}, -2.0*C^{YZ0}_{Gxpi2} + 2.0*C^{ZX0}_{Gzpi2} - 2.0*H^{X0}_{Gxpi2} - 2.0*H^{Y0}_{Gzpi2},  2.0*C^{YZ0}_{Gzpi2} + 2.0*C^{ZX0}_{Gxpi2} + 2.0*H^{X0}_{Gzpi2} - 2.0*H^{Y0}_{Gxpi2},   -2.0*S^{X0}_{Gxpi2} - 2.0*S^{X0}_{Gzpi2} - 2.0*S^{Y0}_{Gxpi2} - 2.0*S^{Y0}_{Gzpi2}]])"
      ]
     },
     "execution_count": 442,
     "metadata": {},
     "output_type": "execute_result"
    }
   ],
   "source": [
    "a.linear_F_map()"
   ]
  },
  {
   "cell_type": "code",
   "execution_count": 443,
   "id": "c83424c6-bca8-4121-8b79-66dd27852bf8",
   "metadata": {},
   "outputs": [
    {
     "name": "stdout",
     "output_type": "stream",
     "text": [
      "Matrix([[0, 0, 0, 0], [-4.0*A^{YZ0}_{Gzpi2} + 4.0*A^{ZX0}_{Gxpi2}, -2.0*S^{X0}_{Gxpi2} - 2.0*S^{Y0}_{Gzpi2} - 2.0*S^{Z0}_{Gxpi2} - 2.0*S^{Z0}_{Gzpi2}, -2.0*C^{XY0}_{Gxpi2} + 2.0*C^{XY0}_{Gzpi2} - 2.0*H^{Z0}_{Gxpi2} - 2.0*H^{Z0}_{Gzpi2}, -2.0*C^{YZ0}_{Gxpi2} + 2.0*C^{ZX0}_{Gzpi2} + 2.0*H^{X0}_{Gxpi2} + 2.0*H^{Y0}_{Gzpi2}], [-4.0*A^{YZ0}_{Gxpi2} - 4.0*A^{ZX0}_{Gzpi2}, -2.0*C^{XY0}_{Gxpi2} + 2.0*C^{XY0}_{Gzpi2} + 2.0*H^{Z0}_{Gxpi2} + 2.0*H^{Z0}_{Gzpi2}, -2.0*S^{X0}_{Gzpi2} - 2.0*S^{Y0}_{Gxpi2} - 2.0*S^{Z0}_{Gxpi2} - 2.0*S^{Z0}_{Gzpi2}, 2.0*C^{YZ0}_{Gzpi2} + 2.0*C^{ZX0}_{Gxpi2} - 2.0*H^{X0}_{Gzpi2} + 2.0*H^{Y0}_{Gxpi2}], [-4.0*A^{XY0}_{Gxpi2} - 4.0*A^{XY0}_{Gzpi2}, -2.0*C^{YZ0}_{Gxpi2} + 2.0*C^{ZX0}_{Gzpi2} - 2.0*H^{X0}_{Gxpi2} - 2.0*H^{Y0}_{Gzpi2}, 2.0*C^{YZ0}_{Gzpi2} + 2.0*C^{ZX0}_{Gxpi2} + 2.0*H^{X0}_{Gzpi2} - 2.0*H^{Y0}_{Gxpi2}, -2.0*S^{X0}_{Gxpi2} - 2.0*S^{X0}_{Gzpi2} - 2.0*S^{Y0}_{Gxpi2} - 2.0*S^{Y0}_{Gzpi2}]])\n"
     ]
    }
   ],
   "source": [
    "print(a.linear_F_map())"
   ]
  },
  {
   "cell_type": "code",
   "execution_count": null,
   "id": "e8db95e7-feb8-40ba-8d0f-4cc82b9be4e3",
   "metadata": {},
   "outputs": [],
   "source": []
  }
 ],
 "metadata": {
  "kernelspec": {
   "display_name": "Python 3 (ipykernel)",
   "language": "python",
   "name": "python3"
  },
  "language_info": {
   "codemirror_mode": {
    "name": "ipython",
    "version": 3
   },
   "file_extension": ".py",
   "mimetype": "text/x-python",
   "name": "python",
   "nbconvert_exporter": "python",
   "pygments_lexer": "ipython3",
   "version": "3.10.4"
  }
 },
 "nbformat": 4,
 "nbformat_minor": 5
}

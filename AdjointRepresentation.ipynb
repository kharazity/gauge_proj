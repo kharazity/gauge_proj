{
 "cells": [
  {
   "cell_type": "code",
   "execution_count": 66,
   "id": "77a00618-2352-4452-a36f-7baa72d23ff8",
   "metadata": {},
   "outputs": [],
   "source": [
    "import pygsti\n",
    "from pygsti.circuits import Circuit\n",
    "import random\n",
    "import numpy as np\n",
    "import sympy as sp\n",
    "import matplotlib.pyplot as plt\n",
    "from pygsti.tools.lindbladtools import *\n",
    "from pygsti.baseobjs.basisconstructors import id2x2, sigmax, sigmay, sigmaz\n",
    "from pygsti.modelmembers.operations import LindbladErrorgen\n",
    "from tqdm import tqdm\n",
    "SigX = np.array([[0, 1], [1, 0]], dtype=complex)\n",
    "SigY = np.array([[0, -1j], [1j, 0]], dtype=complex)\n",
    "SigZ = np.array([[1, 0], [0, -1]], dtype=complex)"
   ]
  },
  {
   "cell_type": "code",
   "execution_count": 67,
   "id": "8fd448fd-72c4-456e-91a4-c533cc928bc3",
   "metadata": {},
   "outputs": [],
   "source": [
    "import numpy as _np\n",
    "import scipy.sparse as _sps\n",
    "\n",
    "from pygsti.tools import matrixtools as _mt\n",
    "from pygsti.tools.basistools import basis_matrices"
   ]
  },
  {
   "cell_type": "code",
   "execution_count": 68,
   "id": "da7412d0-773e-4c63-919d-bcdc9337f7e4",
   "metadata": {},
   "outputs": [],
   "source": [
    "def create_elementary_errorgen_pp(typ, p, q=None, sparse=False):\n",
    "    \"\"\"\n",
    "    Construct an elementary error generator as a matrix in the \"pauli product\" basis.\n",
    "    There are four different types of elementary error generators: 'H' (Hamiltonian),\n",
    "    'S' (stochastic), 'C' (correlation), and 'A' (active).  See arxiv:2103.01928.\n",
    "    Each type transforms an input density matrix differently.  The action of an elementary\n",
    "    error generator `L` on an input density matrix `rho` is given by:\n",
    "    Hamiltonian:  `L(rho) = -1j * [ p, rho ]`\n",
    "    Stochastic:   `L(rho) = p * rho * p - rho\n",
    "    Correlation:  `L(rho) = p * rho * q + q * rho * p - 0.5 {{p,q}, rho}\n",
    "    Active:       `L(rho) = 1j( p * rho * q - q * rho * p + 0.5 {[p,q], rho} )\n",
    "    Square brackets denotes the commutator and curly brackets the anticommutator.\n",
    "    `L` is returned as a superoperator matrix that acts on vectorized density matrices.\n",
    "    Parameters\n",
    "    ----------\n",
    "    typ : {'H','S','C','A'}\n",
    "        The type of error generator to construct.\n",
    "    p : numpy.ndarray\n",
    "        d-dimensional basis matrix.\n",
    "    q : numpy.ndarray, optional\n",
    "        d-dimensional basis matrix; must be non-None if and only if `typ` is `'C'` or `'A'`.\n",
    "    sparse : bool, optional\n",
    "        Whether to construct a sparse or dense (the default) matrix.\n",
    "    Returns\n",
    "    -------\n",
    "    ndarray or Scipy CSR matrix\n",
    "    \"\"\"\n",
    "    d = p.shape[0]; d2 = d**2\n",
    "    if sparse:\n",
    "        elem_errgen = _sps.lil_matrix((d2, d2), dtype=p.dtype)\n",
    "    else:\n",
    "        elem_errgen = _np.empty((d2, d2), dtype=p.dtype)\n",
    "\n",
    "    assert(typ in ('H', 'S', 'C', 'A')), \"`typ` must be one of 'H', 'S', 'C', or 'A'\"\n",
    "    assert((typ in 'HS' and q is None) or (typ in 'CA' and q is not None)), \\\n",
    "        \"Wrong number of basis elements provided for %s-type elementary errorgen!\" % typ\n",
    "\n",
    "    pdag = p.T.conjugate()\n",
    "    qdag = q.T.conjugate() if (q is not None) else None\n",
    "\n",
    "    if typ in 'CA':\n",
    "        pq_plus_qp = pdag @ q + qdag @ p\n",
    "        pq_minus_qp = pdag @ q - qdag @ p\n",
    "\n",
    "    # Loop through the standard basis as all possible input density matrices\n",
    "    for i, rho0 in enumerate(basis_matrices('std', d2)):  # rho0 == input density mx\n",
    "        # Only difference between H/S/C/A is how they transform input density matrices\n",
    "        if typ == 'H':\n",
    "            rho1 = -1j * (p @ rho0 - rho0 @ p)  # Add \"/2\" to have PP ham gens match previous versions of pyGSTi\n",
    "        elif typ == 'S':\n",
    "            pdag_p = (pdag @ p)\n",
    "            rho1 = p @ rho0 @ pdag - 0.5 * (pdag_p @ rho0 + rho0 @ pdag_p)\n",
    "        elif typ == 'C':\n",
    "            rho1 = p @ rho0 @ qdag + q @ rho0 @ pdag - 0.5 * (pq_plus_qp @ rho0 + rho0 @ pq_plus_qp)\n",
    "        elif typ == 'A':\n",
    "            rho1 = 1j * (p @ rho0 @ qdag - q @ rho0 @ pdag + 0.5 * (pq_minus_qp @ rho0 + rho0 @ pq_minus_qp))\n",
    "\n",
    "        elem_errgen[:, i] = rho1.flatten()[:, None] if sparse else rho1.flatten()\n",
    "\n",
    "    if sparse: elem_errgen = elem_errgen.tocsr()\n",
    "    return np.round(pygsti.tools.change_basis(elem_errgen, 'std', 'pp'), 12)\n",
    "\n",
    "def create_elementary_errorgen_dual_pp(typ, p, q=None, sparse=False, normalization_factor='auto'):\n",
    "    \"\"\"\n",
    "    Construct a \"dual\" elementary error generator matrix in the \"pauli product\"  basis.\n",
    "    The elementary error generator that is dual to the one computed by calling\n",
    "    :function:`create_elementary_errorgen` with the same argument.  This dual element\n",
    "    can be used to find the coefficient of the original, or \"primal\" elementary generator.\n",
    "    For example, if `A = sum(c_i * E_i)`, where `E_i` are the elementary error generators given\n",
    "    by :function:`create_elementary_errorgen`), then `c_i = dot(D_i.conj(), A)` where `D_i`\n",
    "    is the dual to `E_i`.\n",
    "    There are four different types of dual elementary error generators: 'H' (Hamiltonian),\n",
    "    'S' (stochastic), 'C' (correlation), and 'A' (active).  See arxiv:2103.01928.\n",
    "    Each type transforms an input density matrix differently.  The action of an elementary\n",
    "    error generator `L` on an input density matrix `rho` is given by:\n",
    "    Hamiltonian:  `L(rho) = -1j/(2d^2) * [ p, rho ]`\n",
    "    Stochastic:   `L(rho) = 1/(d^2) p * rho * p\n",
    "    Correlation:  `L(rho) = 1/(2d^2) ( p * rho * q + q * rho * p)\n",
    "    Active:       `L(rho) = 1j/(2d^2) ( p * rho * q - q * rho * p)\n",
    "    where `d` is the dimension of the Hilbert space, e.g. 2 for a single qubit.  Square\n",
    "    brackets denotes the commutator and curly brackets the anticommutator.\n",
    "    `L` is returned as a superoperator matrix that acts on vectorized density matrices.\n",
    "    Parameters\n",
    "    ----------\n",
    "    typ : {'H','S','C','A'}\n",
    "        The type of dual error generator to construct.\n",
    "    p : numpy.ndarray\n",
    "        d-dimensional basis matrix.\n",
    "    q : numpy.ndarray, optional\n",
    "        d-dimensional basis matrix; must be non-None if and only if `typ` is `'C'` or `'A'`.\n",
    "    sparse : bool, optional\n",
    "        Whether to construct a sparse or dense (the default) matrix.\n",
    "    Returns\n",
    "    -------\n",
    "    ndarray or Scipy CSR matrix\n",
    "    \"\"\"\n",
    "    d = p.shape[0]; d2 = d**2\n",
    "    pdag = p.T.conjugate()\n",
    "    qdag = q.T.conjugate() if (q is not None) else None\n",
    "\n",
    "    if sparse:\n",
    "        elem_errgen = _sps.lil_matrix((d2, d2), dtype=p.dtype)\n",
    "    else:\n",
    "        elem_errgen = _np.empty((d2, d2), dtype=p.dtype)\n",
    "\n",
    "    assert(typ in ('H', 'S', 'C', 'A')), \"`typ` must be one of 'H', 'S', 'C', or 'A'\"\n",
    "    assert((typ in 'HS' and q is None) or (typ in 'CA' and q is not None)), \\\n",
    "        \"Wrong number of basis elements provided for %s-type elementary errorgen!\" % typ\n",
    "\n",
    "    # Loop through the standard basis as all possible input density matrices\n",
    "    for i, rho0 in enumerate(basis_matrices('std', d2)):  # rho0 == input density mx\n",
    "        # Only difference between H/S/C/A is how they transform input density matrices\n",
    "        if typ == 'H':\n",
    "            rho1 = -1j * (p @ rho0 - rho0 @ p)  # -1j / (2 * d2) *\n",
    "        elif typ == 'S':\n",
    "            rho1 = (p @ rho0 @ pdag)  # 1 / d2 *\n",
    "        elif typ == 'C':\n",
    "            rho1 = (p @ rho0 @ qdag + q @ rho0 @ pdag)  # 1 / (2 * d2) *\n",
    "        elif typ == 'A':\n",
    "            rho1 = 1j * (p @ rho0 @ qdag - q @ rho0 @ pdag)  # 1j / (2 * d2)\n",
    "        elem_errgen[:, i] = rho1.flatten()[:, None] if sparse else rho1.flatten()\n",
    "\n",
    "    return_normalization = bool(normalization_factor == 'auto_return')\n",
    "    if normalization_factor in ('auto', 'auto_return'):\n",
    "        primal = create_elementary_errorgen(typ, p, q, sparse)\n",
    "        if sparse:\n",
    "            normalization_factor = _np.vdot(elem_errgen.toarray().flatten(), primal.toarray().flatten())\n",
    "        else:\n",
    "            normalization_factor = _np.vdot(elem_errgen.flatten(), primal.flatten())\n",
    "    elem_errgen *= _np.real_if_close(1 / normalization_factor).item()  # item() -> scalar\n",
    "    elem_errgen = np.round(pygsti.tools.change_basis(elem_errgen, 'std', 'pp'), 12)\n",
    "\n",
    "    if sparse: elem_errgen = elem_errgen.tocsr()\n",
    "    return (elem_errgen, normalization_factor) if return_normalization else elem_errgen"
   ]
  },
  {
   "cell_type": "code",
   "execution_count": 69,
   "id": "c096043e-5a3e-46fe-ac4c-c97cc3ea1f5e",
   "metadata": {},
   "outputs": [],
   "source": [
    "def pstr_to_mat(pstr):\n",
    "    pmat = 1\n",
    "    for pchar in pstr:\n",
    "        if pchar == 'X':\n",
    "            pmat = np.kron(pmat, SigX)\n",
    "        elif pchar == 'Y':\n",
    "            pmat = np.kron(pmat, SigY)\n",
    "        elif pchar == 'Z':\n",
    "            pmat = np.kron(pmat, SigZ)\n",
    "        else:\n",
    "            pmat = np.kron(pmat, np.array([[1, 0], [0, 1]], dtype=complex))\n",
    "    return pmat\n",
    "\n",
    "def egenlbl_to_mat(lbl, num_qubits):\n",
    "    egen_type = lbl.errorgen_type\n",
    "    egen_basis_lbls = lbl.basis_element_labels\n",
    "    egen_support = lbl.support\n",
    "    # convert the basis labels into Pauli strings\n",
    "    pstr1 = ['I']*num_qubits\n",
    "    for i, pchar in enumerate(egen_basis_lbls[0]):\n",
    "        pstr1[egen_support[i]] = pchar\n",
    "    pstr1 = ''.join(pstr1)\n",
    "    pmat1 = pstr_to_mat(pstr1)\n",
    "    if egen_type in 'CA':\n",
    "        pstr2 = ['I']*num_qubits\n",
    "        for i, pchar in enumerate(egen_basis_lbls[1]):\n",
    "            pstr2[egen_support[i]] = pchar\n",
    "        pstr2 = ''.join(pstr2)\n",
    "        pmat2 = pstr_to_mat(pstr2)\n",
    "        return create_elementary_errorgen_pp(egen_type, pmat1, pmat2)\n",
    "    else:\n",
    "        return create_elementary_errorgen_pp(egen_type, pmat1)\n",
    "    \n",
    "def egenlbl_to_dual(lbl, num_qubits):\n",
    "    egen_type = lbl.errorgen_type\n",
    "    egen_basis_lbls = lbl.basis_element_labels\n",
    "    egen_support = lbl.support\n",
    "    # convert the basis labels into Pauli strings\n",
    "    pstr1 = ['I']*num_qubits\n",
    "    for i, pchar in enumerate(egen_basis_lbls[0]):\n",
    "        pstr1[egen_support[i]] = pchar\n",
    "    pstr1 = ''.join(pstr1)\n",
    "    pmat1 = pstr_to_mat(pstr1)\n",
    "    if egen_type in 'CA':\n",
    "        pstr2 = ['I']*num_qubits\n",
    "        for i, pchar in enumerate(egen_basis_lbls[1]):\n",
    "            pstr2[egen_support[i]] = pchar\n",
    "        pstr2 = ''.join(pstr2)\n",
    "        pmat2 = pstr_to_mat(pstr2)\n",
    "        return create_elementary_errorgen_dual_pp(egen_type, pmat1, pmat2)\n",
    "    else:\n",
    "        return create_elementary_errorgen_dual_pp(egen_type, pmat1)"
   ]
  },
  {
   "cell_type": "code",
   "execution_count": 70,
   "id": "a81c6f35-bcb7-4cd1-81b1-d0ad819ab48f",
   "metadata": {},
   "outputs": [
    {
     "name": "stdout",
     "output_type": "stream",
     "text": [
      "-1.0\n",
      "1.0\n"
     ]
    }
   ],
   "source": [
    "# dual basis returns a negative rate ???\n",
    "print(np.trace(create_elementary_errorgen_pp('A', SigZ, SigX)@create_elementary_errorgen_dual_pp('A', SigZ, SigX)))\n",
    "# seems to work for conjugate of the dual\n",
    "print(np.trace(create_elementary_errorgen_pp('A', SigZ, SigX).conj().T@create_elementary_errorgen_dual_pp('A', SigZ, SigX)))"
   ]
  },
  {
   "cell_type": "code",
   "execution_count": 71,
   "id": "da2da754-21af-4afa-80e9-8a102a4f53f7",
   "metadata": {},
   "outputs": [],
   "source": [
    "class ErrorGen():\n",
    "    \"\"\"\n",
    "    Implements the small Markovian taxonomy\n",
    "    \n",
    "    Parameters:\n",
    "        -features: pauli transfer representations for different error processes\n",
    "        -rates: sympy vector of rates\n",
    "    \"\"\"\n",
    "    \n",
    "    def __init__(self, num_qubits, gate_label=('G', 0), parameterization='HSCA'):\n",
    "        \"\"\"\n",
    "        setup the feature dictionary with keys that are sympy variables\n",
    "        \"\"\"\n",
    "        self.num_qubits = num_qubits\n",
    "        self.label_map = dict() # maps params to corresponding pygsti labels\n",
    "        self.labels =  LindbladErrorgen.from_error_generator(4**num_qubits).coefficient_labels()\n",
    "        self.params = []\n",
    "        for lbl in self.labels:\n",
    "            if len(lbl.basis_element_labels) > 1:\n",
    "                pstr1 = str()\n",
    "                pstr2 = str()\n",
    "                lbl1 = lbl.basis_element_labels[0]\n",
    "                lbl2 = lbl.basis_element_labels[1]\n",
    "                if len(lbl1) < num_qubits:\n",
    "                    flg = 0\n",
    "                    for i in range(num_qubits):\n",
    "                        if i in lbl.support:\n",
    "                            pstr1 += lbl1[flg]\n",
    "                            flg += 1\n",
    "                        else:\n",
    "                            pstr1 += 'I'\n",
    "                else:\n",
    "                    pstr1 = lbl.basis_element_labels[0]\n",
    "                if len(lbl2) < num_qubits:\n",
    "                    flg = 0\n",
    "                    for i in range(num_qubits):\n",
    "                        if i in lbl.support:\n",
    "                            pstr2 += lbl2[flg]\n",
    "                            flg += 1\n",
    "                        else:\n",
    "                            pstr2 += 'I'\n",
    "                else:\n",
    "                    pstr2 = lbl.basis_element_labels[1]\n",
    "                pstr = pstr1 + 'x' + pstr2\n",
    "            else:\n",
    "                pstr = str()\n",
    "                flg = 0\n",
    "                for idx in range(num_qubits):\n",
    "                    if idx in lbl.support:\n",
    "                        pstr += lbl.basis_element_labels[0][flg]\n",
    "                        flg += 1\n",
    "                    else: \n",
    "                        pstr += 'I'\n",
    "            if len(gate_label) > 1:\n",
    "                gstr = str(gate_label[0]) + 'q' + str(gate_label[1])\n",
    "            else:\n",
    "                gstr = gate_label[0]\n",
    "            param = sp.symbols(f'{{{lbl.errorgen_type}}}^{{{pstr}}}_{{{gstr}}} ')\n",
    "            self.params.append(param)\n",
    "            self.label_map[param] = lbl   \n",
    "            \n",
    "    def __len__(self):\n",
    "        return len(self.params)\n",
    "            \n",
    "    @property\n",
    "    def vec(self):\n",
    "        return list(self.params)\n",
    "    \n",
    "    @property\n",
    "    def mat(self):\n",
    "        mat = np.zeros((4**self.num_qubits, 4**self.num_qubits), dtype='O')\n",
    "        for x in self.vec:\n",
    "            mat += x*self.feature_map[x]\n",
    "        return sp.Matrix(mat)\n",
    "    \n",
    "    @property\n",
    "    def features(self):\n",
    "        return [egenlbl_to_mat(lbl, self.num_qubits) for lbl in self.labels]\n",
    "    \n",
    "    @property\n",
    "    def dual_features(self):\n",
    "        return [egenlbl_to_dual(lbl, self.num_qubits) for lbl in self.labels]\n",
    "    \n",
    "    def feature_of_param(self, param):\n",
    "        return egenlbl_to_mat(self.label_map[param], self.num_qubits)\n",
    "    \n",
    "    def extract_rates(self):\n",
    "        rates = dict()\n",
    "        gen = self.mat\n",
    "        for lbl in tqdm(self.labels):\n",
    "            dgen = egenlbl_to_dual(lbl, self.num_qubits)\n",
    "            rates[lbl] = np.trace(dgen.conj().T@gen)\n",
    "        return rates\n",
    "        "
   ]
  },
  {
   "cell_type": "code",
   "execution_count": 72,
   "id": "9c0f140a-dde8-4a22-af90-5cd7f5be16ff",
   "metadata": {},
   "outputs": [],
   "source": [
    "class GateSet():\n",
    "    \"\"\"\n",
    "    Holds the information for\n",
    "        -all native gates, states, and measurements\n",
    "        -all error generator features (in a feature dict)\n",
    "        -map between gate labels and parameter index list (index set)\n",
    "        -map between parameter indices and error features (feature dict) \n",
    "        \n",
    "    TODO: generalize to n-qubits\n",
    "    \"\"\"\n",
    "    def __init__(self, model_pack):\n",
    "        # A list of error rates, each one corresponding to one feature in the above list\n",
    "        self.rates = []\n",
    "        self.gate_errors = dict() # maps gate parameters to error generators\n",
    "        self.target_model = model_pack.target_model('CPTP')\n",
    "        self.gate_labels = model_pack.gates\n",
    "        self.num_qubits = model_pack.processor_spec().num_qubits\n",
    "        \n",
    "        # Errors generators for all gates in the model\n",
    "        for gate in model_pack.gates:\n",
    "            if len(gate) <= 1:\n",
    "                egen = ErrorGen(self.num_qubits, (gate, ''))\n",
    "            else:\n",
    "                egen = ErrorGen(self.num_qubits, gate)\n",
    "            self.gate_errors[gate] = egen\n",
    "            self.rates += egen.vec\n",
    "        # Errors for all measurements in the model\n",
    "        for povm in self.target_model.povms.keys():\n",
    "            egen = ErrorGen(self.num_qubits, (povm, 'M'))\n",
    "            self.gate_errors[povm] = egen\n",
    "            self.rates += egen.vec\n",
    "        # Errors for all state preparations in the model\n",
    "        for prep in self.target_model.preps.keys():\n",
    "            egen = ErrorGen(self.num_qubits, (prep, 'P'))\n",
    "            self.gate_errors[prep] = egen\n",
    "            self.rates += egen.vec\n",
    "            \n",
    "    @property\n",
    "    def vec(self):\n",
    "        return self.rates\n",
    "    \n",
    "    @property\n",
    "    def num_params(self):\n",
    "        return len(self.vec)\n",
    "    \n",
    "    def features_of(self, op_label):\n",
    "        \"\"\"Returns the list of error features associated with the given gate/POVM/state-prep\"\"\"\n",
    "        return self.gate_errors[op_label].features\n",
    "    \n",
    "    def rates_of(self, op_label):\n",
    "        \"\"\"Returns the list of error rates associated with the given gate/POVM/state-prep\"\"\"\n",
    "        return self.gate_errors[op_label].vec\n",
    "    \n",
    "    def error_matrix_of(self, op_label):\n",
    "        \"\"\"Returns the error generator matrix associated with the given gate/POVM/state-prep\"\"\"\n",
    "        return self.gate_errors[op_label].mat\n",
    "    \n",
    "    def target_op(self, op_label):\n",
    "        \"\"\"\n",
    "        returns the target operation of the given operation\n",
    "        \"\"\"\n",
    "        return self.target_model[op_label].to_dense()\n",
    "\n",
    "    def native_meas(self):\n",
    "        return [m.to_dense() for m in self.target_model['Mdefault'].values()]\n",
    "\n",
    "    def rho0(self):\n",
    "        return self.target_model['rho0'].to_dense()"
   ]
  },
  {
   "cell_type": "markdown",
   "id": "4086fc3a-d17a-45f8-8b28-a47720e6cbf0",
   "metadata": {},
   "source": [
    "We'll define the adjoint $\\text{Ad}_U$ map of a unitary gate $U$ according to \n",
    "$$\n",
    "    \\text{Ad}_U(X) \\equiv U X U^{-1}. \n",
    "$$\n",
    "In terms of the adjoint action on a basis\n",
    "$$\n",
    "    \\text{Ad}_U(x^i e_i) = x^i U L_i U^{-1}.\n",
    "$$\n",
    "Now, let us consider a vector representation of the algebra\n",
    "$$\n",
    "    x^i L_i \\equiv z^j e_j\n",
    "$$\n",
    "then we have the correspondence\n",
    "$$\n",
    "    \\text{Ad}_U \\equiv R(U)\n",
    "$$\n",
    "so that \n",
    "$$\n",
    "    R(U)_i^j e_i \\equiv U L_i U^\\dagger. \n",
    "$$\n",
    "\n",
    "We may define the components of $R(U)$ as\n",
    "$$\n",
    "    R(U)^i_j = \\langle L^i , U L_j U^\\dagger \\rangle\n",
    "$$\n",
    "\n",
    "\n",
    "Proof that $\\text{Ad}_{U_2 U_1} = \\text{Ad}_{U_1} \\circ \\text{Ad}_{U_2}$:\n",
    "$$\n",
    "    \\text{Ad}_{U_2 U_1} = U_2 U_1 X U_1^\\dagger U_2^\\dagger = \\text{Ad}_{U_2}(U_1 X U_1^\\dagger) = \\text{Ad}_{U_2} (\\text{Ad}_{U_1}(X))\n",
    "$$"
   ]
  },
  {
   "cell_type": "code",
   "execution_count": 73,
   "id": "00c9beef-c069-4775-a57f-fa547439f46a",
   "metadata": {},
   "outputs": [],
   "source": [
    "from pygsti.modelpacks import smq1Q_XYZI as std\n",
    "egen = ErrorGen(1)\n",
    "gs = GateSet(std)"
   ]
  },
  {
   "cell_type": "code",
   "execution_count": 74,
   "id": "cd553ccd-0f2a-4354-a535-6f97122eddf7",
   "metadata": {},
   "outputs": [
    {
     "data": {
      "text/plain": [
       "[(), ('Gxpi2', 0), ('Gypi2', 0), ('Gzpi2', 0)]"
      ]
     },
     "execution_count": 74,
     "metadata": {},
     "output_type": "execute_result"
    }
   ],
   "source": [
    "gs.gate_labels"
   ]
  },
  {
   "cell_type": "code",
   "execution_count": 75,
   "id": "d99e9444-95bd-4311-b4ea-c81bf7a807f1",
   "metadata": {},
   "outputs": [],
   "source": [
    "def make_adjoint(unitary, egen_basis):\n",
    "    adjoint = np.zeros((len(egen_basis), len(egen_basis)))\n",
    "    for id1, df in enumerate(egen_basis.dual_features):\n",
    "        for id2, f in enumerate(egen_basis.features):\n",
    "            adjoint[id1, id2] = np.trace(df@unitary@f@np.conj(unitary.T))\n",
    "    return adjoint"
   ]
  },
  {
   "cell_type": "code",
   "execution_count": 76,
   "id": "520a535d-3d5a-4d2d-b112-45d311383923",
   "metadata": {},
   "outputs": [],
   "source": [
    "Gx = gs.target_op(('Gxpi2', 0))\n",
    "Gy = gs.target_op(('Gypi2', 0))\n",
    "Gz = gs.target_op(('Gzpi2', 0))"
   ]
  },
  {
   "cell_type": "code",
   "execution_count": 77,
   "id": "e40039d7-d779-4bb2-a453-3817b2622dbc",
   "metadata": {},
   "outputs": [],
   "source": [
    "Ax = make_adjoint(Gx, egen)\n",
    "Ay = make_adjoint(Gy, egen)\n",
    "Az = make_adjoint(Gz, egen)"
   ]
  },
  {
   "cell_type": "code",
   "execution_count": 78,
   "id": "32ecbc51-c858-46ee-97e8-a516676d3b58",
   "metadata": {},
   "outputs": [
    {
     "data": {
      "text/plain": [
       "[{H}^{X}_{Gq0},\n",
       " {H}^{Y}_{Gq0},\n",
       " {H}^{Z}_{Gq0},\n",
       " {S}^{X}_{Gq0},\n",
       " {C}^{XxY}_{Gq0},\n",
       " {A}^{XxY}_{Gq0},\n",
       " {C}^{XxZ}_{Gq0},\n",
       " {A}^{XxZ}_{Gq0},\n",
       " {S}^{Y}_{Gq0},\n",
       " {C}^{YxZ}_{Gq0},\n",
       " {A}^{YxZ}_{Gq0},\n",
       " {S}^{Z}_{Gq0}]"
      ]
     },
     "execution_count": 78,
     "metadata": {},
     "output_type": "execute_result"
    }
   ],
   "source": [
    "egen.vec"
   ]
  },
  {
   "cell_type": "code",
   "execution_count": 79,
   "id": "0faa7441-69cc-428f-90ba-55ba53d3f379",
   "metadata": {},
   "outputs": [
    {
     "data": {
      "text/plain": [
       "<matplotlib.image.AxesImage at 0x7fe143f18670>"
      ]
     },
     "execution_count": 79,
     "metadata": {},
     "output_type": "execute_result"
    },
    {
     "data": {
      "image/png": "[encoded data removed]",
      "text/plain": [
       "<Figure size 480x480 with 1 Axes>"
      ]
     },
     "metadata": {},
     "output_type": "display_data"
    }
   ],
   "source": [
    "plt.matshow(Ax)"
   ]
  },
  {
   "cell_type": "code",
   "execution_count": 80,
   "id": "d4d9ee8d-6aa6-4fcf-9264-4d8bf797f7bf",
   "metadata": {},
   "outputs": [
    {
     "data": {
      "text/plain": [
       "<matplotlib.image.AxesImage at 0x7fe146e77910>"
      ]
     },
     "execution_count": 80,
     "metadata": {},
     "output_type": "execute_result"
    },
    {
     "data": {
      "image/png": "[encoded data removed]",
      "text/plain": [
       "<Figure size 480x480 with 1 Axes>"
      ]
     },
     "metadata": {},
     "output_type": "display_data"
    }
   ],
   "source": [
    "plt.matshow(Ay)"
   ]
  },
  {
   "cell_type": "code",
   "execution_count": 81,
   "id": "af18ed95-1942-41cc-8aba-55dbe823e5af",
   "metadata": {},
   "outputs": [
    {
     "data": {
      "text/plain": [
       "<matplotlib.image.AxesImage at 0x7fe14732fe50>"
      ]
     },
     "execution_count": 81,
     "metadata": {},
     "output_type": "execute_result"
    },
    {
     "data": {
      "image/png": "[encoded data removed]",
      "text/plain": [
       "<Figure size 480x480 with 1 Axes>"
      ]
     },
     "metadata": {},
     "output_type": "display_data"
    }
   ],
   "source": [
    "plt.matshow(Az)"
   ]
  },
  {
   "cell_type": "code",
   "execution_count": 89,
   "id": "18c052f2-e6b7-4c5d-825f-d409ce3fd78f",
   "metadata": {},
   "outputs": [],
   "source": [
    "H = pygsti.tools.unitary_to_std_process_mx((1/2)*np.array([[1, 1], [1, -1]]))\n",
    "H = pygsti.tools.basistools.change_basis(H, 'std', 'pp')"
   ]
  },
  {
   "cell_type": "code",
   "execution_count": 90,
   "id": "18600a40-ee88-43f2-9e17-aeb0dae0257d",
   "metadata": {},
   "outputs": [],
   "source": [
    "Ah = make_adjoint(H, egen)"
   ]
  },
  {
   "cell_type": "code",
   "execution_count": 91,
   "id": "0bb3af2f-6ddd-4b6c-b973-919950597e92",
   "metadata": {},
   "outputs": [
    {
     "data": {
      "text/plain": [
       "<matplotlib.image.AxesImage at 0x7fe143bbe440>"
      ]
     },
     "execution_count": 91,
     "metadata": {},
     "output_type": "execute_result"
    },
    {
     "data": {
      "image/png": "[encoded data removed]",
      "text/plain": [
       "<Figure size 480x480 with 1 Axes>"
      ]
     },
     "metadata": {},
     "output_type": "display_data"
    }
   ],
   "source": [
    "plt.matshow(Ah)"
   ]
  },
  {
   "cell_type": "code",
   "execution_count": 94,
   "id": "93e661bb-6145-4a15-a485-e3661ba3449b",
   "metadata": {},
   "outputs": [],
   "source": [
    "T = pygsti.tools.unitary_to_std_process_mx(np.array([[1, 0], [0, np.exp(1j*np.pi/4)]]))\n",
    "T = pygsti.tools.basistools.change_basis(T, 'std', 'pp')"
   ]
  },
  {
   "cell_type": "code",
   "execution_count": 96,
   "id": "488c3bdb-1a67-48da-94eb-33dad405281a",
   "metadata": {},
   "outputs": [],
   "source": [
    "At = make_adjoint(T, egen)"
   ]
  },
  {
   "cell_type": "code",
   "execution_count": 97,
   "id": "8f5ee84a-6def-409c-8817-fa18428d16c8",
   "metadata": {},
   "outputs": [
    {
     "data": {
      "text/plain": [
       "<matplotlib.image.AxesImage at 0x7fe1438f0fd0>"
      ]
     },
     "execution_count": 97,
     "metadata": {},
     "output_type": "execute_result"
    },
    {
     "data": {
      "image/png": "[encoded data removed]",
      "text/plain": [
       "<Figure size 480x480 with 1 Axes>"
      ]
     },
     "metadata": {},
     "output_type": "display_data"
    }
   ],
   "source": [
    "plt.matshow(At)"
   ]
  },
  {
   "cell_type": "code",
   "execution_count": null,
   "id": "09b849a2-7684-4d3e-9ae6-c82c720a3111",
   "metadata": {},
   "outputs": [],
   "source": []
  }
 ],
 "metadata": {
  "kernelspec": {
   "display_name": "Python 3 (ipykernel)",
   "language": "python",
   "name": "python3"
  },
  "language_info": {
   "codemirror_mode": {
    "name": "ipython",
    "version": 3
   },
   "file_extension": ".py",
   "mimetype": "text/x-python",
   "name": "python",
   "nbconvert_exporter": "python",
   "pygments_lexer": "ipython3",
   "version": "3.10.9"
  }
 },
 "nbformat": 4,
 "nbformat_minor": 5
}

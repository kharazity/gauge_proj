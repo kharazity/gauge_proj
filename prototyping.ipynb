{
 "cells": [
  {
   "cell_type": "code",
   "execution_count": 91,
   "id": "e7b8b704-5946-4e2d-888a-0c18af98970e",
   "metadata": {},
   "outputs": [],
   "source": [
    "import pygsti\n",
    "from pygsti.circuits import Circuit\n",
    "import random\n",
    "from pygsti.modelpacks import smq1Q_XYZI as std\n",
    "# Note that numpy 1.23 will break pygsti\n",
    "import numpy as np\n",
    "import sympy as sp\n",
    "import matplotlib.pyplot as plt"
   ]
  },
  {
   "cell_type": "code",
   "execution_count": 2,
   "id": "514c4e26-dc48-45f7-92ac-c6539a690f22",
   "metadata": {},
   "outputs": [],
   "source": [
    "model = std.target_model('CPTP')"
   ]
  },
  {
   "cell_type": "code",
   "execution_count": 3,
   "id": "5f26a1f7-f4bc-4bf1-be7e-aff1b73a7d1b",
   "metadata": {},
   "outputs": [],
   "source": [
    "model.from_vector( np.random.uniform(0, 0.1, model.num_params))"
   ]
  },
  {
   "cell_type": "code",
   "execution_count": 4,
   "id": "edaa8109-4aa2-4ac6-aa75-aea18b11eb77",
   "metadata": {},
   "outputs": [
    {
     "data": {
      "text/plain": [
       "[(), ('Gxpi2', 0), ('Gypi2', 0), ('Gzpi2', 0)]"
      ]
     },
     "execution_count": 4,
     "metadata": {},
     "output_type": "execute_result"
    }
   ],
   "source": [
    "\"\"\" a model pack has labelled gates and standard state preps and measurements \"\"\"\n",
    "std.gates"
   ]
  },
  {
   "cell_type": "code",
   "execution_count": 5,
   "id": "6a2dc2aa-17a4-4f2c-9a50-784df40bf4f5",
   "metadata": {},
   "outputs": [
    {
     "name": "stdout",
     "output_type": "stream",
     "text": [
      "rho0 in PP basis [ 0.70710678  0.12827056 -0.08042541  0.66443548]\n",
      "Gxpi2 in PP basis\n",
      " [[ 1.00000000e+00  0.00000000e+00  2.22044605e-16  1.57009246e-16]\n",
      " [-2.01556360e-02  9.14983912e-01  1.53922104e-01  1.38922924e-01]\n",
      " [ 7.31941573e-04  1.50326372e-01 -2.94601424e-02 -9.46528923e-01]\n",
      " [-2.01694082e-03 -1.42689681e-01  9.63121432e-01 -9.63682178e-02]]\n",
      "<<0| in PP basis [ 0.70207326 -0.08413068  0.0106909   0.69462019]\n"
     ]
    }
   ],
   "source": [
    "\"\"\"access model memebers with their labels\"\"\"\n",
    "print('rho0 in PP basis', model[('rho0')].to_dense())\n",
    "print('Gxpi2 in PP basis\\n', model[('Gxpi2', 0)].to_dense())\n",
    "print('<<0| in PP basis', model[('Mdefault')]['0'].to_dense()) # note Povms are dictionaries of dictionaries"
   ]
  },
  {
   "cell_type": "code",
   "execution_count": 6,
   "id": "3022fa95-0172-4bfe-8bf2-bd6f5004991f",
   "metadata": {},
   "outputs": [],
   "source": [
    "def random_circuit(depth, model_pack=std):\n",
    "    \"\"\"\n",
    "    works for any 1-qubit model pack and the XYZICnot 2-qubit pack\n",
    "    \"\"\"\n",
    "    proc_spec = model_pack.processor_spec()\n",
    "    layers = []\n",
    "    for i in range(depth):\n",
    "        gate = random.choice(proc_spec.gate_names)\n",
    "        if gate == 'Gcnot':\n",
    "            control = random.choice(proc_spec.qubit_labels)\n",
    "            if control == 0:\n",
    "                target = 1\n",
    "            else:\n",
    "                target = 0\n",
    "            layers.append((gate, control, target))\n",
    "        else:\n",
    "            layers.append((gate, random.choice(proc_spec.qubit_labels)))\n",
    "    return Circuit(layers, proc_spec.qubit_labels)"
   ]
  },
  {
   "cell_type": "code",
   "execution_count": 7,
   "id": "fa9739f3-d7d6-4e7b-84fb-1285b0dde6a9",
   "metadata": {},
   "outputs": [
    {
     "data": {
      "text/plain": [
       "Circuit(Gxpi2:0{idle}:0Gypi2:0@(0))"
      ]
     },
     "execution_count": 7,
     "metadata": {},
     "output_type": "execute_result"
    }
   ],
   "source": [
    "random_circuit(3)"
   ]
  },
  {
   "cell_type": "code",
   "execution_count": 10,
   "id": "09ded699-4264-43ea-9996-a2096b0b2a59",
   "metadata": {},
   "outputs": [
    {
     "data": {
      "text/plain": [
       "<matplotlib.image.AxesImage at 0x146ebf190>"
      ]
     },
     "execution_count": 10,
     "metadata": {},
     "output_type": "execute_result"
    },
    {
     "data": {
      "image/png": "[encoded data removed]",
      "text/plain": [
       "<Figure size 288x288 with 1 Axes>"
      ]
     },
     "metadata": {
      "needs_background": "light"
     },
     "output_type": "display_data"
    }
   ],
   "source": [
    "gx = model[('Gxpi2', 0)]\n",
    "plt.matshow(gx.to_dense())"
   ]
  },
  {
   "cell_type": "code",
   "execution_count": 11,
   "id": "fe84c9b6-505f-4dba-bba6-9b1ac20e0907",
   "metadata": {},
   "outputs": [
    {
     "data": {
      "text/plain": [
       "<matplotlib.image.AxesImage at 0x146f84cd0>"
      ]
     },
     "execution_count": 11,
     "metadata": {},
     "output_type": "execute_result"
    },
    {
     "data": {
      "image/png": "[encoded data removed]",
      "text/plain": [
       "<Figure size 288x288 with 1 Axes>"
      ]
     },
     "metadata": {
      "needs_background": "light"
     },
     "output_type": "display_data"
    }
   ],
   "source": [
    "plt.matshow(gx.submembers()[1].errorgen.to_dense())"
   ]
  },
  {
   "cell_type": "code",
   "execution_count": 12,
   "id": "c64770ca-27b7-473e-bae8-76c33b65f974",
   "metadata": {},
   "outputs": [
    {
     "data": {
      "text/plain": [
       "array([0.03283682, 0.07904518, 0.07781037, 0.01335188, 0.06925751,\n",
       "       0.04287618, 0.02953618, 0.07685783, 0.07630216, 0.02894503,\n",
       "       0.09746674, 0.04913989])"
      ]
     },
     "execution_count": 12,
     "metadata": {},
     "output_type": "execute_result"
    }
   ],
   "source": [
    "gx.to_vector()"
   ]
  },
  {
   "cell_type": "code",
   "execution_count": 13,
   "id": "01e5756b-c27a-4fbf-816f-3ac1dae23ebd",
   "metadata": {},
   "outputs": [
    {
     "name": "stdout",
     "output_type": "stream",
     "text": [
      "(('H', ('X',), (0,)), ('H', ('Y',), (0,)), ('H', ('Z',), (0,)), ('S', ('X',), (0,)), ('C', ('X', 'Y'), (0,)), ('A', ('X', 'Y'), (0,)), ('C', ('X', 'Z'), (0,)), ('A', ('X', 'Z'), (0,)), ('S', ('Y',), (0,)), ('C', ('Y', 'Z'), (0,)), ('A', ('Y', 'Z'), (0,)), ('S', ('Z',), (0,)))\n"
     ]
    },
    {
     "data": {
      "text/plain": [
       "OrderedDict([(('H', ('X',), (0,)), 0.03283682169487545),\n",
       "             (('H', ('Y',), (0,)), 0.07904517792819776),\n",
       "             (('H', ('Z',), (0,)), 0.07781037064277095),\n",
       "             (('S', ('X',), (0,)), 0.00017827275564420846),\n",
       "             (('C', ('X', 'Y'), (0,)), 0.0003943635633302954),\n",
       "             (('A', ('X', 'Y'), (0,)), 0.0009247180505987251),\n",
       "             (('C', ('X', 'Z'), (0,)), 0.0003864706831934139),\n",
       "             (('A', ('X', 'Z'), (0,)), 0.0005724777379963231),\n",
       "             (('S', ('Y',), (0,)), 0.011576113525834018),\n",
       "             (('C', ('Y', 'Z'), (0,)), 0.011315504685806955),\n",
       "             (('A', ('Y', 'Z'), (0,)), 0.005126156318839885),\n",
       "             (('S', ('Z',), (0,)), 0.020412695379177732)])"
      ]
     },
     "execution_count": 13,
     "metadata": {},
     "output_type": "execute_result"
    }
   ],
   "source": [
    "print(gx.errorgen_coefficient_labels())\n",
    "gx.errorgen_coefficients()"
   ]
  },
  {
   "cell_type": "code",
   "execution_count": 14,
   "id": "4c345f99-b5ca-4804-a19b-eafdea330599",
   "metadata": {},
   "outputs": [
    {
     "ename": "IndentationError",
     "evalue": "expected an indented block (<ipython-input-14-940ae0a9a1c2>, line 12)",
     "output_type": "error",
     "traceback": [
      "\u001b[0;36m  File \u001b[0;32m\"<ipython-input-14-940ae0a9a1c2>\"\u001b[0;36m, line \u001b[0;32m12\u001b[0m\n\u001b[0;31m    \u001b[0m\n\u001b[0m    ^\u001b[0m\n\u001b[0;31mIndentationError\u001b[0m\u001b[0;31m:\u001b[0m expected an indented block\n"
     ]
    }
   ],
   "source": [
    "def errorgen_from_circuit(circ, model):\n",
    "    \"\"\"\n",
    "    Returns exp(x o L) from an error model and a circuit\n",
    "    \n",
    "    only produces the linear error generator\n",
    "    \"\"\"\n",
    "    \n",
    "    \n",
    "    \n",
    "    for idg, gate in enumerate(circ):\n",
    "        \n",
    "        "
   ]
  },
  {
   "cell_type": "code",
   "execution_count": 167,
   "id": "44a441a9-a95d-4553-8d92-8e201c72a7f0",
   "metadata": {},
   "outputs": [],
   "source": [
    "class GateSet():\n",
    "    \"\"\"\n",
    "    Holds the information for\n",
    "        -all native gates, states, and measurements\n",
    "        -all error generator features (in a feature dict)\n",
    "        -map between gate labels and parameter index list (index set)\n",
    "        -map between parameter indices and error features (feature dict) \n",
    "    \"\"\"\n",
    "    def __init__(self, model_pack, parameterization='CPTP'):\n",
    "        # A list of error features, each one corresponding to one error generator in our H/S/C/A basis\n",
    "        self.features = []\n",
    "        # A list of error rates, each one corresponding to one feature in the above list\n",
    "        self.rates = []\n",
    "        # A dictionary which maps each gate/POVM/state-prep to its corresponding errors in `self.features`\n",
    "        self.index_set = dict()\n",
    "        model = self.target_model = model_pack.target_model(parameterization)\n",
    "        self.gate_labels = model_pack.gates\n",
    "        \n",
    "        itr = 0\n",
    "        # Errors for all gates in the model\n",
    "        for gate in model_pack.gates:\n",
    "            param_index_list = []\n",
    "            for egentype in model[gate].submembers()[1].errorgen.lindblad_term_superops_and_1norms:\n",
    "                for mat in egentype[0][:]:\n",
    "                    # Add the error feature to the list\n",
    "                    self.features.append(np.asarray(mat.todense()))\n",
    "                    # create a new sympy variable to represent the rate associated to that feature\n",
    "                    self.rates.append(sp.Symbol(f'x{itr}'))\n",
    "                    param_index_list.append(itr)\n",
    "                    itr += 1\n",
    "            self.index_set[gate] = param_index_list\n",
    "        # Errors for all measurements in the model\n",
    "        for povm in model.povms.keys():\n",
    "            param_index_list = []\n",
    "            for egentype in model[povm].error_map.errorgen.lindblad_term_superops_and_1norms:\n",
    "                for mat in egentype[0][:]:\n",
    "                    self.features.append(np.asarray(mat.todense()))\n",
    "                    param_index_list.append(itr)\n",
    "                    itr += 1\n",
    "            self.index_set[povm] = param_index_list\n",
    "        # Errors for all state preparations in the model\n",
    "        for prep in model.preps.keys():\n",
    "            param_index_list = []\n",
    "            for egentype in model[prep].error_map.errorgen.lindblad_term_superops_and_1norms:\n",
    "                for mat in egentype[0][:]:\n",
    "                    self.features.append(np.asarray(mat.todense()))\n",
    "                    param_index_list.append(itr)\n",
    "                    itr += 1\n",
    "            self.index_set[prep] = param_index_list    \n",
    "    \n",
    "    def features_of(self, op_label):\n",
    "        \"\"\"Returns the list of error features associated with the given gate/POVM/state-prep\"\"\"\n",
    "        indices = self.index_set[op_label]\n",
    "        return [self.features[i] for i in indices]\n",
    "    \n",
    "    def rates_of(self, op_label):\n",
    "        \"\"\"Returns the list of error rates associated with the given gate/POVM/state-prep\"\"\"\n",
    "        indices = self.index_set[op_label]\n",
    "        return [self.rates[i] for i in indices]\n",
    "    \n",
    "    def error_generator_of(self, op_label):\n",
    "        \"\"\"Returns the error generator matrix associated with the given gate/POVM/state-prep\"\"\"\n",
    "        indices = self.index_set[op_label]\n",
    "        # Initialize using the first error generator\n",
    "        result = self.features[indices[0]] * self.rates[indices[0]]\n",
    "        # Add each error generator multiplied by its rate\n",
    "        for i in indices[1:]:\n",
    "            result += self.features[i] * self.rates[i]\n",
    "        # Convert to a sympy matrix to keep track of variables\n",
    "        return sp.Matrix(result)\n",
    "    \n",
    "    def target_op(self, op_label):\n",
    "        \"\"\"\n",
    "        returns the target operation of the given operation\n",
    "        \"\"\"\n",
    "        return self.target_model[op_label].to_dense()\n",
    "\n",
    "    def native_meas(self):\n",
    "        return [m.to_dense() for m in self.target_model['Mdefault'].values()]\n",
    "\n",
    "    def rho0(self):\n",
    "        return self.target_model['rho0'].to_dense()"
   ]
  },
  {
   "cell_type": "code",
   "execution_count": 169,
   "id": "7d157fd5-a507-4df7-b60f-6ce7c3895549",
   "metadata": {},
   "outputs": [],
   "source": [
    "def all_random_circuits(length):\n",
    "    \"\"\"\n",
    "    returns all random circuits of given length\n",
    "    \"\"\""
   ]
  },
  {
   "cell_type": "code",
   "execution_count": 170,
   "id": "96e7f849-a430-45fc-95ed-cec2b6e745f4",
   "metadata": {},
   "outputs": [],
   "source": [
    "gs = GateSet(std)"
   ]
  },
  {
   "cell_type": "code",
   "execution_count": 171,
   "id": "906fb1c7-5ecd-407d-bfd2-021c9ea351c4",
   "metadata": {},
   "outputs": [
    {
     "data": {
      "text/plain": [
       "{(): [0, 1, 2, 3, 4, 5, 6, 7, 8, 9, 10, 11],\n",
       " ('Gxpi2', 0): [12, 13, 14, 15, 16, 17, 18, 19, 20, 21, 22, 23],\n",
       " ('Gypi2', 0): [24, 25, 26, 27, 28, 29, 30, 31, 32, 33, 34, 35],\n",
       " ('Gzpi2', 0): [36, 37, 38, 39, 40, 41, 42, 43, 44, 45, 46, 47],\n",
       " Label('Mdefault'): [48, 49, 50, 51, 52, 53, 54, 55, 56, 57, 58, 59],\n",
       " Label('rho0'): [60, 61, 62, 63, 64, 65, 66, 67, 68, 69, 70, 71]}"
      ]
     },
     "execution_count": 171,
     "metadata": {},
     "output_type": "execute_result"
    }
   ],
   "source": [
    "\"\"\"show the index set\"\"\"\n",
    "gs.index_set"
   ]
  },
  {
   "cell_type": "code",
   "execution_count": 172,
   "id": "254a7209-c7be-467f-adb8-6f09d84d40d1",
   "metadata": {},
   "outputs": [
    {
     "data": {
      "text/plain": [
       "[array([[ 0.+0.j,  0.+0.j,  0.+0.j,  0.+0.j],\n",
       "        [ 0.+0.j,  0.+0.j,  0.+0.j,  0.+0.j],\n",
       "        [ 0.+0.j,  0.+0.j,  0.+0.j, -2.+0.j],\n",
       "        [ 0.+0.j,  0.+0.j,  2.+0.j,  0.+0.j]]),\n",
       " array([[ 0.+0.j,  0.+0.j,  0.+0.j,  0.+0.j],\n",
       "        [ 0.+0.j,  0.+0.j,  0.+0.j,  2.+0.j],\n",
       "        [ 0.+0.j,  0.+0.j,  0.+0.j,  0.+0.j],\n",
       "        [ 0.+0.j, -2.+0.j,  0.+0.j,  0.+0.j]]),\n",
       " array([[ 0.+0.j,  0.+0.j,  0.+0.j,  0.+0.j],\n",
       "        [ 0.+0.j,  0.+0.j, -2.+0.j,  0.+0.j],\n",
       "        [ 0.+0.j,  2.+0.j,  0.+0.j,  0.+0.j],\n",
       "        [ 0.+0.j,  0.+0.j,  0.+0.j,  0.+0.j]]),\n",
       " array([[ 0.+0.j,  0.+0.j,  0.+0.j,  0.+0.j],\n",
       "        [ 0.+0.j,  0.+0.j,  0.+0.j,  0.+0.j],\n",
       "        [ 0.+0.j,  0.+0.j, -2.+0.j,  0.+0.j],\n",
       "        [ 0.+0.j,  0.+0.j,  0.+0.j, -2.+0.j]]),\n",
       " array([[0.+0.j, 0.+0.j, 0.+0.j, 0.+0.j],\n",
       "        [0.+0.j, 0.+0.j, 1.+0.j, 0.+0.j],\n",
       "        [0.+0.j, 1.+0.j, 0.+0.j, 0.+0.j],\n",
       "        [0.-2.j, 0.+0.j, 0.+0.j, 0.+0.j]]),\n",
       " array([[0.+0.j, 0.+0.j, 0.+0.j, 0.+0.j],\n",
       "        [0.+0.j, 0.+0.j, 0.+0.j, 1.+0.j],\n",
       "        [0.+2.j, 0.+0.j, 0.+0.j, 0.+0.j],\n",
       "        [0.+0.j, 1.+0.j, 0.+0.j, 0.+0.j]]),\n",
       " array([[0.+0.j, 0.+0.j, 0.+0.j, 0.+0.j],\n",
       "        [0.+0.j, 0.+0.j, 1.+0.j, 0.+0.j],\n",
       "        [0.+0.j, 1.+0.j, 0.+0.j, 0.+0.j],\n",
       "        [0.+2.j, 0.+0.j, 0.+0.j, 0.+0.j]]),\n",
       " array([[ 0.+0.j,  0.+0.j,  0.+0.j,  0.+0.j],\n",
       "        [ 0.+0.j, -2.+0.j,  0.+0.j,  0.+0.j],\n",
       "        [ 0.+0.j,  0.+0.j,  0.+0.j,  0.+0.j],\n",
       "        [ 0.+0.j,  0.+0.j,  0.+0.j, -2.+0.j]]),\n",
       " array([[0.+0.j, 0.+0.j, 0.+0.j, 0.+0.j],\n",
       "        [0.-2.j, 0.+0.j, 0.+0.j, 0.+0.j],\n",
       "        [0.+0.j, 0.+0.j, 0.+0.j, 1.+0.j],\n",
       "        [0.+0.j, 0.+0.j, 1.+0.j, 0.+0.j]]),\n",
       " array([[0.+0.j, 0.+0.j, 0.+0.j, 0.+0.j],\n",
       "        [0.+0.j, 0.+0.j, 0.+0.j, 1.+0.j],\n",
       "        [0.-2.j, 0.+0.j, 0.+0.j, 0.+0.j],\n",
       "        [0.+0.j, 1.+0.j, 0.+0.j, 0.+0.j]]),\n",
       " array([[0.+0.j, 0.+0.j, 0.+0.j, 0.+0.j],\n",
       "        [0.+2.j, 0.+0.j, 0.+0.j, 0.+0.j],\n",
       "        [0.+0.j, 0.+0.j, 0.+0.j, 1.+0.j],\n",
       "        [0.+0.j, 0.+0.j, 1.+0.j, 0.+0.j]]),\n",
       " array([[ 0.+0.j,  0.+0.j,  0.+0.j,  0.+0.j],\n",
       "        [ 0.+0.j, -2.+0.j,  0.+0.j,  0.+0.j],\n",
       "        [ 0.+0.j,  0.+0.j, -2.+0.j,  0.+0.j],\n",
       "        [ 0.+0.j,  0.+0.j,  0.+0.j,  0.+0.j]]),\n",
       " array([[ 0.+0.j,  0.+0.j,  0.+0.j,  0.+0.j],\n",
       "        [ 0.+0.j,  0.+0.j,  0.+0.j,  0.+0.j],\n",
       "        [ 0.+0.j,  0.+0.j,  0.+0.j, -2.+0.j],\n",
       "        [ 0.+0.j,  0.+0.j,  2.+0.j,  0.+0.j]]),\n",
       " array([[ 0.+0.j,  0.+0.j,  0.+0.j,  0.+0.j],\n",
       "        [ 0.+0.j,  0.+0.j,  0.+0.j,  2.+0.j],\n",
       "        [ 0.+0.j,  0.+0.j,  0.+0.j,  0.+0.j],\n",
       "        [ 0.+0.j, -2.+0.j,  0.+0.j,  0.+0.j]]),\n",
       " array([[ 0.+0.j,  0.+0.j,  0.+0.j,  0.+0.j],\n",
       "        [ 0.+0.j,  0.+0.j, -2.+0.j,  0.+0.j],\n",
       "        [ 0.+0.j,  2.+0.j,  0.+0.j,  0.+0.j],\n",
       "        [ 0.+0.j,  0.+0.j,  0.+0.j,  0.+0.j]]),\n",
       " array([[ 0.+0.j,  0.+0.j,  0.+0.j,  0.+0.j],\n",
       "        [ 0.+0.j,  0.+0.j,  0.+0.j,  0.+0.j],\n",
       "        [ 0.+0.j,  0.+0.j, -2.+0.j,  0.+0.j],\n",
       "        [ 0.+0.j,  0.+0.j,  0.+0.j, -2.+0.j]]),\n",
       " array([[0.+0.j, 0.+0.j, 0.+0.j, 0.+0.j],\n",
       "        [0.+0.j, 0.+0.j, 1.+0.j, 0.+0.j],\n",
       "        [0.+0.j, 1.+0.j, 0.+0.j, 0.+0.j],\n",
       "        [0.-2.j, 0.+0.j, 0.+0.j, 0.+0.j]]),\n",
       " array([[0.+0.j, 0.+0.j, 0.+0.j, 0.+0.j],\n",
       "        [0.+0.j, 0.+0.j, 0.+0.j, 1.+0.j],\n",
       "        [0.+2.j, 0.+0.j, 0.+0.j, 0.+0.j],\n",
       "        [0.+0.j, 1.+0.j, 0.+0.j, 0.+0.j]]),\n",
       " array([[0.+0.j, 0.+0.j, 0.+0.j, 0.+0.j],\n",
       "        [0.+0.j, 0.+0.j, 1.+0.j, 0.+0.j],\n",
       "        [0.+0.j, 1.+0.j, 0.+0.j, 0.+0.j],\n",
       "        [0.+2.j, 0.+0.j, 0.+0.j, 0.+0.j]]),\n",
       " array([[ 0.+0.j,  0.+0.j,  0.+0.j,  0.+0.j],\n",
       "        [ 0.+0.j, -2.+0.j,  0.+0.j,  0.+0.j],\n",
       "        [ 0.+0.j,  0.+0.j,  0.+0.j,  0.+0.j],\n",
       "        [ 0.+0.j,  0.+0.j,  0.+0.j, -2.+0.j]]),\n",
       " array([[0.+0.j, 0.+0.j, 0.+0.j, 0.+0.j],\n",
       "        [0.-2.j, 0.+0.j, 0.+0.j, 0.+0.j],\n",
       "        [0.+0.j, 0.+0.j, 0.+0.j, 1.+0.j],\n",
       "        [0.+0.j, 0.+0.j, 1.+0.j, 0.+0.j]]),\n",
       " array([[0.+0.j, 0.+0.j, 0.+0.j, 0.+0.j],\n",
       "        [0.+0.j, 0.+0.j, 0.+0.j, 1.+0.j],\n",
       "        [0.-2.j, 0.+0.j, 0.+0.j, 0.+0.j],\n",
       "        [0.+0.j, 1.+0.j, 0.+0.j, 0.+0.j]]),\n",
       " array([[0.+0.j, 0.+0.j, 0.+0.j, 0.+0.j],\n",
       "        [0.+2.j, 0.+0.j, 0.+0.j, 0.+0.j],\n",
       "        [0.+0.j, 0.+0.j, 0.+0.j, 1.+0.j],\n",
       "        [0.+0.j, 0.+0.j, 1.+0.j, 0.+0.j]]),\n",
       " array([[ 0.+0.j,  0.+0.j,  0.+0.j,  0.+0.j],\n",
       "        [ 0.+0.j, -2.+0.j,  0.+0.j,  0.+0.j],\n",
       "        [ 0.+0.j,  0.+0.j, -2.+0.j,  0.+0.j],\n",
       "        [ 0.+0.j,  0.+0.j,  0.+0.j,  0.+0.j]]),\n",
       " array([[ 0.+0.j,  0.+0.j,  0.+0.j,  0.+0.j],\n",
       "        [ 0.+0.j,  0.+0.j,  0.+0.j,  0.+0.j],\n",
       "        [ 0.+0.j,  0.+0.j,  0.+0.j, -2.+0.j],\n",
       "        [ 0.+0.j,  0.+0.j,  2.+0.j,  0.+0.j]]),\n",
       " array([[ 0.+0.j,  0.+0.j,  0.+0.j,  0.+0.j],\n",
       "        [ 0.+0.j,  0.+0.j,  0.+0.j,  2.+0.j],\n",
       "        [ 0.+0.j,  0.+0.j,  0.+0.j,  0.+0.j],\n",
       "        [ 0.+0.j, -2.+0.j,  0.+0.j,  0.+0.j]]),\n",
       " array([[ 0.+0.j,  0.+0.j,  0.+0.j,  0.+0.j],\n",
       "        [ 0.+0.j,  0.+0.j, -2.+0.j,  0.+0.j],\n",
       "        [ 0.+0.j,  2.+0.j,  0.+0.j,  0.+0.j],\n",
       "        [ 0.+0.j,  0.+0.j,  0.+0.j,  0.+0.j]]),\n",
       " array([[ 0.+0.j,  0.+0.j,  0.+0.j,  0.+0.j],\n",
       "        [ 0.+0.j,  0.+0.j,  0.+0.j,  0.+0.j],\n",
       "        [ 0.+0.j,  0.+0.j, -2.+0.j,  0.+0.j],\n",
       "        [ 0.+0.j,  0.+0.j,  0.+0.j, -2.+0.j]]),\n",
       " array([[0.+0.j, 0.+0.j, 0.+0.j, 0.+0.j],\n",
       "        [0.+0.j, 0.+0.j, 1.+0.j, 0.+0.j],\n",
       "        [0.+0.j, 1.+0.j, 0.+0.j, 0.+0.j],\n",
       "        [0.-2.j, 0.+0.j, 0.+0.j, 0.+0.j]]),\n",
       " array([[0.+0.j, 0.+0.j, 0.+0.j, 0.+0.j],\n",
       "        [0.+0.j, 0.+0.j, 0.+0.j, 1.+0.j],\n",
       "        [0.+2.j, 0.+0.j, 0.+0.j, 0.+0.j],\n",
       "        [0.+0.j, 1.+0.j, 0.+0.j, 0.+0.j]]),\n",
       " array([[0.+0.j, 0.+0.j, 0.+0.j, 0.+0.j],\n",
       "        [0.+0.j, 0.+0.j, 1.+0.j, 0.+0.j],\n",
       "        [0.+0.j, 1.+0.j, 0.+0.j, 0.+0.j],\n",
       "        [0.+2.j, 0.+0.j, 0.+0.j, 0.+0.j]]),\n",
       " array([[ 0.+0.j,  0.+0.j,  0.+0.j,  0.+0.j],\n",
       "        [ 0.+0.j, -2.+0.j,  0.+0.j,  0.+0.j],\n",
       "        [ 0.+0.j,  0.+0.j,  0.+0.j,  0.+0.j],\n",
       "        [ 0.+0.j,  0.+0.j,  0.+0.j, -2.+0.j]]),\n",
       " array([[0.+0.j, 0.+0.j, 0.+0.j, 0.+0.j],\n",
       "        [0.-2.j, 0.+0.j, 0.+0.j, 0.+0.j],\n",
       "        [0.+0.j, 0.+0.j, 0.+0.j, 1.+0.j],\n",
       "        [0.+0.j, 0.+0.j, 1.+0.j, 0.+0.j]]),\n",
       " array([[0.+0.j, 0.+0.j, 0.+0.j, 0.+0.j],\n",
       "        [0.+0.j, 0.+0.j, 0.+0.j, 1.+0.j],\n",
       "        [0.-2.j, 0.+0.j, 0.+0.j, 0.+0.j],\n",
       "        [0.+0.j, 1.+0.j, 0.+0.j, 0.+0.j]]),\n",
       " array([[0.+0.j, 0.+0.j, 0.+0.j, 0.+0.j],\n",
       "        [0.+2.j, 0.+0.j, 0.+0.j, 0.+0.j],\n",
       "        [0.+0.j, 0.+0.j, 0.+0.j, 1.+0.j],\n",
       "        [0.+0.j, 0.+0.j, 1.+0.j, 0.+0.j]]),\n",
       " array([[ 0.+0.j,  0.+0.j,  0.+0.j,  0.+0.j],\n",
       "        [ 0.+0.j, -2.+0.j,  0.+0.j,  0.+0.j],\n",
       "        [ 0.+0.j,  0.+0.j, -2.+0.j,  0.+0.j],\n",
       "        [ 0.+0.j,  0.+0.j,  0.+0.j,  0.+0.j]]),\n",
       " array([[ 0.+0.j,  0.+0.j,  0.+0.j,  0.+0.j],\n",
       "        [ 0.+0.j,  0.+0.j,  0.+0.j,  0.+0.j],\n",
       "        [ 0.+0.j,  0.+0.j,  0.+0.j, -2.+0.j],\n",
       "        [ 0.+0.j,  0.+0.j,  2.+0.j,  0.+0.j]]),\n",
       " array([[ 0.+0.j,  0.+0.j,  0.+0.j,  0.+0.j],\n",
       "        [ 0.+0.j,  0.+0.j,  0.+0.j,  2.+0.j],\n",
       "        [ 0.+0.j,  0.+0.j,  0.+0.j,  0.+0.j],\n",
       "        [ 0.+0.j, -2.+0.j,  0.+0.j,  0.+0.j]]),\n",
       " array([[ 0.+0.j,  0.+0.j,  0.+0.j,  0.+0.j],\n",
       "        [ 0.+0.j,  0.+0.j, -2.+0.j,  0.+0.j],\n",
       "        [ 0.+0.j,  2.+0.j,  0.+0.j,  0.+0.j],\n",
       "        [ 0.+0.j,  0.+0.j,  0.+0.j,  0.+0.j]]),\n",
       " array([[ 0.+0.j,  0.+0.j,  0.+0.j,  0.+0.j],\n",
       "        [ 0.+0.j,  0.+0.j,  0.+0.j,  0.+0.j],\n",
       "        [ 0.+0.j,  0.+0.j, -2.+0.j,  0.+0.j],\n",
       "        [ 0.+0.j,  0.+0.j,  0.+0.j, -2.+0.j]]),\n",
       " array([[0.+0.j, 0.+0.j, 0.+0.j, 0.+0.j],\n",
       "        [0.+0.j, 0.+0.j, 1.+0.j, 0.+0.j],\n",
       "        [0.+0.j, 1.+0.j, 0.+0.j, 0.+0.j],\n",
       "        [0.-2.j, 0.+0.j, 0.+0.j, 0.+0.j]]),\n",
       " array([[0.+0.j, 0.+0.j, 0.+0.j, 0.+0.j],\n",
       "        [0.+0.j, 0.+0.j, 0.+0.j, 1.+0.j],\n",
       "        [0.+2.j, 0.+0.j, 0.+0.j, 0.+0.j],\n",
       "        [0.+0.j, 1.+0.j, 0.+0.j, 0.+0.j]]),\n",
       " array([[0.+0.j, 0.+0.j, 0.+0.j, 0.+0.j],\n",
       "        [0.+0.j, 0.+0.j, 1.+0.j, 0.+0.j],\n",
       "        [0.+0.j, 1.+0.j, 0.+0.j, 0.+0.j],\n",
       "        [0.+2.j, 0.+0.j, 0.+0.j, 0.+0.j]]),\n",
       " array([[ 0.+0.j,  0.+0.j,  0.+0.j,  0.+0.j],\n",
       "        [ 0.+0.j, -2.+0.j,  0.+0.j,  0.+0.j],\n",
       "        [ 0.+0.j,  0.+0.j,  0.+0.j,  0.+0.j],\n",
       "        [ 0.+0.j,  0.+0.j,  0.+0.j, -2.+0.j]]),\n",
       " array([[0.+0.j, 0.+0.j, 0.+0.j, 0.+0.j],\n",
       "        [0.-2.j, 0.+0.j, 0.+0.j, 0.+0.j],\n",
       "        [0.+0.j, 0.+0.j, 0.+0.j, 1.+0.j],\n",
       "        [0.+0.j, 0.+0.j, 1.+0.j, 0.+0.j]]),\n",
       " array([[0.+0.j, 0.+0.j, 0.+0.j, 0.+0.j],\n",
       "        [0.+0.j, 0.+0.j, 0.+0.j, 1.+0.j],\n",
       "        [0.-2.j, 0.+0.j, 0.+0.j, 0.+0.j],\n",
       "        [0.+0.j, 1.+0.j, 0.+0.j, 0.+0.j]]),\n",
       " array([[0.+0.j, 0.+0.j, 0.+0.j, 0.+0.j],\n",
       "        [0.+2.j, 0.+0.j, 0.+0.j, 0.+0.j],\n",
       "        [0.+0.j, 0.+0.j, 0.+0.j, 1.+0.j],\n",
       "        [0.+0.j, 0.+0.j, 1.+0.j, 0.+0.j]]),\n",
       " array([[ 0.+0.j,  0.+0.j,  0.+0.j,  0.+0.j],\n",
       "        [ 0.+0.j, -2.+0.j,  0.+0.j,  0.+0.j],\n",
       "        [ 0.+0.j,  0.+0.j, -2.+0.j,  0.+0.j],\n",
       "        [ 0.+0.j,  0.+0.j,  0.+0.j,  0.+0.j]]),\n",
       " array([[ 0.+0.j,  0.+0.j,  0.+0.j,  0.+0.j],\n",
       "        [ 0.+0.j,  0.+0.j,  0.+0.j,  0.+0.j],\n",
       "        [ 0.+0.j,  0.+0.j,  0.+0.j, -2.+0.j],\n",
       "        [ 0.+0.j,  0.+0.j,  2.+0.j,  0.+0.j]]),\n",
       " array([[ 0.+0.j,  0.+0.j,  0.+0.j,  0.+0.j],\n",
       "        [ 0.+0.j,  0.+0.j,  0.+0.j,  2.+0.j],\n",
       "        [ 0.+0.j,  0.+0.j,  0.+0.j,  0.+0.j],\n",
       "        [ 0.+0.j, -2.+0.j,  0.+0.j,  0.+0.j]]),\n",
       " array([[ 0.+0.j,  0.+0.j,  0.+0.j,  0.+0.j],\n",
       "        [ 0.+0.j,  0.+0.j, -2.+0.j,  0.+0.j],\n",
       "        [ 0.+0.j,  2.+0.j,  0.+0.j,  0.+0.j],\n",
       "        [ 0.+0.j,  0.+0.j,  0.+0.j,  0.+0.j]]),\n",
       " array([[ 0.+0.j,  0.+0.j,  0.+0.j,  0.+0.j],\n",
       "        [ 0.+0.j,  0.+0.j,  0.+0.j,  0.+0.j],\n",
       "        [ 0.+0.j,  0.+0.j, -2.+0.j,  0.+0.j],\n",
       "        [ 0.+0.j,  0.+0.j,  0.+0.j, -2.+0.j]]),\n",
       " array([[0.+0.j, 0.+0.j, 0.+0.j, 0.+0.j],\n",
       "        [0.+0.j, 0.+0.j, 1.+0.j, 0.+0.j],\n",
       "        [0.+0.j, 1.+0.j, 0.+0.j, 0.+0.j],\n",
       "        [0.-2.j, 0.+0.j, 0.+0.j, 0.+0.j]]),\n",
       " array([[0.+0.j, 0.+0.j, 0.+0.j, 0.+0.j],\n",
       "        [0.+0.j, 0.+0.j, 0.+0.j, 1.+0.j],\n",
       "        [0.+2.j, 0.+0.j, 0.+0.j, 0.+0.j],\n",
       "        [0.+0.j, 1.+0.j, 0.+0.j, 0.+0.j]]),\n",
       " array([[0.+0.j, 0.+0.j, 0.+0.j, 0.+0.j],\n",
       "        [0.+0.j, 0.+0.j, 1.+0.j, 0.+0.j],\n",
       "        [0.+0.j, 1.+0.j, 0.+0.j, 0.+0.j],\n",
       "        [0.+2.j, 0.+0.j, 0.+0.j, 0.+0.j]]),\n",
       " array([[ 0.+0.j,  0.+0.j,  0.+0.j,  0.+0.j],\n",
       "        [ 0.+0.j, -2.+0.j,  0.+0.j,  0.+0.j],\n",
       "        [ 0.+0.j,  0.+0.j,  0.+0.j,  0.+0.j],\n",
       "        [ 0.+0.j,  0.+0.j,  0.+0.j, -2.+0.j]]),\n",
       " array([[0.+0.j, 0.+0.j, 0.+0.j, 0.+0.j],\n",
       "        [0.-2.j, 0.+0.j, 0.+0.j, 0.+0.j],\n",
       "        [0.+0.j, 0.+0.j, 0.+0.j, 1.+0.j],\n",
       "        [0.+0.j, 0.+0.j, 1.+0.j, 0.+0.j]]),\n",
       " array([[0.+0.j, 0.+0.j, 0.+0.j, 0.+0.j],\n",
       "        [0.+0.j, 0.+0.j, 0.+0.j, 1.+0.j],\n",
       "        [0.-2.j, 0.+0.j, 0.+0.j, 0.+0.j],\n",
       "        [0.+0.j, 1.+0.j, 0.+0.j, 0.+0.j]]),\n",
       " array([[0.+0.j, 0.+0.j, 0.+0.j, 0.+0.j],\n",
       "        [0.+2.j, 0.+0.j, 0.+0.j, 0.+0.j],\n",
       "        [0.+0.j, 0.+0.j, 0.+0.j, 1.+0.j],\n",
       "        [0.+0.j, 0.+0.j, 1.+0.j, 0.+0.j]]),\n",
       " array([[ 0.+0.j,  0.+0.j,  0.+0.j,  0.+0.j],\n",
       "        [ 0.+0.j, -2.+0.j,  0.+0.j,  0.+0.j],\n",
       "        [ 0.+0.j,  0.+0.j, -2.+0.j,  0.+0.j],\n",
       "        [ 0.+0.j,  0.+0.j,  0.+0.j,  0.+0.j]]),\n",
       " array([[ 0.+0.j,  0.+0.j,  0.+0.j,  0.+0.j],\n",
       "        [ 0.+0.j,  0.+0.j,  0.+0.j,  0.+0.j],\n",
       "        [ 0.+0.j,  0.+0.j,  0.+0.j, -2.+0.j],\n",
       "        [ 0.+0.j,  0.+0.j,  2.+0.j,  0.+0.j]]),\n",
       " array([[ 0.+0.j,  0.+0.j,  0.+0.j,  0.+0.j],\n",
       "        [ 0.+0.j,  0.+0.j,  0.+0.j,  2.+0.j],\n",
       "        [ 0.+0.j,  0.+0.j,  0.+0.j,  0.+0.j],\n",
       "        [ 0.+0.j, -2.+0.j,  0.+0.j,  0.+0.j]]),\n",
       " array([[ 0.+0.j,  0.+0.j,  0.+0.j,  0.+0.j],\n",
       "        [ 0.+0.j,  0.+0.j, -2.+0.j,  0.+0.j],\n",
       "        [ 0.+0.j,  2.+0.j,  0.+0.j,  0.+0.j],\n",
       "        [ 0.+0.j,  0.+0.j,  0.+0.j,  0.+0.j]]),\n",
       " array([[ 0.+0.j,  0.+0.j,  0.+0.j,  0.+0.j],\n",
       "        [ 0.+0.j,  0.+0.j,  0.+0.j,  0.+0.j],\n",
       "        [ 0.+0.j,  0.+0.j, -2.+0.j,  0.+0.j],\n",
       "        [ 0.+0.j,  0.+0.j,  0.+0.j, -2.+0.j]]),\n",
       " array([[0.+0.j, 0.+0.j, 0.+0.j, 0.+0.j],\n",
       "        [0.+0.j, 0.+0.j, 1.+0.j, 0.+0.j],\n",
       "        [0.+0.j, 1.+0.j, 0.+0.j, 0.+0.j],\n",
       "        [0.-2.j, 0.+0.j, 0.+0.j, 0.+0.j]]),\n",
       " array([[0.+0.j, 0.+0.j, 0.+0.j, 0.+0.j],\n",
       "        [0.+0.j, 0.+0.j, 0.+0.j, 1.+0.j],\n",
       "        [0.+2.j, 0.+0.j, 0.+0.j, 0.+0.j],\n",
       "        [0.+0.j, 1.+0.j, 0.+0.j, 0.+0.j]]),\n",
       " array([[0.+0.j, 0.+0.j, 0.+0.j, 0.+0.j],\n",
       "        [0.+0.j, 0.+0.j, 1.+0.j, 0.+0.j],\n",
       "        [0.+0.j, 1.+0.j, 0.+0.j, 0.+0.j],\n",
       "        [0.+2.j, 0.+0.j, 0.+0.j, 0.+0.j]]),\n",
       " array([[ 0.+0.j,  0.+0.j,  0.+0.j,  0.+0.j],\n",
       "        [ 0.+0.j, -2.+0.j,  0.+0.j,  0.+0.j],\n",
       "        [ 0.+0.j,  0.+0.j,  0.+0.j,  0.+0.j],\n",
       "        [ 0.+0.j,  0.+0.j,  0.+0.j, -2.+0.j]]),\n",
       " array([[0.+0.j, 0.+0.j, 0.+0.j, 0.+0.j],\n",
       "        [0.-2.j, 0.+0.j, 0.+0.j, 0.+0.j],\n",
       "        [0.+0.j, 0.+0.j, 0.+0.j, 1.+0.j],\n",
       "        [0.+0.j, 0.+0.j, 1.+0.j, 0.+0.j]]),\n",
       " array([[0.+0.j, 0.+0.j, 0.+0.j, 0.+0.j],\n",
       "        [0.+0.j, 0.+0.j, 0.+0.j, 1.+0.j],\n",
       "        [0.-2.j, 0.+0.j, 0.+0.j, 0.+0.j],\n",
       "        [0.+0.j, 1.+0.j, 0.+0.j, 0.+0.j]]),\n",
       " array([[0.+0.j, 0.+0.j, 0.+0.j, 0.+0.j],\n",
       "        [0.+2.j, 0.+0.j, 0.+0.j, 0.+0.j],\n",
       "        [0.+0.j, 0.+0.j, 0.+0.j, 1.+0.j],\n",
       "        [0.+0.j, 0.+0.j, 1.+0.j, 0.+0.j]]),\n",
       " array([[ 0.+0.j,  0.+0.j,  0.+0.j,  0.+0.j],\n",
       "        [ 0.+0.j, -2.+0.j,  0.+0.j,  0.+0.j],\n",
       "        [ 0.+0.j,  0.+0.j, -2.+0.j,  0.+0.j],\n",
       "        [ 0.+0.j,  0.+0.j,  0.+0.j,  0.+0.j]])]"
      ]
     },
     "execution_count": 172,
     "metadata": {},
     "output_type": "execute_result"
    }
   ],
   "source": [
    "\"\"\"show the features\"\"\"\n",
    "gs.features"
   ]
  },
  {
   "cell_type": "code",
   "execution_count": 177,
   "id": "deadly-pizza",
   "metadata": {},
   "outputs": [
    {
     "data": {
      "text/plain": [
       "[array([[ 0.+0.j,  0.+0.j,  0.+0.j,  0.+0.j],\n",
       "        [ 0.+0.j,  0.+0.j,  0.+0.j,  0.+0.j],\n",
       "        [ 0.+0.j,  0.+0.j,  0.+0.j, -2.+0.j],\n",
       "        [ 0.+0.j,  0.+0.j,  2.+0.j,  0.+0.j]]),\n",
       " array([[ 0.+0.j,  0.+0.j,  0.+0.j,  0.+0.j],\n",
       "        [ 0.+0.j,  0.+0.j,  0.+0.j,  2.+0.j],\n",
       "        [ 0.+0.j,  0.+0.j,  0.+0.j,  0.+0.j],\n",
       "        [ 0.+0.j, -2.+0.j,  0.+0.j,  0.+0.j]]),\n",
       " array([[ 0.+0.j,  0.+0.j,  0.+0.j,  0.+0.j],\n",
       "        [ 0.+0.j,  0.+0.j, -2.+0.j,  0.+0.j],\n",
       "        [ 0.+0.j,  2.+0.j,  0.+0.j,  0.+0.j],\n",
       "        [ 0.+0.j,  0.+0.j,  0.+0.j,  0.+0.j]]),\n",
       " array([[ 0.+0.j,  0.+0.j,  0.+0.j,  0.+0.j],\n",
       "        [ 0.+0.j,  0.+0.j,  0.+0.j,  0.+0.j],\n",
       "        [ 0.+0.j,  0.+0.j, -2.+0.j,  0.+0.j],\n",
       "        [ 0.+0.j,  0.+0.j,  0.+0.j, -2.+0.j]]),\n",
       " array([[0.+0.j, 0.+0.j, 0.+0.j, 0.+0.j],\n",
       "        [0.+0.j, 0.+0.j, 1.+0.j, 0.+0.j],\n",
       "        [0.+0.j, 1.+0.j, 0.+0.j, 0.+0.j],\n",
       "        [0.-2.j, 0.+0.j, 0.+0.j, 0.+0.j]]),\n",
       " array([[0.+0.j, 0.+0.j, 0.+0.j, 0.+0.j],\n",
       "        [0.+0.j, 0.+0.j, 0.+0.j, 1.+0.j],\n",
       "        [0.+2.j, 0.+0.j, 0.+0.j, 0.+0.j],\n",
       "        [0.+0.j, 1.+0.j, 0.+0.j, 0.+0.j]]),\n",
       " array([[0.+0.j, 0.+0.j, 0.+0.j, 0.+0.j],\n",
       "        [0.+0.j, 0.+0.j, 1.+0.j, 0.+0.j],\n",
       "        [0.+0.j, 1.+0.j, 0.+0.j, 0.+0.j],\n",
       "        [0.+2.j, 0.+0.j, 0.+0.j, 0.+0.j]]),\n",
       " array([[ 0.+0.j,  0.+0.j,  0.+0.j,  0.+0.j],\n",
       "        [ 0.+0.j, -2.+0.j,  0.+0.j,  0.+0.j],\n",
       "        [ 0.+0.j,  0.+0.j,  0.+0.j,  0.+0.j],\n",
       "        [ 0.+0.j,  0.+0.j,  0.+0.j, -2.+0.j]]),\n",
       " array([[0.+0.j, 0.+0.j, 0.+0.j, 0.+0.j],\n",
       "        [0.-2.j, 0.+0.j, 0.+0.j, 0.+0.j],\n",
       "        [0.+0.j, 0.+0.j, 0.+0.j, 1.+0.j],\n",
       "        [0.+0.j, 0.+0.j, 1.+0.j, 0.+0.j]]),\n",
       " array([[0.+0.j, 0.+0.j, 0.+0.j, 0.+0.j],\n",
       "        [0.+0.j, 0.+0.j, 0.+0.j, 1.+0.j],\n",
       "        [0.-2.j, 0.+0.j, 0.+0.j, 0.+0.j],\n",
       "        [0.+0.j, 1.+0.j, 0.+0.j, 0.+0.j]]),\n",
       " array([[0.+0.j, 0.+0.j, 0.+0.j, 0.+0.j],\n",
       "        [0.+2.j, 0.+0.j, 0.+0.j, 0.+0.j],\n",
       "        [0.+0.j, 0.+0.j, 0.+0.j, 1.+0.j],\n",
       "        [0.+0.j, 0.+0.j, 1.+0.j, 0.+0.j]]),\n",
       " array([[ 0.+0.j,  0.+0.j,  0.+0.j,  0.+0.j],\n",
       "        [ 0.+0.j, -2.+0.j,  0.+0.j,  0.+0.j],\n",
       "        [ 0.+0.j,  0.+0.j, -2.+0.j,  0.+0.j],\n",
       "        [ 0.+0.j,  0.+0.j,  0.+0.j,  0.+0.j]])]"
      ]
     },
     "execution_count": 177,
     "metadata": {},
     "output_type": "execute_result"
    }
   ],
   "source": [
    "gs.features_of(((\"Gxpi2\"), 0))"
   ]
  },
  {
   "cell_type": "code",
   "execution_count": 174,
   "id": "measured-supervision",
   "metadata": {},
   "outputs": [
    {
     "data": {
      "text/plain": [
       "array([[ 1.00000000e+00,  0.00000000e+00,  2.22044605e-16,\n",
       "         1.57009246e-16],\n",
       "       [ 0.00000000e+00,  1.00000000e+00,  0.00000000e+00,\n",
       "         0.00000000e+00],\n",
       "       [-1.57009246e-16,  0.00000000e+00,  1.57009246e-16,\n",
       "        -1.00000000e+00],\n",
       "       [ 2.22044605e-16,  0.00000000e+00,  1.00000000e+00,\n",
       "         1.57009246e-16]])"
      ]
     },
     "execution_count": 174,
     "metadata": {},
     "output_type": "execute_result"
    }
   ],
   "source": [
    "gs.target_op((\"Gxpi2\", 0))"
   ]
  },
  {
   "cell_type": "code",
   "execution_count": 180,
   "id": "massive-chapel",
   "metadata": {},
   "outputs": [
    {
     "data": {
      "text/plain": [
       "[x12, x13, x14, x15, x16, x17, x18, x19, x20, x21, x22, x23]"
      ]
     },
     "execution_count": 180,
     "metadata": {},
     "output_type": "execute_result"
    }
   ],
   "source": [
    "gs.rates_of((\"Gxpi2\", 0))"
   ]
  },
  {
   "cell_type": "code",
   "execution_count": 179,
   "id": "tight-surname",
   "metadata": {},
   "outputs": [
    {
     "data": {
      "text/latex": [
       "$\\displaystyle \\left[\\begin{matrix}0 & 0 & 0 & 0\\\\- 2.0 i x_{20} + 2.0 i x_{22} & - 2.0 x_{19} - 2.0 x_{23} & - 2.0 x_{14} + 1.0 x_{16} + 1.0 x_{18} & 2.0 x_{13} + 1.0 x_{17} + 1.0 x_{21}\\\\2.0 i x_{17} - 2.0 i x_{21} & 2.0 x_{14} + 1.0 x_{16} + 1.0 x_{18} & - 2.0 x_{15} - 2.0 x_{23} & - 2.0 x_{12} + 1.0 x_{20} + 1.0 x_{22}\\\\- 2.0 i x_{16} + 2.0 i x_{18} & - 2.0 x_{13} + 1.0 x_{17} + 1.0 x_{21} & 2.0 x_{12} + 1.0 x_{20} + 1.0 x_{22} & - 2.0 x_{15} - 2.0 x_{19}\\end{matrix}\\right]$"
      ],
      "text/plain": [
       "Matrix([\n",
       "[                     0,                            0,                            0,                            0],\n",
       "[-2.0*I*x20 + 2.0*I*x22,           -2.0*x19 - 2.0*x23, -2.0*x14 + 1.0*x16 + 1.0*x18,  2.0*x13 + 1.0*x17 + 1.0*x21],\n",
       "[ 2.0*I*x17 - 2.0*I*x21,  2.0*x14 + 1.0*x16 + 1.0*x18,           -2.0*x15 - 2.0*x23, -2.0*x12 + 1.0*x20 + 1.0*x22],\n",
       "[-2.0*I*x16 + 2.0*I*x18, -2.0*x13 + 1.0*x17 + 1.0*x21,  2.0*x12 + 1.0*x20 + 1.0*x22,           -2.0*x15 - 2.0*x19]])"
      ]
     },
     "execution_count": 179,
     "metadata": {},
     "output_type": "execute_result"
    }
   ],
   "source": [
    "gs.error_generator_of((\"Gxpi2\", 0))"
   ]
  },
  {
   "cell_type": "code",
   "execution_count": 306,
   "id": "fifty-sculpture",
   "metadata": {},
   "outputs": [],
   "source": [
    "class CircuitAnalyzer:\n",
    "    \"\"\"Performs operations on a given pygsti Circuit object,\n",
    "    which is part of a given GateSet.\"\"\"\n",
    "    def __init__(self, circuit, gateset):\n",
    "        self.gateset = gateset\n",
    "        self.circuit = circuit\n",
    "        # Extracts the gates in the circuit as a list of labels\n",
    "        # This may only work for sngle-qubit gates as written?\n",
    "        self.gates = list(circuit.layertup)\n",
    "        # Finds their PTMs (pauli transfer matrices)\n",
    "        self.gate_matrices = [gateset.target_op(gate) for gate in self.gates]\n",
    "        # Extracts the error matrices corresponding to each of these gates\n",
    "        self.errors = [gateset.error_generator_of(gate) for gate in self.gates]\n",
    "        \n",
    "    def left_errors(self):\n",
    "        \"\"\"Moves all gate errors to the left of the circuit,\n",
    "        and returns the resulting list of conjugated error generators.\n",
    "        \n",
    "        NOTE: In our Circuit object, the gates are ordered\n",
    "        left-to-right from first-applied to last-applied.\n",
    "        However, the error terms in the result of this function, are ordered\n",
    "        left-to-right as they would be in matrix multiplication.\"\"\"\n",
    "        \n",
    "        left_errors = []\n",
    "        # Process the errors from the end of the list to its beginning\n",
    "        # Because that's the order they'll appear in the resulting matrix mult\n",
    "        n = len(self.errors)\n",
    "        for i in range(n-1, -1, -1):\n",
    "            error = self.errors[i]\n",
    "            # Conjugate by all gates being applied after i: gates i+1 through n\n",
    "            for j in range(i+1, n):\n",
    "                gate_matrix = self.gate_matrices[j].round(10)\n",
    "                error = gate_matrix * error * np.linalg.inv(gate_matrix)\n",
    "            left_errors.append(error)\n",
    "        return left_errors\n",
    "    \n",
    "    def linear_F_map(self):\n",
    "        \"\"\"Returns the linear approximation of the F map,\n",
    "        after moving all errors to the left. This approximation assumes they commute.\n",
    "        The result is a function of the error terms of the gate set.\n",
    "        \"\"\"\n",
    "        # Simply take the sum of all error generators after moving them to the left\n",
    "        left_errors = self.left_errors()\n",
    "        return sum(left_errors[1:], left_errors[0])\n",
    "    \n",
    "    def order2_F_map(self):\n",
    "        \"\"\"Returns the order-2 approximation of the F map,\n",
    "        after moving all errors to the left, and applying order-2 BCH.\n",
    "        The result is a function of the error terms of the gate set.\n",
    "        \"\"\"\n",
    "        left_errors = self.left_errors()\n",
    "        BCH2 = lambda X, Y : X + Y + (X@Y - Y@X) / 2\n",
    "        # After extracting the left-side errors,\n",
    "        # reduce the list to one matrix by applying BCH to each pair\n",
    "        result = left_errors[0]\n",
    "        for F in left_errors[1:]:\n",
    "            result = BCH2(result, F)\n",
    "        return result"
   ]
  },
  {
   "cell_type": "code",
   "execution_count": 307,
   "id": "prompt-tragedy",
   "metadata": {},
   "outputs": [
    {
     "name": "stdout",
     "output_type": "stream",
     "text": [
      "Qubit 0 ---|Gxpi2|-|Gxpi2|---\n",
      "\n"
     ]
    }
   ],
   "source": [
    "# Create a simple two gate circuit\n",
    "c = Circuit([(\"Gxpi2\", 0), (\"Gxpi2\", 0)])\n",
    "print(c)"
   ]
  },
  {
   "cell_type": "code",
   "execution_count": 308,
   "id": "earned-model",
   "metadata": {},
   "outputs": [
    {
     "data": {
      "text/latex": [
       "$\\displaystyle \\left[\\begin{matrix}0 & 0 & 0 & 0\\\\- 2.0 i x_{20} + 2.0 i x_{22} & - 2.0 x_{19} - 2.0 x_{23} & - 2.0 x_{14} + 1.0 x_{16} + 1.0 x_{18} & 2.0 x_{13} + 1.0 x_{17} + 1.0 x_{21}\\\\2.0 i x_{17} - 2.0 i x_{21} & 2.0 x_{14} + 1.0 x_{16} + 1.0 x_{18} & - 2.0 x_{15} - 2.0 x_{23} & - 2.0 x_{12} + 1.0 x_{20} + 1.0 x_{22}\\\\- 2.0 i x_{16} + 2.0 i x_{18} & - 2.0 x_{13} + 1.0 x_{17} + 1.0 x_{21} & 2.0 x_{12} + 1.0 x_{20} + 1.0 x_{22} & - 2.0 x_{15} - 2.0 x_{19}\\end{matrix}\\right]$"
      ],
      "text/plain": [
       "Matrix([\n",
       "[                     0,                            0,                            0,                            0],\n",
       "[-2.0*I*x20 + 2.0*I*x22,           -2.0*x19 - 2.0*x23, -2.0*x14 + 1.0*x16 + 1.0*x18,  2.0*x13 + 1.0*x17 + 1.0*x21],\n",
       "[ 2.0*I*x17 - 2.0*I*x21,  2.0*x14 + 1.0*x16 + 1.0*x18,           -2.0*x15 - 2.0*x23, -2.0*x12 + 1.0*x20 + 1.0*x22],\n",
       "[-2.0*I*x16 + 2.0*I*x18, -2.0*x13 + 1.0*x17 + 1.0*x21,  2.0*x12 + 1.0*x20 + 1.0*x22,           -2.0*x15 - 2.0*x19]])"
      ]
     },
     "execution_count": 308,
     "metadata": {},
     "output_type": "execute_result"
    }
   ],
   "source": [
    "# Initialize our analyzer object. Verify that the error maps for both X(pi/2) gates are identical\n",
    "a = CircuitAnalyzer(c, gs)\n",
    "a.errors[0]"
   ]
  },
  {
   "cell_type": "code",
   "execution_count": 309,
   "id": "pacific-spider",
   "metadata": {},
   "outputs": [
    {
     "data": {
      "text/latex": [
       "$\\displaystyle \\left[\\begin{matrix}0 & 0 & 0 & 0\\\\- 2.0 i x_{20} + 2.0 i x_{22} & - 2.0 x_{19} - 2.0 x_{23} & - 2.0 x_{14} + 1.0 x_{16} + 1.0 x_{18} & 2.0 x_{13} + 1.0 x_{17} + 1.0 x_{21}\\\\2.0 i x_{17} - 2.0 i x_{21} & 2.0 x_{14} + 1.0 x_{16} + 1.0 x_{18} & - 2.0 x_{15} - 2.0 x_{23} & - 2.0 x_{12} + 1.0 x_{20} + 1.0 x_{22}\\\\- 2.0 i x_{16} + 2.0 i x_{18} & - 2.0 x_{13} + 1.0 x_{17} + 1.0 x_{21} & 2.0 x_{12} + 1.0 x_{20} + 1.0 x_{22} & - 2.0 x_{15} - 2.0 x_{19}\\end{matrix}\\right]$"
      ],
      "text/plain": [
       "Matrix([\n",
       "[                     0,                            0,                            0,                            0],\n",
       "[-2.0*I*x20 + 2.0*I*x22,           -2.0*x19 - 2.0*x23, -2.0*x14 + 1.0*x16 + 1.0*x18,  2.0*x13 + 1.0*x17 + 1.0*x21],\n",
       "[ 2.0*I*x17 - 2.0*I*x21,  2.0*x14 + 1.0*x16 + 1.0*x18,           -2.0*x15 - 2.0*x23, -2.0*x12 + 1.0*x20 + 1.0*x22],\n",
       "[-2.0*I*x16 + 2.0*I*x18, -2.0*x13 + 1.0*x17 + 1.0*x21,  2.0*x12 + 1.0*x20 + 1.0*x22,           -2.0*x15 - 2.0*x19]])"
      ]
     },
     "execution_count": 309,
     "metadata": {},
     "output_type": "execute_result"
    }
   ],
   "source": [
    "a.errors[1]"
   ]
  },
  {
   "cell_type": "code",
   "execution_count": 310,
   "id": "unauthorized-tuesday",
   "metadata": {},
   "outputs": [
    {
     "data": {
      "text/latex": [
       "$\\displaystyle \\left[\\begin{matrix}0 & 0 & 0 & 0\\\\- 2.0 i x_{20} + 2.0 i x_{22} & - 2.0 x_{19} - 2.0 x_{23} & - 2.0 x_{14} + 1.0 x_{16} + 1.0 x_{18} & 2.0 x_{13} + 1.0 x_{17} + 1.0 x_{21}\\\\2.0 i x_{17} - 2.0 i x_{21} & 2.0 x_{14} + 1.0 x_{16} + 1.0 x_{18} & - 2.0 x_{15} - 2.0 x_{23} & - 2.0 x_{12} + 1.0 x_{20} + 1.0 x_{22}\\\\- 2.0 i x_{16} + 2.0 i x_{18} & - 2.0 x_{13} + 1.0 x_{17} + 1.0 x_{21} & 2.0 x_{12} + 1.0 x_{20} + 1.0 x_{22} & - 2.0 x_{15} - 2.0 x_{19}\\end{matrix}\\right]$"
      ],
      "text/plain": [
       "Matrix([\n",
       "[                     0,                            0,                            0,                            0],\n",
       "[-2.0*I*x20 + 2.0*I*x22,           -2.0*x19 - 2.0*x23, -2.0*x14 + 1.0*x16 + 1.0*x18,  2.0*x13 + 1.0*x17 + 1.0*x21],\n",
       "[ 2.0*I*x17 - 2.0*I*x21,  2.0*x14 + 1.0*x16 + 1.0*x18,           -2.0*x15 - 2.0*x23, -2.0*x12 + 1.0*x20 + 1.0*x22],\n",
       "[-2.0*I*x16 + 2.0*I*x18, -2.0*x13 + 1.0*x17 + 1.0*x21,  2.0*x12 + 1.0*x20 + 1.0*x22,           -2.0*x15 - 2.0*x19]])"
      ]
     },
     "execution_count": 310,
     "metadata": {},
     "output_type": "execute_result"
    }
   ],
   "source": [
    "# Move all errors to the left. Verify that the two outputs are correct\n",
    "a.left_errors()[0]"
   ]
  },
  {
   "cell_type": "code",
   "execution_count": 311,
   "id": "pregnant-worthy",
   "metadata": {},
   "outputs": [
    {
     "data": {
      "text/latex": [
       "$\\displaystyle \\left[\\begin{matrix}0 & 0 & 0 & 0\\\\- 2.0 i x_{20} + 2.0 i x_{22} & - 2.0 x_{19} - 2.0 x_{23} & - 2.0 x_{13} - 1.0 x_{17} - 1.0 x_{21} & - 2.0 x_{14} + 1.0 x_{16} + 1.0 x_{18}\\\\2.0 i x_{16} - 2.0 i x_{18} & 2.0 x_{13} - 1.0 x_{17} - 1.0 x_{21} & - 2.0 x_{15} - 2.0 x_{19} & - 2.0 x_{12} - 1.0 x_{20} - 1.0 x_{22}\\\\2.0 i x_{17} - 2.0 i x_{21} & 2.0 x_{14} + 1.0 x_{16} + 1.0 x_{18} & 2.0 x_{12} - 1.0 x_{20} - 1.0 x_{22} & - 2.0 x_{15} - 2.0 x_{23}\\end{matrix}\\right]$"
      ],
      "text/plain": [
       "Matrix([\n",
       "[                     0,                           0,                            0,                            0],\n",
       "[-2.0*I*x20 + 2.0*I*x22,          -2.0*x19 - 2.0*x23, -2.0*x13 - 1.0*x17 - 1.0*x21, -2.0*x14 + 1.0*x16 + 1.0*x18],\n",
       "[ 2.0*I*x16 - 2.0*I*x18, 2.0*x13 - 1.0*x17 - 1.0*x21,           -2.0*x15 - 2.0*x19, -2.0*x12 - 1.0*x20 - 1.0*x22],\n",
       "[ 2.0*I*x17 - 2.0*I*x21, 2.0*x14 + 1.0*x16 + 1.0*x18,  2.0*x12 - 1.0*x20 - 1.0*x22,           -2.0*x15 - 2.0*x23]])"
      ]
     },
     "execution_count": 311,
     "metadata": {},
     "output_type": "execute_result"
    }
   ],
   "source": [
    "a.left_errors()[1]"
   ]
  },
  {
   "cell_type": "code",
   "execution_count": 312,
   "id": "dietary-blogger",
   "metadata": {},
   "outputs": [
    {
     "data": {
      "text/latex": [
       "$\\displaystyle \\left[\\begin{matrix}0 & 0 & 0 & 0\\\\- 4.0 i x_{20} + 4.0 i x_{22} & - 4.0 x_{19} - 4.0 x_{23} & - 2.0 x_{13} - 2.0 x_{14} + 1.0 x_{16} - 1.0 x_{17} + 1.0 x_{18} - 1.0 x_{21} & 2.0 x_{13} - 2.0 x_{14} + 1.0 x_{16} + 1.0 x_{17} + 1.0 x_{18} + 1.0 x_{21}\\\\2.0 i x_{16} + 2.0 i x_{17} - 2.0 i x_{18} - 2.0 i x_{21} & 2.0 x_{13} + 2.0 x_{14} + 1.0 x_{16} - 1.0 x_{17} + 1.0 x_{18} - 1.0 x_{21} & - 4.0 x_{15} - 2.0 x_{19} - 2.0 x_{23} & - 4.0 x_{12}\\\\- 2.0 i x_{16} + 2.0 i x_{17} + 2.0 i x_{18} - 2.0 i x_{21} & - 2.0 x_{13} + 2.0 x_{14} + 1.0 x_{16} + 1.0 x_{17} + 1.0 x_{18} + 1.0 x_{21} & 4.0 x_{12} & - 4.0 x_{15} - 2.0 x_{19} - 2.0 x_{23}\\end{matrix}\\right]$"
      ],
      "text/plain": [
       "Matrix([\n",
       "[                                             0,                                                          0,                                                          0,                                                         0],\n",
       "[                        -4.0*I*x20 + 4.0*I*x22,                                         -4.0*x19 - 4.0*x23, -2.0*x13 - 2.0*x14 + 1.0*x16 - 1.0*x17 + 1.0*x18 - 1.0*x21, 2.0*x13 - 2.0*x14 + 1.0*x16 + 1.0*x17 + 1.0*x18 + 1.0*x21],\n",
       "[ 2.0*I*x16 + 2.0*I*x17 - 2.0*I*x18 - 2.0*I*x21,  2.0*x13 + 2.0*x14 + 1.0*x16 - 1.0*x17 + 1.0*x18 - 1.0*x21,                               -4.0*x15 - 2.0*x19 - 2.0*x23,                                                  -4.0*x12],\n",
       "[-2.0*I*x16 + 2.0*I*x17 + 2.0*I*x18 - 2.0*I*x21, -2.0*x13 + 2.0*x14 + 1.0*x16 + 1.0*x17 + 1.0*x18 + 1.0*x21,                                                    4.0*x12,                              -4.0*x15 - 2.0*x19 - 2.0*x23]])"
      ]
     },
     "execution_count": 312,
     "metadata": {},
     "output_type": "execute_result"
    }
   ],
   "source": [
    "# Extract the linear approximation of the F map: sum the above two errors\n",
    "a.linear_F_map()"
   ]
  },
  {
   "cell_type": "code",
   "execution_count": 319,
   "id": "irish-intersection",
   "metadata": {},
   "outputs": [
    {
     "data": {
      "text/latex": [
       "$\\displaystyle \\left[\\begin{matrix}0 & 0 & 0 & 0\\\\- 4.0 i x_{20} + 4.0 i x_{22} - \\frac{\\left(- 2.0 i x_{16} + 2.0 i x_{18}\\right) \\left(- 2.0 x_{14} + 1.0 x_{16} + 1.0 x_{18}\\right)}{2} + \\frac{\\left(2.0 i x_{16} - 2.0 i x_{18}\\right) \\left(- 2.0 x_{14} + 1.0 x_{16} + 1.0 x_{18}\\right)}{2} - \\frac{\\left(2.0 i x_{17} - 2.0 i x_{21}\\right) \\left(- 2.0 x_{13} - 1.0 x_{17} - 1.0 x_{21}\\right)}{2} + \\frac{\\left(2.0 i x_{17} - 2.0 i x_{21}\\right) \\left(2.0 x_{13} + 1.0 x_{17} + 1.0 x_{21}\\right)}{2} & - 4.0 x_{19} - 4.0 x_{23} - \\frac{\\left(- 2.0 x_{13} - 1.0 x_{17} - 1.0 x_{21}\\right) \\left(2.0 x_{14} + 1.0 x_{16} + 1.0 x_{18}\\right)}{2} - \\frac{\\left(- 2.0 x_{13} + 1.0 x_{17} + 1.0 x_{21}\\right) \\left(- 2.0 x_{14} + 1.0 x_{16} + 1.0 x_{18}\\right)}{2} + \\frac{\\left(2.0 x_{13} - 1.0 x_{17} - 1.0 x_{21}\\right) \\left(- 2.0 x_{14} + 1.0 x_{16} + 1.0 x_{18}\\right)}{2} + \\frac{\\left(2.0 x_{13} + 1.0 x_{17} + 1.0 x_{21}\\right) \\left(2.0 x_{14} + 1.0 x_{16} + 1.0 x_{18}\\right)}{2} & - 2.0 x_{13} - 2.0 x_{14} + 1.0 x_{16} - 1.0 x_{17} + 1.0 x_{18} - 1.0 x_{21} + \\frac{\\left(- 2.0 x_{15} - 2.0 x_{19}\\right) \\left(- 2.0 x_{14} + 1.0 x_{16} + 1.0 x_{18}\\right)}{2} - \\frac{\\left(- 2.0 x_{15} - 2.0 x_{23}\\right) \\left(- 2.0 x_{13} - 1.0 x_{17} - 1.0 x_{21}\\right)}{2} + \\frac{\\left(- 2.0 x_{19} - 2.0 x_{23}\\right) \\left(- 2.0 x_{13} - 1.0 x_{17} - 1.0 x_{21}\\right)}{2} - \\frac{\\left(- 2.0 x_{19} - 2.0 x_{23}\\right) \\left(- 2.0 x_{14} + 1.0 x_{16} + 1.0 x_{18}\\right)}{2} + \\frac{\\left(2.0 x_{12} - 1.0 x_{20} - 1.0 x_{22}\\right) \\left(2.0 x_{13} + 1.0 x_{17} + 1.0 x_{21}\\right)}{2} - \\frac{\\left(2.0 x_{12} + 1.0 x_{20} + 1.0 x_{22}\\right) \\left(- 2.0 x_{14} + 1.0 x_{16} + 1.0 x_{18}\\right)}{2} & 2.0 x_{13} - 2.0 x_{14} + 1.0 x_{16} + 1.0 x_{17} + 1.0 x_{18} + 1.0 x_{21} - \\frac{\\left(- 2.0 x_{15} - 2.0 x_{19}\\right) \\left(- 2.0 x_{14} + 1.0 x_{16} + 1.0 x_{18}\\right)}{2} + \\frac{\\left(- 2.0 x_{15} - 2.0 x_{23}\\right) \\left(2.0 x_{13} + 1.0 x_{17} + 1.0 x_{21}\\right)}{2} - \\frac{\\left(- 2.0 x_{19} - 2.0 x_{23}\\right) \\left(2.0 x_{13} + 1.0 x_{17} + 1.0 x_{21}\\right)}{2} + \\frac{\\left(- 2.0 x_{19} - 2.0 x_{23}\\right) \\left(- 2.0 x_{14} + 1.0 x_{16} + 1.0 x_{18}\\right)}{2} + \\frac{\\left(- 2.0 x_{12} - 1.0 x_{20} - 1.0 x_{22}\\right) \\left(- 2.0 x_{14} + 1.0 x_{16} + 1.0 x_{18}\\right)}{2} - \\frac{\\left(- 2.0 x_{12} + 1.0 x_{20} + 1.0 x_{22}\\right) \\left(- 2.0 x_{13} - 1.0 x_{17} - 1.0 x_{21}\\right)}{2}\\\\2.0 i x_{16} + 2.0 i x_{17} - 2.0 i x_{18} - 2.0 i x_{21} - \\frac{\\left(- 2.0 x_{15} - 2.0 x_{19}\\right) \\left(2.0 i x_{17} - 2.0 i x_{21}\\right)}{2} + \\frac{\\left(- 2.0 x_{15} - 2.0 x_{23}\\right) \\left(2.0 i x_{16} - 2.0 i x_{18}\\right)}{2} - \\frac{\\left(- 2.0 i x_{16} + 2.0 i x_{18}\\right) \\left(- 2.0 x_{12} - 1.0 x_{20} - 1.0 x_{22}\\right)}{2} + \\frac{\\left(2.0 i x_{17} - 2.0 i x_{21}\\right) \\left(- 2.0 x_{12} + 1.0 x_{20} + 1.0 x_{22}\\right)}{2} - \\frac{\\left(- 2.0 i x_{20} + 2.0 i x_{22}\\right) \\left(2.0 x_{13} - 1.0 x_{17} - 1.0 x_{21}\\right)}{2} + \\frac{\\left(- 2.0 i x_{20} + 2.0 i x_{22}\\right) \\left(2.0 x_{14} + 1.0 x_{16} + 1.0 x_{18}\\right)}{2} & 2.0 x_{13} + 2.0 x_{14} + 1.0 x_{16} - 1.0 x_{17} + 1.0 x_{18} - 1.0 x_{21} - \\frac{\\left(- 2.0 x_{15} - 2.0 x_{19}\\right) \\left(2.0 x_{14} + 1.0 x_{16} + 1.0 x_{18}\\right)}{2} + \\frac{\\left(- 2.0 x_{15} - 2.0 x_{23}\\right) \\left(2.0 x_{13} - 1.0 x_{17} - 1.0 x_{21}\\right)}{2} - \\frac{\\left(- 2.0 x_{19} - 2.0 x_{23}\\right) \\left(2.0 x_{13} - 1.0 x_{17} - 1.0 x_{21}\\right)}{2} + \\frac{\\left(- 2.0 x_{19} - 2.0 x_{23}\\right) \\left(2.0 x_{14} + 1.0 x_{16} + 1.0 x_{18}\\right)}{2} - \\frac{\\left(- 2.0 x_{12} - 1.0 x_{20} - 1.0 x_{22}\\right) \\left(- 2.0 x_{13} + 1.0 x_{17} + 1.0 x_{21}\\right)}{2} + \\frac{\\left(- 2.0 x_{12} + 1.0 x_{20} + 1.0 x_{22}\\right) \\left(2.0 x_{14} + 1.0 x_{16} + 1.0 x_{18}\\right)}{2} & - 4.0 x_{15} - 2.0 x_{19} - 2.0 x_{23} - \\frac{\\left(- 2.0 x_{12} - 1.0 x_{20} - 1.0 x_{22}\\right) \\left(2.0 x_{12} + 1.0 x_{20} + 1.0 x_{22}\\right)}{2} + \\frac{\\left(- 2.0 x_{12} + 1.0 x_{20} + 1.0 x_{22}\\right) \\left(2.0 x_{12} - 1.0 x_{20} - 1.0 x_{22}\\right)}{2} + \\frac{\\left(- 2.0 x_{13} - 1.0 x_{17} - 1.0 x_{21}\\right) \\left(2.0 x_{14} + 1.0 x_{16} + 1.0 x_{18}\\right)}{2} - \\frac{\\left(2.0 x_{13} - 1.0 x_{17} - 1.0 x_{21}\\right) \\left(- 2.0 x_{14} + 1.0 x_{16} + 1.0 x_{18}\\right)}{2} & - 4.0 x_{12} - \\frac{\\left(- 2.0 x_{15} - 2.0 x_{19}\\right) \\left(- 2.0 x_{12} - 1.0 x_{20} - 1.0 x_{22}\\right)}{2} - \\frac{\\left(- 2.0 x_{15} - 2.0 x_{19}\\right) \\left(- 2.0 x_{12} + 1.0 x_{20} + 1.0 x_{22}\\right)}{2} + \\frac{\\left(- 2.0 x_{15} - 2.0 x_{23}\\right) \\left(- 2.0 x_{12} - 1.0 x_{20} - 1.0 x_{22}\\right)}{2} + \\frac{\\left(- 2.0 x_{15} - 2.0 x_{23}\\right) \\left(- 2.0 x_{12} + 1.0 x_{20} + 1.0 x_{22}\\right)}{2} - \\frac{\\left(2.0 x_{13} - 1.0 x_{17} - 1.0 x_{21}\\right) \\left(2.0 x_{13} + 1.0 x_{17} + 1.0 x_{21}\\right)}{2} + \\frac{\\left(- 2.0 x_{14} + 1.0 x_{16} + 1.0 x_{18}\\right) \\left(2.0 x_{14} + 1.0 x_{16} + 1.0 x_{18}\\right)}{2}\\\\- 2.0 i x_{16} + 2.0 i x_{17} + 2.0 i x_{18} - 2.0 i x_{21} + \\frac{\\left(- 2.0 x_{15} - 2.0 x_{19}\\right) \\left(2.0 i x_{17} - 2.0 i x_{21}\\right)}{2} - \\frac{\\left(- 2.0 x_{15} - 2.0 x_{23}\\right) \\left(- 2.0 i x_{16} + 2.0 i x_{18}\\right)}{2} + \\frac{\\left(2.0 i x_{16} - 2.0 i x_{18}\\right) \\left(2.0 x_{12} + 1.0 x_{20} + 1.0 x_{22}\\right)}{2} - \\frac{\\left(2.0 i x_{17} - 2.0 i x_{21}\\right) \\left(2.0 x_{12} - 1.0 x_{20} - 1.0 x_{22}\\right)}{2} + \\frac{\\left(- 2.0 i x_{20} + 2.0 i x_{22}\\right) \\left(- 2.0 x_{13} + 1.0 x_{17} + 1.0 x_{21}\\right)}{2} - \\frac{\\left(- 2.0 i x_{20} + 2.0 i x_{22}\\right) \\left(2.0 x_{14} + 1.0 x_{16} + 1.0 x_{18}\\right)}{2} & - 2.0 x_{13} + 2.0 x_{14} + 1.0 x_{16} + 1.0 x_{17} + 1.0 x_{18} + 1.0 x_{21} + \\frac{\\left(- 2.0 x_{15} - 2.0 x_{19}\\right) \\left(2.0 x_{14} + 1.0 x_{16} + 1.0 x_{18}\\right)}{2} - \\frac{\\left(- 2.0 x_{15} - 2.0 x_{23}\\right) \\left(- 2.0 x_{13} + 1.0 x_{17} + 1.0 x_{21}\\right)}{2} + \\frac{\\left(- 2.0 x_{19} - 2.0 x_{23}\\right) \\left(- 2.0 x_{13} + 1.0 x_{17} + 1.0 x_{21}\\right)}{2} - \\frac{\\left(- 2.0 x_{19} - 2.0 x_{23}\\right) \\left(2.0 x_{14} + 1.0 x_{16} + 1.0 x_{18}\\right)}{2} - \\frac{\\left(2.0 x_{12} - 1.0 x_{20} - 1.0 x_{22}\\right) \\left(2.0 x_{14} + 1.0 x_{16} + 1.0 x_{18}\\right)}{2} + \\frac{\\left(2.0 x_{12} + 1.0 x_{20} + 1.0 x_{22}\\right) \\left(2.0 x_{13} - 1.0 x_{17} - 1.0 x_{21}\\right)}{2} & 4.0 x_{12} + \\frac{\\left(- 2.0 x_{15} - 2.0 x_{19}\\right) \\left(2.0 x_{12} - 1.0 x_{20} - 1.0 x_{22}\\right)}{2} + \\frac{\\left(- 2.0 x_{15} - 2.0 x_{19}\\right) \\left(2.0 x_{12} + 1.0 x_{20} + 1.0 x_{22}\\right)}{2} - \\frac{\\left(- 2.0 x_{15} - 2.0 x_{23}\\right) \\left(2.0 x_{12} - 1.0 x_{20} - 1.0 x_{22}\\right)}{2} - \\frac{\\left(- 2.0 x_{15} - 2.0 x_{23}\\right) \\left(2.0 x_{12} + 1.0 x_{20} + 1.0 x_{22}\\right)}{2} + \\frac{\\left(- 2.0 x_{13} - 1.0 x_{17} - 1.0 x_{21}\\right) \\left(- 2.0 x_{13} + 1.0 x_{17} + 1.0 x_{21}\\right)}{2} - \\frac{\\left(- 2.0 x_{14} + 1.0 x_{16} + 1.0 x_{18}\\right) \\left(2.0 x_{14} + 1.0 x_{16} + 1.0 x_{18}\\right)}{2} & - 4.0 x_{15} - 2.0 x_{19} - 2.0 x_{23} + \\frac{\\left(- 2.0 x_{12} - 1.0 x_{20} - 1.0 x_{22}\\right) \\left(2.0 x_{12} + 1.0 x_{20} + 1.0 x_{22}\\right)}{2} - \\frac{\\left(- 2.0 x_{12} + 1.0 x_{20} + 1.0 x_{22}\\right) \\left(2.0 x_{12} - 1.0 x_{20} - 1.0 x_{22}\\right)}{2} + \\frac{\\left(- 2.0 x_{13} + 1.0 x_{17} + 1.0 x_{21}\\right) \\left(- 2.0 x_{14} + 1.0 x_{16} + 1.0 x_{18}\\right)}{2} - \\frac{\\left(2.0 x_{13} + 1.0 x_{17} + 1.0 x_{21}\\right) \\left(2.0 x_{14} + 1.0 x_{16} + 1.0 x_{18}\\right)}{2}\\end{matrix}\\right]$"
      ],
      "text/plain": [
       "Matrix([\n",
       "[                                                                                                                                                                                                                                                                                                                                                                                           0,                                                                                                                                                                                                                                                                                                                                                                                                                        0,                                                                                                                                                                                                                                                                                                                                                                                                                           0,                                                                                                                                                                                                                                                                                                                                                                                                                           0],\n",
       "[                                                                                                                          -4.0*I*x20 + 4.0*I*x22 - (-2.0*I*x16 + 2.0*I*x18)*(-2.0*x14 + 1.0*x16 + 1.0*x18)/2 + (2.0*I*x16 - 2.0*I*x18)*(-2.0*x14 + 1.0*x16 + 1.0*x18)/2 - (2.0*I*x17 - 2.0*I*x21)*(-2.0*x13 - 1.0*x17 - 1.0*x21)/2 + (2.0*I*x17 - 2.0*I*x21)*(2.0*x13 + 1.0*x17 + 1.0*x21)/2,                                                                                                                                   -4.0*x19 - 4.0*x23 - (-2.0*x13 - 1.0*x17 - 1.0*x21)*(2.0*x14 + 1.0*x16 + 1.0*x18)/2 - (-2.0*x13 + 1.0*x17 + 1.0*x21)*(-2.0*x14 + 1.0*x16 + 1.0*x18)/2 + (2.0*x13 - 1.0*x17 - 1.0*x21)*(-2.0*x14 + 1.0*x16 + 1.0*x18)/2 + (2.0*x13 + 1.0*x17 + 1.0*x21)*(2.0*x14 + 1.0*x16 + 1.0*x18)/2, -2.0*x13 - 2.0*x14 + 1.0*x16 - 1.0*x17 + 1.0*x18 - 1.0*x21 + (-2.0*x15 - 2.0*x19)*(-2.0*x14 + 1.0*x16 + 1.0*x18)/2 - (-2.0*x15 - 2.0*x23)*(-2.0*x13 - 1.0*x17 - 1.0*x21)/2 + (-2.0*x19 - 2.0*x23)*(-2.0*x13 - 1.0*x17 - 1.0*x21)/2 - (-2.0*x19 - 2.0*x23)*(-2.0*x14 + 1.0*x16 + 1.0*x18)/2 + (2.0*x12 - 1.0*x20 - 1.0*x22)*(2.0*x13 + 1.0*x17 + 1.0*x21)/2 - (2.0*x12 + 1.0*x20 + 1.0*x22)*(-2.0*x14 + 1.0*x16 + 1.0*x18)/2, 2.0*x13 - 2.0*x14 + 1.0*x16 + 1.0*x17 + 1.0*x18 + 1.0*x21 - (-2.0*x15 - 2.0*x19)*(-2.0*x14 + 1.0*x16 + 1.0*x18)/2 + (-2.0*x15 - 2.0*x23)*(2.0*x13 + 1.0*x17 + 1.0*x21)/2 - (-2.0*x19 - 2.0*x23)*(2.0*x13 + 1.0*x17 + 1.0*x21)/2 + (-2.0*x19 - 2.0*x23)*(-2.0*x14 + 1.0*x16 + 1.0*x18)/2 + (-2.0*x12 - 1.0*x20 - 1.0*x22)*(-2.0*x14 + 1.0*x16 + 1.0*x18)/2 - (-2.0*x12 + 1.0*x20 + 1.0*x22)*(-2.0*x13 - 1.0*x17 - 1.0*x21)/2],\n",
       "[2.0*I*x16 + 2.0*I*x17 - 2.0*I*x18 - 2.0*I*x21 - (-2.0*x15 - 2.0*x19)*(2.0*I*x17 - 2.0*I*x21)/2 + (-2.0*x15 - 2.0*x23)*(2.0*I*x16 - 2.0*I*x18)/2 - (-2.0*I*x16 + 2.0*I*x18)*(-2.0*x12 - 1.0*x20 - 1.0*x22)/2 + (2.0*I*x17 - 2.0*I*x21)*(-2.0*x12 + 1.0*x20 + 1.0*x22)/2 - (-2.0*I*x20 + 2.0*I*x22)*(2.0*x13 - 1.0*x17 - 1.0*x21)/2 + (-2.0*I*x20 + 2.0*I*x22)*(2.0*x14 + 1.0*x16 + 1.0*x18)/2, 2.0*x13 + 2.0*x14 + 1.0*x16 - 1.0*x17 + 1.0*x18 - 1.0*x21 - (-2.0*x15 - 2.0*x19)*(2.0*x14 + 1.0*x16 + 1.0*x18)/2 + (-2.0*x15 - 2.0*x23)*(2.0*x13 - 1.0*x17 - 1.0*x21)/2 - (-2.0*x19 - 2.0*x23)*(2.0*x13 - 1.0*x17 - 1.0*x21)/2 + (-2.0*x19 - 2.0*x23)*(2.0*x14 + 1.0*x16 + 1.0*x18)/2 - (-2.0*x12 - 1.0*x20 - 1.0*x22)*(-2.0*x13 + 1.0*x17 + 1.0*x21)/2 + (-2.0*x12 + 1.0*x20 + 1.0*x22)*(2.0*x14 + 1.0*x16 + 1.0*x18)/2,                                                                                                                            -4.0*x15 - 2.0*x19 - 2.0*x23 - (-2.0*x12 - 1.0*x20 - 1.0*x22)*(2.0*x12 + 1.0*x20 + 1.0*x22)/2 + (-2.0*x12 + 1.0*x20 + 1.0*x22)*(2.0*x12 - 1.0*x20 - 1.0*x22)/2 + (-2.0*x13 - 1.0*x17 - 1.0*x21)*(2.0*x14 + 1.0*x16 + 1.0*x18)/2 - (2.0*x13 - 1.0*x17 - 1.0*x21)*(-2.0*x14 + 1.0*x16 + 1.0*x18)/2,                                                   -4.0*x12 - (-2.0*x15 - 2.0*x19)*(-2.0*x12 - 1.0*x20 - 1.0*x22)/2 - (-2.0*x15 - 2.0*x19)*(-2.0*x12 + 1.0*x20 + 1.0*x22)/2 + (-2.0*x15 - 2.0*x23)*(-2.0*x12 - 1.0*x20 - 1.0*x22)/2 + (-2.0*x15 - 2.0*x23)*(-2.0*x12 + 1.0*x20 + 1.0*x22)/2 - (2.0*x13 - 1.0*x17 - 1.0*x21)*(2.0*x13 + 1.0*x17 + 1.0*x21)/2 + (-2.0*x14 + 1.0*x16 + 1.0*x18)*(2.0*x14 + 1.0*x16 + 1.0*x18)/2],\n",
       "[-2.0*I*x16 + 2.0*I*x17 + 2.0*I*x18 - 2.0*I*x21 + (-2.0*x15 - 2.0*x19)*(2.0*I*x17 - 2.0*I*x21)/2 - (-2.0*x15 - 2.0*x23)*(-2.0*I*x16 + 2.0*I*x18)/2 + (2.0*I*x16 - 2.0*I*x18)*(2.0*x12 + 1.0*x20 + 1.0*x22)/2 - (2.0*I*x17 - 2.0*I*x21)*(2.0*x12 - 1.0*x20 - 1.0*x22)/2 + (-2.0*I*x20 + 2.0*I*x22)*(-2.0*x13 + 1.0*x17 + 1.0*x21)/2 - (-2.0*I*x20 + 2.0*I*x22)*(2.0*x14 + 1.0*x16 + 1.0*x18)/2, -2.0*x13 + 2.0*x14 + 1.0*x16 + 1.0*x17 + 1.0*x18 + 1.0*x21 + (-2.0*x15 - 2.0*x19)*(2.0*x14 + 1.0*x16 + 1.0*x18)/2 - (-2.0*x15 - 2.0*x23)*(-2.0*x13 + 1.0*x17 + 1.0*x21)/2 + (-2.0*x19 - 2.0*x23)*(-2.0*x13 + 1.0*x17 + 1.0*x21)/2 - (-2.0*x19 - 2.0*x23)*(2.0*x14 + 1.0*x16 + 1.0*x18)/2 - (2.0*x12 - 1.0*x20 - 1.0*x22)*(2.0*x14 + 1.0*x16 + 1.0*x18)/2 + (2.0*x12 + 1.0*x20 + 1.0*x22)*(2.0*x13 - 1.0*x17 - 1.0*x21)/2,                                                      4.0*x12 + (-2.0*x15 - 2.0*x19)*(2.0*x12 - 1.0*x20 - 1.0*x22)/2 + (-2.0*x15 - 2.0*x19)*(2.0*x12 + 1.0*x20 + 1.0*x22)/2 - (-2.0*x15 - 2.0*x23)*(2.0*x12 - 1.0*x20 - 1.0*x22)/2 - (-2.0*x15 - 2.0*x23)*(2.0*x12 + 1.0*x20 + 1.0*x22)/2 + (-2.0*x13 - 1.0*x17 - 1.0*x21)*(-2.0*x13 + 1.0*x17 + 1.0*x21)/2 - (-2.0*x14 + 1.0*x16 + 1.0*x18)*(2.0*x14 + 1.0*x16 + 1.0*x18)/2,                                                                                                                            -4.0*x15 - 2.0*x19 - 2.0*x23 + (-2.0*x12 - 1.0*x20 - 1.0*x22)*(2.0*x12 + 1.0*x20 + 1.0*x22)/2 - (-2.0*x12 + 1.0*x20 + 1.0*x22)*(2.0*x12 - 1.0*x20 - 1.0*x22)/2 + (-2.0*x13 + 1.0*x17 + 1.0*x21)*(-2.0*x14 + 1.0*x16 + 1.0*x18)/2 - (2.0*x13 + 1.0*x17 + 1.0*x21)*(2.0*x14 + 1.0*x16 + 1.0*x18)/2]])"
      ]
     },
     "execution_count": 319,
     "metadata": {},
     "output_type": "execute_result"
    }
   ],
   "source": [
    "# Extract the order-2 BCH approximation of the F_map\n",
    "a.order2_F_map()"
   ]
  },
  {
   "cell_type": "code",
   "execution_count": 320,
   "id": "played-kelly",
   "metadata": {},
   "outputs": [
    {
     "data": {
      "text/latex": [
       "$\\displaystyle \\left[\\begin{matrix}0 & 0 & 0 & 0\\\\4.0 i x_{13} x_{17} - 4.0 i x_{13} x_{21} - 4.0 i x_{14} x_{16} + 4.0 i x_{14} x_{18} + 2.0 i x_{16}^{2} + 2.0 i x_{17}^{2} - 2.0 i x_{18}^{2} - 4.0 i x_{20} - 2.0 i x_{21}^{2} + 4.0 i x_{22} & 4.0 x_{13} x_{16} + 4.0 x_{13} x_{18} + 4.0 x_{14} x_{17} + 4.0 x_{14} x_{21} - 4.0 x_{19} - 4.0 x_{23} & 2.0 x_{12} x_{13} + 2.0 x_{12} x_{14} - 1.0 x_{12} x_{16} + 1.0 x_{12} x_{17} - 1.0 x_{12} x_{18} + 1.0 x_{12} x_{21} - 2.0 x_{13} x_{15} + 2.0 x_{13} x_{19} - 1.0 x_{13} x_{20} - 1.0 x_{13} x_{22} - 2.0 x_{13} + 2.0 x_{14} x_{15} + 1.0 x_{14} x_{20} + 1.0 x_{14} x_{22} - 2.0 x_{14} x_{23} - 2.0 x_{14} - 1.0 x_{15} x_{16} - 1.0 x_{15} x_{17} - 1.0 x_{15} x_{18} - 1.0 x_{15} x_{21} - 0.5 x_{16} x_{20} - 0.5 x_{16} x_{22} + 1.0 x_{16} x_{23} + 1.0 x_{16} + 1.0 x_{17} x_{19} - 0.5 x_{17} x_{20} - 0.5 x_{17} x_{22} - 1.0 x_{17} - 0.5 x_{18} x_{20} - 0.5 x_{18} x_{22} + 1.0 x_{18} x_{23} + 1.0 x_{18} + 1.0 x_{19} x_{21} - 0.5 x_{20} x_{21} - 0.5 x_{21} x_{22} - 1.0 x_{21} & - 2.0 x_{12} x_{13} + 2.0 x_{12} x_{14} - 1.0 x_{12} x_{16} - 1.0 x_{12} x_{17} - 1.0 x_{12} x_{18} - 1.0 x_{12} x_{21} - 2.0 x_{13} x_{15} + 2.0 x_{13} x_{19} + 1.0 x_{13} x_{20} + 1.0 x_{13} x_{22} + 2.0 x_{13} - 2.0 x_{14} x_{15} + 1.0 x_{14} x_{20} + 1.0 x_{14} x_{22} + 2.0 x_{14} x_{23} - 2.0 x_{14} + 1.0 x_{15} x_{16} - 1.0 x_{15} x_{17} + 1.0 x_{15} x_{18} - 1.0 x_{15} x_{21} - 0.5 x_{16} x_{20} - 0.5 x_{16} x_{22} - 1.0 x_{16} x_{23} + 1.0 x_{16} + 1.0 x_{17} x_{19} + 0.5 x_{17} x_{20} + 0.5 x_{17} x_{22} + 1.0 x_{17} - 0.5 x_{18} x_{20} - 0.5 x_{18} x_{22} - 1.0 x_{18} x_{23} + 1.0 x_{18} + 1.0 x_{19} x_{21} + 0.5 x_{20} x_{21} + 0.5 x_{21} x_{22} + 1.0 x_{21}\\\\- 2.0 i x_{12} x_{16} - 2.0 i x_{12} x_{17} + 2.0 i x_{12} x_{18} + 2.0 i x_{12} x_{21} + 2.0 i x_{13} x_{20} - 2.0 i x_{13} x_{22} - 2.0 i x_{14} x_{20} + 2.0 i x_{14} x_{22} - 2.0 i x_{15} x_{16} + 2.0 i x_{15} x_{17} + 2.0 i x_{15} x_{18} - 2.0 i x_{15} x_{21} - 2.0 i x_{16} x_{20} - 2.0 i x_{16} x_{23} + 2.0 i x_{16} + 2.0 i x_{17} x_{19} + 2.0 i x_{17} x_{22} + 2.0 i x_{17} + 2.0 i x_{18} x_{22} + 2.0 i x_{18} x_{23} - 2.0 i x_{18} - 2.0 i x_{19} x_{21} - 2.0 i x_{20} x_{21} - 2.0 i x_{21} & - 2.0 x_{12} x_{13} - 2.0 x_{12} x_{14} - 1.0 x_{12} x_{16} + 1.0 x_{12} x_{17} - 1.0 x_{12} x_{18} + 1.0 x_{12} x_{21} - 2.0 x_{13} x_{15} + 2.0 x_{13} x_{19} - 1.0 x_{13} x_{20} - 1.0 x_{13} x_{22} + 2.0 x_{13} + 2.0 x_{14} x_{15} + 1.0 x_{14} x_{20} + 1.0 x_{14} x_{22} - 2.0 x_{14} x_{23} + 2.0 x_{14} + 1.0 x_{15} x_{16} + 1.0 x_{15} x_{17} + 1.0 x_{15} x_{18} + 1.0 x_{15} x_{21} + 0.5 x_{16} x_{20} + 0.5 x_{16} x_{22} - 1.0 x_{16} x_{23} + 1.0 x_{16} - 1.0 x_{17} x_{19} + 0.5 x_{17} x_{20} + 0.5 x_{17} x_{22} - 1.0 x_{17} + 0.5 x_{18} x_{20} + 0.5 x_{18} x_{22} - 1.0 x_{18} x_{23} + 1.0 x_{18} - 1.0 x_{19} x_{21} + 0.5 x_{20} x_{21} + 0.5 x_{21} x_{22} - 1.0 x_{21} & 4.0 x_{12} x_{20} + 4.0 x_{12} x_{22} - 2.0 x_{13} x_{16} - 2.0 x_{13} x_{18} - 2.0 x_{14} x_{17} - 2.0 x_{14} x_{21} - 4.0 x_{15} - 2.0 x_{19} - 2.0 x_{23} & - 4.0 x_{12} x_{19} + 4.0 x_{12} x_{23} - 4.0 x_{12} - 2.0 x_{13}^{2} - 2.0 x_{14}^{2} + 0.5 x_{16}^{2} + 1.0 x_{16} x_{18} + 0.5 x_{17}^{2} + 1.0 x_{17} x_{21} + 0.5 x_{18}^{2} + 0.5 x_{21}^{2}\\\\2.0 i x_{12} x_{16} - 2.0 i x_{12} x_{17} - 2.0 i x_{12} x_{18} + 2.0 i x_{12} x_{21} + 2.0 i x_{13} x_{20} - 2.0 i x_{13} x_{22} + 2.0 i x_{14} x_{20} - 2.0 i x_{14} x_{22} - 2.0 i x_{15} x_{16} - 2.0 i x_{15} x_{17} + 2.0 i x_{15} x_{18} + 2.0 i x_{15} x_{21} + 2.0 i x_{16} x_{20} - 2.0 i x_{16} x_{23} - 2.0 i x_{16} - 2.0 i x_{17} x_{19} + 2.0 i x_{17} x_{22} + 2.0 i x_{17} - 2.0 i x_{18} x_{22} + 2.0 i x_{18} x_{23} + 2.0 i x_{18} + 2.0 i x_{19} x_{21} - 2.0 i x_{20} x_{21} - 2.0 i x_{21} & 2.0 x_{12} x_{13} - 2.0 x_{12} x_{14} - 1.0 x_{12} x_{16} - 1.0 x_{12} x_{17} - 1.0 x_{12} x_{18} - 1.0 x_{12} x_{21} - 2.0 x_{13} x_{15} + 2.0 x_{13} x_{19} + 1.0 x_{13} x_{20} + 1.0 x_{13} x_{22} - 2.0 x_{13} - 2.0 x_{14} x_{15} + 1.0 x_{14} x_{20} + 1.0 x_{14} x_{22} + 2.0 x_{14} x_{23} + 2.0 x_{14} - 1.0 x_{15} x_{16} + 1.0 x_{15} x_{17} - 1.0 x_{15} x_{18} + 1.0 x_{15} x_{21} + 0.5 x_{16} x_{20} + 0.5 x_{16} x_{22} + 1.0 x_{16} x_{23} + 1.0 x_{16} - 1.0 x_{17} x_{19} - 0.5 x_{17} x_{20} - 0.5 x_{17} x_{22} + 1.0 x_{17} + 0.5 x_{18} x_{20} + 0.5 x_{18} x_{22} + 1.0 x_{18} x_{23} + 1.0 x_{18} - 1.0 x_{19} x_{21} - 0.5 x_{20} x_{21} - 0.5 x_{21} x_{22} + 1.0 x_{21} & - 4.0 x_{12} x_{19} + 4.0 x_{12} x_{23} + 4.0 x_{12} + 2.0 x_{13}^{2} + 2.0 x_{14}^{2} - 0.5 x_{16}^{2} - 1.0 x_{16} x_{18} - 0.5 x_{17}^{2} - 1.0 x_{17} x_{21} - 0.5 x_{18}^{2} - 0.5 x_{21}^{2} & - 4.0 x_{12} x_{20} - 4.0 x_{12} x_{22} - 2.0 x_{13} x_{16} - 2.0 x_{13} x_{18} - 2.0 x_{14} x_{17} - 2.0 x_{14} x_{21} - 4.0 x_{15} - 2.0 x_{19} - 2.0 x_{23}\\end{matrix}\\right]$"
      ],
      "text/plain": [
       "Matrix([\n",
       "[                                                                                                                                                                                                                                                                                                                                                                             0,                                                                                                                                                                                                                                                                                                                                                                                                                                                                                              0,                                                                                                                                                                                                                                                                                                                                                                                                                                                                                             0,                                                                                                                                                                                                                                                                                                                                                                                                                                                                                              0],\n",
       "[                                                                                                                                                                                                                             4.0*I*x13*x17 - 4.0*I*x13*x21 - 4.0*I*x14*x16 + 4.0*I*x14*x18 + 2.0*I*x16**2 + 2.0*I*x17**2 - 2.0*I*x18**2 - 4.0*I*x20 - 2.0*I*x21**2 + 4.0*I*x22,                                                                                                                                                                                                                                                                                                                                                                                                                      4.0*x13*x16 + 4.0*x13*x18 + 4.0*x14*x17 + 4.0*x14*x21 - 4.0*x19 - 4.0*x23, 2.0*x12*x13 + 2.0*x12*x14 - 1.0*x12*x16 + 1.0*x12*x17 - 1.0*x12*x18 + 1.0*x12*x21 - 2.0*x13*x15 + 2.0*x13*x19 - 1.0*x13*x20 - 1.0*x13*x22 - 2.0*x13 + 2.0*x14*x15 + 1.0*x14*x20 + 1.0*x14*x22 - 2.0*x14*x23 - 2.0*x14 - 1.0*x15*x16 - 1.0*x15*x17 - 1.0*x15*x18 - 1.0*x15*x21 - 0.5*x16*x20 - 0.5*x16*x22 + 1.0*x16*x23 + 1.0*x16 + 1.0*x17*x19 - 0.5*x17*x20 - 0.5*x17*x22 - 1.0*x17 - 0.5*x18*x20 - 0.5*x18*x22 + 1.0*x18*x23 + 1.0*x18 + 1.0*x19*x21 - 0.5*x20*x21 - 0.5*x21*x22 - 1.0*x21, -2.0*x12*x13 + 2.0*x12*x14 - 1.0*x12*x16 - 1.0*x12*x17 - 1.0*x12*x18 - 1.0*x12*x21 - 2.0*x13*x15 + 2.0*x13*x19 + 1.0*x13*x20 + 1.0*x13*x22 + 2.0*x13 - 2.0*x14*x15 + 1.0*x14*x20 + 1.0*x14*x22 + 2.0*x14*x23 - 2.0*x14 + 1.0*x15*x16 - 1.0*x15*x17 + 1.0*x15*x18 - 1.0*x15*x21 - 0.5*x16*x20 - 0.5*x16*x22 - 1.0*x16*x23 + 1.0*x16 + 1.0*x17*x19 + 0.5*x17*x20 + 0.5*x17*x22 + 1.0*x17 - 0.5*x18*x20 - 0.5*x18*x22 - 1.0*x18*x23 + 1.0*x18 + 1.0*x19*x21 + 0.5*x20*x21 + 0.5*x21*x22 + 1.0*x21],\n",
       "[-2.0*I*x12*x16 - 2.0*I*x12*x17 + 2.0*I*x12*x18 + 2.0*I*x12*x21 + 2.0*I*x13*x20 - 2.0*I*x13*x22 - 2.0*I*x14*x20 + 2.0*I*x14*x22 - 2.0*I*x15*x16 + 2.0*I*x15*x17 + 2.0*I*x15*x18 - 2.0*I*x15*x21 - 2.0*I*x16*x20 - 2.0*I*x16*x23 + 2.0*I*x16 + 2.0*I*x17*x19 + 2.0*I*x17*x22 + 2.0*I*x17 + 2.0*I*x18*x22 + 2.0*I*x18*x23 - 2.0*I*x18 - 2.0*I*x19*x21 - 2.0*I*x20*x21 - 2.0*I*x21, -2.0*x12*x13 - 2.0*x12*x14 - 1.0*x12*x16 + 1.0*x12*x17 - 1.0*x12*x18 + 1.0*x12*x21 - 2.0*x13*x15 + 2.0*x13*x19 - 1.0*x13*x20 - 1.0*x13*x22 + 2.0*x13 + 2.0*x14*x15 + 1.0*x14*x20 + 1.0*x14*x22 - 2.0*x14*x23 + 2.0*x14 + 1.0*x15*x16 + 1.0*x15*x17 + 1.0*x15*x18 + 1.0*x15*x21 + 0.5*x16*x20 + 0.5*x16*x22 - 1.0*x16*x23 + 1.0*x16 - 1.0*x17*x19 + 0.5*x17*x20 + 0.5*x17*x22 - 1.0*x17 + 0.5*x18*x20 + 0.5*x18*x22 - 1.0*x18*x23 + 1.0*x18 - 1.0*x19*x21 + 0.5*x20*x21 + 0.5*x21*x22 - 1.0*x21,                                                                                                                                                                                                                                                                                                                                                                               4.0*x12*x20 + 4.0*x12*x22 - 2.0*x13*x16 - 2.0*x13*x18 - 2.0*x14*x17 - 2.0*x14*x21 - 4.0*x15 - 2.0*x19 - 2.0*x23,                                                                                                                                                                                                                                                                                                                                                 -4.0*x12*x19 + 4.0*x12*x23 - 4.0*x12 - 2.0*x13**2 - 2.0*x14**2 + 0.5*x16**2 + 1.0*x16*x18 + 0.5*x17**2 + 1.0*x17*x21 + 0.5*x18**2 + 0.5*x21**2],\n",
       "[ 2.0*I*x12*x16 - 2.0*I*x12*x17 - 2.0*I*x12*x18 + 2.0*I*x12*x21 + 2.0*I*x13*x20 - 2.0*I*x13*x22 + 2.0*I*x14*x20 - 2.0*I*x14*x22 - 2.0*I*x15*x16 - 2.0*I*x15*x17 + 2.0*I*x15*x18 + 2.0*I*x15*x21 + 2.0*I*x16*x20 - 2.0*I*x16*x23 - 2.0*I*x16 - 2.0*I*x17*x19 + 2.0*I*x17*x22 + 2.0*I*x17 - 2.0*I*x18*x22 + 2.0*I*x18*x23 + 2.0*I*x18 + 2.0*I*x19*x21 - 2.0*I*x20*x21 - 2.0*I*x21,  2.0*x12*x13 - 2.0*x12*x14 - 1.0*x12*x16 - 1.0*x12*x17 - 1.0*x12*x18 - 1.0*x12*x21 - 2.0*x13*x15 + 2.0*x13*x19 + 1.0*x13*x20 + 1.0*x13*x22 - 2.0*x13 - 2.0*x14*x15 + 1.0*x14*x20 + 1.0*x14*x22 + 2.0*x14*x23 + 2.0*x14 - 1.0*x15*x16 + 1.0*x15*x17 - 1.0*x15*x18 + 1.0*x15*x21 + 0.5*x16*x20 + 0.5*x16*x22 + 1.0*x16*x23 + 1.0*x16 - 1.0*x17*x19 - 0.5*x17*x20 - 0.5*x17*x22 + 1.0*x17 + 0.5*x18*x20 + 0.5*x18*x22 + 1.0*x18*x23 + 1.0*x18 - 1.0*x19*x21 - 0.5*x20*x21 - 0.5*x21*x22 + 1.0*x21,                                                                                                                                                                                                                                                                                                                                                -4.0*x12*x19 + 4.0*x12*x23 + 4.0*x12 + 2.0*x13**2 + 2.0*x14**2 - 0.5*x16**2 - 1.0*x16*x18 - 0.5*x17**2 - 1.0*x17*x21 - 0.5*x18**2 - 0.5*x21**2,                                                                                                                                                                                                                                                                                                                                                                               -4.0*x12*x20 - 4.0*x12*x22 - 2.0*x13*x16 - 2.0*x13*x18 - 2.0*x14*x17 - 2.0*x14*x21 - 4.0*x15 - 2.0*x19 - 2.0*x23]])"
      ]
     },
     "execution_count": 320,
     "metadata": {},
     "output_type": "execute_result"
    }
   ],
   "source": [
    "# Simplify it\n",
    "sp.expand(a.order2_F_map())"
   ]
  },
  {
   "cell_type": "code",
   "execution_count": 322,
   "id": "dangerous-inspiration",
   "metadata": {},
   "outputs": [
    {
     "data": {
      "text/latex": [
       "$\\displaystyle \\left[\\begin{matrix}0 & 0 & 0 & 0\\\\- 4.0 i & 0 & - 1.0 x_{13} + 1.0 x_{14} - 0.5 x_{16} - 0.5 x_{17} - 0.5 x_{18} - 0.5 x_{21} & 1.0 x_{13} + 1.0 x_{14} - 0.5 x_{16} + 0.5 x_{17} - 0.5 x_{18} + 0.5 x_{21}\\\\- 1.0 i x_{16} + 1.0 i x_{17} + 1.0 i x_{18} - 1.0 i x_{21} + 1.0 i \\left(2.0 x_{13} - 1.0 x_{17} - 1.0 x_{21}\\right) - 1.0 i \\left(2.0 x_{14} + 1.0 x_{16} + 1.0 x_{18}\\right) & - 1.0 x_{13} + 1.0 x_{14} + 0.5 x_{16} + 0.5 x_{17} + 0.5 x_{18} + 0.5 x_{21} & 4.0 x_{12} & 0\\\\1.0 i x_{16} + 1.0 i x_{17} - 1.0 i x_{18} - 1.0 i x_{21} - 1.0 i \\left(- 2.0 x_{13} + 1.0 x_{17} + 1.0 x_{21}\\right) + 1.0 i \\left(2.0 x_{14} + 1.0 x_{16} + 1.0 x_{18}\\right) & 1.0 x_{13} + 1.0 x_{14} + 0.5 x_{16} - 0.5 x_{17} + 0.5 x_{18} - 0.5 x_{21} & 0 & - 4.0 x_{12}\\end{matrix}\\right]$"
      ],
      "text/plain": [
       "Matrix([\n",
       "[                                                                                                                         0,                                                          0,                                                          0,                                                         0],\n",
       "[                                                                                                                    -4.0*I,                                                          0, -1.0*x13 + 1.0*x14 - 0.5*x16 - 0.5*x17 - 0.5*x18 - 0.5*x21, 1.0*x13 + 1.0*x14 - 0.5*x16 + 0.5*x17 - 0.5*x18 + 0.5*x21],\n",
       "[-1.0*I*x16 + 1.0*I*x17 + 1.0*I*x18 - 1.0*I*x21 + 1.0*I*(2.0*x13 - 1.0*x17 - 1.0*x21) - 1.0*I*(2.0*x14 + 1.0*x16 + 1.0*x18), -1.0*x13 + 1.0*x14 + 0.5*x16 + 0.5*x17 + 0.5*x18 + 0.5*x21,                                                    4.0*x12,                                                         0],\n",
       "[1.0*I*x16 + 1.0*I*x17 - 1.0*I*x18 - 1.0*I*x21 - 1.0*I*(-2.0*x13 + 1.0*x17 + 1.0*x21) + 1.0*I*(2.0*x14 + 1.0*x16 + 1.0*x18),  1.0*x13 + 1.0*x14 + 0.5*x16 - 0.5*x17 + 0.5*x18 - 0.5*x21,                                                          0,                                                  -4.0*x12]])"
      ]
     },
     "execution_count": 322,
     "metadata": {},
     "output_type": "execute_result"
    }
   ],
   "source": [
    "# We can take derivatives with respect to any given error parameter.\n",
    "# Depedning on desired use case this can be incorporated as a function in our class\n",
    "# i'd imagine, for finding Jacobians\n",
    "sp.diff(a.order2_F_map(), 'x20')"
   ]
  },
  {
   "cell_type": "code",
   "execution_count": null,
   "id": "tough-resistance",
   "metadata": {},
   "outputs": [],
   "source": []
  }
 ],
 "metadata": {
  "kernelspec": {
   "display_name": "Python 3",
   "language": "python",
   "name": "python3"
  },
  "language_info": {
   "codemirror_mode": {
    "name": "ipython",
    "version": 3
   },
   "file_extension": ".py",
   "mimetype": "text/x-python",
   "name": "python",
   "nbconvert_exporter": "python",
   "pygments_lexer": "ipython3",
   "version": "3.9.1"
  }
 },
 "nbformat": 4,
 "nbformat_minor": 5
}

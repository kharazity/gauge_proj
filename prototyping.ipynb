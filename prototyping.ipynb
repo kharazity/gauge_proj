{
 "cells": [
  {
   "cell_type": "code",
   "execution_count": 1,
   "id": "e7b8b704-5946-4e2d-888a-0c18af98970e",
   "metadata": {},
   "outputs": [
    {
     "name": "stderr",
     "output_type": "stream",
     "text": [
      "/Users/cnammour/.pyenv/versions/3.9.1/lib/python3.9/site-packages/pandas/compat/__init__.py:124: UserWarning: Could not import the lzma module. Your installed Python is incomplete. Attempting to use lzma compression will result in a RuntimeError.\n",
      "  warnings.warn(msg)\n"
     ]
    }
   ],
   "source": [
    "import pygsti\n",
    "from pygsti.circuits import Circuit\n",
    "import random\n",
    "from pygsti.modelpacks import smq1Q_XYZI as std\n",
    "# Note that numpy 1.23 will break pygsti\n",
    "import numpy as np\n",
    "import matplotlib.pyplot as plt"
   ]
  },
  {
   "cell_type": "code",
   "execution_count": 2,
   "id": "514c4e26-dc48-45f7-92ac-c6539a690f22",
   "metadata": {},
   "outputs": [],
   "source": [
    "model = std.target_model('CPTP')"
   ]
  },
  {
   "cell_type": "code",
   "execution_count": 3,
   "id": "5f26a1f7-f4bc-4bf1-be7e-aff1b73a7d1b",
   "metadata": {},
   "outputs": [],
   "source": [
    "model.from_vector( np.random.uniform(0, 0.1, model.num_params))"
   ]
  },
  {
   "cell_type": "code",
   "execution_count": 4,
   "id": "edaa8109-4aa2-4ac6-aa75-aea18b11eb77",
   "metadata": {},
   "outputs": [
    {
     "data": {
      "text/plain": [
       "[(), ('Gxpi2', 0), ('Gypi2', 0), ('Gzpi2', 0)]"
      ]
     },
     "execution_count": 4,
     "metadata": {},
     "output_type": "execute_result"
    }
   ],
   "source": [
    "\"\"\" a model pack has labelled gates and standard state preps and measurements \"\"\"\n",
    "std.gates"
   ]
  },
  {
   "cell_type": "code",
   "execution_count": 5,
   "id": "6a2dc2aa-17a4-4f2c-9a50-784df40bf4f5",
   "metadata": {},
   "outputs": [
    {
     "name": "stdout",
     "output_type": "stream",
     "text": [
      "rho0 in PP basis [ 0.70710678  0.12827056 -0.08042541  0.66443548]\n",
      "Gxpi2 in PP basis\n",
      " [[ 1.00000000e+00  0.00000000e+00  2.22044605e-16  1.57009246e-16]\n",
      " [-2.01556360e-02  9.14983912e-01  1.53922104e-01  1.38922924e-01]\n",
      " [ 7.31941573e-04  1.50326372e-01 -2.94601424e-02 -9.46528923e-01]\n",
      " [-2.01694082e-03 -1.42689681e-01  9.63121432e-01 -9.63682178e-02]]\n",
      "<<0| in PP basis [ 0.70207326 -0.08413068  0.0106909   0.69462019]\n"
     ]
    }
   ],
   "source": [
    "\"\"\"access model memebers with their labels\"\"\"\n",
    "print('rho0 in PP basis', model[('rho0')].to_dense())\n",
    "print('Gxpi2 in PP basis\\n', model[('Gxpi2', 0)].to_dense())\n",
    "print('<<0| in PP basis', model[('Mdefault')]['0'].to_dense()) # note Povms are dictionaries of dictionaries"
   ]
  },
  {
   "cell_type": "code",
   "execution_count": 6,
   "id": "3022fa95-0172-4bfe-8bf2-bd6f5004991f",
   "metadata": {},
   "outputs": [],
   "source": [
    "def random_circuit(depth, model_pack=std):\n",
    "    \"\"\"\n",
    "    works for any 1-qubit model pack and the XYZICnot 2-qubit pack\n",
    "    \"\"\"\n",
    "    proc_spec = model_pack.processor_spec()\n",
    "    layers = []\n",
    "    for i in range(depth):\n",
    "        gate = random.choice(proc_spec.gate_names)\n",
    "        if gate == 'Gcnot':\n",
    "            control = random.choice(proc_spec.qubit_labels)\n",
    "            if control == 0:\n",
    "                target = 1\n",
    "            else:\n",
    "                target = 0\n",
    "            layers.append((gate, control, target))\n",
    "        else:\n",
    "            layers.append((gate, random.choice(proc_spec.qubit_labels)))\n",
    "    return Circuit(layers, proc_spec.qubit_labels)"
   ]
  },
  {
   "cell_type": "code",
   "execution_count": 7,
   "id": "fa9739f3-d7d6-4e7b-84fb-1285b0dde6a9",
   "metadata": {},
   "outputs": [
    {
     "data": {
      "text/plain": [
       "Circuit(Gxpi2:0{idle}:0Gypi2:0@(0))"
      ]
     },
     "execution_count": 7,
     "metadata": {},
     "output_type": "execute_result"
    }
   ],
   "source": [
    "random_circuit(3)"
   ]
  },
  {
   "cell_type": "code",
   "execution_count": 10,
   "id": "09ded699-4264-43ea-9996-a2096b0b2a59",
   "metadata": {},
   "outputs": [
    {
     "data": {
      "text/plain": [
       "<matplotlib.image.AxesImage at 0x146ebf190>"
      ]
     },
     "execution_count": 10,
     "metadata": {},
     "output_type": "execute_result"
    },
    {
     "data": {
      "image/png": "[encoded data removed]",
      "text/plain": [
       "<Figure size 288x288 with 1 Axes>"
      ]
     },
     "metadata": {
      "needs_background": "light"
     },
     "output_type": "display_data"
    }
   ],
   "source": [
    "gx = model[('Gxpi2', 0)]\n",
    "plt.matshow(gx.to_dense())"
   ]
  },
  {
   "cell_type": "code",
   "execution_count": 11,
   "id": "fe84c9b6-505f-4dba-bba6-9b1ac20e0907",
   "metadata": {},
   "outputs": [
    {
     "data": {
      "text/plain": [
       "<matplotlib.image.AxesImage at 0x146f84cd0>"
      ]
     },
     "execution_count": 11,
     "metadata": {},
     "output_type": "execute_result"
    },
    {
     "data": {
      "image/png": "[encoded data removed]",
      "text/plain": [
       "<Figure size 288x288 with 1 Axes>"
      ]
     },
     "metadata": {
      "needs_background": "light"
     },
     "output_type": "display_data"
    }
   ],
   "source": [
    "plt.matshow(gx.submembers()[1].errorgen.to_dense())"
   ]
  },
  {
   "cell_type": "code",
   "execution_count": 12,
   "id": "c64770ca-27b7-473e-bae8-76c33b65f974",
   "metadata": {},
   "outputs": [
    {
     "data": {
      "text/plain": [
       "array([0.03283682, 0.07904518, 0.07781037, 0.01335188, 0.06925751,\n",
       "       0.04287618, 0.02953618, 0.07685783, 0.07630216, 0.02894503,\n",
       "       0.09746674, 0.04913989])"
      ]
     },
     "execution_count": 12,
     "metadata": {},
     "output_type": "execute_result"
    }
   ],
   "source": [
    "gx.to_vector()"
   ]
  },
  {
   "cell_type": "code",
   "execution_count": 13,
   "id": "01e5756b-c27a-4fbf-816f-3ac1dae23ebd",
   "metadata": {},
   "outputs": [
    {
     "name": "stdout",
     "output_type": "stream",
     "text": [
      "(('H', ('X',), (0,)), ('H', ('Y',), (0,)), ('H', ('Z',), (0,)), ('S', ('X',), (0,)), ('C', ('X', 'Y'), (0,)), ('A', ('X', 'Y'), (0,)), ('C', ('X', 'Z'), (0,)), ('A', ('X', 'Z'), (0,)), ('S', ('Y',), (0,)), ('C', ('Y', 'Z'), (0,)), ('A', ('Y', 'Z'), (0,)), ('S', ('Z',), (0,)))\n"
     ]
    },
    {
     "data": {
      "text/plain": [
       "OrderedDict([(('H', ('X',), (0,)), 0.03283682169487545),\n",
       "             (('H', ('Y',), (0,)), 0.07904517792819776),\n",
       "             (('H', ('Z',), (0,)), 0.07781037064277095),\n",
       "             (('S', ('X',), (0,)), 0.00017827275564420846),\n",
       "             (('C', ('X', 'Y'), (0,)), 0.0003943635633302954),\n",
       "             (('A', ('X', 'Y'), (0,)), 0.0009247180505987251),\n",
       "             (('C', ('X', 'Z'), (0,)), 0.0003864706831934139),\n",
       "             (('A', ('X', 'Z'), (0,)), 0.0005724777379963231),\n",
       "             (('S', ('Y',), (0,)), 0.011576113525834018),\n",
       "             (('C', ('Y', 'Z'), (0,)), 0.011315504685806955),\n",
       "             (('A', ('Y', 'Z'), (0,)), 0.005126156318839885),\n",
       "             (('S', ('Z',), (0,)), 0.020412695379177732)])"
      ]
     },
     "execution_count": 13,
     "metadata": {},
     "output_type": "execute_result"
    }
   ],
   "source": [
    "print(gx.errorgen_coefficient_labels())\n",
    "gx.errorgen_coefficients()"
   ]
  },
  {
   "cell_type": "code",
   "execution_count": 14,
   "id": "4c345f99-b5ca-4804-a19b-eafdea330599",
   "metadata": {},
   "outputs": [
    {
     "ename": "IndentationError",
     "evalue": "expected an indented block (<ipython-input-14-940ae0a9a1c2>, line 12)",
     "output_type": "error",
     "traceback": [
      "\u001b[0;36m  File \u001b[0;32m\"<ipython-input-14-940ae0a9a1c2>\"\u001b[0;36m, line \u001b[0;32m12\u001b[0m\n\u001b[0;31m    \u001b[0m\n\u001b[0m    ^\u001b[0m\n\u001b[0;31mIndentationError\u001b[0m\u001b[0;31m:\u001b[0m expected an indented block\n"
     ]
    }
   ],
   "source": [
    "def errorgen_from_circuit(circ, model):\n",
    "    \"\"\"\n",
    "    Returns exp(x o L) from an error model and a circuit\n",
    "    \n",
    "    only produces the linear error generator\n",
    "    \"\"\"\n",
    "    \n",
    "    \n",
    "    \n",
    "    for idg, gate in enumerate(circ):\n",
    "        \n",
    "        "
   ]
  },
  {
   "cell_type": "code",
   "execution_count": 49,
   "id": "44a441a9-a95d-4553-8d92-8e201c72a7f0",
   "metadata": {},
   "outputs": [],
   "source": [
    "class GateSet():\n",
    "    \"\"\"\n",
    "    Holds the information for\n",
    "        -all native gates, states, and measurements\n",
    "        -all error generator features (in a feature dict)\n",
    "        -map between gate labels and parameter index list (index set)\n",
    "        -map between parameter indices and error features (feature dict) \n",
    "    \"\"\"\n",
    "    def __init__(self, model_pack, parameterization='CPTP'):\n",
    "        # A list of error features, each one corresponding to one error generator in our H/S/C/A basis\n",
    "        self.features = []\n",
    "        # A dictionary which maps each gate/POVM/state-prep to its corresponding errors in `self.features`\n",
    "        self.index_set = dict()\n",
    "        model = self.target_model = model_pack.target_model(parameterization)\n",
    "        self.gate_labels = model_pack.gates\n",
    "        \n",
    "        itr = 0\n",
    "        # Errors for all gates in the model\n",
    "        for gate in model_pack.gates:\n",
    "            param_index_list = []\n",
    "            for egentype in model[gate].submembers()[1].errorgen.lindblad_term_superops_and_1norms:\n",
    "                for mat in egentype[0][:]:\n",
    "                    self.features.append(mat.todense())\n",
    "                    param_index_list.append(itr)\n",
    "                    itr += 1\n",
    "            self.index_set[gate] = param_index_list\n",
    "        # Errors for all measurements in the model\n",
    "        for povm in model.povms.keys():\n",
    "            param_index_list = []\n",
    "            for egentype in model[povm].error_map.errorgen.lindblad_term_superops_and_1norms:\n",
    "                for mat in egentype[0][:]:\n",
    "                    self.features.append(mat.todense())\n",
    "                    param_index_list.append(itr)\n",
    "                    itr += 1\n",
    "            self.index_set[povm] = param_index_list\n",
    "        # Errors for all state preparations in the model\n",
    "        for prep in model.preps.keys():\n",
    "            param_index_list = []\n",
    "            for egentype in model[prep].error_map.errorgen.lindblad_term_superops_and_1norms:\n",
    "                for mat in egentype[0][:]:\n",
    "                    self.features.append(mat.todense())\n",
    "                    param_index_list.append(itr)\n",
    "                    itr += 1\n",
    "            self.index_set[prep] = param_index_list    \n",
    "    \n",
    "    def features_of(self, gate):\n",
    "        \"\"\"Returns the list of error features associated with the given gate/POVM/state-prep\"\"\"\n",
    "        indices = self.index_set[gate]\n",
    "        return [self.features[i] for i in indices]\n",
    "    \n",
    "    def target_op(self, op_label):\n",
    "        \"\"\"\n",
    "        returns the target operation of the given operation\n",
    "        \"\"\"\n",
    "        return self.target_model[op_label].to_dense()\n",
    "\n",
    "    def native_meas(self):\n",
    "        return [m.to_dense() for m in self.target_model['Mdefault'].values()]\n",
    "\n",
    "    def rho0(self):\n",
    "        return self.target_model['rho0'].to_dense()"
   ]
  },
  {
   "cell_type": "code",
   "execution_count": 50,
   "id": "7d157fd5-a507-4df7-b60f-6ce7c3895549",
   "metadata": {},
   "outputs": [],
   "source": [
    "def all_random_circuits(length):\n",
    "    \"\"\"\n",
    "    returns all random circuits of given length\n",
    "    \"\"\""
   ]
  },
  {
   "cell_type": "code",
   "execution_count": 51,
   "id": "96e7f849-a430-45fc-95ed-cec2b6e745f4",
   "metadata": {},
   "outputs": [],
   "source": [
    "gs = GateSet(std)"
   ]
  },
  {
   "cell_type": "code",
   "execution_count": 52,
   "id": "906fb1c7-5ecd-407d-bfd2-021c9ea351c4",
   "metadata": {},
   "outputs": [
    {
     "data": {
      "text/plain": [
       "{(): [0, 1, 2, 3, 4, 5, 6, 7, 8, 9, 10, 11],\n",
       " ('Gxpi2', 0): [12, 13, 14, 15, 16, 17, 18, 19, 20, 21, 22, 23],\n",
       " ('Gypi2', 0): [24, 25, 26, 27, 28, 29, 30, 31, 32, 33, 34, 35],\n",
       " ('Gzpi2', 0): [36, 37, 38, 39, 40, 41, 42, 43, 44, 45, 46, 47],\n",
       " Label('Mdefault'): [48, 49, 50, 51, 52, 53, 54, 55, 56, 57, 58, 59],\n",
       " Label('rho0'): [60, 61, 62, 63, 64, 65, 66, 67, 68, 69, 70, 71]}"
      ]
     },
     "execution_count": 52,
     "metadata": {},
     "output_type": "execute_result"
    }
   ],
   "source": [
    "\"\"\"show the index set\"\"\"\n",
    "gs.index_set"
   ]
  },
  {
   "cell_type": "code",
   "execution_count": 53,
   "id": "254a7209-c7be-467f-adb8-6f09d84d40d1",
   "metadata": {},
   "outputs": [
    {
     "data": {
      "text/plain": [
       "[matrix([[ 0.+0.j,  0.+0.j,  0.+0.j,  0.+0.j],\n",
       "         [ 0.+0.j,  0.+0.j,  0.+0.j,  0.+0.j],\n",
       "         [ 0.+0.j,  0.+0.j,  0.+0.j, -2.+0.j],\n",
       "         [ 0.+0.j,  0.+0.j,  2.+0.j,  0.+0.j]]),\n",
       " matrix([[ 0.+0.j,  0.+0.j,  0.+0.j,  0.+0.j],\n",
       "         [ 0.+0.j,  0.+0.j,  0.+0.j,  2.+0.j],\n",
       "         [ 0.+0.j,  0.+0.j,  0.+0.j,  0.+0.j],\n",
       "         [ 0.+0.j, -2.+0.j,  0.+0.j,  0.+0.j]]),\n",
       " matrix([[ 0.+0.j,  0.+0.j,  0.+0.j,  0.+0.j],\n",
       "         [ 0.+0.j,  0.+0.j, -2.+0.j,  0.+0.j],\n",
       "         [ 0.+0.j,  2.+0.j,  0.+0.j,  0.+0.j],\n",
       "         [ 0.+0.j,  0.+0.j,  0.+0.j,  0.+0.j]]),\n",
       " matrix([[ 0.+0.j,  0.+0.j,  0.+0.j,  0.+0.j],\n",
       "         [ 0.+0.j,  0.+0.j,  0.+0.j,  0.+0.j],\n",
       "         [ 0.+0.j,  0.+0.j, -2.+0.j,  0.+0.j],\n",
       "         [ 0.+0.j,  0.+0.j,  0.+0.j, -2.+0.j]]),\n",
       " matrix([[0.+0.j, 0.+0.j, 0.+0.j, 0.+0.j],\n",
       "         [0.+0.j, 0.+0.j, 1.+0.j, 0.+0.j],\n",
       "         [0.+0.j, 1.+0.j, 0.+0.j, 0.+0.j],\n",
       "         [0.-2.j, 0.+0.j, 0.+0.j, 0.+0.j]]),\n",
       " matrix([[0.+0.j, 0.+0.j, 0.+0.j, 0.+0.j],\n",
       "         [0.+0.j, 0.+0.j, 0.+0.j, 1.+0.j],\n",
       "         [0.+2.j, 0.+0.j, 0.+0.j, 0.+0.j],\n",
       "         [0.+0.j, 1.+0.j, 0.+0.j, 0.+0.j]]),\n",
       " matrix([[0.+0.j, 0.+0.j, 0.+0.j, 0.+0.j],\n",
       "         [0.+0.j, 0.+0.j, 1.+0.j, 0.+0.j],\n",
       "         [0.+0.j, 1.+0.j, 0.+0.j, 0.+0.j],\n",
       "         [0.+2.j, 0.+0.j, 0.+0.j, 0.+0.j]]),\n",
       " matrix([[ 0.+0.j,  0.+0.j,  0.+0.j,  0.+0.j],\n",
       "         [ 0.+0.j, -2.+0.j,  0.+0.j,  0.+0.j],\n",
       "         [ 0.+0.j,  0.+0.j,  0.+0.j,  0.+0.j],\n",
       "         [ 0.+0.j,  0.+0.j,  0.+0.j, -2.+0.j]]),\n",
       " matrix([[0.+0.j, 0.+0.j, 0.+0.j, 0.+0.j],\n",
       "         [0.-2.j, 0.+0.j, 0.+0.j, 0.+0.j],\n",
       "         [0.+0.j, 0.+0.j, 0.+0.j, 1.+0.j],\n",
       "         [0.+0.j, 0.+0.j, 1.+0.j, 0.+0.j]]),\n",
       " matrix([[0.+0.j, 0.+0.j, 0.+0.j, 0.+0.j],\n",
       "         [0.+0.j, 0.+0.j, 0.+0.j, 1.+0.j],\n",
       "         [0.-2.j, 0.+0.j, 0.+0.j, 0.+0.j],\n",
       "         [0.+0.j, 1.+0.j, 0.+0.j, 0.+0.j]]),\n",
       " matrix([[0.+0.j, 0.+0.j, 0.+0.j, 0.+0.j],\n",
       "         [0.+2.j, 0.+0.j, 0.+0.j, 0.+0.j],\n",
       "         [0.+0.j, 0.+0.j, 0.+0.j, 1.+0.j],\n",
       "         [0.+0.j, 0.+0.j, 1.+0.j, 0.+0.j]]),\n",
       " matrix([[ 0.+0.j,  0.+0.j,  0.+0.j,  0.+0.j],\n",
       "         [ 0.+0.j, -2.+0.j,  0.+0.j,  0.+0.j],\n",
       "         [ 0.+0.j,  0.+0.j, -2.+0.j,  0.+0.j],\n",
       "         [ 0.+0.j,  0.+0.j,  0.+0.j,  0.+0.j]]),\n",
       " matrix([[ 0.+0.j,  0.+0.j,  0.+0.j,  0.+0.j],\n",
       "         [ 0.+0.j,  0.+0.j,  0.+0.j,  0.+0.j],\n",
       "         [ 0.+0.j,  0.+0.j,  0.+0.j, -2.+0.j],\n",
       "         [ 0.+0.j,  0.+0.j,  2.+0.j,  0.+0.j]]),\n",
       " matrix([[ 0.+0.j,  0.+0.j,  0.+0.j,  0.+0.j],\n",
       "         [ 0.+0.j,  0.+0.j,  0.+0.j,  2.+0.j],\n",
       "         [ 0.+0.j,  0.+0.j,  0.+0.j,  0.+0.j],\n",
       "         [ 0.+0.j, -2.+0.j,  0.+0.j,  0.+0.j]]),\n",
       " matrix([[ 0.+0.j,  0.+0.j,  0.+0.j,  0.+0.j],\n",
       "         [ 0.+0.j,  0.+0.j, -2.+0.j,  0.+0.j],\n",
       "         [ 0.+0.j,  2.+0.j,  0.+0.j,  0.+0.j],\n",
       "         [ 0.+0.j,  0.+0.j,  0.+0.j,  0.+0.j]]),\n",
       " matrix([[ 0.+0.j,  0.+0.j,  0.+0.j,  0.+0.j],\n",
       "         [ 0.+0.j,  0.+0.j,  0.+0.j,  0.+0.j],\n",
       "         [ 0.+0.j,  0.+0.j, -2.+0.j,  0.+0.j],\n",
       "         [ 0.+0.j,  0.+0.j,  0.+0.j, -2.+0.j]]),\n",
       " matrix([[0.+0.j, 0.+0.j, 0.+0.j, 0.+0.j],\n",
       "         [0.+0.j, 0.+0.j, 1.+0.j, 0.+0.j],\n",
       "         [0.+0.j, 1.+0.j, 0.+0.j, 0.+0.j],\n",
       "         [0.-2.j, 0.+0.j, 0.+0.j, 0.+0.j]]),\n",
       " matrix([[0.+0.j, 0.+0.j, 0.+0.j, 0.+0.j],\n",
       "         [0.+0.j, 0.+0.j, 0.+0.j, 1.+0.j],\n",
       "         [0.+2.j, 0.+0.j, 0.+0.j, 0.+0.j],\n",
       "         [0.+0.j, 1.+0.j, 0.+0.j, 0.+0.j]]),\n",
       " matrix([[0.+0.j, 0.+0.j, 0.+0.j, 0.+0.j],\n",
       "         [0.+0.j, 0.+0.j, 1.+0.j, 0.+0.j],\n",
       "         [0.+0.j, 1.+0.j, 0.+0.j, 0.+0.j],\n",
       "         [0.+2.j, 0.+0.j, 0.+0.j, 0.+0.j]]),\n",
       " matrix([[ 0.+0.j,  0.+0.j,  0.+0.j,  0.+0.j],\n",
       "         [ 0.+0.j, -2.+0.j,  0.+0.j,  0.+0.j],\n",
       "         [ 0.+0.j,  0.+0.j,  0.+0.j,  0.+0.j],\n",
       "         [ 0.+0.j,  0.+0.j,  0.+0.j, -2.+0.j]]),\n",
       " matrix([[0.+0.j, 0.+0.j, 0.+0.j, 0.+0.j],\n",
       "         [0.-2.j, 0.+0.j, 0.+0.j, 0.+0.j],\n",
       "         [0.+0.j, 0.+0.j, 0.+0.j, 1.+0.j],\n",
       "         [0.+0.j, 0.+0.j, 1.+0.j, 0.+0.j]]),\n",
       " matrix([[0.+0.j, 0.+0.j, 0.+0.j, 0.+0.j],\n",
       "         [0.+0.j, 0.+0.j, 0.+0.j, 1.+0.j],\n",
       "         [0.-2.j, 0.+0.j, 0.+0.j, 0.+0.j],\n",
       "         [0.+0.j, 1.+0.j, 0.+0.j, 0.+0.j]]),\n",
       " matrix([[0.+0.j, 0.+0.j, 0.+0.j, 0.+0.j],\n",
       "         [0.+2.j, 0.+0.j, 0.+0.j, 0.+0.j],\n",
       "         [0.+0.j, 0.+0.j, 0.+0.j, 1.+0.j],\n",
       "         [0.+0.j, 0.+0.j, 1.+0.j, 0.+0.j]]),\n",
       " matrix([[ 0.+0.j,  0.+0.j,  0.+0.j,  0.+0.j],\n",
       "         [ 0.+0.j, -2.+0.j,  0.+0.j,  0.+0.j],\n",
       "         [ 0.+0.j,  0.+0.j, -2.+0.j,  0.+0.j],\n",
       "         [ 0.+0.j,  0.+0.j,  0.+0.j,  0.+0.j]]),\n",
       " matrix([[ 0.+0.j,  0.+0.j,  0.+0.j,  0.+0.j],\n",
       "         [ 0.+0.j,  0.+0.j,  0.+0.j,  0.+0.j],\n",
       "         [ 0.+0.j,  0.+0.j,  0.+0.j, -2.+0.j],\n",
       "         [ 0.+0.j,  0.+0.j,  2.+0.j,  0.+0.j]]),\n",
       " matrix([[ 0.+0.j,  0.+0.j,  0.+0.j,  0.+0.j],\n",
       "         [ 0.+0.j,  0.+0.j,  0.+0.j,  2.+0.j],\n",
       "         [ 0.+0.j,  0.+0.j,  0.+0.j,  0.+0.j],\n",
       "         [ 0.+0.j, -2.+0.j,  0.+0.j,  0.+0.j]]),\n",
       " matrix([[ 0.+0.j,  0.+0.j,  0.+0.j,  0.+0.j],\n",
       "         [ 0.+0.j,  0.+0.j, -2.+0.j,  0.+0.j],\n",
       "         [ 0.+0.j,  2.+0.j,  0.+0.j,  0.+0.j],\n",
       "         [ 0.+0.j,  0.+0.j,  0.+0.j,  0.+0.j]]),\n",
       " matrix([[ 0.+0.j,  0.+0.j,  0.+0.j,  0.+0.j],\n",
       "         [ 0.+0.j,  0.+0.j,  0.+0.j,  0.+0.j],\n",
       "         [ 0.+0.j,  0.+0.j, -2.+0.j,  0.+0.j],\n",
       "         [ 0.+0.j,  0.+0.j,  0.+0.j, -2.+0.j]]),\n",
       " matrix([[0.+0.j, 0.+0.j, 0.+0.j, 0.+0.j],\n",
       "         [0.+0.j, 0.+0.j, 1.+0.j, 0.+0.j],\n",
       "         [0.+0.j, 1.+0.j, 0.+0.j, 0.+0.j],\n",
       "         [0.-2.j, 0.+0.j, 0.+0.j, 0.+0.j]]),\n",
       " matrix([[0.+0.j, 0.+0.j, 0.+0.j, 0.+0.j],\n",
       "         [0.+0.j, 0.+0.j, 0.+0.j, 1.+0.j],\n",
       "         [0.+2.j, 0.+0.j, 0.+0.j, 0.+0.j],\n",
       "         [0.+0.j, 1.+0.j, 0.+0.j, 0.+0.j]]),\n",
       " matrix([[0.+0.j, 0.+0.j, 0.+0.j, 0.+0.j],\n",
       "         [0.+0.j, 0.+0.j, 1.+0.j, 0.+0.j],\n",
       "         [0.+0.j, 1.+0.j, 0.+0.j, 0.+0.j],\n",
       "         [0.+2.j, 0.+0.j, 0.+0.j, 0.+0.j]]),\n",
       " matrix([[ 0.+0.j,  0.+0.j,  0.+0.j,  0.+0.j],\n",
       "         [ 0.+0.j, -2.+0.j,  0.+0.j,  0.+0.j],\n",
       "         [ 0.+0.j,  0.+0.j,  0.+0.j,  0.+0.j],\n",
       "         [ 0.+0.j,  0.+0.j,  0.+0.j, -2.+0.j]]),\n",
       " matrix([[0.+0.j, 0.+0.j, 0.+0.j, 0.+0.j],\n",
       "         [0.-2.j, 0.+0.j, 0.+0.j, 0.+0.j],\n",
       "         [0.+0.j, 0.+0.j, 0.+0.j, 1.+0.j],\n",
       "         [0.+0.j, 0.+0.j, 1.+0.j, 0.+0.j]]),\n",
       " matrix([[0.+0.j, 0.+0.j, 0.+0.j, 0.+0.j],\n",
       "         [0.+0.j, 0.+0.j, 0.+0.j, 1.+0.j],\n",
       "         [0.-2.j, 0.+0.j, 0.+0.j, 0.+0.j],\n",
       "         [0.+0.j, 1.+0.j, 0.+0.j, 0.+0.j]]),\n",
       " matrix([[0.+0.j, 0.+0.j, 0.+0.j, 0.+0.j],\n",
       "         [0.+2.j, 0.+0.j, 0.+0.j, 0.+0.j],\n",
       "         [0.+0.j, 0.+0.j, 0.+0.j, 1.+0.j],\n",
       "         [0.+0.j, 0.+0.j, 1.+0.j, 0.+0.j]]),\n",
       " matrix([[ 0.+0.j,  0.+0.j,  0.+0.j,  0.+0.j],\n",
       "         [ 0.+0.j, -2.+0.j,  0.+0.j,  0.+0.j],\n",
       "         [ 0.+0.j,  0.+0.j, -2.+0.j,  0.+0.j],\n",
       "         [ 0.+0.j,  0.+0.j,  0.+0.j,  0.+0.j]]),\n",
       " matrix([[ 0.+0.j,  0.+0.j,  0.+0.j,  0.+0.j],\n",
       "         [ 0.+0.j,  0.+0.j,  0.+0.j,  0.+0.j],\n",
       "         [ 0.+0.j,  0.+0.j,  0.+0.j, -2.+0.j],\n",
       "         [ 0.+0.j,  0.+0.j,  2.+0.j,  0.+0.j]]),\n",
       " matrix([[ 0.+0.j,  0.+0.j,  0.+0.j,  0.+0.j],\n",
       "         [ 0.+0.j,  0.+0.j,  0.+0.j,  2.+0.j],\n",
       "         [ 0.+0.j,  0.+0.j,  0.+0.j,  0.+0.j],\n",
       "         [ 0.+0.j, -2.+0.j,  0.+0.j,  0.+0.j]]),\n",
       " matrix([[ 0.+0.j,  0.+0.j,  0.+0.j,  0.+0.j],\n",
       "         [ 0.+0.j,  0.+0.j, -2.+0.j,  0.+0.j],\n",
       "         [ 0.+0.j,  2.+0.j,  0.+0.j,  0.+0.j],\n",
       "         [ 0.+0.j,  0.+0.j,  0.+0.j,  0.+0.j]]),\n",
       " matrix([[ 0.+0.j,  0.+0.j,  0.+0.j,  0.+0.j],\n",
       "         [ 0.+0.j,  0.+0.j,  0.+0.j,  0.+0.j],\n",
       "         [ 0.+0.j,  0.+0.j, -2.+0.j,  0.+0.j],\n",
       "         [ 0.+0.j,  0.+0.j,  0.+0.j, -2.+0.j]]),\n",
       " matrix([[0.+0.j, 0.+0.j, 0.+0.j, 0.+0.j],\n",
       "         [0.+0.j, 0.+0.j, 1.+0.j, 0.+0.j],\n",
       "         [0.+0.j, 1.+0.j, 0.+0.j, 0.+0.j],\n",
       "         [0.-2.j, 0.+0.j, 0.+0.j, 0.+0.j]]),\n",
       " matrix([[0.+0.j, 0.+0.j, 0.+0.j, 0.+0.j],\n",
       "         [0.+0.j, 0.+0.j, 0.+0.j, 1.+0.j],\n",
       "         [0.+2.j, 0.+0.j, 0.+0.j, 0.+0.j],\n",
       "         [0.+0.j, 1.+0.j, 0.+0.j, 0.+0.j]]),\n",
       " matrix([[0.+0.j, 0.+0.j, 0.+0.j, 0.+0.j],\n",
       "         [0.+0.j, 0.+0.j, 1.+0.j, 0.+0.j],\n",
       "         [0.+0.j, 1.+0.j, 0.+0.j, 0.+0.j],\n",
       "         [0.+2.j, 0.+0.j, 0.+0.j, 0.+0.j]]),\n",
       " matrix([[ 0.+0.j,  0.+0.j,  0.+0.j,  0.+0.j],\n",
       "         [ 0.+0.j, -2.+0.j,  0.+0.j,  0.+0.j],\n",
       "         [ 0.+0.j,  0.+0.j,  0.+0.j,  0.+0.j],\n",
       "         [ 0.+0.j,  0.+0.j,  0.+0.j, -2.+0.j]]),\n",
       " matrix([[0.+0.j, 0.+0.j, 0.+0.j, 0.+0.j],\n",
       "         [0.-2.j, 0.+0.j, 0.+0.j, 0.+0.j],\n",
       "         [0.+0.j, 0.+0.j, 0.+0.j, 1.+0.j],\n",
       "         [0.+0.j, 0.+0.j, 1.+0.j, 0.+0.j]]),\n",
       " matrix([[0.+0.j, 0.+0.j, 0.+0.j, 0.+0.j],\n",
       "         [0.+0.j, 0.+0.j, 0.+0.j, 1.+0.j],\n",
       "         [0.-2.j, 0.+0.j, 0.+0.j, 0.+0.j],\n",
       "         [0.+0.j, 1.+0.j, 0.+0.j, 0.+0.j]]),\n",
       " matrix([[0.+0.j, 0.+0.j, 0.+0.j, 0.+0.j],\n",
       "         [0.+2.j, 0.+0.j, 0.+0.j, 0.+0.j],\n",
       "         [0.+0.j, 0.+0.j, 0.+0.j, 1.+0.j],\n",
       "         [0.+0.j, 0.+0.j, 1.+0.j, 0.+0.j]]),\n",
       " matrix([[ 0.+0.j,  0.+0.j,  0.+0.j,  0.+0.j],\n",
       "         [ 0.+0.j, -2.+0.j,  0.+0.j,  0.+0.j],\n",
       "         [ 0.+0.j,  0.+0.j, -2.+0.j,  0.+0.j],\n",
       "         [ 0.+0.j,  0.+0.j,  0.+0.j,  0.+0.j]]),\n",
       " matrix([[ 0.+0.j,  0.+0.j,  0.+0.j,  0.+0.j],\n",
       "         [ 0.+0.j,  0.+0.j,  0.+0.j,  0.+0.j],\n",
       "         [ 0.+0.j,  0.+0.j,  0.+0.j, -2.+0.j],\n",
       "         [ 0.+0.j,  0.+0.j,  2.+0.j,  0.+0.j]]),\n",
       " matrix([[ 0.+0.j,  0.+0.j,  0.+0.j,  0.+0.j],\n",
       "         [ 0.+0.j,  0.+0.j,  0.+0.j,  2.+0.j],\n",
       "         [ 0.+0.j,  0.+0.j,  0.+0.j,  0.+0.j],\n",
       "         [ 0.+0.j, -2.+0.j,  0.+0.j,  0.+0.j]]),\n",
       " matrix([[ 0.+0.j,  0.+0.j,  0.+0.j,  0.+0.j],\n",
       "         [ 0.+0.j,  0.+0.j, -2.+0.j,  0.+0.j],\n",
       "         [ 0.+0.j,  2.+0.j,  0.+0.j,  0.+0.j],\n",
       "         [ 0.+0.j,  0.+0.j,  0.+0.j,  0.+0.j]]),\n",
       " matrix([[ 0.+0.j,  0.+0.j,  0.+0.j,  0.+0.j],\n",
       "         [ 0.+0.j,  0.+0.j,  0.+0.j,  0.+0.j],\n",
       "         [ 0.+0.j,  0.+0.j, -2.+0.j,  0.+0.j],\n",
       "         [ 0.+0.j,  0.+0.j,  0.+0.j, -2.+0.j]]),\n",
       " matrix([[0.+0.j, 0.+0.j, 0.+0.j, 0.+0.j],\n",
       "         [0.+0.j, 0.+0.j, 1.+0.j, 0.+0.j],\n",
       "         [0.+0.j, 1.+0.j, 0.+0.j, 0.+0.j],\n",
       "         [0.-2.j, 0.+0.j, 0.+0.j, 0.+0.j]]),\n",
       " matrix([[0.+0.j, 0.+0.j, 0.+0.j, 0.+0.j],\n",
       "         [0.+0.j, 0.+0.j, 0.+0.j, 1.+0.j],\n",
       "         [0.+2.j, 0.+0.j, 0.+0.j, 0.+0.j],\n",
       "         [0.+0.j, 1.+0.j, 0.+0.j, 0.+0.j]]),\n",
       " matrix([[0.+0.j, 0.+0.j, 0.+0.j, 0.+0.j],\n",
       "         [0.+0.j, 0.+0.j, 1.+0.j, 0.+0.j],\n",
       "         [0.+0.j, 1.+0.j, 0.+0.j, 0.+0.j],\n",
       "         [0.+2.j, 0.+0.j, 0.+0.j, 0.+0.j]]),\n",
       " matrix([[ 0.+0.j,  0.+0.j,  0.+0.j,  0.+0.j],\n",
       "         [ 0.+0.j, -2.+0.j,  0.+0.j,  0.+0.j],\n",
       "         [ 0.+0.j,  0.+0.j,  0.+0.j,  0.+0.j],\n",
       "         [ 0.+0.j,  0.+0.j,  0.+0.j, -2.+0.j]]),\n",
       " matrix([[0.+0.j, 0.+0.j, 0.+0.j, 0.+0.j],\n",
       "         [0.-2.j, 0.+0.j, 0.+0.j, 0.+0.j],\n",
       "         [0.+0.j, 0.+0.j, 0.+0.j, 1.+0.j],\n",
       "         [0.+0.j, 0.+0.j, 1.+0.j, 0.+0.j]]),\n",
       " matrix([[0.+0.j, 0.+0.j, 0.+0.j, 0.+0.j],\n",
       "         [0.+0.j, 0.+0.j, 0.+0.j, 1.+0.j],\n",
       "         [0.-2.j, 0.+0.j, 0.+0.j, 0.+0.j],\n",
       "         [0.+0.j, 1.+0.j, 0.+0.j, 0.+0.j]]),\n",
       " matrix([[0.+0.j, 0.+0.j, 0.+0.j, 0.+0.j],\n",
       "         [0.+2.j, 0.+0.j, 0.+0.j, 0.+0.j],\n",
       "         [0.+0.j, 0.+0.j, 0.+0.j, 1.+0.j],\n",
       "         [0.+0.j, 0.+0.j, 1.+0.j, 0.+0.j]]),\n",
       " matrix([[ 0.+0.j,  0.+0.j,  0.+0.j,  0.+0.j],\n",
       "         [ 0.+0.j, -2.+0.j,  0.+0.j,  0.+0.j],\n",
       "         [ 0.+0.j,  0.+0.j, -2.+0.j,  0.+0.j],\n",
       "         [ 0.+0.j,  0.+0.j,  0.+0.j,  0.+0.j]]),\n",
       " matrix([[ 0.+0.j,  0.+0.j,  0.+0.j,  0.+0.j],\n",
       "         [ 0.+0.j,  0.+0.j,  0.+0.j,  0.+0.j],\n",
       "         [ 0.+0.j,  0.+0.j,  0.+0.j, -2.+0.j],\n",
       "         [ 0.+0.j,  0.+0.j,  2.+0.j,  0.+0.j]]),\n",
       " matrix([[ 0.+0.j,  0.+0.j,  0.+0.j,  0.+0.j],\n",
       "         [ 0.+0.j,  0.+0.j,  0.+0.j,  2.+0.j],\n",
       "         [ 0.+0.j,  0.+0.j,  0.+0.j,  0.+0.j],\n",
       "         [ 0.+0.j, -2.+0.j,  0.+0.j,  0.+0.j]]),\n",
       " matrix([[ 0.+0.j,  0.+0.j,  0.+0.j,  0.+0.j],\n",
       "         [ 0.+0.j,  0.+0.j, -2.+0.j,  0.+0.j],\n",
       "         [ 0.+0.j,  2.+0.j,  0.+0.j,  0.+0.j],\n",
       "         [ 0.+0.j,  0.+0.j,  0.+0.j,  0.+0.j]]),\n",
       " matrix([[ 0.+0.j,  0.+0.j,  0.+0.j,  0.+0.j],\n",
       "         [ 0.+0.j,  0.+0.j,  0.+0.j,  0.+0.j],\n",
       "         [ 0.+0.j,  0.+0.j, -2.+0.j,  0.+0.j],\n",
       "         [ 0.+0.j,  0.+0.j,  0.+0.j, -2.+0.j]]),\n",
       " matrix([[0.+0.j, 0.+0.j, 0.+0.j, 0.+0.j],\n",
       "         [0.+0.j, 0.+0.j, 1.+0.j, 0.+0.j],\n",
       "         [0.+0.j, 1.+0.j, 0.+0.j, 0.+0.j],\n",
       "         [0.-2.j, 0.+0.j, 0.+0.j, 0.+0.j]]),\n",
       " matrix([[0.+0.j, 0.+0.j, 0.+0.j, 0.+0.j],\n",
       "         [0.+0.j, 0.+0.j, 0.+0.j, 1.+0.j],\n",
       "         [0.+2.j, 0.+0.j, 0.+0.j, 0.+0.j],\n",
       "         [0.+0.j, 1.+0.j, 0.+0.j, 0.+0.j]]),\n",
       " matrix([[0.+0.j, 0.+0.j, 0.+0.j, 0.+0.j],\n",
       "         [0.+0.j, 0.+0.j, 1.+0.j, 0.+0.j],\n",
       "         [0.+0.j, 1.+0.j, 0.+0.j, 0.+0.j],\n",
       "         [0.+2.j, 0.+0.j, 0.+0.j, 0.+0.j]]),\n",
       " matrix([[ 0.+0.j,  0.+0.j,  0.+0.j,  0.+0.j],\n",
       "         [ 0.+0.j, -2.+0.j,  0.+0.j,  0.+0.j],\n",
       "         [ 0.+0.j,  0.+0.j,  0.+0.j,  0.+0.j],\n",
       "         [ 0.+0.j,  0.+0.j,  0.+0.j, -2.+0.j]]),\n",
       " matrix([[0.+0.j, 0.+0.j, 0.+0.j, 0.+0.j],\n",
       "         [0.-2.j, 0.+0.j, 0.+0.j, 0.+0.j],\n",
       "         [0.+0.j, 0.+0.j, 0.+0.j, 1.+0.j],\n",
       "         [0.+0.j, 0.+0.j, 1.+0.j, 0.+0.j]]),\n",
       " matrix([[0.+0.j, 0.+0.j, 0.+0.j, 0.+0.j],\n",
       "         [0.+0.j, 0.+0.j, 0.+0.j, 1.+0.j],\n",
       "         [0.-2.j, 0.+0.j, 0.+0.j, 0.+0.j],\n",
       "         [0.+0.j, 1.+0.j, 0.+0.j, 0.+0.j]]),\n",
       " matrix([[0.+0.j, 0.+0.j, 0.+0.j, 0.+0.j],\n",
       "         [0.+2.j, 0.+0.j, 0.+0.j, 0.+0.j],\n",
       "         [0.+0.j, 0.+0.j, 0.+0.j, 1.+0.j],\n",
       "         [0.+0.j, 0.+0.j, 1.+0.j, 0.+0.j]]),\n",
       " matrix([[ 0.+0.j,  0.+0.j,  0.+0.j,  0.+0.j],\n",
       "         [ 0.+0.j, -2.+0.j,  0.+0.j,  0.+0.j],\n",
       "         [ 0.+0.j,  0.+0.j, -2.+0.j,  0.+0.j],\n",
       "         [ 0.+0.j,  0.+0.j,  0.+0.j,  0.+0.j]])]"
      ]
     },
     "execution_count": 53,
     "metadata": {},
     "output_type": "execute_result"
    }
   ],
   "source": [
    "\"\"\"show the features\"\"\"\n",
    "gs.features"
   ]
  },
  {
   "cell_type": "code",
   "execution_count": 60,
   "id": "lasting-seeking",
   "metadata": {},
   "outputs": [
    {
     "data": {
      "text/plain": [
       "[matrix([[ 0.+0.j,  0.+0.j,  0.+0.j,  0.+0.j],\n",
       "         [ 0.+0.j,  0.+0.j,  0.+0.j,  0.+0.j],\n",
       "         [ 0.+0.j,  0.+0.j,  0.+0.j, -2.+0.j],\n",
       "         [ 0.+0.j,  0.+0.j,  2.+0.j,  0.+0.j]]),\n",
       " matrix([[ 0.+0.j,  0.+0.j,  0.+0.j,  0.+0.j],\n",
       "         [ 0.+0.j,  0.+0.j,  0.+0.j,  2.+0.j],\n",
       "         [ 0.+0.j,  0.+0.j,  0.+0.j,  0.+0.j],\n",
       "         [ 0.+0.j, -2.+0.j,  0.+0.j,  0.+0.j]]),\n",
       " matrix([[ 0.+0.j,  0.+0.j,  0.+0.j,  0.+0.j],\n",
       "         [ 0.+0.j,  0.+0.j, -2.+0.j,  0.+0.j],\n",
       "         [ 0.+0.j,  2.+0.j,  0.+0.j,  0.+0.j],\n",
       "         [ 0.+0.j,  0.+0.j,  0.+0.j,  0.+0.j]]),\n",
       " matrix([[ 0.+0.j,  0.+0.j,  0.+0.j,  0.+0.j],\n",
       "         [ 0.+0.j,  0.+0.j,  0.+0.j,  0.+0.j],\n",
       "         [ 0.+0.j,  0.+0.j, -2.+0.j,  0.+0.j],\n",
       "         [ 0.+0.j,  0.+0.j,  0.+0.j, -2.+0.j]]),\n",
       " matrix([[0.+0.j, 0.+0.j, 0.+0.j, 0.+0.j],\n",
       "         [0.+0.j, 0.+0.j, 1.+0.j, 0.+0.j],\n",
       "         [0.+0.j, 1.+0.j, 0.+0.j, 0.+0.j],\n",
       "         [0.-2.j, 0.+0.j, 0.+0.j, 0.+0.j]]),\n",
       " matrix([[0.+0.j, 0.+0.j, 0.+0.j, 0.+0.j],\n",
       "         [0.+0.j, 0.+0.j, 0.+0.j, 1.+0.j],\n",
       "         [0.+2.j, 0.+0.j, 0.+0.j, 0.+0.j],\n",
       "         [0.+0.j, 1.+0.j, 0.+0.j, 0.+0.j]]),\n",
       " matrix([[0.+0.j, 0.+0.j, 0.+0.j, 0.+0.j],\n",
       "         [0.+0.j, 0.+0.j, 1.+0.j, 0.+0.j],\n",
       "         [0.+0.j, 1.+0.j, 0.+0.j, 0.+0.j],\n",
       "         [0.+2.j, 0.+0.j, 0.+0.j, 0.+0.j]]),\n",
       " matrix([[ 0.+0.j,  0.+0.j,  0.+0.j,  0.+0.j],\n",
       "         [ 0.+0.j, -2.+0.j,  0.+0.j,  0.+0.j],\n",
       "         [ 0.+0.j,  0.+0.j,  0.+0.j,  0.+0.j],\n",
       "         [ 0.+0.j,  0.+0.j,  0.+0.j, -2.+0.j]]),\n",
       " matrix([[0.+0.j, 0.+0.j, 0.+0.j, 0.+0.j],\n",
       "         [0.-2.j, 0.+0.j, 0.+0.j, 0.+0.j],\n",
       "         [0.+0.j, 0.+0.j, 0.+0.j, 1.+0.j],\n",
       "         [0.+0.j, 0.+0.j, 1.+0.j, 0.+0.j]]),\n",
       " matrix([[0.+0.j, 0.+0.j, 0.+0.j, 0.+0.j],\n",
       "         [0.+0.j, 0.+0.j, 0.+0.j, 1.+0.j],\n",
       "         [0.-2.j, 0.+0.j, 0.+0.j, 0.+0.j],\n",
       "         [0.+0.j, 1.+0.j, 0.+0.j, 0.+0.j]]),\n",
       " matrix([[0.+0.j, 0.+0.j, 0.+0.j, 0.+0.j],\n",
       "         [0.+2.j, 0.+0.j, 0.+0.j, 0.+0.j],\n",
       "         [0.+0.j, 0.+0.j, 0.+0.j, 1.+0.j],\n",
       "         [0.+0.j, 0.+0.j, 1.+0.j, 0.+0.j]]),\n",
       " matrix([[ 0.+0.j,  0.+0.j,  0.+0.j,  0.+0.j],\n",
       "         [ 0.+0.j, -2.+0.j,  0.+0.j,  0.+0.j],\n",
       "         [ 0.+0.j,  0.+0.j, -2.+0.j,  0.+0.j],\n",
       "         [ 0.+0.j,  0.+0.j,  0.+0.j,  0.+0.j]])]"
      ]
     },
     "execution_count": 60,
     "metadata": {},
     "output_type": "execute_result"
    }
   ],
   "source": [
    "gs.features_of(((\"Gypi2\"), 0))"
   ]
  },
  {
   "cell_type": "code",
   "execution_count": null,
   "id": "brown-disabled",
   "metadata": {},
   "outputs": [],
   "source": []
  },
  {
   "cell_type": "code",
   "execution_count": null,
   "id": "simplified-architecture",
   "metadata": {},
   "outputs": [],
   "source": []
  }
 ],
 "metadata": {
  "kernelspec": {
   "display_name": "Python 3",
   "language": "python",
   "name": "python3"
  },
  "language_info": {
   "codemirror_mode": {
    "name": "ipython",
    "version": 3
   },
   "file_extension": ".py",
   "mimetype": "text/x-python",
   "name": "python",
   "nbconvert_exporter": "python",
   "pygments_lexer": "ipython3",
   "version": "3.9.1"
  }
 },
 "nbformat": 4,
 "nbformat_minor": 5
}

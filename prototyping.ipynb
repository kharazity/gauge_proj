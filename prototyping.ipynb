{
 "cells": [
  {
   "cell_type": "code",
   "execution_count": 59,
   "id": "e7b8b704-5946-4e2d-888a-0c18af98970e",
   "metadata": {},
   "outputs": [],
   "source": [
    "import pygsti\n",
    "from pygsti.circuits import Circuit\n",
    "import random\n",
    "from pygsti.modelpacks import smq1Q_XYZI as std\n",
    "import numpy as np\n",
    "import matplotlib.pyplot as plt"
   ]
  },
  {
   "cell_type": "code",
   "execution_count": 30,
   "id": "514c4e26-dc48-45f7-92ac-c6539a690f22",
   "metadata": {},
   "outputs": [],
   "source": [
    "model = std.target_model('CPTP')"
   ]
  },
  {
   "cell_type": "code",
   "execution_count": 49,
   "id": "5f26a1f7-f4bc-4bf1-be7e-aff1b73a7d1b",
   "metadata": {},
   "outputs": [],
   "source": [
    "model.from_vector( np.random.uniform(0, 0.1, model.num_params))"
   ]
  },
  {
   "cell_type": "code",
   "execution_count": 50,
   "id": "edaa8109-4aa2-4ac6-aa75-aea18b11eb77",
   "metadata": {},
   "outputs": [
    {
     "data": {
      "text/plain": [
       "[(), ('Gxpi2', 0), ('Gypi2', 0), ('Gzpi2', 0)]"
      ]
     },
     "execution_count": 50,
     "metadata": {},
     "output_type": "execute_result"
    }
   ],
   "source": [
    "\"\"\" a model pack has labelled gates and standard state preps and measurements \"\"\"\n",
    "std.gates"
   ]
  },
  {
   "cell_type": "code",
   "execution_count": 51,
   "id": "6a2dc2aa-17a4-4f2c-9a50-784df40bf4f5",
   "metadata": {},
   "outputs": [
    {
     "name": "stdout",
     "output_type": "stream",
     "text": [
      "rho0 in PP basis [ 0.70710678  0.04917847 -0.10012837  0.68909768]\n",
      "Gxpi2 in PP basis\n",
      " [[ 1.00000000e+00  0.00000000e+00  8.86511593e-17  2.45038077e-16]\n",
      " [ 2.91429539e-02  9.20564984e-01  1.27840160e-01  3.47852717e-02]\n",
      " [ 1.45393878e-03  4.11846809e-02 -2.94295292e-02 -9.47514455e-01]\n",
      " [-4.84062377e-03 -1.23332004e-01  9.69816586e-01 -5.73806600e-02]]\n",
      "<<0| in PP basis [ 0.70569374 -0.06721807  0.05925588  0.69258879]\n"
     ]
    }
   ],
   "source": [
    "\"\"\"access model memebers with their labels\"\"\"\n",
    "print('rho0 in PP basis', model[('rho0')].to_dense())\n",
    "print('Gxpi2 in PP basis\\n', model[('Gxpi2', 0)].to_dense())\n",
    "print('<<0| in PP basis', model[('Mdefault')]['0'].to_dense()) # note Povms are dictionaries of dictionaries"
   ]
  },
  {
   "cell_type": "code",
   "execution_count": 52,
   "id": "3022fa95-0172-4bfe-8bf2-bd6f5004991f",
   "metadata": {},
   "outputs": [],
   "source": [
    "def random_circuit(depth, model_pack=std):\n",
    "    \"\"\"\n",
    "    works for any 1-qubit model pack and the XYZICnot 2-qubit pack\n",
    "    \"\"\"\n",
    "    proc_spec = model_pack.processor_spec()\n",
    "    layers = []\n",
    "    for i in range(depth):\n",
    "        gate = random.choice(proc_spec.gate_names)\n",
    "        if gate == 'Gcnot':\n",
    "            control = random.choice(proc_spec.qubit_labels)\n",
    "            if control == 0:\n",
    "                target = 1\n",
    "            else:\n",
    "                target = 0\n",
    "            layers.append((gate, control, target))\n",
    "        else:\n",
    "            layers.append((gate, random.choice(proc_spec.qubit_labels)))\n",
    "    return Circuit(layers, proc_spec.qubit_labels)"
   ]
  },
  {
   "cell_type": "code",
   "execution_count": 53,
   "id": "fa9739f3-d7d6-4e7b-84fb-1285b0dde6a9",
   "metadata": {},
   "outputs": [
    {
     "data": {
      "text/plain": [
       "Circuit(Gxpi2:0{idle}:0Gxpi2:0@(0))"
      ]
     },
     "execution_count": 53,
     "metadata": {},
     "output_type": "execute_result"
    }
   ],
   "source": [
    "random_circuit(3)"
   ]
  },
  {
   "cell_type": "code",
   "execution_count": 60,
   "id": "09ded699-4264-43ea-9996-a2096b0b2a59",
   "metadata": {},
   "outputs": [
    {
     "data": {
      "text/plain": [
       "<matplotlib.image.AxesImage at 0x7f7df8dc3b50>"
      ]
     },
     "execution_count": 60,
     "metadata": {},
     "output_type": "execute_result"
    },
    {
     "data": {
      "image/png": "[encoded data removed]",
      "text/plain": [
       "<Figure size 288x288 with 1 Axes>"
      ]
     },
     "metadata": {
      "needs_background": "light"
     },
     "output_type": "display_data"
    }
   ],
   "source": [
    "plt.matshow(gx.to_dense())"
   ]
  },
  {
   "cell_type": "code",
   "execution_count": 63,
   "id": "fe84c9b6-505f-4dba-bba6-9b1ac20e0907",
   "metadata": {},
   "outputs": [
    {
     "data": {
      "text/plain": [
       "<matplotlib.image.AxesImage at 0x7f7dfa4d5810>"
      ]
     },
     "execution_count": 63,
     "metadata": {},
     "output_type": "execute_result"
    },
    {
     "data": {
      "image/png": "[encoded data removed]",
      "text/plain": [
       "<Figure size 288x288 with 1 Axes>"
      ]
     },
     "metadata": {
      "needs_background": "light"
     },
     "output_type": "display_data"
    }
   ],
   "source": [
    "plt.matshow(gx.submembers()[1].errorgen.to_dense())"
   ]
  },
  {
   "cell_type": "code",
   "execution_count": 55,
   "id": "c64770ca-27b7-473e-bae8-76c33b65f974",
   "metadata": {},
   "outputs": [
    {
     "data": {
      "text/plain": [
       "array([0.02261655, 0.06616869, 0.02070416, 0.00755125, 0.09873063,\n",
       "       0.02637975, 0.0244647 , 0.01196785, 0.09049411, 0.09481858,\n",
       "       0.08299671, 0.03522424])"
      ]
     },
     "execution_count": 55,
     "metadata": {},
     "output_type": "execute_result"
    }
   ],
   "source": [
    "gx.to_vector()"
   ]
  },
  {
   "cell_type": "code",
   "execution_count": 54,
   "id": "01e5756b-c27a-4fbf-816f-3ac1dae23ebd",
   "metadata": {},
   "outputs": [
    {
     "name": "stdout",
     "output_type": "stream",
     "text": [
      "(('H', ('X',), (0,)), ('H', ('Y',), (0,)), ('H', ('Z',), (0,)), ('S', ('X',), (0,)), ('C', ('X', 'Y'), (0,)), ('A', ('X', 'Y'), (0,)), ('C', ('X', 'Z'), (0,)), ('A', ('X', 'Z'), (0,)), ('S', ('Y',), (0,)), ('C', ('Y', 'Z'), (0,)), ('A', ('Y', 'Z'), (0,)), ('S', ('Z',), (0,)))\n"
     ]
    },
    {
     "data": {
      "text/plain": [
       "OrderedDict([(('H', ('X',), (0,)), 0.022616550079317246),\n",
       "             (('H', ('Y',), (0,)), 0.06616868655173501),\n",
       "             (('H', ('Z',), (0,)), 0.020704155188713894),\n",
       "             (('S', ('X',), (0,)), 5.702138855340321e-05),\n",
       "             (('C', ('X', 'Y'), (0,)), 0.00018473910829808372),\n",
       "             (('A', ('X', 'Y'), (0,)), 0.0007455397728176566),\n",
       "             (('C', ('X', 'Z'), (0,)), 0.0007159988995959746),\n",
       "             (('A', ('X', 'Z'), (0,)), 0.00019920009697431743),\n",
       "             (('S', ('Y',), (0,)), 0.010489489044632271),\n",
       "             (('C', ('Y', 'Z'), (0,)), 0.005917489805873246),\n",
       "             (('A', ('Y', 'Z'), (0,)), -0.007633106156852391),\n",
       "             (('S', ('Z',), (0,)), 0.02600483989708182)])"
      ]
     },
     "execution_count": 54,
     "metadata": {},
     "output_type": "execute_result"
    }
   ],
   "source": [
    "gx = model[('Gxpi2', 0)]\n",
    "print(gx.errorgen_coefficient_labels())\n",
    "gx.errorgen_coefficients()"
   ]
  },
  {
   "cell_type": "code",
   "execution_count": null,
   "id": "4c345f99-b5ca-4804-a19b-eafdea330599",
   "metadata": {},
   "outputs": [],
   "source": [
    "def errorgen_from_circuit(circ, model):\n",
    "    \"\"\"\n",
    "    Returns exp(x o L) from an error model and a circuit\n",
    "    \n",
    "    only produces the linear error generator\n",
    "    \"\"\"\n",
    "    \n",
    "    \n",
    "    \n",
    "    for idg, gate in enumerate(circ):\n",
    "        \n",
    "        "
   ]
  },
  {
   "cell_type": "code",
   "execution_count": 20,
   "id": "44a441a9-a95d-4553-8d92-8e201c72a7f0",
   "metadata": {},
   "outputs": [],
   "source": [
    "class GateSet():\n",
    "    \"\"\"\n",
    "    Holds the information for\n",
    "        -all native gates, states, and measurements\n",
    "        -all error generator features (in a feature dict)\n",
    "        -map between gate labels and parameter index list (index set)\n",
    "        -map between parameter indices and error features (feature dict) \n",
    "    \"\"\"\n",
    "    def __init__(self, model_pack, parameterization='CPTP'):\n",
    "        self.feature_dict = dict()\n",
    "        self.index_set = dict()\n",
    "        self.target_model = model_pack.target_model(parameterization)\n",
    "        \n",
    "        \n",
    "        self.gate_labels = model_pack.gates\n",
    "        \n",
    "        model = self.target_model\n",
    "        itr = 0\n",
    "        for gate in model_pack.gates:\n",
    "            param_index_list = []\n",
    "            for egentype in model[gate].submembers()[1].errorgen.lindblad_term_superops_and_1norms:\n",
    "                for mat in egentype[0][:]:\n",
    "                    self.feature_dict[itr] = mat.todense()\n",
    "                    param_index_list.append(itr)\n",
    "                    itr += 1\n",
    "            self.index_set[gate] = param_index_list\n",
    "        for povm in model.povms.keys():\n",
    "            param_index_list = []\n",
    "            for egentype in model[povm].error_map.errorgen.lindblad_term_superops_and_1norms:\n",
    "                for mat in egentype[0][:]:\n",
    "                    self.feature_dict[itr] = mat.todense()\n",
    "                    param_index_list.append(itr)\n",
    "                    itr += 1\n",
    "            self.index_set[povm] = param_index_list\n",
    "        for prep in model.preps.keys():\n",
    "            param_index_list = []\n",
    "            for egentype in model[prep].error_map.errorgen.lindblad_term_superops_and_1norms:\n",
    "                for mat in egentype[0][:]:\n",
    "                    self.feature_dict[itr] = mat.todense()\n",
    "                    param_index_list.append(itr)\n",
    "                    itr += 1\n",
    "            self.index_set[prep] = param_index_list\n",
    "            \n",
    "    def target_op(self, op_label):\n",
    "        \"\"\"\n",
    "        returns the target operation of the given operation\n",
    "        \"\"\"\n",
    "        return self.target_model[op_label].to_dense()\n",
    "\n",
    "    def native_meas(self):\n",
    "        return [m.to_dense() for m in self.target_model['Mdefault'].values()]\n",
    "\n",
    "    def rho0(self):\n",
    "        return self.target_model['rho0'].to_dense()"
   ]
  },
  {
   "cell_type": "code",
   "execution_count": null,
   "id": "7d157fd5-a507-4df7-b60f-6ce7c3895549",
   "metadata": {},
   "outputs": [],
   "source": [
    "def all_random_circuits(length):\n",
    "    \"\"\"\n",
    "    returns all random circuits of given length\n",
    "    \"\"\"\n",
    "    "
   ]
  },
  {
   "cell_type": "code",
   "execution_count": 35,
   "id": "96e7f849-a430-45fc-95ed-cec2b6e745f4",
   "metadata": {},
   "outputs": [],
   "source": [
    "gs = GateSet(std)"
   ]
  },
  {
   "cell_type": "code",
   "execution_count": 37,
   "id": "906fb1c7-5ecd-407d-bfd2-021c9ea351c4",
   "metadata": {},
   "outputs": [
    {
     "data": {
      "text/plain": [
       "{(): [0, 1, 2, 3, 4, 5, 6, 7, 8, 9, 10, 11],\n",
       " ('Gxpi2', 0): [12, 13, 14, 15, 16, 17, 18, 19, 20, 21, 22, 23],\n",
       " ('Gypi2', 0): [24, 25, 26, 27, 28, 29, 30, 31, 32, 33, 34, 35],\n",
       " ('Gzpi2', 0): [36, 37, 38, 39, 40, 41, 42, 43, 44, 45, 46, 47],\n",
       " Label('Mdefault'): [48, 49, 50, 51, 52, 53, 54, 55, 56, 57, 58, 59],\n",
       " Label('rho0'): [60, 61, 62, 63, 64, 65, 66, 67, 68, 69, 70, 71]}"
      ]
     },
     "execution_count": 37,
     "metadata": {},
     "output_type": "execute_result"
    }
   ],
   "source": [
    "\"\"\"show the index set\"\"\"\n",
    "gs.index_set"
   ]
  },
  {
   "cell_type": "code",
   "execution_count": 38,
   "id": "254a7209-c7be-467f-adb8-6f09d84d40d1",
   "metadata": {},
   "outputs": [
    {
     "data": {
      "text/plain": [
       "{0: matrix([[ 0.+0.j,  0.+0.j,  0.+0.j,  0.+0.j],\n",
       "         [ 0.+0.j,  0.+0.j,  0.+0.j,  0.+0.j],\n",
       "         [ 0.+0.j,  0.+0.j,  0.+0.j, -2.+0.j],\n",
       "         [ 0.+0.j,  0.+0.j,  2.+0.j,  0.+0.j]]),\n",
       " 1: matrix([[ 0.+0.j,  0.+0.j,  0.+0.j,  0.+0.j],\n",
       "         [ 0.+0.j,  0.+0.j,  0.+0.j,  2.+0.j],\n",
       "         [ 0.+0.j,  0.+0.j,  0.+0.j,  0.+0.j],\n",
       "         [ 0.+0.j, -2.+0.j,  0.+0.j,  0.+0.j]]),\n",
       " 2: matrix([[ 0.+0.j,  0.+0.j,  0.+0.j,  0.+0.j],\n",
       "         [ 0.+0.j,  0.+0.j, -2.+0.j,  0.+0.j],\n",
       "         [ 0.+0.j,  2.+0.j,  0.+0.j,  0.+0.j],\n",
       "         [ 0.+0.j,  0.+0.j,  0.+0.j,  0.+0.j]]),\n",
       " 3: matrix([[ 0.+0.j,  0.+0.j,  0.+0.j,  0.+0.j],\n",
       "         [ 0.+0.j,  0.+0.j,  0.+0.j,  0.+0.j],\n",
       "         [ 0.+0.j,  0.+0.j, -2.+0.j,  0.+0.j],\n",
       "         [ 0.+0.j,  0.+0.j,  0.+0.j, -2.+0.j]]),\n",
       " 4: matrix([[0.+0.j, 0.+0.j, 0.+0.j, 0.+0.j],\n",
       "         [0.+0.j, 0.+0.j, 1.+0.j, 0.+0.j],\n",
       "         [0.+0.j, 1.+0.j, 0.+0.j, 0.+0.j],\n",
       "         [0.-2.j, 0.+0.j, 0.+0.j, 0.+0.j]]),\n",
       " 5: matrix([[0.+0.j, 0.+0.j, 0.+0.j, 0.+0.j],\n",
       "         [0.+0.j, 0.+0.j, 0.+0.j, 1.+0.j],\n",
       "         [0.+2.j, 0.+0.j, 0.+0.j, 0.+0.j],\n",
       "         [0.+0.j, 1.+0.j, 0.+0.j, 0.+0.j]]),\n",
       " 6: matrix([[0.+0.j, 0.+0.j, 0.+0.j, 0.+0.j],\n",
       "         [0.+0.j, 0.+0.j, 1.+0.j, 0.+0.j],\n",
       "         [0.+0.j, 1.+0.j, 0.+0.j, 0.+0.j],\n",
       "         [0.+2.j, 0.+0.j, 0.+0.j, 0.+0.j]]),\n",
       " 7: matrix([[ 0.+0.j,  0.+0.j,  0.+0.j,  0.+0.j],\n",
       "         [ 0.+0.j, -2.+0.j,  0.+0.j,  0.+0.j],\n",
       "         [ 0.+0.j,  0.+0.j,  0.+0.j,  0.+0.j],\n",
       "         [ 0.+0.j,  0.+0.j,  0.+0.j, -2.+0.j]]),\n",
       " 8: matrix([[0.+0.j, 0.+0.j, 0.+0.j, 0.+0.j],\n",
       "         [0.-2.j, 0.+0.j, 0.+0.j, 0.+0.j],\n",
       "         [0.+0.j, 0.+0.j, 0.+0.j, 1.+0.j],\n",
       "         [0.+0.j, 0.+0.j, 1.+0.j, 0.+0.j]]),\n",
       " 9: matrix([[0.+0.j, 0.+0.j, 0.+0.j, 0.+0.j],\n",
       "         [0.+0.j, 0.+0.j, 0.+0.j, 1.+0.j],\n",
       "         [0.-2.j, 0.+0.j, 0.+0.j, 0.+0.j],\n",
       "         [0.+0.j, 1.+0.j, 0.+0.j, 0.+0.j]]),\n",
       " 10: matrix([[0.+0.j, 0.+0.j, 0.+0.j, 0.+0.j],\n",
       "         [0.+2.j, 0.+0.j, 0.+0.j, 0.+0.j],\n",
       "         [0.+0.j, 0.+0.j, 0.+0.j, 1.+0.j],\n",
       "         [0.+0.j, 0.+0.j, 1.+0.j, 0.+0.j]]),\n",
       " 11: matrix([[ 0.+0.j,  0.+0.j,  0.+0.j,  0.+0.j],\n",
       "         [ 0.+0.j, -2.+0.j,  0.+0.j,  0.+0.j],\n",
       "         [ 0.+0.j,  0.+0.j, -2.+0.j,  0.+0.j],\n",
       "         [ 0.+0.j,  0.+0.j,  0.+0.j,  0.+0.j]]),\n",
       " 12: matrix([[ 0.+0.j,  0.+0.j,  0.+0.j,  0.+0.j],\n",
       "         [ 0.+0.j,  0.+0.j,  0.+0.j,  0.+0.j],\n",
       "         [ 0.+0.j,  0.+0.j,  0.+0.j, -2.+0.j],\n",
       "         [ 0.+0.j,  0.+0.j,  2.+0.j,  0.+0.j]]),\n",
       " 13: matrix([[ 0.+0.j,  0.+0.j,  0.+0.j,  0.+0.j],\n",
       "         [ 0.+0.j,  0.+0.j,  0.+0.j,  2.+0.j],\n",
       "         [ 0.+0.j,  0.+0.j,  0.+0.j,  0.+0.j],\n",
       "         [ 0.+0.j, -2.+0.j,  0.+0.j,  0.+0.j]]),\n",
       " 14: matrix([[ 0.+0.j,  0.+0.j,  0.+0.j,  0.+0.j],\n",
       "         [ 0.+0.j,  0.+0.j, -2.+0.j,  0.+0.j],\n",
       "         [ 0.+0.j,  2.+0.j,  0.+0.j,  0.+0.j],\n",
       "         [ 0.+0.j,  0.+0.j,  0.+0.j,  0.+0.j]]),\n",
       " 15: matrix([[ 0.+0.j,  0.+0.j,  0.+0.j,  0.+0.j],\n",
       "         [ 0.+0.j,  0.+0.j,  0.+0.j,  0.+0.j],\n",
       "         [ 0.+0.j,  0.+0.j, -2.+0.j,  0.+0.j],\n",
       "         [ 0.+0.j,  0.+0.j,  0.+0.j, -2.+0.j]]),\n",
       " 16: matrix([[0.+0.j, 0.+0.j, 0.+0.j, 0.+0.j],\n",
       "         [0.+0.j, 0.+0.j, 1.+0.j, 0.+0.j],\n",
       "         [0.+0.j, 1.+0.j, 0.+0.j, 0.+0.j],\n",
       "         [0.-2.j, 0.+0.j, 0.+0.j, 0.+0.j]]),\n",
       " 17: matrix([[0.+0.j, 0.+0.j, 0.+0.j, 0.+0.j],\n",
       "         [0.+0.j, 0.+0.j, 0.+0.j, 1.+0.j],\n",
       "         [0.+2.j, 0.+0.j, 0.+0.j, 0.+0.j],\n",
       "         [0.+0.j, 1.+0.j, 0.+0.j, 0.+0.j]]),\n",
       " 18: matrix([[0.+0.j, 0.+0.j, 0.+0.j, 0.+0.j],\n",
       "         [0.+0.j, 0.+0.j, 1.+0.j, 0.+0.j],\n",
       "         [0.+0.j, 1.+0.j, 0.+0.j, 0.+0.j],\n",
       "         [0.+2.j, 0.+0.j, 0.+0.j, 0.+0.j]]),\n",
       " 19: matrix([[ 0.+0.j,  0.+0.j,  0.+0.j,  0.+0.j],\n",
       "         [ 0.+0.j, -2.+0.j,  0.+0.j,  0.+0.j],\n",
       "         [ 0.+0.j,  0.+0.j,  0.+0.j,  0.+0.j],\n",
       "         [ 0.+0.j,  0.+0.j,  0.+0.j, -2.+0.j]]),\n",
       " 20: matrix([[0.+0.j, 0.+0.j, 0.+0.j, 0.+0.j],\n",
       "         [0.-2.j, 0.+0.j, 0.+0.j, 0.+0.j],\n",
       "         [0.+0.j, 0.+0.j, 0.+0.j, 1.+0.j],\n",
       "         [0.+0.j, 0.+0.j, 1.+0.j, 0.+0.j]]),\n",
       " 21: matrix([[0.+0.j, 0.+0.j, 0.+0.j, 0.+0.j],\n",
       "         [0.+0.j, 0.+0.j, 0.+0.j, 1.+0.j],\n",
       "         [0.-2.j, 0.+0.j, 0.+0.j, 0.+0.j],\n",
       "         [0.+0.j, 1.+0.j, 0.+0.j, 0.+0.j]]),\n",
       " 22: matrix([[0.+0.j, 0.+0.j, 0.+0.j, 0.+0.j],\n",
       "         [0.+2.j, 0.+0.j, 0.+0.j, 0.+0.j],\n",
       "         [0.+0.j, 0.+0.j, 0.+0.j, 1.+0.j],\n",
       "         [0.+0.j, 0.+0.j, 1.+0.j, 0.+0.j]]),\n",
       " 23: matrix([[ 0.+0.j,  0.+0.j,  0.+0.j,  0.+0.j],\n",
       "         [ 0.+0.j, -2.+0.j,  0.+0.j,  0.+0.j],\n",
       "         [ 0.+0.j,  0.+0.j, -2.+0.j,  0.+0.j],\n",
       "         [ 0.+0.j,  0.+0.j,  0.+0.j,  0.+0.j]]),\n",
       " 24: matrix([[ 0.+0.j,  0.+0.j,  0.+0.j,  0.+0.j],\n",
       "         [ 0.+0.j,  0.+0.j,  0.+0.j,  0.+0.j],\n",
       "         [ 0.+0.j,  0.+0.j,  0.+0.j, -2.+0.j],\n",
       "         [ 0.+0.j,  0.+0.j,  2.+0.j,  0.+0.j]]),\n",
       " 25: matrix([[ 0.+0.j,  0.+0.j,  0.+0.j,  0.+0.j],\n",
       "         [ 0.+0.j,  0.+0.j,  0.+0.j,  2.+0.j],\n",
       "         [ 0.+0.j,  0.+0.j,  0.+0.j,  0.+0.j],\n",
       "         [ 0.+0.j, -2.+0.j,  0.+0.j,  0.+0.j]]),\n",
       " 26: matrix([[ 0.+0.j,  0.+0.j,  0.+0.j,  0.+0.j],\n",
       "         [ 0.+0.j,  0.+0.j, -2.+0.j,  0.+0.j],\n",
       "         [ 0.+0.j,  2.+0.j,  0.+0.j,  0.+0.j],\n",
       "         [ 0.+0.j,  0.+0.j,  0.+0.j,  0.+0.j]]),\n",
       " 27: matrix([[ 0.+0.j,  0.+0.j,  0.+0.j,  0.+0.j],\n",
       "         [ 0.+0.j,  0.+0.j,  0.+0.j,  0.+0.j],\n",
       "         [ 0.+0.j,  0.+0.j, -2.+0.j,  0.+0.j],\n",
       "         [ 0.+0.j,  0.+0.j,  0.+0.j, -2.+0.j]]),\n",
       " 28: matrix([[0.+0.j, 0.+0.j, 0.+0.j, 0.+0.j],\n",
       "         [0.+0.j, 0.+0.j, 1.+0.j, 0.+0.j],\n",
       "         [0.+0.j, 1.+0.j, 0.+0.j, 0.+0.j],\n",
       "         [0.-2.j, 0.+0.j, 0.+0.j, 0.+0.j]]),\n",
       " 29: matrix([[0.+0.j, 0.+0.j, 0.+0.j, 0.+0.j],\n",
       "         [0.+0.j, 0.+0.j, 0.+0.j, 1.+0.j],\n",
       "         [0.+2.j, 0.+0.j, 0.+0.j, 0.+0.j],\n",
       "         [0.+0.j, 1.+0.j, 0.+0.j, 0.+0.j]]),\n",
       " 30: matrix([[0.+0.j, 0.+0.j, 0.+0.j, 0.+0.j],\n",
       "         [0.+0.j, 0.+0.j, 1.+0.j, 0.+0.j],\n",
       "         [0.+0.j, 1.+0.j, 0.+0.j, 0.+0.j],\n",
       "         [0.+2.j, 0.+0.j, 0.+0.j, 0.+0.j]]),\n",
       " 31: matrix([[ 0.+0.j,  0.+0.j,  0.+0.j,  0.+0.j],\n",
       "         [ 0.+0.j, -2.+0.j,  0.+0.j,  0.+0.j],\n",
       "         [ 0.+0.j,  0.+0.j,  0.+0.j,  0.+0.j],\n",
       "         [ 0.+0.j,  0.+0.j,  0.+0.j, -2.+0.j]]),\n",
       " 32: matrix([[0.+0.j, 0.+0.j, 0.+0.j, 0.+0.j],\n",
       "         [0.-2.j, 0.+0.j, 0.+0.j, 0.+0.j],\n",
       "         [0.+0.j, 0.+0.j, 0.+0.j, 1.+0.j],\n",
       "         [0.+0.j, 0.+0.j, 1.+0.j, 0.+0.j]]),\n",
       " 33: matrix([[0.+0.j, 0.+0.j, 0.+0.j, 0.+0.j],\n",
       "         [0.+0.j, 0.+0.j, 0.+0.j, 1.+0.j],\n",
       "         [0.-2.j, 0.+0.j, 0.+0.j, 0.+0.j],\n",
       "         [0.+0.j, 1.+0.j, 0.+0.j, 0.+0.j]]),\n",
       " 34: matrix([[0.+0.j, 0.+0.j, 0.+0.j, 0.+0.j],\n",
       "         [0.+2.j, 0.+0.j, 0.+0.j, 0.+0.j],\n",
       "         [0.+0.j, 0.+0.j, 0.+0.j, 1.+0.j],\n",
       "         [0.+0.j, 0.+0.j, 1.+0.j, 0.+0.j]]),\n",
       " 35: matrix([[ 0.+0.j,  0.+0.j,  0.+0.j,  0.+0.j],\n",
       "         [ 0.+0.j, -2.+0.j,  0.+0.j,  0.+0.j],\n",
       "         [ 0.+0.j,  0.+0.j, -2.+0.j,  0.+0.j],\n",
       "         [ 0.+0.j,  0.+0.j,  0.+0.j,  0.+0.j]]),\n",
       " 36: matrix([[ 0.+0.j,  0.+0.j,  0.+0.j,  0.+0.j],\n",
       "         [ 0.+0.j,  0.+0.j,  0.+0.j,  0.+0.j],\n",
       "         [ 0.+0.j,  0.+0.j,  0.+0.j, -2.+0.j],\n",
       "         [ 0.+0.j,  0.+0.j,  2.+0.j,  0.+0.j]]),\n",
       " 37: matrix([[ 0.+0.j,  0.+0.j,  0.+0.j,  0.+0.j],\n",
       "         [ 0.+0.j,  0.+0.j,  0.+0.j,  2.+0.j],\n",
       "         [ 0.+0.j,  0.+0.j,  0.+0.j,  0.+0.j],\n",
       "         [ 0.+0.j, -2.+0.j,  0.+0.j,  0.+0.j]]),\n",
       " 38: matrix([[ 0.+0.j,  0.+0.j,  0.+0.j,  0.+0.j],\n",
       "         [ 0.+0.j,  0.+0.j, -2.+0.j,  0.+0.j],\n",
       "         [ 0.+0.j,  2.+0.j,  0.+0.j,  0.+0.j],\n",
       "         [ 0.+0.j,  0.+0.j,  0.+0.j,  0.+0.j]]),\n",
       " 39: matrix([[ 0.+0.j,  0.+0.j,  0.+0.j,  0.+0.j],\n",
       "         [ 0.+0.j,  0.+0.j,  0.+0.j,  0.+0.j],\n",
       "         [ 0.+0.j,  0.+0.j, -2.+0.j,  0.+0.j],\n",
       "         [ 0.+0.j,  0.+0.j,  0.+0.j, -2.+0.j]]),\n",
       " 40: matrix([[0.+0.j, 0.+0.j, 0.+0.j, 0.+0.j],\n",
       "         [0.+0.j, 0.+0.j, 1.+0.j, 0.+0.j],\n",
       "         [0.+0.j, 1.+0.j, 0.+0.j, 0.+0.j],\n",
       "         [0.-2.j, 0.+0.j, 0.+0.j, 0.+0.j]]),\n",
       " 41: matrix([[0.+0.j, 0.+0.j, 0.+0.j, 0.+0.j],\n",
       "         [0.+0.j, 0.+0.j, 0.+0.j, 1.+0.j],\n",
       "         [0.+2.j, 0.+0.j, 0.+0.j, 0.+0.j],\n",
       "         [0.+0.j, 1.+0.j, 0.+0.j, 0.+0.j]]),\n",
       " 42: matrix([[0.+0.j, 0.+0.j, 0.+0.j, 0.+0.j],\n",
       "         [0.+0.j, 0.+0.j, 1.+0.j, 0.+0.j],\n",
       "         [0.+0.j, 1.+0.j, 0.+0.j, 0.+0.j],\n",
       "         [0.+2.j, 0.+0.j, 0.+0.j, 0.+0.j]]),\n",
       " 43: matrix([[ 0.+0.j,  0.+0.j,  0.+0.j,  0.+0.j],\n",
       "         [ 0.+0.j, -2.+0.j,  0.+0.j,  0.+0.j],\n",
       "         [ 0.+0.j,  0.+0.j,  0.+0.j,  0.+0.j],\n",
       "         [ 0.+0.j,  0.+0.j,  0.+0.j, -2.+0.j]]),\n",
       " 44: matrix([[0.+0.j, 0.+0.j, 0.+0.j, 0.+0.j],\n",
       "         [0.-2.j, 0.+0.j, 0.+0.j, 0.+0.j],\n",
       "         [0.+0.j, 0.+0.j, 0.+0.j, 1.+0.j],\n",
       "         [0.+0.j, 0.+0.j, 1.+0.j, 0.+0.j]]),\n",
       " 45: matrix([[0.+0.j, 0.+0.j, 0.+0.j, 0.+0.j],\n",
       "         [0.+0.j, 0.+0.j, 0.+0.j, 1.+0.j],\n",
       "         [0.-2.j, 0.+0.j, 0.+0.j, 0.+0.j],\n",
       "         [0.+0.j, 1.+0.j, 0.+0.j, 0.+0.j]]),\n",
       " 46: matrix([[0.+0.j, 0.+0.j, 0.+0.j, 0.+0.j],\n",
       "         [0.+2.j, 0.+0.j, 0.+0.j, 0.+0.j],\n",
       "         [0.+0.j, 0.+0.j, 0.+0.j, 1.+0.j],\n",
       "         [0.+0.j, 0.+0.j, 1.+0.j, 0.+0.j]]),\n",
       " 47: matrix([[ 0.+0.j,  0.+0.j,  0.+0.j,  0.+0.j],\n",
       "         [ 0.+0.j, -2.+0.j,  0.+0.j,  0.+0.j],\n",
       "         [ 0.+0.j,  0.+0.j, -2.+0.j,  0.+0.j],\n",
       "         [ 0.+0.j,  0.+0.j,  0.+0.j,  0.+0.j]]),\n",
       " 48: matrix([[ 0.+0.j,  0.+0.j,  0.+0.j,  0.+0.j],\n",
       "         [ 0.+0.j,  0.+0.j,  0.+0.j,  0.+0.j],\n",
       "         [ 0.+0.j,  0.+0.j,  0.+0.j, -2.+0.j],\n",
       "         [ 0.+0.j,  0.+0.j,  2.+0.j,  0.+0.j]]),\n",
       " 49: matrix([[ 0.+0.j,  0.+0.j,  0.+0.j,  0.+0.j],\n",
       "         [ 0.+0.j,  0.+0.j,  0.+0.j,  2.+0.j],\n",
       "         [ 0.+0.j,  0.+0.j,  0.+0.j,  0.+0.j],\n",
       "         [ 0.+0.j, -2.+0.j,  0.+0.j,  0.+0.j]]),\n",
       " 50: matrix([[ 0.+0.j,  0.+0.j,  0.+0.j,  0.+0.j],\n",
       "         [ 0.+0.j,  0.+0.j, -2.+0.j,  0.+0.j],\n",
       "         [ 0.+0.j,  2.+0.j,  0.+0.j,  0.+0.j],\n",
       "         [ 0.+0.j,  0.+0.j,  0.+0.j,  0.+0.j]]),\n",
       " 51: matrix([[ 0.+0.j,  0.+0.j,  0.+0.j,  0.+0.j],\n",
       "         [ 0.+0.j,  0.+0.j,  0.+0.j,  0.+0.j],\n",
       "         [ 0.+0.j,  0.+0.j, -2.+0.j,  0.+0.j],\n",
       "         [ 0.+0.j,  0.+0.j,  0.+0.j, -2.+0.j]]),\n",
       " 52: matrix([[0.+0.j, 0.+0.j, 0.+0.j, 0.+0.j],\n",
       "         [0.+0.j, 0.+0.j, 1.+0.j, 0.+0.j],\n",
       "         [0.+0.j, 1.+0.j, 0.+0.j, 0.+0.j],\n",
       "         [0.-2.j, 0.+0.j, 0.+0.j, 0.+0.j]]),\n",
       " 53: matrix([[0.+0.j, 0.+0.j, 0.+0.j, 0.+0.j],\n",
       "         [0.+0.j, 0.+0.j, 0.+0.j, 1.+0.j],\n",
       "         [0.+2.j, 0.+0.j, 0.+0.j, 0.+0.j],\n",
       "         [0.+0.j, 1.+0.j, 0.+0.j, 0.+0.j]]),\n",
       " 54: matrix([[0.+0.j, 0.+0.j, 0.+0.j, 0.+0.j],\n",
       "         [0.+0.j, 0.+0.j, 1.+0.j, 0.+0.j],\n",
       "         [0.+0.j, 1.+0.j, 0.+0.j, 0.+0.j],\n",
       "         [0.+2.j, 0.+0.j, 0.+0.j, 0.+0.j]]),\n",
       " 55: matrix([[ 0.+0.j,  0.+0.j,  0.+0.j,  0.+0.j],\n",
       "         [ 0.+0.j, -2.+0.j,  0.+0.j,  0.+0.j],\n",
       "         [ 0.+0.j,  0.+0.j,  0.+0.j,  0.+0.j],\n",
       "         [ 0.+0.j,  0.+0.j,  0.+0.j, -2.+0.j]]),\n",
       " 56: matrix([[0.+0.j, 0.+0.j, 0.+0.j, 0.+0.j],\n",
       "         [0.-2.j, 0.+0.j, 0.+0.j, 0.+0.j],\n",
       "         [0.+0.j, 0.+0.j, 0.+0.j, 1.+0.j],\n",
       "         [0.+0.j, 0.+0.j, 1.+0.j, 0.+0.j]]),\n",
       " 57: matrix([[0.+0.j, 0.+0.j, 0.+0.j, 0.+0.j],\n",
       "         [0.+0.j, 0.+0.j, 0.+0.j, 1.+0.j],\n",
       "         [0.-2.j, 0.+0.j, 0.+0.j, 0.+0.j],\n",
       "         [0.+0.j, 1.+0.j, 0.+0.j, 0.+0.j]]),\n",
       " 58: matrix([[0.+0.j, 0.+0.j, 0.+0.j, 0.+0.j],\n",
       "         [0.+2.j, 0.+0.j, 0.+0.j, 0.+0.j],\n",
       "         [0.+0.j, 0.+0.j, 0.+0.j, 1.+0.j],\n",
       "         [0.+0.j, 0.+0.j, 1.+0.j, 0.+0.j]]),\n",
       " 59: matrix([[ 0.+0.j,  0.+0.j,  0.+0.j,  0.+0.j],\n",
       "         [ 0.+0.j, -2.+0.j,  0.+0.j,  0.+0.j],\n",
       "         [ 0.+0.j,  0.+0.j, -2.+0.j,  0.+0.j],\n",
       "         [ 0.+0.j,  0.+0.j,  0.+0.j,  0.+0.j]]),\n",
       " 60: matrix([[ 0.+0.j,  0.+0.j,  0.+0.j,  0.+0.j],\n",
       "         [ 0.+0.j,  0.+0.j,  0.+0.j,  0.+0.j],\n",
       "         [ 0.+0.j,  0.+0.j,  0.+0.j, -2.+0.j],\n",
       "         [ 0.+0.j,  0.+0.j,  2.+0.j,  0.+0.j]]),\n",
       " 61: matrix([[ 0.+0.j,  0.+0.j,  0.+0.j,  0.+0.j],\n",
       "         [ 0.+0.j,  0.+0.j,  0.+0.j,  2.+0.j],\n",
       "         [ 0.+0.j,  0.+0.j,  0.+0.j,  0.+0.j],\n",
       "         [ 0.+0.j, -2.+0.j,  0.+0.j,  0.+0.j]]),\n",
       " 62: matrix([[ 0.+0.j,  0.+0.j,  0.+0.j,  0.+0.j],\n",
       "         [ 0.+0.j,  0.+0.j, -2.+0.j,  0.+0.j],\n",
       "         [ 0.+0.j,  2.+0.j,  0.+0.j,  0.+0.j],\n",
       "         [ 0.+0.j,  0.+0.j,  0.+0.j,  0.+0.j]]),\n",
       " 63: matrix([[ 0.+0.j,  0.+0.j,  0.+0.j,  0.+0.j],\n",
       "         [ 0.+0.j,  0.+0.j,  0.+0.j,  0.+0.j],\n",
       "         [ 0.+0.j,  0.+0.j, -2.+0.j,  0.+0.j],\n",
       "         [ 0.+0.j,  0.+0.j,  0.+0.j, -2.+0.j]]),\n",
       " 64: matrix([[0.+0.j, 0.+0.j, 0.+0.j, 0.+0.j],\n",
       "         [0.+0.j, 0.+0.j, 1.+0.j, 0.+0.j],\n",
       "         [0.+0.j, 1.+0.j, 0.+0.j, 0.+0.j],\n",
       "         [0.-2.j, 0.+0.j, 0.+0.j, 0.+0.j]]),\n",
       " 65: matrix([[0.+0.j, 0.+0.j, 0.+0.j, 0.+0.j],\n",
       "         [0.+0.j, 0.+0.j, 0.+0.j, 1.+0.j],\n",
       "         [0.+2.j, 0.+0.j, 0.+0.j, 0.+0.j],\n",
       "         [0.+0.j, 1.+0.j, 0.+0.j, 0.+0.j]]),\n",
       " 66: matrix([[0.+0.j, 0.+0.j, 0.+0.j, 0.+0.j],\n",
       "         [0.+0.j, 0.+0.j, 1.+0.j, 0.+0.j],\n",
       "         [0.+0.j, 1.+0.j, 0.+0.j, 0.+0.j],\n",
       "         [0.+2.j, 0.+0.j, 0.+0.j, 0.+0.j]]),\n",
       " 67: matrix([[ 0.+0.j,  0.+0.j,  0.+0.j,  0.+0.j],\n",
       "         [ 0.+0.j, -2.+0.j,  0.+0.j,  0.+0.j],\n",
       "         [ 0.+0.j,  0.+0.j,  0.+0.j,  0.+0.j],\n",
       "         [ 0.+0.j,  0.+0.j,  0.+0.j, -2.+0.j]]),\n",
       " 68: matrix([[0.+0.j, 0.+0.j, 0.+0.j, 0.+0.j],\n",
       "         [0.-2.j, 0.+0.j, 0.+0.j, 0.+0.j],\n",
       "         [0.+0.j, 0.+0.j, 0.+0.j, 1.+0.j],\n",
       "         [0.+0.j, 0.+0.j, 1.+0.j, 0.+0.j]]),\n",
       " 69: matrix([[0.+0.j, 0.+0.j, 0.+0.j, 0.+0.j],\n",
       "         [0.+0.j, 0.+0.j, 0.+0.j, 1.+0.j],\n",
       "         [0.-2.j, 0.+0.j, 0.+0.j, 0.+0.j],\n",
       "         [0.+0.j, 1.+0.j, 0.+0.j, 0.+0.j]]),\n",
       " 70: matrix([[0.+0.j, 0.+0.j, 0.+0.j, 0.+0.j],\n",
       "         [0.+2.j, 0.+0.j, 0.+0.j, 0.+0.j],\n",
       "         [0.+0.j, 0.+0.j, 0.+0.j, 1.+0.j],\n",
       "         [0.+0.j, 0.+0.j, 1.+0.j, 0.+0.j]]),\n",
       " 71: matrix([[ 0.+0.j,  0.+0.j,  0.+0.j,  0.+0.j],\n",
       "         [ 0.+0.j, -2.+0.j,  0.+0.j,  0.+0.j],\n",
       "         [ 0.+0.j,  0.+0.j, -2.+0.j,  0.+0.j],\n",
       "         [ 0.+0.j,  0.+0.j,  0.+0.j,  0.+0.j]])}"
      ]
     },
     "execution_count": 38,
     "metadata": {},
     "output_type": "execute_result"
    }
   ],
   "source": [
    "\"\"\"show the feature dict\"\"\"\n",
    "gs.feature_dict"
   ]
  }
 ],
 "metadata": {
  "kernelspec": {
   "display_name": "Python 3",
   "language": "python",
   "name": "python3"
  },
  "language_info": {
   "codemirror_mode": {
    "name": "ipython",
    "version": 3
   },
   "file_extension": ".py",
   "mimetype": "text/x-python",
   "name": "python",
   "nbconvert_exporter": "python",
   "pygments_lexer": "ipython3",
   "version": "3.9.1"
  }
 },
 "nbformat": 4,
 "nbformat_minor": 5
}

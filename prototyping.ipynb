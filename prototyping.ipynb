{
 "cells": [
  {
   "cell_type": "code",
   "execution_count": 2,
   "id": "e7b8b704-5946-4e2d-888a-0c18af98970e",
   "metadata": {},
   "outputs": [],
   "source": [
    "import pygsti\n",
    "from pygsti.modelpacks import smq1Q_XYZI as std"
   ]
  },
  {
   "cell_type": "code",
   "execution_count": 16,
   "id": "514c4e26-dc48-45f7-92ac-c6539a690f22",
   "metadata": {},
   "outputs": [],
   "source": [
    "model = std.target_model('H+S')"
   ]
  },
  {
   "cell_type": "code",
   "execution_count": 20,
   "id": "e1707f03-93f1-483c-be2b-b73048482595",
   "metadata": {},
   "outputs": [],
   "source": [
    "gx = model[('Gxpi2', 0)]"
   ]
  },
  {
   "cell_type": "code",
   "execution_count": 61,
   "id": "34135909-63d2-40fb-9662-320299e07584",
   "metadata": {},
   "outputs": [],
   "source": [
    "L = gx.submembers()[1].errorgen"
   ]
  },
  {
   "cell_type": "code",
   "execution_count": 69,
   "id": "c080fef9-cd16-4034-a26e-97c52eec3856",
   "metadata": {},
   "outputs": [
    {
     "data": {
      "text/plain": [
       "OrderedDict([(('H', ('X',), (0,)), 0.0),\n",
       "             (('H', ('Y',), (0,)), 0.0),\n",
       "             (('H', ('Z',), (0,)), 0.0),\n",
       "             (('S', ('X',), (0,)), 0.0),\n",
       "             (('S', ('Y',), (0,)), 0.0),\n",
       "             (('S', ('Z',), (0,)), 0.0)])"
      ]
     },
     "execution_count": 69,
     "metadata": {},
     "output_type": "execute_result"
    }
   ],
   "source": [
    "L."
   ]
  },
  {
   "cell_type": "code",
   "execution_count": 57,
   "id": "b583f3cc-c32f-4a1b-b3d9-91ae7def97b0",
   "metadata": {},
   "outputs": [
    {
     "data": {
      "text/plain": [
       "\u001b[0;31mType:\u001b[0m           LindbladErrorgen\n",
       "\u001b[0;31mString form:\u001b[0m    Lindblad error generator with dim = 4, num params = 6\n",
       "\u001b[0;31mFile:\u001b[0m           ~/Applications/pyGSTi/pygsti/modelmembers/operations/lindbladerrorgen.py\n",
       "\u001b[0;31mDocstring:\u001b[0m     \n",
       "An Lindblad-form error generator.\n",
       "\n",
       "This error generator consisting of terms that, with appropriate constraints\n",
       "ensurse that the resulting (after exponentiation) operation/layer operation\n",
       "is CPTP.  These terms can be divided into \"Hamiltonian\"-type terms, which\n",
       "map rho -> i[H,rho] and \"non-Hamiltonian\"/\"other\"-type terms, which map rho\n",
       "-> A rho B + 0.5*(ABrho + rhoAB).\n",
       "\n",
       "Parameters\n",
       "----------\n",
       "dim : int\n",
       "    The Hilbert-Schmidt (superoperator) dimension, which will be the\n",
       "    dimension of the created operator.\n",
       "\n",
       "lindblad_term_dict : dict\n",
       "    A dictionary specifying which Linblad terms are present in the\n",
       "    parameteriztion.  Keys are `(termType, basisLabel1, <basisLabel2>)`\n",
       "    tuples, where `termType` can be `\"H\"` (Hamiltonian), `\"S\"`\n",
       "    (Stochastic), or `\"A\"` (Affine).  Hamiltonian and Affine terms always\n",
       "    have a single basis label (so key is a 2-tuple) whereas Stochastic\n",
       "    tuples with 1 basis label indicate a *diagonal* term, and are the\n",
       "    only types of terms allowed when `nonham_mode != \"all\"`.  Otherwise,\n",
       "    Stochastic term tuples can include 2 basis labels to specify\n",
       "    \"off-diagonal\" non-Hamiltonian Lindblad terms.  Basis labels can be\n",
       "    strings or integers.  Values are complex coefficients.\n",
       "\n",
       "basis : Basis, optional\n",
       "    A basis mapping the labels used in the keys of `lindblad_term_dict` to\n",
       "    basis matrices (e.g. numpy arrays or Scipy sparse matrices).\n",
       "\n",
       "param_mode : {\"unconstrained\", \"cptp\", \"depol\", \"reldepol\"}\n",
       "    Describes how the Lindblad coefficients/projections relate to the\n",
       "    error generator's parameter values.  Allowed values are:\n",
       "    `\"unconstrained\"` (coeffs are independent unconstrained parameters),\n",
       "    `\"cptp\"` (independent parameters but constrained so map is CPTP),\n",
       "    `\"reldepol\"` (all non-Ham. diagonal coeffs take the *same* value),\n",
       "    `\"depol\"` (same as `\"reldepol\"` but coeffs must be *positive*)\n",
       "\n",
       "nonham_mode : {\"diagonal\", \"diag_affine\", \"all\"}\n",
       "    Which non-Hamiltonian Lindblad projections are potentially non-zero.\n",
       "    Allowed values are: `\"diagonal\"` (only the diagonal Lind. coeffs.),\n",
       "    `\"diag_affine\"` (diagonal coefficients + affine projections), and\n",
       "    `\"all\"` (the entire matrix of coefficients is allowed).\n",
       "\n",
       "truncate : bool, optional\n",
       "    Whether to truncate the projections onto the Lindblad terms in\n",
       "    order to meet constraints (e.g. to preserve CPTP) when necessary.\n",
       "    If False, then an error is thrown when the given dictionary of\n",
       "    Lindblad terms doesn't conform to the constrains.\n",
       "\n",
       "mx_basis : {'std', 'gm', 'pp', 'qt'} or Basis object\n",
       "    The basis for this error generator's linear mapping. Allowed\n",
       "    values are Matrix-unit (std), Gell-Mann (gm), Pauli-product (pp),\n",
       "    and Qutrit (qt) (or a custom basis object).\n",
       "\n",
       "evotype : {\"densitymx\",\"svterm\",\"cterm\"}\n",
       "    The evolution type of the error generator being constructed.\n",
       "    `\"densitymx\"` means the usual Lioville density-matrix-vector\n",
       "    propagation via matrix-vector products.  `\"svterm\"` denotes\n",
       "    state-vector term-based evolution (action of operation is obtained by\n",
       "    evaluating the rank-1 terms up to some order).  `\"cterm\"` is similar\n",
       "    but uses Clifford operation action on stabilizer states.\n",
       "\u001b[0;31mInit docstring:\u001b[0m Initialize a new LinearOperator \n"
      ]
     },
     "metadata": {},
     "output_type": "display_data"
    }
   ],
   "source": [
    "L.errorgen."
   ]
  },
  {
   "cell_type": "code",
   "execution_count": 23,
   "id": "58f2f0af-0446-413a-b33a-93111e452aba",
   "metadata": {},
   "outputs": [
    {
     "data": {
      "text/plain": [
       "(('H', ('X',), (0,)),\n",
       " ('H', ('Y',), (0,)),\n",
       " ('H', ('Z',), (0,)),\n",
       " ('S', ('X',), (0,)),\n",
       " ('S', ('Y',), (0,)),\n",
       " ('S', ('Z',), (0,)))"
      ]
     },
     "execution_count": 23,
     "metadata": {},
     "output_type": "execute_result"
    }
   ],
   "source": [
    "gx.errorgen_coefficient_labels()"
   ]
  },
  {
   "cell_type": "code",
   "execution_count": 11,
   "id": "c775ae1f-6c90-4c6e-b267-0c473c927948",
   "metadata": {},
   "outputs": [
    {
     "ename": "TypeError",
     "evalue": "QuditProcessorSpec.povm_specifier() missing 1 required positional argument: 'name'",
     "output_type": "error",
     "traceback": [
      "\u001b[0;31m---------------------------------------------------------------------------\u001b[0m",
      "\u001b[0;31mTypeError\u001b[0m                                 Traceback (most recent call last)",
      "Input \u001b[0;32mIn [11]\u001b[0m, in \u001b[0;36m<cell line: 1>\u001b[0;34m()\u001b[0m\n\u001b[0;32m----> 1\u001b[0m pspec\u001b[38;5;241m.\u001b[39mpovm_specifier()\n",
      "\u001b[0;31mTypeError\u001b[0m: QuditProcessorSpec.povm_specifier() missing 1 required positional argument: 'name'"
     ]
    }
   ],
   "source": [
    "pspec."
   ]
  },
  {
   "cell_type": "code",
   "execution_count": 14,
   "id": "6bca020c-3713-4410-84e7-d9a66f33704c",
   "metadata": {},
   "outputs": [
    {
     "ename": "NameError",
     "evalue": "name 'st' is not defined",
     "output_type": "error",
     "traceback": [
      "\u001b[0;31m---------------------------------------------------------------------------\u001b[0m",
      "\u001b[0;31mNameError\u001b[0m                                 Traceback (most recent call last)",
      "Input \u001b[0;32mIn [14]\u001b[0m, in \u001b[0;36m<cell line: 3>\u001b[0;34m()\u001b[0m\n\u001b[1;32m      1\u001b[0m \u001b[38;5;124;03m\"\"\"Get the gates, states, and povms from the model pack\"\"\"\u001b[39;00m\n\u001b[1;32m      2\u001b[0m gates \u001b[38;5;241m=\u001b[39m std\u001b[38;5;241m.\u001b[39mgates\n\u001b[0;32m----> 3\u001b[0m states \u001b[38;5;241m=\u001b[39m st\n",
      "\u001b[0;31mNameError\u001b[0m: name 'st' is not defined"
     ]
    }
   ],
   "source": [
    "\"\"\"Get the gates, states, and povms from the model pack\"\"\"\n",
    "gates = std.gates\n",
    "states = st"
   ]
  },
  {
   "cell_type": "code",
   "execution_count": null,
   "id": "98de2d4c-7a28-43d5-985f-6368e3850a02",
   "metadata": {},
   "outputs": [],
   "source": []
  }
 ],
 "metadata": {
  "kernelspec": {
   "display_name": "Python 3 (ipykernel)",
   "language": "python",
   "name": "python3"
  },
  "language_info": {
   "codemirror_mode": {
    "name": "ipython",
    "version": 3
   },
   "file_extension": ".py",
   "mimetype": "text/x-python",
   "name": "python",
   "nbconvert_exporter": "python",
   "pygments_lexer": "ipython3",
   "version": "3.10.2"
  }
 },
 "nbformat": 4,
 "nbformat_minor": 5
}

{
 "cells": [
  {
   "cell_type": "code",
   "execution_count": 237,
   "id": "fc4c94a8-75b5-4436-a104-8dc283feb145",
   "metadata": {},
   "outputs": [],
   "source": [
    "import pygsti\n",
    "from pygsti.circuits import Circuit\n",
    "import random\n",
    "import numpy as np\n",
    "import sympy as sp\n",
    "import matplotlib.pyplot as plt\n",
    "from pygsti.tools.lindbladtools import *\n",
    "from pygsti.baseobjs.basisconstructors import id2x2, sigmax, sigmay, sigmaz\n",
    "from pygsti.modelmembers.operations import LindbladErrorgen\n",
    "from tqdm import tqdm\n",
    "SigX = np.array([[0, 1], [1, 0]], dtype=complex)\n",
    "SigY = np.array([[0, -1j], [1j, 0]], dtype=complex)\n",
    "SigZ = np.array([[1, 0], [0, -1]], dtype=complex)"
   ]
  },
  {
   "cell_type": "code",
   "execution_count": 273,
   "id": "27d93c72-0eb9-4ced-a9ec-7ae458e171e3",
   "metadata": {},
   "outputs": [
    {
     "ename": "SyntaxError",
     "evalue": "invalid syntax (3639017118.py, line 13)",
     "output_type": "error",
     "traceback": [
      "\u001b[0;36m  Input \u001b[0;32mIn [273]\u001b[0;36m\u001b[0m\n\u001b[0;31m    if symbols not None:\u001b[0m\n\u001b[0m                   ^\u001b[0m\n\u001b[0;31mSyntaxError\u001b[0m\u001b[0;31m:\u001b[0m invalid syntax\n"
     ]
    }
   ],
   "source": [
    "class Point():\n",
    "    \"\"\"\n",
    "    A point on a manifold\n",
    "    \n",
    "    Contains: \n",
    "        a vector of sympy variables \n",
    "        a descriptor of every parameter (elementary egen label + supporting gate(s))\n",
    "        a basis matrix generator function\n",
    "        a dual basis matrix generator function\n",
    "    \"\"\"\n",
    "    def __init__(self, descriptors=None, symbols=None):\n",
    "        self.descriptors = descriptors\n",
    "        if symbols not None:\n",
    "            self.symbols = symbols\n",
    "        elif descriptors not None:\n",
    "            self.\n",
    "        \n",
    "    "
   ]
  },
  {
   "cell_type": "code",
   "execution_count": 238,
   "id": "1614c4c8-c776-495b-83e0-3c567f848b74",
   "metadata": {},
   "outputs": [],
   "source": [
    "import numpy as _np\n",
    "import scipy.sparse as _sps\n",
    "\n",
    "from pygsti.tools import matrixtools as _mt\n",
    "from pygsti.tools.basistools import basis_matrices"
   ]
  },
  {
   "cell_type": "code",
   "execution_count": 239,
   "id": "2c96832e-268d-4138-bf05-c8d5369b1c41",
   "metadata": {},
   "outputs": [],
   "source": [
    "def create_elementary_errorgen_pp(typ, p, q=None, sparse=False):\n",
    "    \"\"\"\n",
    "    Construct an elementary error generator as a matrix in the \"pauli product\" basis.\n",
    "    There are four different types of elementary error generators: 'H' (Hamiltonian),\n",
    "    'S' (stochastic), 'C' (correlation), and 'A' (active).  See arxiv:2103.01928.\n",
    "    Each type transforms an input density matrix differently.  The action of an elementary\n",
    "    error generator `L` on an input density matrix `rho` is given by:\n",
    "    Hamiltonian:  `L(rho) = -1j * [ p, rho ]`\n",
    "    Stochastic:   `L(rho) = p * rho * p - rho\n",
    "    Correlation:  `L(rho) = p * rho * q + q * rho * p - 0.5 {{p,q}, rho}\n",
    "    Active:       `L(rho) = 1j( p * rho * q - q * rho * p + 0.5 {[p,q], rho} )\n",
    "    Square brackets denotes the commutator and curly brackets the anticommutator.\n",
    "    `L` is returned as a superoperator matrix that acts on vectorized density matrices.\n",
    "    Parameters\n",
    "    ----------\n",
    "    typ : {'H','S','C','A'}\n",
    "        The type of error generator to construct.\n",
    "    p : numpy.ndarray\n",
    "        d-dimensional basis matrix.\n",
    "    q : numpy.ndarray, optional\n",
    "        d-dimensional basis matrix; must be non-None if and only if `typ` is `'C'` or `'A'`.\n",
    "    sparse : bool, optional\n",
    "        Whether to construct a sparse or dense (the default) matrix.\n",
    "    Returns\n",
    "    -------\n",
    "    ndarray or Scipy CSR matrix\n",
    "    \"\"\"\n",
    "    d = p.shape[0]; d2 = d**2\n",
    "    if sparse:\n",
    "        elem_errgen = _sps.lil_matrix((d2, d2), dtype=p.dtype)\n",
    "    else:\n",
    "        elem_errgen = _np.empty((d2, d2), dtype=p.dtype)\n",
    "\n",
    "    assert(typ in ('H', 'S', 'C', 'A')), \"`typ` must be one of 'H', 'S', 'C', or 'A'\"\n",
    "    assert((typ in 'HS' and q is None) or (typ in 'CA' and q is not None)), \\\n",
    "        \"Wrong number of basis elements provided for %s-type elementary errorgen!\" % typ\n",
    "\n",
    "    pdag = p.T.conjugate()\n",
    "    qdag = q.T.conjugate() if (q is not None) else None\n",
    "\n",
    "    if typ in 'CA':\n",
    "        pq_plus_qp = pdag @ q + qdag @ p\n",
    "        pq_minus_qp = pdag @ q - qdag @ p\n",
    "\n",
    "    # Loop through the standard basis as all possible input density matrices\n",
    "    for i, rho0 in enumerate(basis_matrices('std', d2)):  # rho0 == input density mx\n",
    "        # Only difference between H/S/C/A is how they transform input density matrices\n",
    "        if typ == 'H':\n",
    "            rho1 = -1j * (p @ rho0 - rho0 @ p)  # Add \"/2\" to have PP ham gens match previous versions of pyGSTi\n",
    "        elif typ == 'S':\n",
    "            pdag_p = (pdag @ p)\n",
    "            rho1 = p @ rho0 @ pdag - 0.5 * (pdag_p @ rho0 + rho0 @ pdag_p)\n",
    "        elif typ == 'C':\n",
    "            rho1 = p @ rho0 @ qdag + q @ rho0 @ pdag - 0.5 * (pq_plus_qp @ rho0 + rho0 @ pq_plus_qp)\n",
    "        elif typ == 'A':\n",
    "            rho1 = 1j * (p @ rho0 @ qdag - q @ rho0 @ pdag + 0.5 * (pq_minus_qp @ rho0 + rho0 @ pq_minus_qp))\n",
    "\n",
    "        elem_errgen[:, i] = rho1.flatten()[:, None] if sparse else rho1.flatten()\n",
    "\n",
    "    if sparse: elem_errgen = elem_errgen.tocsr()\n",
    "    return np.round(pygsti.tools.change_basis(elem_errgen, 'std', 'pp'), 12)\n",
    "\n",
    "def create_elementary_errorgen_dual_pp(typ, p, q=None, sparse=False, normalization_factor='auto'):\n",
    "    \"\"\"\n",
    "    Construct a \"dual\" elementary error generator matrix in the \"pauli product\"  basis.\n",
    "    The elementary error generator that is dual to the one computed by calling\n",
    "    :function:`create_elementary_errorgen` with the same argument.  This dual element\n",
    "    can be used to find the coefficient of the original, or \"primal\" elementary generator.\n",
    "    For example, if `A = sum(c_i * E_i)`, where `E_i` are the elementary error generators given\n",
    "    by :function:`create_elementary_errorgen`), then `c_i = dot(D_i.conj(), A)` where `D_i`\n",
    "    is the dual to `E_i`.\n",
    "    There are four different types of dual elementary error generators: 'H' (Hamiltonian),\n",
    "    'S' (stochastic), 'C' (correlation), and 'A' (active).  See arxiv:2103.01928.\n",
    "    Each type transforms an input density matrix differently.  The action of an elementary\n",
    "    error generator `L` on an input density matrix `rho` is given by:\n",
    "    Hamiltonian:  `L(rho) = -1j/(2d^2) * [ p, rho ]`\n",
    "    Stochastic:   `L(rho) = 1/(d^2) p * rho * p\n",
    "    Correlation:  `L(rho) = 1/(2d^2) ( p * rho * q + q * rho * p)\n",
    "    Active:       `L(rho) = 1j/(2d^2) ( p * rho * q - q * rho * p)\n",
    "    where `d` is the dimension of the Hilbert space, e.g. 2 for a single qubit.  Square\n",
    "    brackets denotes the commutator and curly brackets the anticommutator.\n",
    "    `L` is returned as a superoperator matrix that acts on vectorized density matrices.\n",
    "    Parameters\n",
    "    ----------\n",
    "    typ : {'H','S','C','A'}\n",
    "        The type of dual error generator to construct.\n",
    "    p : numpy.ndarray\n",
    "        d-dimensional basis matrix.\n",
    "    q : numpy.ndarray, optional\n",
    "        d-dimensional basis matrix; must be non-None if and only if `typ` is `'C'` or `'A'`.\n",
    "    sparse : bool, optional\n",
    "        Whether to construct a sparse or dense (the default) matrix.\n",
    "    Returns\n",
    "    -------\n",
    "    ndarray or Scipy CSR matrix\n",
    "    \"\"\"\n",
    "    d = p.shape[0]; d2 = d**2\n",
    "    pdag = p.T.conjugate()\n",
    "    qdag = q.T.conjugate() if (q is not None) else None\n",
    "\n",
    "    if sparse:\n",
    "        elem_errgen = _sps.lil_matrix((d2, d2), dtype=p.dtype)\n",
    "    else:\n",
    "        elem_errgen = _np.empty((d2, d2), dtype=p.dtype)\n",
    "\n",
    "    assert(typ in ('H', 'S', 'C', 'A')), \"`typ` must be one of 'H', 'S', 'C', or 'A'\"\n",
    "    assert((typ in 'HS' and q is None) or (typ in 'CA' and q is not None)), \\\n",
    "        \"Wrong number of basis elements provided for %s-type elementary errorgen!\" % typ\n",
    "\n",
    "    # Loop through the standard basis as all possible input density matrices\n",
    "    for i, rho0 in enumerate(basis_matrices('std', d2)):  # rho0 == input density mx\n",
    "        # Only difference between H/S/C/A is how they transform input density matrices\n",
    "        if typ == 'H':\n",
    "            rho1 = -1j * (p @ rho0 - rho0 @ p)  # -1j / (2 * d2) *\n",
    "        elif typ == 'S':\n",
    "            rho1 = (p @ rho0 @ pdag)  # 1 / d2 *\n",
    "        elif typ == 'C':\n",
    "            rho1 = (p @ rho0 @ qdag + q @ rho0 @ pdag)  # 1 / (2 * d2) *\n",
    "        elif typ == 'A':\n",
    "            rho1 = 1j * (p @ rho0 @ qdag - q @ rho0 @ pdag)  # 1j / (2 * d2)\n",
    "        elem_errgen[:, i] = rho1.flatten()[:, None] if sparse else rho1.flatten()\n",
    "\n",
    "    return_normalization = bool(normalization_factor == 'auto_return')\n",
    "    if normalization_factor in ('auto', 'auto_return'):\n",
    "        primal = create_elementary_errorgen(typ, p, q, sparse)\n",
    "        if sparse:\n",
    "            normalization_factor = _np.vdot(elem_errgen.toarray().flatten(), primal.toarray().flatten())\n",
    "        else:\n",
    "            normalization_factor = _np.vdot(elem_errgen.flatten(), primal.flatten())\n",
    "    elem_errgen *= _np.real_if_close(1 / normalization_factor).item()  # item() -> scalar\n",
    "    elem_errgen = np.round(pygsti.tools.change_basis(elem_errgen, 'std', 'pp'), 12)\n",
    "\n",
    "    if sparse: elem_errgen = elem_errgen.tocsr()\n",
    "    return (elem_errgen, normalization_factor) if return_normalization else elem_errgen"
   ]
  },
  {
   "cell_type": "code",
   "execution_count": 240,
   "id": "53a59329-df78-4ffd-89e0-9c5d17f0a065",
   "metadata": {},
   "outputs": [],
   "source": [
    "def pstr_to_mat(pstr):\n",
    "    pmat = 1\n",
    "    for pchar in pstr:\n",
    "        if pchar == 'X':\n",
    "            pmat = np.kron(pmat, SigX)\n",
    "        elif pchar == 'Y':\n",
    "            pmat = np.kron(pmat, SigY)\n",
    "        elif pchar == 'Z':\n",
    "            pmat = np.kron(pmat, SigZ)\n",
    "        else:\n",
    "            pmat = np.kron(pmat, np.array([[1, 0], [0, 1]], dtype=complex))\n",
    "    return pmat\n",
    "\n",
    "def egenlbl_to_mat(lbl, num_qubits):\n",
    "    egen_type = lbl.errorgen_type\n",
    "    egen_basis_lbls = lbl.basis_element_labels\n",
    "    egen_support = lbl.support\n",
    "    # convert the basis labels into Pauli strings\n",
    "    pstr1 = ['I']*num_qubits\n",
    "    for i, pchar in enumerate(egen_basis_lbls[0]):\n",
    "        pstr1[egen_support[i]] = pchar\n",
    "    pstr1 = ''.join(pstr1)\n",
    "    pmat1 = pstr_to_mat(pstr1)\n",
    "    if egen_type in 'CA':\n",
    "        pstr2 = ['I']*num_qubits\n",
    "        for i, pchar in enumerate(egen_basis_lbls[1]):\n",
    "            pstr2[egen_support[i]] = pchar\n",
    "        pstr2 = ''.join(pstr2)\n",
    "        pmat2 = pstr_to_mat(pstr2)\n",
    "        return create_elementary_errorgen_pp(egen_type, pmat1, pmat2)\n",
    "    else:\n",
    "        return create_elementary_errorgen_pp(egen_type, pmat1)\n",
    "    \n",
    "def egenlbl_to_dual(lbl, num_qubits):\n",
    "    egen_type = lbl.errorgen_type\n",
    "    egen_basis_lbls = lbl.basis_element_labels\n",
    "    egen_support = lbl.support\n",
    "    # convert the basis labels into Pauli strings\n",
    "    pstr1 = ['I']*num_qubits\n",
    "    for i, pchar in enumerate(egen_basis_lbls[0]):\n",
    "        pstr1[egen_support[i]] = pchar\n",
    "    pstr1 = ''.join(pstr1)\n",
    "    pmat1 = pstr_to_mat(pstr1)\n",
    "    if egen_type in 'CA':\n",
    "        pstr2 = ['I']*num_qubits\n",
    "        for i, pchar in enumerate(egen_basis_lbls[1]):\n",
    "            pstr2[egen_support[i]] = pchar\n",
    "        pstr2 = ''.join(pstr2)\n",
    "        pmat2 = pstr_to_mat(pstr2)\n",
    "        return create_elementary_errorgen_dual_pp(egen_type, pmat1, pmat2)\n",
    "    else:\n",
    "        return create_elementary_errorgen_dual_pp(egen_type, pmat1)"
   ]
  },
  {
   "cell_type": "code",
   "execution_count": 241,
   "id": "0be11b43-743e-4815-b217-00954c385c4d",
   "metadata": {},
   "outputs": [
    {
     "name": "stdout",
     "output_type": "stream",
     "text": [
      "-1.0\n",
      "1.0\n"
     ]
    }
   ],
   "source": [
    "# dual basis returns a negative rate ???\n",
    "print(np.trace(create_elementary_errorgen_pp('A', SigZ, SigX)@create_elementary_errorgen_dual_pp('A', SigZ, SigX)))\n",
    "# seems to work for conjugate of the dual\n",
    "print(np.trace(create_elementary_errorgen_pp('A', SigZ, SigX).conj().T@create_elementary_errorgen_dual_pp('A', SigZ, SigX)))"
   ]
  },
  {
   "cell_type": "code",
   "execution_count": 367,
   "id": "c21b8c5d-2265-4557-8374-6f62c089ee9f",
   "metadata": {},
   "outputs": [],
   "source": [
    "class ErrorGen():\n",
    "    \"\"\"\n",
    "    Implements the small Markovian taxonomy\n",
    "    \n",
    "    Parameters:\n",
    "        -features: pauli transfer representations for different error processes\n",
    "        -rates: sympy vector of rates\n",
    "    \"\"\"\n",
    "    \n",
    "    def __init__(self, num_qubits, gate_label=('G', 0), parameterization='HSCA'):\n",
    "        \"\"\"\n",
    "        setup the feature dictionary with keys that are sympy variables\n",
    "        \n",
    "        right now, I'm doing this by hand for a 1 qubit model, \n",
    "        \"\"\"\n",
    "        self.num_qubits = num_qubits\n",
    "        self.feature_map = dict() # maps params (sp variables) to corresponding basis \n",
    "        self.label_map = dict() # maps params to corresponding pygsti labels\n",
    "        self.labels =  LindbladErrorgen.from_error_generator(4**num_qubits).coefficient_labels()\n",
    "        self.params = []\n",
    "        for lbl in self.labels:\n",
    "            if len(lbl.basis_element_labels) > 1:\n",
    "                pstr = lbl.basis_element_labels[0] + 'x' + lbl.basis_element_labels[1]\n",
    "                pmat1 = pstr_to_mat(lbl.basis_element_labels[0])\n",
    "                pmat2 = pstr_to_mat(lbl.basis_element_labels[1])\n",
    "            else:\n",
    "                pstr = lbl.basis_element_labels[0]\n",
    "                pmat = pstr_to_mat(lbl.basis_element_labels[0])\n",
    "            if len(gate_label) > 1:\n",
    "                gstr = str(gate_label[0]) + 'q' + str(gate_label[1])\n",
    "            else:\n",
    "                gstr = gate_label[0]\n",
    "            param = sp.symbols(f'{{{lbl.errorgen_type}}}^{{{pstr}}}_{{{gstr}}} ')\n",
    "            self.params.append(param)\n",
    "            self.label_map[param] = lbl\n",
    "            self.feature_map[param] = egenlbl_to_mat(lbl, num_qubits)\n",
    "    \n",
    "            \n",
    "    @property\n",
    "    def vec(self):\n",
    "        return list(self.params)\n",
    "    \n",
    "    @property\n",
    "    def mat(self):\n",
    "        mat = np.zeros((4**self.num_qubits, 4**self.num_qubits), dtype='O')\n",
    "        for x in self.vec:\n",
    "            mat += x*self.feature_map[x]\n",
    "        return sp.Matrix(mat)\n",
    "    \n",
    "    @property\n",
    "    def features(self):\n",
    "        return [f for f in self.feature_map.values()]\n",
    "    \n",
    "    @property\n",
    "    def dual_features(self):\n",
    "        return [egenlbl_to_dual(lbl, self.num_qubits) for lbl in self.labels]\n",
    "    \n",
    "    def extract_rates(self):\n",
    "        rates = dict()\n",
    "        gen = self.mat\n",
    "        for lbl in tqdm(self.labels):\n",
    "            dgen = egenlbl_to_dual(lbl, self.num_qubits)\n",
    "            rates[lbl] = np.trace(dgen.conj().T@gen)\n",
    "        return rates\n",
    "        "
   ]
  },
  {
   "cell_type": "code",
   "execution_count": 270,
   "id": "5d179c8a-d855-41a9-828c-01acb14edf45",
   "metadata": {},
   "outputs": [],
   "source": [
    "class GateSet():\n",
    "    \"\"\"\n",
    "    Holds the information for\n",
    "        -all native gates, states, and measurements\n",
    "        -all error generator features (in a feature dict)\n",
    "        -map between gate labels and parameter index list (index set)\n",
    "        -map between parameter indices and error features (feature dict) \n",
    "        \n",
    "    TODO: generalize to n-qubits\n",
    "    \"\"\"\n",
    "    def __init__(self, model_pack):\n",
    "        # A list of error rates, each one corresponding to one feature in the above list\n",
    "        self.rates = []\n",
    "        self.gate_errors = dict() # maps gate parameters to error generators\n",
    "        self.feature_map = dict() # maps variables to their associated feature\n",
    "        self.target_model = model_pack.target_model('CPTP')\n",
    "        self.gate_labels = model_pack.gates\n",
    "        self.num_qubits = model_pack.processor_spec().num_qubits\n",
    "        \n",
    "        # Errors generators for all gates in the model\n",
    "        for gate in model_pack.gates:\n",
    "            if len(gate) <= 1:\n",
    "                egen = ErrorGen(self.num_qubits, (gate, ''))\n",
    "            else:\n",
    "                egen = ErrorGen(self.num_qubits, gate)\n",
    "            self.gate_errors[gate] = egen\n",
    "            self.rates += egen.vec\n",
    "            self.feature_map.update({p : egen.feature_map[p] for p in egen.vec})\n",
    "        # Errors for all measurements in the model\n",
    "        for povm in self.target_model.povms.keys():\n",
    "            egen = ErrorGen(self.num_qubits, (povm, 'M'))\n",
    "            self.gate_errors[povm] = egen\n",
    "            self.rates += egen.vec\n",
    "            self.feature_map.update({p : egen.feature_map[p] for p in egen.vec})\n",
    "        # Errors for all state preparations in the model\n",
    "        for prep in self.target_model.preps.keys():\n",
    "            egen = ErrorGen(self.num_qubits, (prep, 'P'))\n",
    "            self.gate_errors[prep] = egen\n",
    "            self.rates += egen.vec\n",
    "            self.feature_map.update({p : egen.feature_map[p] for p in egen.vec})\n",
    "            \n",
    "    @property\n",
    "    def vec(self):\n",
    "        return self.rates\n",
    "    \n",
    "    @property\n",
    "    def num_params(self):\n",
    "        return len(self.vec)\n",
    "    \n",
    "    def features_of(self, op_label):\n",
    "        \"\"\"Returns the list of error features associated with the given gate/POVM/state-prep\"\"\"\n",
    "        return self.gate_errors[op_label].features\n",
    "    \n",
    "    def rates_of(self, op_label):\n",
    "        \"\"\"Returns the list of error rates associated with the given gate/POVM/state-prep\"\"\"\n",
    "        return self.gate_errors[op_label].vec\n",
    "    \n",
    "    def error_matrix_of(self, op_label):\n",
    "        \"\"\"Returns the error generator matrix associated with the given gate/POVM/state-prep\"\"\"\n",
    "        return self.gate_errors[op_label].mat\n",
    "    \n",
    "    def target_op(self, op_label):\n",
    "        \"\"\"\n",
    "        returns the target operation of the given operation\n",
    "        \"\"\"\n",
    "        return self.target_model[op_label].to_dense()\n",
    "\n",
    "    def native_meas(self):\n",
    "        return [m.to_dense() for m in self.target_model['Mdefault'].values()]\n",
    "\n",
    "    def rho0(self):\n",
    "        return self.target_model['rho0'].to_dense()"
   ]
  },
  {
   "cell_type": "markdown",
   "id": "5aed7cc9-a62b-4a0c-8c21-a40b561ad620",
   "metadata": {},
   "source": [
    "A gate:\n",
    "$$\n",
    "    G(a) = e^{x^i L_i(a)} U(a)\n",
    "$$\n",
    "\n",
    "A circuit\n",
    "$$\n",
    "    C = \\prod_{i = 1}^n G(g_i) = \\prod_{i = 1}^n e^{x^i L_i(g_i)} U(g_i)\n",
    "$$\n",
    "\n",
    "A circuit factorization\n",
    "$$\n",
    "    C = \\Bigg( \\prod_{i = 1}^n e^{x^i L_i'(g_i)} \\Bigg) \\times \\Bigg( \\prod_{i = 1}^n  U(g_i) \\Bigg)\n",
    "$$\n",
    "where \n",
    "$$\n",
    "    L_i'(c_i) = \\bigg( \\prod_{j > i } U(g_i) \\bigg) L_i(g_i) \\bigg( \\prod_{j > i } U(g_i) \\bigg)^{-1}.\n",
    "$$\n",
    "\n",
    "Now, define a sparse representation of the gate set errors with the formal equivalence\n",
    "$$\n",
    "    z^i =  \\langle L^i, x^j L_j \\rangle. \n",
    "$$\n",
    "\n",
    "Then, conjugation corresponds to a linear transformation on $z$:\n",
    "$$\n",
    "    R(U) z \\equiv x^j U L_j U^{-1}\n",
    "$$\n",
    "\n",
    "We may define $R(U)$ coordinate-wise per \n",
    "$$\n",
    "    R(U)_{j}^i = \\langle L^i, U L_j U^{-1} \\rangle\n",
    "$$"
   ]
  },
  {
   "cell_type": "code",
   "execution_count": 422,
   "id": "3ae6c70f-3aac-474d-9ade-03cfa3ab1922",
   "metadata": {},
   "outputs": [],
   "source": [
    "class CircuitAnalyzer():\n",
    "    def __init__(self, gateset : GateSet):\n",
    "        self.gateset = gateset\n",
    "        \n",
    "    def left_errors(self, circ):\n",
    "        emaps = []\n",
    "        adjoints = dict()\n",
    "        for \n",
    "            \n",
    "        \n",
    "        \n",
    "    def left_conjugators(self, circ, error_basis):\n",
    "        # [1] calculate all the adjoint operators of all the gates\n",
    "        left_errors = []\n",
    "        adjoints = dict()\n",
    "        for gate in self.gateset.gate_labels:\n",
    "            adjoints[gate] = self._adjoint_operator(self.gateset.target_op(gate), error_basis)\n",
    "        # [2] construct the conjugators\n",
    "        conjugators = []\n",
    "        conjugators.append(np.eye(list(adjoints.values())[0].shape[0]))\n",
    "        for i in range(len(circ)-1, 0, -1):\n",
    "            conjugators.append(adjoints[circ[i]]@conjugators[len(circ)-i-1])\n",
    "        return conjugators\n",
    "    \n",
    "        \n",
    "    def _adjoint_operator(self, conj_unitary, error_gen):\n",
    "        \"\"\"\n",
    "        \n",
    "        \"\"\"\n",
    "        R = np.zeros((len(error_gen.vec), len(error_gen.vec)))\n",
    "        for i, di_dual in enumerate(error_gen.dual_features):\n",
    "            for j, pj in enumerate(error_gen.features):\n",
    "                R[i, j] = np.trace(di_dual@conj_unitary@pj@np.conj(conj_unitary.T))\n",
    "        return R"
   ]
  },
  {
   "cell_type": "code",
   "execution_count": 392,
   "id": "3a213510-0008-48f6-9e57-ffd22c07dd70",
   "metadata": {},
   "outputs": [],
   "source": [
    "from pygsti.modelpacks import smq2Q_XYCPHASE as std\n",
    "from pygsti.modelpacks import smq1Q_XYI as std\n"
   ]
  },
  {
   "cell_type": "code",
   "execution_count": 402,
   "id": "a3c54cce-4df6-4af2-bed0-cc0ebe958d77",
   "metadata": {},
   "outputs": [
    {
     "data": {
      "text/plain": [
       "60"
      ]
     },
     "execution_count": 402,
     "metadata": {},
     "output_type": "execute_result"
    }
   ],
   "source": [
    "gs = GateSet(std)\n",
    "params = gs.vec\n",
    "len(params)"
   ]
  },
  {
   "cell_type": "code",
   "execution_count": 430,
   "id": "0cfcf3ed-8725-424c-9fa1-833dfa590ee0",
   "metadata": {},
   "outputs": [],
   "source": [
    "error_basis = ErrorGen(1, ('std_basis'))"
   ]
  },
  {
   "cell_type": "code",
   "execution_count": 431,
   "id": "c397ed2e-876e-4d45-80f8-31e68016f492",
   "metadata": {},
   "outputs": [],
   "source": [
    "ca = CircuitAnalyzer(gs)\n",
    "circ = Circuit([('Gxpi2', 0), ('Gypi2', 0)])"
   ]
  },
  {
   "cell_type": "code",
   "execution_count": 432,
   "id": "c1842fe0-6701-4dcc-884f-e3d1736ff135",
   "metadata": {},
   "outputs": [],
   "source": [
    "conjugators = ca.left_conjugators(circ, error_basis)"
   ]
  },
  {
   "cell_type": "code",
   "execution_count": 433,
   "id": "ae7fa344-8e96-4aa8-97f0-4d11b1711fc1",
   "metadata": {},
   "outputs": [
    {
     "data": {
      "text/plain": [
       "dict_keys([(), ('Gxpi2', 0), ('Gypi2', 0), Label('Mdefault'), Label('rho0')])"
      ]
     },
     "execution_count": 433,
     "metadata": {},
     "output_type": "execute_result"
    }
   ],
   "source": [
    "gs.gate_errors.keys()"
   ]
  },
  {
   "cell_type": "code",
   "execution_count": 434,
   "id": "4516b334-147e-4d00-88a7-d2465021da4d",
   "metadata": {},
   "outputs": [],
   "source": [
    "gate = ('Gypi2', 0)\n",
    "egen = gs.gate_errors[gate]"
   ]
  },
  {
   "cell_type": "code",
   "execution_count": 440,
   "id": "30eccd72-e19a-4366-996a-59285f8f6cb6",
   "metadata": {},
   "outputs": [],
   "source": [
    "R = ca._adjoint_operator(gs.target_op(('Gypi2', 0)), error_basis)"
   ]
  },
  {
   "cell_type": "code",
   "execution_count": 441,
   "id": "b9e81473-66c0-4cfb-bcc2-941d6c348f36",
   "metadata": {},
   "outputs": [
    {
     "data": {
      "text/plain": [
       "(12, 12)"
      ]
     },
     "execution_count": 441,
     "metadata": {},
     "output_type": "execute_result"
    }
   ],
   "source": [
    "R.shape"
   ]
  },
  {
   "cell_type": "code",
   "execution_count": 437,
   "id": "df8e3878-1f54-45f6-b694-ecb6d0545ef9",
   "metadata": {},
   "outputs": [
    {
     "data": {
      "text/plain": [
       "<matplotlib.image.AxesImage at 0x7f775e108820>"
      ]
     },
     "execution_count": 437,
     "metadata": {},
     "output_type": "execute_result"
    },
    {
     "data": {
      "image/png": "[encoded data removed]",
      "text/plain": [
       "<Figure size 288x288 with 1 Axes>"
      ]
     },
     "metadata": {
      "needs_background": "light"
     },
     "output_type": "display_data"
    }
   ],
   "source": [
    "plt.matshow(R)"
   ]
  },
  {
   "cell_type": "code",
   "execution_count": 439,
   "id": "e34b9a8d-329b-4902-9f62-d4f65e4230f8",
   "metadata": {},
   "outputs": [
    {
     "name": "stdout",
     "output_type": "stream",
     "text": [
      "12\n",
      "12\n",
      "12\n"
     ]
    }
   ],
   "source": [
    "for g in gs.gate_labels:\n",
    "    print(np.linalg.matrix_rank(ca._adjoint_operator(gs.target_op(g), error_basis)))"
   ]
  },
  {
   "cell_type": "markdown",
   "id": "1cd76ed6-da28-4d01-90d8-ac5686619fe4",
   "metadata": {},
   "source": [
    "# The matrix derivative of the exponential of an error generator is \n",
    "$$\n",
    "    \\frac{d}{dt} e^{X(t)} = e^{X(t)}  [\\frac{I - e^{-\\text{ad}_{X(t)}} }{\\text{ad}_{X(t)}} ] ( \\frac{dX}{dt} )\n",
    "$$\n",
    "\n",
    "Define\n",
    "$$ \n",
    "    \\Delta (X(t)) = [\\frac{I - e^{-\\text{ad}_{X(t)}} }{\\text{ad}_{X(t)}} ] ( \\frac{dX}{dt} ) \\approx \\frac{dX}{dt} - \\frac{1}{2} [X(t), \\frac{dX}{dt}] + O[X(t)]^2\n",
    "$$"
   ]
  },
  {
   "cell_type": "code",
   "execution_count": null,
   "id": "51d91d0d-f6aa-4b57-a923-b8a9ba1675c9",
   "metadata": {},
   "outputs": [],
   "source": []
  }
 ],
 "metadata": {
  "kernelspec": {
   "display_name": "Python 3 (ipykernel)",
   "language": "python",
   "name": "python3"
  },
  "language_info": {
   "codemirror_mode": {
    "name": "ipython",
    "version": 3
   },
   "file_extension": ".py",
   "mimetype": "text/x-python",
   "name": "python",
   "nbconvert_exporter": "python",
   "pygments_lexer": "ipython3",
   "version": "3.10.4"
  }
 },
 "nbformat": 4,
 "nbformat_minor": 5
}

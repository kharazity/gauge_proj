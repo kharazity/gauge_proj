{
 "cells": [
  {
   "cell_type": "code",
   "execution_count": 46,
   "id": "33efef3f-db4f-4fa5-bfcd-26bc3994cbab",
   "metadata": {},
   "outputs": [],
   "source": [
    "import pygsti\n",
    "from pygsti.circuits import Circuit\n",
    "import random\n",
    "import numpy as np\n",
    "import sympy as sp\n",
    "import matplotlib.pyplot as plt\n",
    "from pygsti.tools.lindbladtools import *\n",
    "from pygsti.baseobjs.basisconstructors import id2x2, sigmax, sigmay, sigmaz\n",
    "from pygsti.modelmembers.operations import LindbladErrorgen\n",
    "from tqdm import tqdm\n",
    "SigX = np.array([[0, 1], [1, 0]], dtype=complex)\n",
    "SigY = np.array([[0, -1j], [1j, 0]], dtype=complex)\n",
    "SigZ = np.array([[1, 0], [0, -1]], dtype=complex)"
   ]
  },
  {
   "cell_type": "code",
   "execution_count": 47,
   "id": "00b0b430-c919-4277-9f61-efa8044d2977",
   "metadata": {},
   "outputs": [
    {
     "ename": "SyntaxError",
     "evalue": "invalid syntax (3639017118.py, line 13)",
     "output_type": "error",
     "traceback": [
      "\u001b[0;36m  Cell \u001b[0;32mIn[47], line 13\u001b[0;36m\u001b[0m\n\u001b[0;31m    if symbols not None:\u001b[0m\n\u001b[0m                   ^\u001b[0m\n\u001b[0;31mSyntaxError\u001b[0m\u001b[0;31m:\u001b[0m invalid syntax\n"
     ]
    }
   ],
   "source": [
    "class Point():\n",
    "    \"\"\"\n",
    "    A point on a manifold\n",
    "    \n",
    "    Contains: \n",
    "        a vector of sympy variables \n",
    "        a descriptor of every parameter (elementary egen label + supporting gate(s))\n",
    "        a basis matrix generator function\n",
    "        a dual basis matrix generator function\n",
    "    \"\"\"\n",
    "    def __init__(self, descriptors=None, symbols=None):\n",
    "        self.descriptors = descriptors\n",
    "        if symbols not None:\n",
    "            self.symbols = symbols\n",
    "        elif descriptors not None:\n",
    "            self.\n",
    "        \n",
    "    "
   ]
  },
  {
   "cell_type": "code",
   "execution_count": 48,
   "id": "b3f5edd1-b1c6-4a7c-9f75-e95bd8a29c78",
   "metadata": {},
   "outputs": [],
   "source": [
    "import numpy as _np\n",
    "import scipy.sparse as _sps\n",
    "\n",
    "from pygsti.tools import matrixtools as _mt\n",
    "from pygsti.tools.basistools import basis_matrices"
   ]
  },
  {
   "cell_type": "code",
   "execution_count": 49,
   "id": "033965ff-a994-4a84-a79a-39fb6ac518c2",
   "metadata": {},
   "outputs": [],
   "source": [
    "def create_elementary_errorgen_pp(typ, p, q=None, sparse=False):\n",
    "    \"\"\"\n",
    "    Construct an elementary error generator as a matrix in the \"pauli product\" basis.\n",
    "    There are four different types of elementary error generators: 'H' (Hamiltonian),\n",
    "    'S' (stochastic), 'C' (correlation), and 'A' (active).  See arxiv:2103.01928.\n",
    "    Each type transforms an input density matrix differently.  The action of an elementary\n",
    "    error generator `L` on an input density matrix `rho` is given by:\n",
    "    Hamiltonian:  `L(rho) = -1j * [ p, rho ]`\n",
    "    Stochastic:   `L(rho) = p * rho * p - rho\n",
    "    Correlation:  `L(rho) = p * rho * q + q * rho * p - 0.5 {{p,q}, rho}\n",
    "    Active:       `L(rho) = 1j( p * rho * q - q * rho * p + 0.5 {[p,q], rho} )\n",
    "    Square brackets denotes the commutator and curly brackets the anticommutator.\n",
    "    `L` is returned as a superoperator matrix that acts on vectorized density matrices.\n",
    "    Parameters\n",
    "    ----------\n",
    "    typ : {'H','S','C','A'}\n",
    "        The type of error generator to construct.\n",
    "    p : numpy.ndarray\n",
    "        d-dimensional basis matrix.\n",
    "    q : numpy.ndarray, optional\n",
    "        d-dimensional basis matrix; must be non-None if and only if `typ` is `'C'` or `'A'`.\n",
    "    sparse : bool, optional\n",
    "        Whether to construct a sparse or dense (the default) matrix.\n",
    "    Returns\n",
    "    -------\n",
    "    ndarray or Scipy CSR matrix\n",
    "    \"\"\"\n",
    "    d = p.shape[0]; d2 = d**2\n",
    "    if sparse:\n",
    "        elem_errgen = _sps.lil_matrix((d2, d2), dtype=p.dtype)\n",
    "    else:\n",
    "        elem_errgen = _np.empty((d2, d2), dtype=p.dtype)\n",
    "\n",
    "    assert(typ in ('H', 'S', 'C', 'A')), \"`typ` must be one of 'H', 'S', 'C', or 'A'\"\n",
    "    assert((typ in 'HS' and q is None) or (typ in 'CA' and q is not None)), \\\n",
    "        \"Wrong number of basis elements provided for %s-type elementary errorgen!\" % typ\n",
    "\n",
    "    pdag = p.T.conjugate()\n",
    "    qdag = q.T.conjugate() if (q is not None) else None\n",
    "\n",
    "    if typ in 'CA':\n",
    "        pq_plus_qp = pdag @ q + qdag @ p\n",
    "        pq_minus_qp = pdag @ q - qdag @ p\n",
    "\n",
    "    # Loop through the standard basis as all possible input density matrices\n",
    "    for i, rho0 in enumerate(basis_matrices('std', d2)):  # rho0 == input density mx\n",
    "        # Only difference between H/S/C/A is how they transform input density matrices\n",
    "        if typ == 'H':\n",
    "            rho1 = -1j * (p @ rho0 - rho0 @ p)  # Add \"/2\" to have PP ham gens match previous versions of pyGSTi\n",
    "        elif typ == 'S':\n",
    "            pdag_p = (pdag @ p)\n",
    "            rho1 = p @ rho0 @ pdag - 0.5 * (pdag_p @ rho0 + rho0 @ pdag_p)\n",
    "        elif typ == 'C':\n",
    "            rho1 = p @ rho0 @ qdag + q @ rho0 @ pdag - 0.5 * (pq_plus_qp @ rho0 + rho0 @ pq_plus_qp)\n",
    "        elif typ == 'A':\n",
    "            rho1 = 1j * (p @ rho0 @ qdag - q @ rho0 @ pdag + 0.5 * (pq_minus_qp @ rho0 + rho0 @ pq_minus_qp))\n",
    "\n",
    "        elem_errgen[:, i] = rho1.flatten()[:, None] if sparse else rho1.flatten()\n",
    "\n",
    "    if sparse: elem_errgen = elem_errgen.tocsr()\n",
    "    return np.round(pygsti.tools.change_basis(elem_errgen, 'std', 'pp'), 12)\n",
    "\n",
    "def create_elementary_errorgen_dual_pp(typ, p, q=None, sparse=False, normalization_factor='auto'):\n",
    "    \"\"\"\n",
    "    Construct a \"dual\" elementary error generator matrix in the \"pauli product\"  basis.\n",
    "    The elementary error generator that is dual to the one computed by calling\n",
    "    :function:`create_elementary_errorgen` with the same argument.  This dual element\n",
    "    can be used to find the coefficient of the original, or \"primal\" elementary generator.\n",
    "    For example, if `A = sum(c_i * E_i)`, where `E_i` are the elementary error generators given\n",
    "    by :function:`create_elementary_errorgen`), then `c_i = dot(D_i.conj(), A)` where `D_i`\n",
    "    is the dual to `E_i`.\n",
    "    There are four different types of dual elementary error generators: 'H' (Hamiltonian),\n",
    "    'S' (stochastic), 'C' (correlation), and 'A' (active).  See arxiv:2103.01928.\n",
    "    Each type transforms an input density matrix differently.  The action of an elementary\n",
    "    error generator `L` on an input density matrix `rho` is given by:\n",
    "    Hamiltonian:  `L(rho) = -1j/(2d^2) * [ p, rho ]`\n",
    "    Stochastic:   `L(rho) = 1/(d^2) p * rho * p\n",
    "    Correlation:  `L(rho) = 1/(2d^2) ( p * rho * q + q * rho * p)\n",
    "    Active:       `L(rho) = 1j/(2d^2) ( p * rho * q - q * rho * p)\n",
    "    where `d` is the dimension of the Hilbert space, e.g. 2 for a single qubit.  Square\n",
    "    brackets denotes the commutator and curly brackets the anticommutator.\n",
    "    `L` is returned as a superoperator matrix that acts on vectorized density matrices.\n",
    "    Parameters\n",
    "    ----------\n",
    "    typ : {'H','S','C','A'}\n",
    "        The type of dual error generator to construct.\n",
    "    p : numpy.ndarray\n",
    "        d-dimensional basis matrix.\n",
    "    q : numpy.ndarray, optional\n",
    "        d-dimensional basis matrix; must be non-None if and only if `typ` is `'C'` or `'A'`.\n",
    "    sparse : bool, optional\n",
    "        Whether to construct a sparse or dense (the default) matrix.\n",
    "    Returns\n",
    "    -------\n",
    "    ndarray or Scipy CSR matrix\n",
    "    \"\"\"\n",
    "    d = p.shape[0]; d2 = d**2\n",
    "    pdag = p.T.conjugate()\n",
    "    qdag = q.T.conjugate() if (q is not None) else None\n",
    "\n",
    "    if sparse:\n",
    "        elem_errgen = _sps.lil_matrix((d2, d2), dtype=p.dtype)\n",
    "    else:\n",
    "        elem_errgen = _np.empty((d2, d2), dtype=p.dtype)\n",
    "\n",
    "    assert(typ in ('H', 'S', 'C', 'A')), \"`typ` must be one of 'H', 'S', 'C', or 'A'\"\n",
    "    assert((typ in 'HS' and q is None) or (typ in 'CA' and q is not None)), \\\n",
    "        \"Wrong number of basis elements provided for %s-type elementary errorgen!\" % typ\n",
    "\n",
    "    # Loop through the standard basis as all possible input density matrices\n",
    "    for i, rho0 in enumerate(basis_matrices('std', d2)):  # rho0 == input density mx\n",
    "        # Only difference between H/S/C/A is how they transform input density matrices\n",
    "        if typ == 'H':\n",
    "            rho1 = -1j * (p @ rho0 - rho0 @ p)  # -1j / (2 * d2) *\n",
    "        elif typ == 'S':\n",
    "            rho1 = (p @ rho0 @ pdag)  # 1 / d2 *\n",
    "        elif typ == 'C':\n",
    "            rho1 = (p @ rho0 @ qdag + q @ rho0 @ pdag)  # 1 / (2 * d2) *\n",
    "        elif typ == 'A':\n",
    "            rho1 = 1j * (p @ rho0 @ qdag - q @ rho0 @ pdag)  # 1j / (2 * d2)\n",
    "        elem_errgen[:, i] = rho1.flatten()[:, None] if sparse else rho1.flatten()\n",
    "\n",
    "    return_normalization = bool(normalization_factor == 'auto_return')\n",
    "    if normalization_factor in ('auto', 'auto_return'):\n",
    "        primal = create_elementary_errorgen(typ, p, q, sparse)\n",
    "        if sparse:\n",
    "            normalization_factor = _np.vdot(elem_errgen.toarray().flatten(), primal.toarray().flatten())\n",
    "        else:\n",
    "            normalization_factor = _np.vdot(elem_errgen.flatten(), primal.flatten())\n",
    "    elem_errgen *= _np.real_if_close(1 / normalization_factor).item()  # item() -> scalar\n",
    "    elem_errgen = np.round(pygsti.tools.change_basis(elem_errgen, 'std', 'pp'), 12)\n",
    "\n",
    "    if sparse: elem_errgen = elem_errgen.tocsr()\n",
    "    return (elem_errgen, normalization_factor) if return_normalization else elem_errgen"
   ]
  },
  {
   "cell_type": "code",
   "execution_count": 50,
   "id": "370d6760-b922-4a40-a35b-3dad13b58077",
   "metadata": {},
   "outputs": [],
   "source": [
    "def pstr_to_mat(pstr):\n",
    "    pmat = 1\n",
    "    for pchar in pstr:\n",
    "        if pchar == 'X':\n",
    "            pmat = np.kron(pmat, SigX)\n",
    "        elif pchar == 'Y':\n",
    "            pmat = np.kron(pmat, SigY)\n",
    "        elif pchar == 'Z':\n",
    "            pmat = np.kron(pmat, SigZ)\n",
    "        else:\n",
    "            pmat = np.kron(pmat, np.array([[1, 0], [0, 1]], dtype=complex))\n",
    "    return pmat\n",
    "\n",
    "def egenlbl_to_mat(lbl, num_qubits):\n",
    "    egen_type = lbl.errorgen_type\n",
    "    egen_basis_lbls = lbl.basis_element_labels\n",
    "    egen_support = lbl.support\n",
    "    # convert the basis labels into Pauli strings\n",
    "    pstr1 = ['I']*num_qubits\n",
    "    for i, pchar in enumerate(egen_basis_lbls[0]):\n",
    "        pstr1[egen_support[i]] = pchar\n",
    "    pstr1 = ''.join(pstr1)\n",
    "    pmat1 = pstr_to_mat(pstr1)\n",
    "    if egen_type in 'CA':\n",
    "        pstr2 = ['I']*num_qubits\n",
    "        for i, pchar in enumerate(egen_basis_lbls[1]):\n",
    "            pstr2[egen_support[i]] = pchar\n",
    "        pstr2 = ''.join(pstr2)\n",
    "        pmat2 = pstr_to_mat(pstr2)\n",
    "        return create_elementary_errorgen_pp(egen_type, pmat1, pmat2)\n",
    "    else:\n",
    "        return create_elementary_errorgen_pp(egen_type, pmat1)\n",
    "    \n",
    "def egenlbl_to_dual(lbl, num_qubits):\n",
    "    egen_type = lbl.errorgen_type\n",
    "    egen_basis_lbls = lbl.basis_element_labels\n",
    "    egen_support = lbl.support\n",
    "    # convert the basis labels into Pauli strings\n",
    "    pstr1 = ['I']*num_qubits\n",
    "    for i, pchar in enumerate(egen_basis_lbls[0]):\n",
    "        pstr1[egen_support[i]] = pchar\n",
    "    pstr1 = ''.join(pstr1)\n",
    "    pmat1 = pstr_to_mat(pstr1)\n",
    "    if egen_type in 'CA':\n",
    "        pstr2 = ['I']*num_qubits\n",
    "        for i, pchar in enumerate(egen_basis_lbls[1]):\n",
    "            pstr2[egen_support[i]] = pchar\n",
    "        pstr2 = ''.join(pstr2)\n",
    "        pmat2 = pstr_to_mat(pstr2)\n",
    "        return create_elementary_errorgen_dual_pp(egen_type, pmat1, pmat2)\n",
    "    else:\n",
    "        return create_elementary_errorgen_dual_pp(egen_type, pmat1)"
   ]
  },
  {
   "cell_type": "code",
   "execution_count": 51,
   "id": "f9c93939-ab4a-4892-a31e-ad1dc9612637",
   "metadata": {},
   "outputs": [
    {
     "name": "stdout",
     "output_type": "stream",
     "text": [
      "-1.0\n",
      "1.0\n"
     ]
    }
   ],
   "source": [
    "# dual basis returns a negative rate ???\n",
    "print(np.trace(create_elementary_errorgen_pp('A', SigZ, SigX)@create_elementary_errorgen_dual_pp('A', SigZ, SigX)))\n",
    "# seems to work for conjugate of the dual\n",
    "print(np.trace(create_elementary_errorgen_pp('A', SigZ, SigX).conj().T@create_elementary_errorgen_dual_pp('A', SigZ, SigX)))"
   ]
  },
  {
   "cell_type": "code",
   "execution_count": 187,
   "id": "0a130d02-7cbb-4c3b-a914-c6811549b36f",
   "metadata": {},
   "outputs": [],
   "source": [
    "class ErrorGen():\n",
    "    \"\"\"\n",
    "    Implements the small Markovian taxonomy\n",
    "    \n",
    "    Parameters:\n",
    "        -features: pauli transfer representations for different error processes\n",
    "        -rates: sympy vector of rates\n",
    "    \"\"\"\n",
    "    \n",
    "    def __init__(self, num_qubits, gate_label=('G', 0), parameterization='HSCA'):\n",
    "        \"\"\"\n",
    "        setup the feature dictionary with keys that are sympy variables\n",
    "        \"\"\"\n",
    "        self.num_qubits = num_qubits\n",
    "        self.label_map = dict() # maps params to corresponding pygsti labels\n",
    "        self.labels =  LindbladErrorgen.from_error_generator(4**num_qubits).coefficient_labels()\n",
    "        self.params = []\n",
    "        for lbl in self.labels:\n",
    "            if len(lbl.basis_element_labels) > 1:\n",
    "                pstr1 = str()\n",
    "                pstr2 = str()\n",
    "                lbl1 = lbl.basis_element_labels[0]\n",
    "                lbl2 = lbl.basis_element_labels[1]\n",
    "                if len(lbl1) < num_qubits:\n",
    "                    flg = 0\n",
    "                    for i in range(num_qubits):\n",
    "                        if i in lbl.support:\n",
    "                            pstr1 += lbl1[flg]\n",
    "                            flg += 1\n",
    "                        else:\n",
    "                            pstr1 += 'I'\n",
    "                else:\n",
    "                    pstr1 = lbl.basis_element_labels[0]\n",
    "                if len(lbl2) < num_qubits:\n",
    "                    flg = 0\n",
    "                    for i in range(num_qubits):\n",
    "                        if i in lbl.support:\n",
    "                            pstr2 += lbl2[flg]\n",
    "                            flg += 1\n",
    "                        else:\n",
    "                            pstr2 += 'I'\n",
    "                else:\n",
    "                    pstr2 = lbl.basis_element_labels[1]\n",
    "                pstr = pstr1 + 'x' + pstr2\n",
    "            else:\n",
    "                pstr = str()\n",
    "                flg = 0\n",
    "                for idx in range(num_qubits):\n",
    "                    if idx in lbl.support:\n",
    "                        pstr += lbl.basis_element_labels[0][flg]\n",
    "                        flg += 1\n",
    "                    else: \n",
    "                        pstr += 'I'\n",
    "            if len(gate_label) > 1:\n",
    "                gstr = str(gate_label[0]) + 'q' + str(gate_label[1])\n",
    "            else:\n",
    "                gstr = gate_label[0]\n",
    "            param = sp.symbols(f'{{{lbl.errorgen_type}}}^{{{pstr}}}_{{{gstr}}} ')\n",
    "            self.params.append(param)\n",
    "            self.label_map[param] = lbl    \n",
    "            \n",
    "    @property\n",
    "    def vec(self):\n",
    "        return list(self.params)\n",
    "    \n",
    "    @property\n",
    "    def mat(self):\n",
    "        mat = np.zeros((4**self.num_qubits, 4**self.num_qubits), dtype='O')\n",
    "        for x in self.vec:\n",
    "            mat += x*self.feature_map[x]\n",
    "        return sp.Matrix(mat)\n",
    "    \n",
    "    @property\n",
    "    def features(self):\n",
    "        return [egenlbl_to_mat(lbl, self.num_qubits) for lbl in self.labels]\n",
    "    \n",
    "    @property\n",
    "    def dual_features(self):\n",
    "        return [egenlbl_to_dual(lbl, self.num_qubits) for lbl in self.labels]\n",
    "    \n",
    "    def feature_of_param(self, param):\n",
    "        return egenlbl_to_mat(self.label_map[param], self.num_qubits)\n",
    "    \n",
    "    def extract_rates(self):\n",
    "        rates = dict()\n",
    "        gen = self.mat\n",
    "        for lbl in tqdm(self.labels):\n",
    "            dgen = egenlbl_to_dual(lbl, self.num_qubits)\n",
    "            rates[lbl] = np.trace(dgen.conj().T@gen)\n",
    "        return rates\n",
    "        "
   ]
  },
  {
   "cell_type": "code",
   "execution_count": 188,
   "id": "bf682e18-7700-444e-b8f2-cd1b78b6fdbf",
   "metadata": {},
   "outputs": [],
   "source": [
    "class GateSet():\n",
    "    \"\"\"\n",
    "    Holds the information for\n",
    "        -all native gates, states, and measurements\n",
    "        -all error generator features (in a feature dict)\n",
    "        -map between gate labels and parameter index list (index set)\n",
    "        -map between parameter indices and error features (feature dict) \n",
    "        \n",
    "    TODO: generalize to n-qubits\n",
    "    \"\"\"\n",
    "    def __init__(self, model_pack):\n",
    "        # A list of error rates, each one corresponding to one feature in the above list\n",
    "        self.rates = []\n",
    "        self.gate_errors = dict() # maps gate parameters to error generators\n",
    "        self.feature_map = dict() # maps variables to their associated feature\n",
    "        self.target_model = model_pack.target_model('CPTP')\n",
    "        self.gate_labels = model_pack.gates\n",
    "        self.num_qubits = model_pack.processor_spec().num_qubits\n",
    "        \n",
    "        # Errors generators for all gates in the model\n",
    "        for gate in model_pack.gates:\n",
    "            if len(gate) <= 1:\n",
    "                egen = ErrorGen(self.num_qubits, (gate, ''))\n",
    "            else:\n",
    "                egen = ErrorGen(self.num_qubits, gate)\n",
    "            self.gate_errors[gate] = egen\n",
    "            self.rates += egen.vec\n",
    "            self.feature_map.update({p : egen.feature_map[p] for p in egen.vec})\n",
    "        # Errors for all measurements in the model\n",
    "        for povm in self.target_model.povms.keys():\n",
    "            egen = ErrorGen(self.num_qubits, (povm, 'M'))\n",
    "            self.gate_errors[povm] = egen\n",
    "            self.rates += egen.vec\n",
    "            self.feature_map.update({p : egen.feature_map[p] for p in egen.vec})\n",
    "        # Errors for all state preparations in the model\n",
    "        for prep in self.target_model.preps.keys():\n",
    "            egen = ErrorGen(self.num_qubits, (prep, 'P'))\n",
    "            self.gate_errors[prep] = egen\n",
    "            self.rates += egen.vec\n",
    "            self.feature_map.update({p : egen.feature_map[p] for p in egen.vec})\n",
    "            \n",
    "    @property\n",
    "    def vec(self):\n",
    "        return self.rates\n",
    "    \n",
    "    @property\n",
    "    def num_params(self):\n",
    "        return len(self.vec)\n",
    "    \n",
    "    def features_of(self, op_label):\n",
    "        \"\"\"Returns the list of error features associated with the given gate/POVM/state-prep\"\"\"\n",
    "        return self.gate_errors[op_label].features\n",
    "    \n",
    "    def rates_of(self, op_label):\n",
    "        \"\"\"Returns the list of error rates associated with the given gate/POVM/state-prep\"\"\"\n",
    "        return self.gate_errors[op_label].vec\n",
    "    \n",
    "    def error_matrix_of(self, op_label):\n",
    "        \"\"\"Returns the error generator matrix associated with the given gate/POVM/state-prep\"\"\"\n",
    "        return self.gate_errors[op_label].mat\n",
    "    \n",
    "    def target_op(self, op_label):\n",
    "        \"\"\"\n",
    "        returns the target operation of the given operation\n",
    "        \"\"\"\n",
    "        return self.target_model[op_label].to_dense()\n",
    "\n",
    "    def native_meas(self):\n",
    "        return [m.to_dense() for m in self.target_model['Mdefault'].values()]\n",
    "\n",
    "    def rho0(self):\n",
    "        return self.target_model['rho0'].to_dense()"
   ]
  },
  {
   "cell_type": "markdown",
   "id": "befff8c6-7b70-464a-908a-3ff3061736b6",
   "metadata": {},
   "source": [
    "Alternate representation:\n",
    "\n",
    "Given an error generator, we can convert its representation to a \"point on a manifold\" \n",
    "$$\n",
    "    z^i e_i \\equiv \\langle L^i, L_j x^j \\rangle e_i. \n",
    "$$\n",
    "where $e_i$ a unit vector in the \"vector representation\" of an error generator\n",
    "\n",
    "The commutators for the point is then represented in terms of the structural coefficients\n",
    "$$\n",
    "    [z_i, z_j] = f^a_{ij} \\equiv \n",
    "$$"
   ]
  },
  {
   "cell_type": "code",
   "execution_count": 189,
   "id": "3fb8d528-3485-4a42-ae7a-b218bf41b5d8",
   "metadata": {},
   "outputs": [
    {
     "name": "stderr",
     "output_type": "stream",
     "text": [
      "/home/jpmarceaux/.local/lib/python3.10/site-packages/pygsti/modelmembers/operations/lindbladerrorgen.py:1691: UserWarning: Using 'CPTP' as a Lindblad type is deprecated, and you should now use 'CPTPLND'\n",
      "  _warnings.warn(\"Using 'CPTP' as a Lindblad type is deprecated, and you should now use 'CPTPLND'\")\n"
     ]
    }
   ],
   "source": [
    "egen = ErrorGen(1)"
   ]
  },
  {
   "cell_type": "code",
   "execution_count": 190,
   "id": "ac2d364e-e91a-40af-884e-8b2984f638d6",
   "metadata": {},
   "outputs": [
    {
     "name": "stderr",
     "output_type": "stream",
     "text": [
      "12it [00:03,  3.65it/s]\n"
     ]
    }
   ],
   "source": [
    "structure_coefs = np.zeros((len(egen.features), len(egen.features), len(egen.features)))\n",
    "\n",
    "for id1, f1 in tqdm(enumerate(egen.features)):\n",
    "    for id2, f2 in enumerate(egen.features):\n",
    "        comm = f1@f2 - f2@f1\n",
    "        for id3, df in enumerate(egen.dual_features):\n",
    "            structure_coefs[id1, id2, id3] = np.trace(df@comm)"
   ]
  },
  {
   "cell_type": "code",
   "execution_count": 191,
   "id": "65c40166-8988-4ecf-b25b-39ee20879b55",
   "metadata": {},
   "outputs": [
    {
     "name": "stdout",
     "output_type": "stream",
     "text": [
      "{H}^{X}_{Gq0} {C}^{YxZ}_{Gq0} 0 9\n",
      "{H}^{Y}_{Gq0} {C}^{XxZ}_{Gq0} 1 6\n",
      "{H}^{Z}_{Gq0} {C}^{XxY}_{Gq0} 2 4\n",
      "{C}^{XxY}_{Gq0} {H}^{Z}_{Gq0} 4 2\n",
      "{C}^{XxZ}_{Gq0} {H}^{Y}_{Gq0} 6 1\n",
      "{C}^{YxZ}_{Gq0} {H}^{X}_{Gq0} 9 0\n"
     ]
    }
   ],
   "source": [
    "# print the commutators that mix differnet elements\n",
    "for i in range(len(egen.features)):\n",
    "    for j in range(len(egen.features)):\n",
    "        if np.count_nonzero(structure_coefs[i, j, :]) > 1:\n",
    "            print(egen.vec[i], egen.vec[j], i, j)"
   ]
  },
  {
   "cell_type": "code",
   "execution_count": 192,
   "id": "ed007112-fbae-4c61-aa65-7eb5606f4273",
   "metadata": {},
   "outputs": [],
   "source": [
    "from tabulate import tabulate\n",
    "from sympy import Matrix\n",
    "from pylatex.utils import NoEscape"
   ]
  },
  {
   "cell_type": "code",
   "execution_count": 193,
   "id": "93fd370c-5afe-4a59-be5f-d0c51fa5ab4b",
   "metadata": {},
   "outputs": [
    {
     "data": {
      "text/latex": [
       "$\\displaystyle \\left[\\begin{array}{cccccccccccc}0 & - 2.0 {H}^{Z}_{Gq0} & 2.0 {H}^{Y}_{Gq0} & 0 & 2.0 {C}^{XxZ}_{Gq0} & - 2.0 {A}^{XxZ}_{Gq0} & - 2.0 {C}^{XxY}_{Gq0} & 2.0 {A}^{XxY}_{Gq0} & 2.0 {C}^{YxZ}_{Gq0} & - 4.0 {S}^{Y}_{Gq0} + 4.0 {S}^{Z}_{Gq0} & 0 & - 2.0 {C}^{YxZ}_{Gq0}\\\\2.0 {H}^{Z}_{Gq0} & 0 & - 2.0 {H}^{X}_{Gq0} & - 2.0 {C}^{XxZ}_{Gq0} & - 2.0 {C}^{YxZ}_{Gq0} & - 2.0 {A}^{YxZ}_{Gq0} & 4.0 {S}^{X}_{Gq0} - 4.0 {S}^{Z}_{Gq0} & 0 & 0 & 2.0 {C}^{XxY}_{Gq0} & 2.0 {A}^{XxY}_{Gq0} & 2.0 {C}^{XxZ}_{Gq0}\\\\- 2.0 {H}^{Y}_{Gq0} & 2.0 {H}^{X}_{Gq0} & 0 & 2.0 {C}^{XxY}_{Gq0} & - 4.0 {S}^{X}_{Gq0} + 4.0 {S}^{Y}_{Gq0} & 0 & 2.0 {C}^{YxZ}_{Gq0} & - 2.0 {A}^{YxZ}_{Gq0} & - 2.0 {C}^{XxY}_{Gq0} & - 2.0 {C}^{XxZ}_{Gq0} & 2.0 {A}^{XxZ}_{Gq0} & 0\\\\0 & 2.0 {C}^{XxZ}_{Gq0} & - 2.0 {C}^{XxY}_{Gq0} & 0 & 2.0 {H}^{Z}_{Gq0} & 2.0 {A}^{XxY}_{Gq0} & - 2.0 {H}^{Y}_{Gq0} & 2.0 {A}^{XxZ}_{Gq0} & 0 & 0 & 0 & 0\\\\- 2.0 {C}^{XxZ}_{Gq0} & 2.0 {C}^{YxZ}_{Gq0} & 4.0 {S}^{X}_{Gq0} - 4.0 {S}^{Y}_{Gq0} & - 2.0 {H}^{Z}_{Gq0} & 0 & 0 & 2.0 {H}^{X}_{Gq0} & 2.0 {A}^{YxZ}_{Gq0} & 2.0 {H}^{Z}_{Gq0} & - 2.0 {H}^{Y}_{Gq0} & 2.0 {A}^{XxZ}_{Gq0} & 0\\\\2.0 {A}^{XxZ}_{Gq0} & 2.0 {A}^{YxZ}_{Gq0} & 0 & - 2.0 {A}^{XxY}_{Gq0} & 0 & 0 & 2.0 {A}^{YxZ}_{Gq0} & 0 & - 2.0 {A}^{XxY}_{Gq0} & - 2.0 {A}^{XxZ}_{Gq0} & 0 & 0\\\\2.0 {C}^{XxY}_{Gq0} & - 4.0 {S}^{X}_{Gq0} + 4.0 {S}^{Z}_{Gq0} & - 2.0 {C}^{YxZ}_{Gq0} & 2.0 {H}^{Y}_{Gq0} & - 2.0 {H}^{X}_{Gq0} & - 2.0 {A}^{YxZ}_{Gq0} & 0 & 0 & 0 & 2.0 {H}^{Z}_{Gq0} & - 2.0 {A}^{XxY}_{Gq0} & - 2.0 {H}^{Y}_{Gq0}\\\\- 2.0 {A}^{XxY}_{Gq0} & 0 & 2.0 {A}^{YxZ}_{Gq0} & - 2.0 {A}^{XxZ}_{Gq0} & - 2.0 {A}^{YxZ}_{Gq0} & 0 & 0 & 0 & 0 & - 2.0 {A}^{XxY}_{Gq0} & 0 & - 2.0 {A}^{XxZ}_{Gq0}\\\\- 2.0 {C}^{YxZ}_{Gq0} & 0 & 2.0 {C}^{XxY}_{Gq0} & 0 & - 2.0 {H}^{Z}_{Gq0} & 2.0 {A}^{XxY}_{Gq0} & 0 & 0 & 0 & 2.0 {H}^{X}_{Gq0} & 2.0 {A}^{YxZ}_{Gq0} & 0\\\\4.0 {S}^{Y}_{Gq0} - 4.0 {S}^{Z}_{Gq0} & - 2.0 {C}^{XxY}_{Gq0} & 2.0 {C}^{XxZ}_{Gq0} & 0 & 2.0 {H}^{Y}_{Gq0} & 2.0 {A}^{XxZ}_{Gq0} & - 2.0 {H}^{Z}_{Gq0} & 2.0 {A}^{XxY}_{Gq0} & - 2.0 {H}^{X}_{Gq0} & 0 & 0 & 2.0 {H}^{X}_{Gq0}\\\\0 & - 2.0 {A}^{XxY}_{Gq0} & - 2.0 {A}^{XxZ}_{Gq0} & 0 & - 2.0 {A}^{XxZ}_{Gq0} & 0 & 2.0 {A}^{XxY}_{Gq0} & 0 & - 2.0 {A}^{YxZ}_{Gq0} & 0 & 0 & - 2.0 {A}^{YxZ}_{Gq0}\\\\2.0 {C}^{YxZ}_{Gq0} & - 2.0 {C}^{XxZ}_{Gq0} & 0 & 0 & 0 & 0 & 2.0 {H}^{Y}_{Gq0} & 2.0 {A}^{XxZ}_{Gq0} & 0 & - 2.0 {H}^{X}_{Gq0} & 2.0 {A}^{YxZ}_{Gq0} & 0\\end{array}\\right]$"
      ],
      "text/plain": [
       "Matrix([\n",
       "[                                    0,                     -2.0*{H}^{Z}_{Gq0},                     2.0*{H}^{Y}_{Gq0},                    0,                    2.0*{C}^{XxZ}_{Gq0}, -2.0*{A}^{XxZ}_{Gq0},                  -2.0*{C}^{XxY}_{Gq0},  2.0*{A}^{XxY}_{Gq0},  2.0*{C}^{YxZ}_{Gq0}, -4.0*{S}^{Y}_{Gq0} + 4.0*{S}^{Z}_{Gq0},                    0, -2.0*{C}^{YxZ}_{Gq0}],\n",
       "[                    2.0*{H}^{Z}_{Gq0},                                      0,                    -2.0*{H}^{X}_{Gq0}, -2.0*{C}^{XxZ}_{Gq0},                   -2.0*{C}^{YxZ}_{Gq0}, -2.0*{A}^{YxZ}_{Gq0}, 4.0*{S}^{X}_{Gq0} - 4.0*{S}^{Z}_{Gq0},                    0,                    0,                    2.0*{C}^{XxY}_{Gq0},  2.0*{A}^{XxY}_{Gq0},  2.0*{C}^{XxZ}_{Gq0}],\n",
       "[                   -2.0*{H}^{Y}_{Gq0},                      2.0*{H}^{X}_{Gq0},                                     0,  2.0*{C}^{XxY}_{Gq0}, -4.0*{S}^{X}_{Gq0} + 4.0*{S}^{Y}_{Gq0},                    0,                   2.0*{C}^{YxZ}_{Gq0}, -2.0*{A}^{YxZ}_{Gq0}, -2.0*{C}^{XxY}_{Gq0},                   -2.0*{C}^{XxZ}_{Gq0},  2.0*{A}^{XxZ}_{Gq0},                    0],\n",
       "[                                    0,                    2.0*{C}^{XxZ}_{Gq0},                  -2.0*{C}^{XxY}_{Gq0},                    0,                      2.0*{H}^{Z}_{Gq0},  2.0*{A}^{XxY}_{Gq0},                    -2.0*{H}^{Y}_{Gq0},  2.0*{A}^{XxZ}_{Gq0},                    0,                                      0,                    0,                    0],\n",
       "[                 -2.0*{C}^{XxZ}_{Gq0},                    2.0*{C}^{YxZ}_{Gq0}, 4.0*{S}^{X}_{Gq0} - 4.0*{S}^{Y}_{Gq0},   -2.0*{H}^{Z}_{Gq0},                                      0,                    0,                     2.0*{H}^{X}_{Gq0},  2.0*{A}^{YxZ}_{Gq0},    2.0*{H}^{Z}_{Gq0},                     -2.0*{H}^{Y}_{Gq0},  2.0*{A}^{XxZ}_{Gq0},                    0],\n",
       "[                  2.0*{A}^{XxZ}_{Gq0},                    2.0*{A}^{YxZ}_{Gq0},                                     0, -2.0*{A}^{XxY}_{Gq0},                                      0,                    0,                   2.0*{A}^{YxZ}_{Gq0},                    0, -2.0*{A}^{XxY}_{Gq0},                   -2.0*{A}^{XxZ}_{Gq0},                    0,                    0],\n",
       "[                  2.0*{C}^{XxY}_{Gq0}, -4.0*{S}^{X}_{Gq0} + 4.0*{S}^{Z}_{Gq0},                  -2.0*{C}^{YxZ}_{Gq0},    2.0*{H}^{Y}_{Gq0},                     -2.0*{H}^{X}_{Gq0}, -2.0*{A}^{YxZ}_{Gq0},                                     0,                    0,                    0,                      2.0*{H}^{Z}_{Gq0}, -2.0*{A}^{XxY}_{Gq0},   -2.0*{H}^{Y}_{Gq0}],\n",
       "[                 -2.0*{A}^{XxY}_{Gq0},                                      0,                   2.0*{A}^{YxZ}_{Gq0}, -2.0*{A}^{XxZ}_{Gq0},                   -2.0*{A}^{YxZ}_{Gq0},                    0,                                     0,                    0,                    0,                   -2.0*{A}^{XxY}_{Gq0},                    0, -2.0*{A}^{XxZ}_{Gq0}],\n",
       "[                 -2.0*{C}^{YxZ}_{Gq0},                                      0,                   2.0*{C}^{XxY}_{Gq0},                    0,                     -2.0*{H}^{Z}_{Gq0},  2.0*{A}^{XxY}_{Gq0},                                     0,                    0,                    0,                      2.0*{H}^{X}_{Gq0},  2.0*{A}^{YxZ}_{Gq0},                    0],\n",
       "[4.0*{S}^{Y}_{Gq0} - 4.0*{S}^{Z}_{Gq0},                   -2.0*{C}^{XxY}_{Gq0},                   2.0*{C}^{XxZ}_{Gq0},                    0,                      2.0*{H}^{Y}_{Gq0},  2.0*{A}^{XxZ}_{Gq0},                    -2.0*{H}^{Z}_{Gq0},  2.0*{A}^{XxY}_{Gq0},   -2.0*{H}^{X}_{Gq0},                                      0,                    0,    2.0*{H}^{X}_{Gq0}],\n",
       "[                                    0,                   -2.0*{A}^{XxY}_{Gq0},                  -2.0*{A}^{XxZ}_{Gq0},                    0,                   -2.0*{A}^{XxZ}_{Gq0},                    0,                   2.0*{A}^{XxY}_{Gq0},                    0, -2.0*{A}^{YxZ}_{Gq0},                                      0,                    0, -2.0*{A}^{YxZ}_{Gq0}],\n",
       "[                  2.0*{C}^{YxZ}_{Gq0},                   -2.0*{C}^{XxZ}_{Gq0},                                     0,                    0,                                      0,                    0,                     2.0*{H}^{Y}_{Gq0},  2.0*{A}^{XxZ}_{Gq0},                    0,                     -2.0*{H}^{X}_{Gq0},  2.0*{A}^{YxZ}_{Gq0},                    0]])"
      ]
     },
     "execution_count": 193,
     "metadata": {},
     "output_type": "execute_result"
    }
   ],
   "source": [
    "# print out a commutator table for the Hamiltonian parameters\n",
    "cdata = []\n",
    "for i in range(len(egen.features)):\n",
    "    row = []\n",
    "    for j in range(len(egen.features)):\n",
    "        row.append(0)\n",
    "        for k in range(len(egen.features)):\n",
    "            if structure_coefs[i, j, k] != 0:\n",
    "                row[j] += structure_coefs[i, j, k]*egen.vec[k]\n",
    "    cdata.append(row)\n",
    "Matrix(cdata)"
   ]
  },
  {
   "cell_type": "code",
   "execution_count": 194,
   "id": "09308c53-8cfb-4818-bd56-69fcc1a4193b",
   "metadata": {},
   "outputs": [
    {
     "name": "stderr",
     "output_type": "stream",
     "text": [
      "12it [00:03,  3.39it/s]\n"
     ]
    }
   ],
   "source": [
    "multiplication_coefs = np.zeros((len(egen.features), len(egen.features), len(egen.features)))\n",
    "\n",
    "for id1, f1 in tqdm(enumerate(egen.features)):\n",
    "    for id2, f2 in enumerate(egen.features):\n",
    "        comm = f1@f2\n",
    "        for id3, df in enumerate(egen.dual_features):\n",
    "            multiplication_coefs[id1, id2, id3] = np.trace(df@comm)"
   ]
  },
  {
   "cell_type": "code",
   "execution_count": 195,
   "id": "7647dfd0-0ee3-4c8f-9e8b-a76d3c82bfbf",
   "metadata": {},
   "outputs": [
    {
     "data": {
      "text/plain": [
       "array([[ 0.,  0.,  0.,  0.],\n",
       "       [ 0.,  0.,  0.,  0.],\n",
       "       [ 0.,  0., -4.,  0.],\n",
       "       [ 0.,  0.,  0., -4.]])"
      ]
     },
     "execution_count": 195,
     "metadata": {},
     "output_type": "execute_result"
    }
   ],
   "source": [
    "egen.features[0]@egen.features[0]"
   ]
  },
  {
   "cell_type": "code",
   "execution_count": 198,
   "id": "b139dbb3-f2f8-4db9-ad62-a8a68d51aceb",
   "metadata": {},
   "outputs": [
    {
     "name": "stdout",
     "output_type": "stream",
     "text": [
      "{H}^{X}_{Gq0} H(X:0)\n",
      "{H}^{Y}_{Gq0} H(Y:0)\n",
      "{H}^{Z}_{Gq0} H(Z:0)\n",
      "{S}^{X}_{Gq0} S(X:0)\n",
      "{C}^{XxY}_{Gq0} C(X,Y:0)\n",
      "{A}^{XxY}_{Gq0} A(X,Y:0)\n",
      "{C}^{XxZ}_{Gq0} C(X,Z:0)\n",
      "{A}^{XxZ}_{Gq0} A(X,Z:0)\n",
      "{S}^{Y}_{Gq0} S(Y:0)\n",
      "{C}^{YxZ}_{Gq0} C(Y,Z:0)\n",
      "{A}^{YxZ}_{Gq0} A(Y,Z:0)\n",
      "{S}^{Z}_{Gq0} S(Z:0)\n"
     ]
    }
   ],
   "source": [
    "for p in egen.vec:\n",
    "    print(p, egen.label_map[p])"
   ]
  },
  {
   "cell_type": "code",
   "execution_count": 199,
   "id": "8840ac84-bf09-4432-9a5a-b1abbe51328e",
   "metadata": {},
   "outputs": [
    {
     "data": {
      "text/plain": [
       "array([[ 0., -0.,  0.,  0.],\n",
       "       [ 0.,  0.,  0.,  2.],\n",
       "       [ 0.,  0.,  0.,  0.],\n",
       "       [ 0., -2.,  0.,  0.]])"
      ]
     },
     "execution_count": 199,
     "metadata": {},
     "output_type": "execute_result"
    }
   ],
   "source": [
    "egen.feature_of_param(egen.vec[1])"
   ]
  },
  {
   "cell_type": "code",
   "execution_count": 185,
   "id": "5206181f-aabc-40d7-b8d2-4a8e6119fcf0",
   "metadata": {},
   "outputs": [
    {
     "data": {
      "text/plain": [
       "dict_keys([])"
      ]
     },
     "execution_count": 185,
     "metadata": {},
     "output_type": "execute_result"
    }
   ],
   "source": [
    "egen.feature_map.keys()"
   ]
  },
  {
   "cell_type": "code",
   "execution_count": 184,
   "id": "89f210c5-230a-42ac-a9e9-5d78ea2bcef4",
   "metadata": {},
   "outputs": [
    {
     "ename": "KeyError",
     "evalue": "('H', ('X',), (0,))",
     "output_type": "error",
     "traceback": [
      "\u001b[0;31m---------------------------------------------------------------------------\u001b[0m",
      "\u001b[0;31mKeyError\u001b[0m                                  Traceback (most recent call last)",
      "Cell \u001b[0;32mIn[184], line 1\u001b[0m\n\u001b[0;32m----> 1\u001b[0m \u001b[43megen\u001b[49m\u001b[38;5;241;43m.\u001b[39;49m\u001b[43mfeature_map\u001b[49m\u001b[43m[\u001b[49m\u001b[43megen\u001b[49m\u001b[38;5;241;43m.\u001b[39;49m\u001b[43mlabels\u001b[49m\u001b[43m[\u001b[49m\u001b[38;5;241;43m0\u001b[39;49m\u001b[43m]\u001b[49m\u001b[43m]\u001b[49m\n",
      "\u001b[0;31mKeyError\u001b[0m: ('H', ('X',), (0,))"
     ]
    }
   ],
   "source": [
    "egen.feature_map[egen.labels[0]]"
   ]
  },
  {
   "cell_type": "code",
   "execution_count": 182,
   "id": "567b48ac-846c-480c-aba3-97350c46c315",
   "metadata": {},
   "outputs": [
    {
     "data": {
      "text/plain": [
       "(('H', ('X',), (0,)),\n",
       " ('H', ('Y',), (0,)),\n",
       " ('H', ('Z',), (0,)),\n",
       " ('S', ('X',), (0,)),\n",
       " ('C', ('X', 'Y'), (0,)),\n",
       " ('A', ('X', 'Y'), (0,)),\n",
       " ('C', ('X', 'Z'), (0,)),\n",
       " ('A', ('X', 'Z'), (0,)),\n",
       " ('S', ('Y',), (0,)),\n",
       " ('C', ('Y', 'Z'), (0,)),\n",
       " ('A', ('Y', 'Z'), (0,)),\n",
       " ('S', ('Z',), (0,)))"
      ]
     },
     "execution_count": 182,
     "metadata": {},
     "output_type": "execute_result"
    }
   ],
   "source": [
    "egen.labels"
   ]
  },
  {
   "cell_type": "code",
   "execution_count": 170,
   "id": "d52da76b-25e9-4f87-a5a7-75b3786fb151",
   "metadata": {},
   "outputs": [
    {
     "data": {
      "text/plain": [
       "[{H}^{X}_{Gq0},\n",
       " {H}^{Y}_{Gq0},\n",
       " {H}^{Z}_{Gq0},\n",
       " {S}^{X}_{Gq0},\n",
       " {C}^{XxY}_{Gq0},\n",
       " {A}^{XxY}_{Gq0},\n",
       " {C}^{XxZ}_{Gq0},\n",
       " {A}^{XxZ}_{Gq0},\n",
       " {S}^{Y}_{Gq0},\n",
       " {C}^{YxZ}_{Gq0},\n",
       " {A}^{YxZ}_{Gq0},\n",
       " {S}^{Z}_{Gq0}]"
      ]
     },
     "execution_count": 170,
     "metadata": {},
     "output_type": "execute_result"
    }
   ],
   "source": [
    "egen.vec"
   ]
  },
  {
   "cell_type": "code",
   "execution_count": 152,
   "id": "dec15656-bb82-4d3e-b148-6ef0c79782f5",
   "metadata": {},
   "outputs": [
    {
     "data": {
      "text/latex": [
       "$\\displaystyle \\left[\\begin{array}{cccccccccccc}2.0 {S}^{X}_{Gq0} & 1.0 {C}^{XxY}_{Gq0} - 1.0 {H}^{Z}_{Gq0} & 1.0 {C}^{XxZ}_{Gq0} + 1.0 {H}^{Y}_{Gq0} & 2.0 {H}^{X}_{Gq0} & 1.0 {C}^{XxZ}_{Gq0} + 1.0 {H}^{Y}_{Gq0} & - 2.0 {A}^{XxZ}_{Gq0} & - 1.0 {C}^{XxY}_{Gq0} + 1.0 {H}^{Z}_{Gq0} & 2.0 {A}^{XxY}_{Gq0} & 1.0 {C}^{YxZ}_{Gq0} + 1.0 {H}^{X}_{Gq0} & - 2.0 {S}^{Y}_{Gq0} + 2.0 {S}^{Z}_{Gq0} & 0 & - 1.0 {C}^{YxZ}_{Gq0} + 1.0 {H}^{X}_{Gq0}\\\\1.0 {C}^{XxY}_{Gq0} + 1.0 {H}^{Z}_{Gq0} & 2.0 {S}^{Y}_{Gq0} & 1.0 {C}^{YxZ}_{Gq0} - 1.0 {H}^{X}_{Gq0} & - 1.0 {C}^{XxZ}_{Gq0} + 1.0 {H}^{Y}_{Gq0} & - 1.0 {C}^{YxZ}_{Gq0} + 1.0 {H}^{X}_{Gq0} & - 2.0 {A}^{YxZ}_{Gq0} & 2.0 {S}^{X}_{Gq0} - 2.0 {S}^{Z}_{Gq0} & 0 & 2.0 {H}^{Y}_{Gq0} & 1.0 {C}^{XxY}_{Gq0} + 1.0 {H}^{Z}_{Gq0} & 2.0 {A}^{XxY}_{Gq0} & 1.0 {C}^{XxZ}_{Gq0} + 1.0 {H}^{Y}_{Gq0}\\\\1.0 {C}^{XxZ}_{Gq0} - 1.0 {H}^{Y}_{Gq0} & 1.0 {C}^{YxZ}_{Gq0} + 1.0 {H}^{X}_{Gq0} & 2.0 {S}^{Z}_{Gq0} & 1.0 {C}^{XxY}_{Gq0} + 1.0 {H}^{Z}_{Gq0} & - 2.0 {S}^{X}_{Gq0} + 2.0 {S}^{Y}_{Gq0} & 0 & 1.0 {C}^{YxZ}_{Gq0} + 1.0 {H}^{X}_{Gq0} & - 2.0 {A}^{YxZ}_{Gq0} & - 1.0 {C}^{XxY}_{Gq0} + 1.0 {H}^{Z}_{Gq0} & - 1.0 {C}^{XxZ}_{Gq0} + 1.0 {H}^{Y}_{Gq0} & 2.0 {A}^{XxZ}_{Gq0} & 2.0 {H}^{Z}_{Gq0}\\\\2.0 {H}^{X}_{Gq0} & 1.0 {C}^{XxZ}_{Gq0} + 1.0 {H}^{Y}_{Gq0} & - 1.0 {C}^{XxY}_{Gq0} + 1.0 {H}^{Z}_{Gq0} & - 2.0 {S}^{X}_{Gq0} & - 1.0 {C}^{XxY}_{Gq0} + 1.0 {H}^{Z}_{Gq0} & 2.0 {A}^{XxY}_{Gq0} & - 1.0 {C}^{XxZ}_{Gq0} - 1.0 {H}^{Y}_{Gq0} & 2.0 {A}^{XxZ}_{Gq0} & - 1.0 {S}^{X}_{Gq0} - 1.0 {S}^{Y}_{Gq0} + 1.0 {S}^{Z}_{Gq0} & - 2.0 {C}^{YxZ}_{Gq0} & 0 & - 1.0 {S}^{X}_{Gq0} + 1.0 {S}^{Y}_{Gq0} - 1.0 {S}^{Z}_{Gq0}\\\\- 1.0 {C}^{XxZ}_{Gq0} + 1.0 {H}^{Y}_{Gq0} & 1.0 {C}^{YxZ}_{Gq0} + 1.0 {H}^{X}_{Gq0} & 2.0 {S}^{X}_{Gq0} - 2.0 {S}^{Y}_{Gq0} & - 1.0 {C}^{XxY}_{Gq0} - 1.0 {H}^{Z}_{Gq0} & - 2.0 {S}^{Z}_{Gq0} & 0 & 1.0 {C}^{YxZ}_{Gq0} + 1.0 {H}^{X}_{Gq0} & 2.0 {A}^{YxZ}_{Gq0} & - 1.0 {C}^{XxY}_{Gq0} + 1.0 {H}^{Z}_{Gq0} & 1.0 {C}^{XxZ}_{Gq0} - 1.0 {H}^{Y}_{Gq0} & 2.0 {A}^{XxZ}_{Gq0} & - 2.0 {C}^{XxY}_{Gq0}\\\\0 & 0 & 0 & 0 & 0 & 0 & 0 & 0 & 0 & 0 & 0 & 0\\\\1.0 {C}^{XxY}_{Gq0} + 1.0 {H}^{Z}_{Gq0} & - 2.0 {S}^{X}_{Gq0} + 2.0 {S}^{Z}_{Gq0} & - 1.0 {C}^{YxZ}_{Gq0} + 1.0 {H}^{X}_{Gq0} & - 1.0 {C}^{XxZ}_{Gq0} + 1.0 {H}^{Y}_{Gq0} & 1.0 {C}^{YxZ}_{Gq0} - 1.0 {H}^{X}_{Gq0} & - 2.0 {A}^{YxZ}_{Gq0} & - 2.0 {S}^{Y}_{Gq0} & 0 & - 2.0 {C}^{XxZ}_{Gq0} & 1.0 {C}^{XxY}_{Gq0} + 1.0 {H}^{Z}_{Gq0} & - 2.0 {A}^{XxY}_{Gq0} & - 1.0 {C}^{XxZ}_{Gq0} - 1.0 {H}^{Y}_{Gq0}\\\\0 & 0 & 0 & 0 & 0 & 0 & 0 & 0 & 0 & 0 & 0 & 0\\\\- 1.0 {C}^{YxZ}_{Gq0} + 1.0 {H}^{X}_{Gq0} & 2.0 {H}^{Y}_{Gq0} & 1.0 {C}^{XxY}_{Gq0} + 1.0 {H}^{Z}_{Gq0} & - 1.0 {S}^{X}_{Gq0} - 1.0 {S}^{Y}_{Gq0} + 1.0 {S}^{Z}_{Gq0} & - 1.0 {C}^{XxY}_{Gq0} - 1.0 {H}^{Z}_{Gq0} & 2.0 {A}^{XxY}_{Gq0} & - 2.0 {C}^{XxZ}_{Gq0} & 0 & - 2.0 {S}^{Y}_{Gq0} & - 1.0 {C}^{YxZ}_{Gq0} + 1.0 {H}^{X}_{Gq0} & 2.0 {A}^{YxZ}_{Gq0} & 1.0 {S}^{X}_{Gq0} - 1.0 {S}^{Y}_{Gq0} - 1.0 {S}^{Z}_{Gq0}\\\\2.0 {S}^{Y}_{Gq0} - 2.0 {S}^{Z}_{Gq0} & - 1.0 {C}^{XxY}_{Gq0} + 1.0 {H}^{Z}_{Gq0} & 1.0 {C}^{XxZ}_{Gq0} + 1.0 {H}^{Y}_{Gq0} & - 2.0 {C}^{YxZ}_{Gq0} & 1.0 {C}^{XxZ}_{Gq0} + 1.0 {H}^{Y}_{Gq0} & 2.0 {A}^{XxZ}_{Gq0} & 1.0 {C}^{XxY}_{Gq0} - 1.0 {H}^{Z}_{Gq0} & 2.0 {A}^{XxY}_{Gq0} & - 1.0 {C}^{YxZ}_{Gq0} - 1.0 {H}^{X}_{Gq0} & - 2.0 {S}^{X}_{Gq0} & 0 & - 1.0 {C}^{YxZ}_{Gq0} + 1.0 {H}^{X}_{Gq0}\\\\0 & 0 & 0 & 0 & 0 & 0 & 0 & 0 & 0 & 0 & 0 & 0\\\\1.0 {C}^{YxZ}_{Gq0} + 1.0 {H}^{X}_{Gq0} & - 1.0 {C}^{XxZ}_{Gq0} + 1.0 {H}^{Y}_{Gq0} & 2.0 {H}^{Z}_{Gq0} & - 1.0 {S}^{X}_{Gq0} + 1.0 {S}^{Y}_{Gq0} - 1.0 {S}^{Z}_{Gq0} & - 2.0 {C}^{XxY}_{Gq0} & 0 & - 1.0 {C}^{XxZ}_{Gq0} + 1.0 {H}^{Y}_{Gq0} & 2.0 {A}^{XxZ}_{Gq0} & 1.0 {S}^{X}_{Gq0} - 1.0 {S}^{Y}_{Gq0} - 1.0 {S}^{Z}_{Gq0} & - 1.0 {C}^{YxZ}_{Gq0} - 1.0 {H}^{X}_{Gq0} & 2.0 {A}^{YxZ}_{Gq0} & - 2.0 {S}^{Z}_{Gq0}\\end{array}\\right]$"
      ],
      "text/plain": [
       "Matrix([\n",
       "[                       2.0*{S}^{X}_{Gq0},  1.0*{C}^{XxY}_{Gq0} - 1.0*{H}^{Z}_{Gq0},  1.0*{C}^{XxZ}_{Gq0} + 1.0*{H}^{Y}_{Gq0},                                          2.0*{H}^{X}_{Gq0},  1.0*{C}^{XxZ}_{Gq0} + 1.0*{H}^{Y}_{Gq0}, -2.0*{A}^{XxZ}_{Gq0}, -1.0*{C}^{XxY}_{Gq0} + 1.0*{H}^{Z}_{Gq0},  2.0*{A}^{XxY}_{Gq0},                    1.0*{C}^{YxZ}_{Gq0} + 1.0*{H}^{X}_{Gq0},   -2.0*{S}^{Y}_{Gq0} + 2.0*{S}^{Z}_{Gq0},                    0,                   -1.0*{C}^{YxZ}_{Gq0} + 1.0*{H}^{X}_{Gq0}],\n",
       "[ 1.0*{C}^{XxY}_{Gq0} + 1.0*{H}^{Z}_{Gq0},                        2.0*{S}^{Y}_{Gq0},  1.0*{C}^{YxZ}_{Gq0} - 1.0*{H}^{X}_{Gq0},                   -1.0*{C}^{XxZ}_{Gq0} + 1.0*{H}^{Y}_{Gq0}, -1.0*{C}^{YxZ}_{Gq0} + 1.0*{H}^{X}_{Gq0}, -2.0*{A}^{YxZ}_{Gq0},    2.0*{S}^{X}_{Gq0} - 2.0*{S}^{Z}_{Gq0},                    0,                                          2.0*{H}^{Y}_{Gq0},  1.0*{C}^{XxY}_{Gq0} + 1.0*{H}^{Z}_{Gq0},  2.0*{A}^{XxY}_{Gq0},                    1.0*{C}^{XxZ}_{Gq0} + 1.0*{H}^{Y}_{Gq0}],\n",
       "[ 1.0*{C}^{XxZ}_{Gq0} - 1.0*{H}^{Y}_{Gq0},  1.0*{C}^{YxZ}_{Gq0} + 1.0*{H}^{X}_{Gq0},                        2.0*{S}^{Z}_{Gq0},                    1.0*{C}^{XxY}_{Gq0} + 1.0*{H}^{Z}_{Gq0},   -2.0*{S}^{X}_{Gq0} + 2.0*{S}^{Y}_{Gq0},                    0,  1.0*{C}^{YxZ}_{Gq0} + 1.0*{H}^{X}_{Gq0}, -2.0*{A}^{YxZ}_{Gq0},                   -1.0*{C}^{XxY}_{Gq0} + 1.0*{H}^{Z}_{Gq0}, -1.0*{C}^{XxZ}_{Gq0} + 1.0*{H}^{Y}_{Gq0},  2.0*{A}^{XxZ}_{Gq0},                                          2.0*{H}^{Z}_{Gq0}],\n",
       "[                       2.0*{H}^{X}_{Gq0},  1.0*{C}^{XxZ}_{Gq0} + 1.0*{H}^{Y}_{Gq0}, -1.0*{C}^{XxY}_{Gq0} + 1.0*{H}^{Z}_{Gq0},                                         -2.0*{S}^{X}_{Gq0}, -1.0*{C}^{XxY}_{Gq0} + 1.0*{H}^{Z}_{Gq0},  2.0*{A}^{XxY}_{Gq0}, -1.0*{C}^{XxZ}_{Gq0} - 1.0*{H}^{Y}_{Gq0},  2.0*{A}^{XxZ}_{Gq0}, -1.0*{S}^{X}_{Gq0} - 1.0*{S}^{Y}_{Gq0} + 1.0*{S}^{Z}_{Gq0},                     -2.0*{C}^{YxZ}_{Gq0},                    0, -1.0*{S}^{X}_{Gq0} + 1.0*{S}^{Y}_{Gq0} - 1.0*{S}^{Z}_{Gq0}],\n",
       "[-1.0*{C}^{XxZ}_{Gq0} + 1.0*{H}^{Y}_{Gq0},  1.0*{C}^{YxZ}_{Gq0} + 1.0*{H}^{X}_{Gq0},    2.0*{S}^{X}_{Gq0} - 2.0*{S}^{Y}_{Gq0},                   -1.0*{C}^{XxY}_{Gq0} - 1.0*{H}^{Z}_{Gq0},                       -2.0*{S}^{Z}_{Gq0},                    0,  1.0*{C}^{YxZ}_{Gq0} + 1.0*{H}^{X}_{Gq0},  2.0*{A}^{YxZ}_{Gq0},                   -1.0*{C}^{XxY}_{Gq0} + 1.0*{H}^{Z}_{Gq0},  1.0*{C}^{XxZ}_{Gq0} - 1.0*{H}^{Y}_{Gq0},  2.0*{A}^{XxZ}_{Gq0},                                       -2.0*{C}^{XxY}_{Gq0}],\n",
       "[                                       0,                                        0,                                        0,                                                          0,                                        0,                    0,                                        0,                    0,                                                          0,                                        0,                    0,                                                          0],\n",
       "[ 1.0*{C}^{XxY}_{Gq0} + 1.0*{H}^{Z}_{Gq0},   -2.0*{S}^{X}_{Gq0} + 2.0*{S}^{Z}_{Gq0}, -1.0*{C}^{YxZ}_{Gq0} + 1.0*{H}^{X}_{Gq0},                   -1.0*{C}^{XxZ}_{Gq0} + 1.0*{H}^{Y}_{Gq0},  1.0*{C}^{YxZ}_{Gq0} - 1.0*{H}^{X}_{Gq0}, -2.0*{A}^{YxZ}_{Gq0},                       -2.0*{S}^{Y}_{Gq0},                    0,                                       -2.0*{C}^{XxZ}_{Gq0},  1.0*{C}^{XxY}_{Gq0} + 1.0*{H}^{Z}_{Gq0}, -2.0*{A}^{XxY}_{Gq0},                   -1.0*{C}^{XxZ}_{Gq0} - 1.0*{H}^{Y}_{Gq0}],\n",
       "[                                       0,                                        0,                                        0,                                                          0,                                        0,                    0,                                        0,                    0,                                                          0,                                        0,                    0,                                                          0],\n",
       "[-1.0*{C}^{YxZ}_{Gq0} + 1.0*{H}^{X}_{Gq0},                        2.0*{H}^{Y}_{Gq0},  1.0*{C}^{XxY}_{Gq0} + 1.0*{H}^{Z}_{Gq0}, -1.0*{S}^{X}_{Gq0} - 1.0*{S}^{Y}_{Gq0} + 1.0*{S}^{Z}_{Gq0}, -1.0*{C}^{XxY}_{Gq0} - 1.0*{H}^{Z}_{Gq0},  2.0*{A}^{XxY}_{Gq0},                     -2.0*{C}^{XxZ}_{Gq0},                    0,                                         -2.0*{S}^{Y}_{Gq0}, -1.0*{C}^{YxZ}_{Gq0} + 1.0*{H}^{X}_{Gq0},  2.0*{A}^{YxZ}_{Gq0},  1.0*{S}^{X}_{Gq0} - 1.0*{S}^{Y}_{Gq0} - 1.0*{S}^{Z}_{Gq0}],\n",
       "[   2.0*{S}^{Y}_{Gq0} - 2.0*{S}^{Z}_{Gq0}, -1.0*{C}^{XxY}_{Gq0} + 1.0*{H}^{Z}_{Gq0},  1.0*{C}^{XxZ}_{Gq0} + 1.0*{H}^{Y}_{Gq0},                                       -2.0*{C}^{YxZ}_{Gq0},  1.0*{C}^{XxZ}_{Gq0} + 1.0*{H}^{Y}_{Gq0},  2.0*{A}^{XxZ}_{Gq0},  1.0*{C}^{XxY}_{Gq0} - 1.0*{H}^{Z}_{Gq0},  2.0*{A}^{XxY}_{Gq0},                   -1.0*{C}^{YxZ}_{Gq0} - 1.0*{H}^{X}_{Gq0},                       -2.0*{S}^{X}_{Gq0},                    0,                   -1.0*{C}^{YxZ}_{Gq0} + 1.0*{H}^{X}_{Gq0}],\n",
       "[                                       0,                                        0,                                        0,                                                          0,                                        0,                    0,                                        0,                    0,                                                          0,                                        0,                    0,                                                          0],\n",
       "[ 1.0*{C}^{YxZ}_{Gq0} + 1.0*{H}^{X}_{Gq0}, -1.0*{C}^{XxZ}_{Gq0} + 1.0*{H}^{Y}_{Gq0},                        2.0*{H}^{Z}_{Gq0}, -1.0*{S}^{X}_{Gq0} + 1.0*{S}^{Y}_{Gq0} - 1.0*{S}^{Z}_{Gq0},                     -2.0*{C}^{XxY}_{Gq0},                    0, -1.0*{C}^{XxZ}_{Gq0} + 1.0*{H}^{Y}_{Gq0},  2.0*{A}^{XxZ}_{Gq0},  1.0*{S}^{X}_{Gq0} - 1.0*{S}^{Y}_{Gq0} - 1.0*{S}^{Z}_{Gq0}, -1.0*{C}^{YxZ}_{Gq0} - 1.0*{H}^{X}_{Gq0},  2.0*{A}^{YxZ}_{Gq0},                                         -2.0*{S}^{Z}_{Gq0}]])"
      ]
     },
     "execution_count": 152,
     "metadata": {},
     "output_type": "execute_result"
    }
   ],
   "source": [
    "# print out a multiplication table for the Hamiltonian parameters\n",
    "mdata = []\n",
    "for i in range(len(egen.features)):\n",
    "    row = []\n",
    "    for j in range(len(egen.features)):\n",
    "        row.append(0)\n",
    "        for k in range(len(egen.features)):\n",
    "            if multiplication_coefs[i, j, k] != 0:\n",
    "                row[j] += multiplication_coefs[i, j, k]*egen.vec[k]\n",
    "    mdata.append(row)\n",
    "Matrix(mdata)"
   ]
  },
  {
   "cell_type": "code",
   "execution_count": 166,
   "id": "2296911b-169f-4ca4-b621-a7f73f20213d",
   "metadata": {},
   "outputs": [],
   "source": [
    "from pylatex import Document, Section, Subsection, Tabular, Math\n",
    "geometry_options = {\"tmargin\": \"1cm\", \"lmargin\": \"1cm\"}\n",
    "document_options=[\"10pt\", 'landscape', 'a2paper']\n",
    "doc = Document(document_options=document_options, geometry_options=geometry_options)\n",
    "\n",
    "with doc.create(Tabular('c|'+'c'*12)) as table:\n",
    "    header_row = ['[Row,Col]']\n",
    "    for i in range(len(egen.features)):\n",
    "        header_row.append(NoEscape('$'+sp.latex(egen.vec[i])+'$'))\n",
    "    table.add_row(header_row)\n",
    "    table.add_hline()\n",
    "    for i in range(len(egen.features)):\n",
    "        latex_row = [NoEscape('$'+sp.latex(egen.vec[i])+'$'), ]\n",
    "        for j in range(len(egen.features)):\n",
    "            mystr = NoEscape('$'+sp.latex(cdata[i][j])+'$')\n",
    "            latex_row.append(mystr)\n",
    "        table.add_row(latex_row)\n",
    "        \n",
    "doc.append(NoEscape('\\n'))\n",
    "        \n",
    "with doc.create(Tabular('c|'+'c'*12)) as table:\n",
    "    header_row = ['Row x Col']\n",
    "    for i in range(len(egen.features)):\n",
    "        header_row.append(NoEscape('$'+sp.latex(egen.vec[i])+'$'))\n",
    "    table.add_row(header_row)\n",
    "    table.add_hline()\n",
    "    for i in range(len(egen.features)):\n",
    "        latex_row = [NoEscape('$'+sp.latex(egen.vec[i])+'$'), ]\n",
    "        for j in range(len(egen.features)):\n",
    "            mystr = NoEscape('$'+sp.latex(mdata[i][j])+'$')\n",
    "            latex_row.append(mystr)\n",
    "        table.add_row(latex_row)\n",
    "        \n",
    "doc.generate_pdf('PDFs/comms', clean_tex=False)"
   ]
  },
  {
   "cell_type": "code",
   "execution_count": 24,
   "id": "9ab579c0-c3d5-410f-a418-479428e262ea",
   "metadata": {},
   "outputs": [
    {
     "data": {
      "text/plain": [
       "'--------------------  --------------------  --------------------  --------------------  --------------------  --------------------  --------------------  --------------------  --------------------  --------------------\\n-2.0*{H}^{Z}_{Gq0}    2.0*{H}^{Y}_{Gq0}     2.0*{C}^{XxZ}_{Gq0}   -2.0*{A}^{XxZ}_{Gq0}  -2.0*{C}^{XxY}_{Gq0}  2.0*{A}^{XxY}_{Gq0}   2.0*{C}^{YxZ}_{Gq0}   -4.0*{S}^{Y}_{Gq0}    4.0*{S}^{Z}_{Gq0}     -2.0*{C}^{YxZ}_{Gq0}\\n2.0*{H}^{Z}_{Gq0}     -2.0*{H}^{X}_{Gq0}    -2.0*{C}^{XxZ}_{Gq0}  -2.0*{C}^{YxZ}_{Gq0}  -2.0*{A}^{YxZ}_{Gq0}  4.0*{S}^{X}_{Gq0}     -4.0*{S}^{Z}_{Gq0}    2.0*{C}^{XxY}_{Gq0}   2.0*{A}^{XxY}_{Gq0}   2.0*{C}^{XxZ}_{Gq0}\\n-2.0*{H}^{Y}_{Gq0}    2.0*{H}^{X}_{Gq0}     2.0*{C}^{XxY}_{Gq0}   -4.0*{S}^{X}_{Gq0}    4.0*{S}^{Y}_{Gq0}     2.0*{C}^{YxZ}_{Gq0}   -2.0*{A}^{YxZ}_{Gq0}  -2.0*{C}^{XxY}_{Gq0}  -2.0*{C}^{XxZ}_{Gq0}  2.0*{A}^{XxZ}_{Gq0}\\n2.0*{C}^{XxZ}_{Gq0}   -2.0*{C}^{XxY}_{Gq0}  2.0*{H}^{Z}_{Gq0}     2.0*{A}^{XxY}_{Gq0}   -2.0*{H}^{Y}_{Gq0}    2.0*{A}^{XxZ}_{Gq0}\\n-2.0*{C}^{XxZ}_{Gq0}  2.0*{C}^{YxZ}_{Gq0}   4.0*{S}^{X}_{Gq0}     -4.0*{S}^{Y}_{Gq0}    -2.0*{H}^{Z}_{Gq0}    2.0*{H}^{X}_{Gq0}     2.0*{A}^{YxZ}_{Gq0}   2.0*{H}^{Z}_{Gq0}     -2.0*{H}^{Y}_{Gq0}    2.0*{A}^{XxZ}_{Gq0}\\n2.0*{A}^{XxZ}_{Gq0}   2.0*{A}^{YxZ}_{Gq0}   -2.0*{A}^{XxY}_{Gq0}  2.0*{A}^{YxZ}_{Gq0}   -2.0*{A}^{XxY}_{Gq0}  -2.0*{A}^{XxZ}_{Gq0}\\n2.0*{C}^{XxY}_{Gq0}   -4.0*{S}^{X}_{Gq0}    4.0*{S}^{Z}_{Gq0}     -2.0*{C}^{YxZ}_{Gq0}  2.0*{H}^{Y}_{Gq0}     -2.0*{H}^{X}_{Gq0}    -2.0*{A}^{YxZ}_{Gq0}  2.0*{H}^{Z}_{Gq0}     -2.0*{A}^{XxY}_{Gq0}  -2.0*{H}^{Y}_{Gq0}\\n-2.0*{A}^{XxY}_{Gq0}  2.0*{A}^{YxZ}_{Gq0}   -2.0*{A}^{XxZ}_{Gq0}  -2.0*{A}^{YxZ}_{Gq0}  -2.0*{A}^{XxY}_{Gq0}  -2.0*{A}^{XxZ}_{Gq0}\\n-2.0*{C}^{YxZ}_{Gq0}  2.0*{C}^{XxY}_{Gq0}   -2.0*{H}^{Z}_{Gq0}    2.0*{A}^{XxY}_{Gq0}   2.0*{H}^{X}_{Gq0}     2.0*{A}^{YxZ}_{Gq0}\\n4.0*{S}^{Y}_{Gq0}     -4.0*{S}^{Z}_{Gq0}    -2.0*{C}^{XxY}_{Gq0}  2.0*{C}^{XxZ}_{Gq0}   2.0*{H}^{Y}_{Gq0}     2.0*{A}^{XxZ}_{Gq0}   -2.0*{H}^{Z}_{Gq0}    2.0*{A}^{XxY}_{Gq0}   -2.0*{H}^{X}_{Gq0}    2.0*{H}^{X}_{Gq0}\\n-2.0*{A}^{XxY}_{Gq0}  -2.0*{A}^{XxZ}_{Gq0}  -2.0*{A}^{XxZ}_{Gq0}  2.0*{A}^{XxY}_{Gq0}   -2.0*{A}^{YxZ}_{Gq0}  -2.0*{A}^{YxZ}_{Gq0}\\n2.0*{C}^{YxZ}_{Gq0}   -2.0*{C}^{XxZ}_{Gq0}  2.0*{H}^{Y}_{Gq0}     2.0*{A}^{XxZ}_{Gq0}   -2.0*{H}^{X}_{Gq0}    2.0*{A}^{YxZ}_{Gq0}\\n--------------------  --------------------  --------------------  --------------------  --------------------  --------------------  --------------------  --------------------  --------------------  --------------------'"
      ]
     },
     "execution_count": 24,
     "metadata": {},
     "output_type": "execute_result"
    }
   ],
   "source": [
    "tabulate(data)"
   ]
  },
  {
   "cell_type": "code",
   "execution_count": 15,
   "id": "b19bffa0-6e62-42a5-bce8-d8c490277d9d",
   "metadata": {},
   "outputs": [
    {
     "data": {
      "text/plain": [
       "array([ 0.,  0.,  0.,  0.,  0.,  0.,  0.,  0., -4.,  0.,  0.,  4.])"
      ]
     },
     "execution_count": 15,
     "metadata": {},
     "output_type": "execute_result"
    }
   ],
   "source": [
    "structure_coefs[0, 9, :]"
   ]
  },
  {
   "cell_type": "code",
   "execution_count": null,
   "id": "e6cb6a03-ebd9-4ca4-9b0d-e602b912ced4",
   "metadata": {},
   "outputs": [],
   "source": []
  },
  {
   "cell_type": "code",
   "execution_count": 7,
   "id": "f4c0de37-5332-49bc-b64b-c12140fecdea",
   "metadata": {},
   "outputs": [
    {
     "ename": "SyntaxError",
     "evalue": "invalid syntax (1407869854.py, line 8)",
     "output_type": "error",
     "traceback": [
      "\u001b[0;36m  Cell \u001b[0;32mIn[7], line 8\u001b[0;36m\u001b[0m\n\u001b[0;31m    for\u001b[0m\n\u001b[0m        ^\u001b[0m\n\u001b[0;31mSyntaxError\u001b[0m\u001b[0;31m:\u001b[0m invalid syntax\n"
     ]
    }
   ],
   "source": [
    "class CircuitAnalyzer():\n",
    "    def __init__(self, gateset : GateSet):\n",
    "        self.gateset = gateset\n",
    "        \n",
    "    def left_errors(self, circ):\n",
    "        emaps = []\n",
    "        adjoints = dict()\n",
    "        for \n",
    "            \n",
    "        \n",
    "        \n",
    "    def left_conjugators(self, circ, error_basis):\n",
    "        # [1] calculate all the adjoint operators of all the gates\n",
    "        left_errors = []\n",
    "        adjoints = dict()\n",
    "        for gate in self.gateset.gate_labels:\n",
    "            adjoints[gate] = self._adjoint_operator(self.gateset.target_op(gate), error_basis)\n",
    "        # [2] construct the conjugators\n",
    "        conjugators = []\n",
    "        conjugators.append(np.eye(list(adjoints.values())[0].shape[0]))\n",
    "        for i in range(len(circ)-1, 0, -1):\n",
    "            conjugators.append(adjoints[circ[i]]@conjugators[len(circ)-i-1])\n",
    "        return conjugators\n",
    "    \n",
    "        \n",
    "    def _adjoint_operator(self, conj_unitary, error_gen):\n",
    "        \"\"\"\n",
    "        \n",
    "        \"\"\"\n",
    "        R = np.zeros((len(error_gen.vec), len(error_gen.vec)))\n",
    "        for i, di_dual in enumerate(error_gen.dual_features):\n",
    "            for j, pj in enumerate(error_gen.features):\n",
    "                R[i, j] = np.trace(di_dual@conj_unitary@pj@np.conj(conj_unitary.T))\n",
    "        return R"
   ]
  },
  {
   "cell_type": "code",
   "execution_count": null,
   "id": "cb4b72d5-509e-4a6d-9d30-40c0ed00527b",
   "metadata": {},
   "outputs": [],
   "source": []
  }
 ],
 "metadata": {
  "kernelspec": {
   "display_name": "Python 3 (ipykernel)",
   "language": "python",
   "name": "python3"
  },
  "language_info": {
   "codemirror_mode": {
    "name": "ipython",
    "version": 3
   },
   "file_extension": ".py",
   "mimetype": "text/x-python",
   "name": "python",
   "nbconvert_exporter": "python",
   "pygments_lexer": "ipython3",
   "version": "3.10.9"
  }
 },
 "nbformat": 4,
 "nbformat_minor": 5
}
